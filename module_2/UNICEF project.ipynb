{
 "cells": [
  {
   "cell_type": "code",
   "execution_count": 1672,
   "id": "30ebd687",
   "metadata": {},
   "outputs": [],
   "source": [
    "import numpy as np\n",
    "import pandas as pd\n",
    "import seaborn as sns\n",
    "import matplotlib.pyplot as plt\n",
    "from collections import Counter\n",
    "import chardet \n",
    "from itertools import combinations\n",
    "from scipy.stats import ttest_ind"
   ]
  },
  {
   "cell_type": "code",
   "execution_count": 1673,
   "id": "bb8df754",
   "metadata": {},
   "outputs": [],
   "source": [
    "def get_unique_and_value_counts(df):\n",
    "    '''Function that shows unique values in a column and counts them'''\n",
    "    for col in list(df.columns):\n",
    "        print(col)\n",
    "        print(df[col].unique())\n",
    "        print(df[col].value_counts(dropna=False))\n",
    "        print()"
   ]
  },
  {
   "cell_type": "code",
   "execution_count": 1674,
   "id": "5c91bc02",
   "metadata": {},
   "outputs": [],
   "source": [
    "def replacement_mode(df,columns):\n",
    "    '''Function of replacing gaps in the DataFrame column with mode'''\n",
    "    for col in columns:\n",
    "        df[col] = df[col].fillna(df[col].mode()[0])"
   ]
  },
  {
   "cell_type": "code",
   "execution_count": 1675,
   "id": "3f7bae00",
   "metadata": {},
   "outputs": [],
   "source": [
    "def replacement_median(df,columns):\n",
    "    '''Function of replacing gaps in the DataFrame column with median'''\n",
    "    for col in columns:\n",
    "        df[col] = df[col].fillna(df[col].median())"
   ]
  },
  {
   "cell_type": "code",
   "execution_count": 1676,
   "id": "9f4ca300",
   "metadata": {},
   "outputs": [],
   "source": [
    "def replacement_prop(df,columns):\n",
    "    '''Function of replacing gaps in the DataFrame column with values, according \n",
    "    to their percentage distribution in the column'''\n",
    "    for col in columns:\n",
    "        t = pd.DataFrame(df[col].value_counts(normalize=True))\n",
    "        s_NaN = df[col].isna().sum()\n",
    "        n = round(t[col]*s_NaN,0).to_dict()\n",
    "        n = dict((k, v) for k, v in n.items() if v) # removed items with a value = 0\n",
    "        index_NaN = np.where(df[col].isna())[0].tolist()\n",
    "        if len(index_NaN)-sum(v for v in n.values() if v > 0)!=0:\n",
    "            md = df[col].mode()[0]\n",
    "            n[md]+=1\n",
    "        for k, v in n.items():\n",
    "            for index, element in enumerate(index_NaN):\n",
    "                if index < v:\n",
    "                    df.loc[element,col] = k\n",
    "                    i = index\n",
    "                else:\n",
    "                    break\n",
    "            del index_NaN[0:(i+1)]"
   ]
  },
  {
   "cell_type": "code",
   "execution_count": 1677,
   "id": "6d33a992",
   "metadata": {},
   "outputs": [],
   "source": [
    "def label_encoding(data, col):\n",
    "    '''Function of encoding categorical features'''\n",
    "    unique_values = data[col].unique()\n",
    "    enconding_values = range(len(unique_values))\n",
    "    encoding_dict = dict(zip(unique_values, enconding_values))\n",
    "    print(encoding_dict)\n",
    "    return data[col].replace(encoding_dict)"
   ]
  },
  {
   "cell_type": "code",
   "execution_count": 1678,
   "id": "a43c6911",
   "metadata": {},
   "outputs": [],
   "source": [
    "def get_boxplot(column):\n",
    "    '''Function of plotting graphs showing the distribution density of values'''\n",
    "    fig, ax = plt.subplots(figsize = (14, 4))\n",
    "    sns.boxplot(x=column, y='score', \n",
    "                data=stud.loc[stud.loc[:, column].isin(stud.loc[:, column].value_counts().index[:10])], ax=ax)\n",
    "    plt.xticks(rotation=45)\n",
    "    ax.set_title('Boxplot for ' + column)\n",
    "    plt.show()"
   ]
  },
  {
   "cell_type": "code",
   "execution_count": 1722,
   "id": "c607c4e3",
   "metadata": {},
   "outputs": [],
   "source": [
    "def get_stat_dif(column):\n",
    "    '''Function that tests the null hypothesis that the distributions \n",
    "    of math scores for various parameters are indistinguishable'''\n",
    "    cols = stud.loc[:, column].value_counts().index[:10]\n",
    "    combinations_all = list(combinations(cols, 2))\n",
    "    for comb in combinations_all:\n",
    "        if ttest_ind(stud.loc[stud.loc[:, column] == comb[0], 'score'], \n",
    "                        stud.loc[stud.loc[:, column] == comb[1], 'score']).pvalue \\\n",
    "            <= 0.05/len(combinations_all): # Учли поправку Бонферони\n",
    "            print('Найдены статистически значимые различия для колонки', column)\n",
    "            break"
   ]
  },
  {
   "cell_type": "code",
   "execution_count": 1679,
   "id": "335d520f",
   "metadata": {},
   "outputs": [],
   "source": [
    "pd.set_option('display.max_rows', 60) # show more strips\n",
    "pd.set_option('display.max_columns', 60) # show more columns\n",
    "stud = pd.read_csv('stud_math.csv')"
   ]
  },
  {
   "cell_type": "code",
   "execution_count": 1680,
   "id": "e07c9483",
   "metadata": {},
   "outputs": [
    {
     "data": {
      "text/html": [
       "<div>\n",
       "<style scoped>\n",
       "    .dataframe tbody tr th:only-of-type {\n",
       "        vertical-align: middle;\n",
       "    }\n",
       "\n",
       "    .dataframe tbody tr th {\n",
       "        vertical-align: top;\n",
       "    }\n",
       "\n",
       "    .dataframe thead th {\n",
       "        text-align: right;\n",
       "    }\n",
       "</style>\n",
       "<table border=\"1\" class=\"dataframe\">\n",
       "  <thead>\n",
       "    <tr style=\"text-align: right;\">\n",
       "      <th></th>\n",
       "      <th>school</th>\n",
       "      <th>sex</th>\n",
       "      <th>age</th>\n",
       "      <th>address</th>\n",
       "      <th>famsize</th>\n",
       "      <th>Pstatus</th>\n",
       "      <th>Medu</th>\n",
       "      <th>Fedu</th>\n",
       "      <th>Mjob</th>\n",
       "      <th>Fjob</th>\n",
       "      <th>reason</th>\n",
       "      <th>guardian</th>\n",
       "      <th>traveltime</th>\n",
       "      <th>studytime</th>\n",
       "      <th>failures</th>\n",
       "      <th>schoolsup</th>\n",
       "      <th>famsup</th>\n",
       "      <th>paid</th>\n",
       "      <th>activities</th>\n",
       "      <th>nursery</th>\n",
       "      <th>studytime, granular</th>\n",
       "      <th>higher</th>\n",
       "      <th>internet</th>\n",
       "      <th>romantic</th>\n",
       "      <th>famrel</th>\n",
       "      <th>freetime</th>\n",
       "      <th>goout</th>\n",
       "      <th>health</th>\n",
       "      <th>absences</th>\n",
       "      <th>score</th>\n",
       "    </tr>\n",
       "  </thead>\n",
       "  <tbody>\n",
       "    <tr>\n",
       "      <th>0</th>\n",
       "      <td>GP</td>\n",
       "      <td>F</td>\n",
       "      <td>18</td>\n",
       "      <td>U</td>\n",
       "      <td>NaN</td>\n",
       "      <td>A</td>\n",
       "      <td>4.0</td>\n",
       "      <td>4.0</td>\n",
       "      <td>at_home</td>\n",
       "      <td>teacher</td>\n",
       "      <td>course</td>\n",
       "      <td>mother</td>\n",
       "      <td>2.0</td>\n",
       "      <td>2.0</td>\n",
       "      <td>0.0</td>\n",
       "      <td>yes</td>\n",
       "      <td>no</td>\n",
       "      <td>no</td>\n",
       "      <td>no</td>\n",
       "      <td>yes</td>\n",
       "      <td>-6.0</td>\n",
       "      <td>yes</td>\n",
       "      <td>NaN</td>\n",
       "      <td>no</td>\n",
       "      <td>4.0</td>\n",
       "      <td>3.0</td>\n",
       "      <td>4.0</td>\n",
       "      <td>3.0</td>\n",
       "      <td>6.0</td>\n",
       "      <td>30.0</td>\n",
       "    </tr>\n",
       "    <tr>\n",
       "      <th>1</th>\n",
       "      <td>GP</td>\n",
       "      <td>F</td>\n",
       "      <td>17</td>\n",
       "      <td>U</td>\n",
       "      <td>GT3</td>\n",
       "      <td>NaN</td>\n",
       "      <td>1.0</td>\n",
       "      <td>1.0</td>\n",
       "      <td>at_home</td>\n",
       "      <td>other</td>\n",
       "      <td>course</td>\n",
       "      <td>father</td>\n",
       "      <td>1.0</td>\n",
       "      <td>2.0</td>\n",
       "      <td>0.0</td>\n",
       "      <td>no</td>\n",
       "      <td>yes</td>\n",
       "      <td>no</td>\n",
       "      <td>no</td>\n",
       "      <td>no</td>\n",
       "      <td>-6.0</td>\n",
       "      <td>yes</td>\n",
       "      <td>yes</td>\n",
       "      <td>no</td>\n",
       "      <td>5.0</td>\n",
       "      <td>3.0</td>\n",
       "      <td>3.0</td>\n",
       "      <td>3.0</td>\n",
       "      <td>4.0</td>\n",
       "      <td>30.0</td>\n",
       "    </tr>\n",
       "    <tr>\n",
       "      <th>2</th>\n",
       "      <td>GP</td>\n",
       "      <td>F</td>\n",
       "      <td>15</td>\n",
       "      <td>U</td>\n",
       "      <td>LE3</td>\n",
       "      <td>T</td>\n",
       "      <td>1.0</td>\n",
       "      <td>1.0</td>\n",
       "      <td>at_home</td>\n",
       "      <td>other</td>\n",
       "      <td>other</td>\n",
       "      <td>mother</td>\n",
       "      <td>1.0</td>\n",
       "      <td>2.0</td>\n",
       "      <td>3.0</td>\n",
       "      <td>yes</td>\n",
       "      <td>no</td>\n",
       "      <td>NaN</td>\n",
       "      <td>no</td>\n",
       "      <td>yes</td>\n",
       "      <td>-6.0</td>\n",
       "      <td>yes</td>\n",
       "      <td>yes</td>\n",
       "      <td>NaN</td>\n",
       "      <td>4.0</td>\n",
       "      <td>3.0</td>\n",
       "      <td>2.0</td>\n",
       "      <td>3.0</td>\n",
       "      <td>10.0</td>\n",
       "      <td>50.0</td>\n",
       "    </tr>\n",
       "    <tr>\n",
       "      <th>3</th>\n",
       "      <td>GP</td>\n",
       "      <td>F</td>\n",
       "      <td>15</td>\n",
       "      <td>U</td>\n",
       "      <td>GT3</td>\n",
       "      <td>T</td>\n",
       "      <td>4.0</td>\n",
       "      <td>2.0</td>\n",
       "      <td>health</td>\n",
       "      <td>NaN</td>\n",
       "      <td>home</td>\n",
       "      <td>mother</td>\n",
       "      <td>1.0</td>\n",
       "      <td>3.0</td>\n",
       "      <td>0.0</td>\n",
       "      <td>no</td>\n",
       "      <td>yes</td>\n",
       "      <td>yes</td>\n",
       "      <td>yes</td>\n",
       "      <td>yes</td>\n",
       "      <td>-9.0</td>\n",
       "      <td>yes</td>\n",
       "      <td>yes</td>\n",
       "      <td>yes</td>\n",
       "      <td>3.0</td>\n",
       "      <td>2.0</td>\n",
       "      <td>2.0</td>\n",
       "      <td>5.0</td>\n",
       "      <td>2.0</td>\n",
       "      <td>75.0</td>\n",
       "    </tr>\n",
       "    <tr>\n",
       "      <th>4</th>\n",
       "      <td>GP</td>\n",
       "      <td>F</td>\n",
       "      <td>16</td>\n",
       "      <td>U</td>\n",
       "      <td>GT3</td>\n",
       "      <td>T</td>\n",
       "      <td>3.0</td>\n",
       "      <td>3.0</td>\n",
       "      <td>other</td>\n",
       "      <td>other</td>\n",
       "      <td>home</td>\n",
       "      <td>father</td>\n",
       "      <td>1.0</td>\n",
       "      <td>2.0</td>\n",
       "      <td>0.0</td>\n",
       "      <td>no</td>\n",
       "      <td>yes</td>\n",
       "      <td>yes</td>\n",
       "      <td>no</td>\n",
       "      <td>yes</td>\n",
       "      <td>-6.0</td>\n",
       "      <td>yes</td>\n",
       "      <td>no</td>\n",
       "      <td>no</td>\n",
       "      <td>4.0</td>\n",
       "      <td>3.0</td>\n",
       "      <td>2.0</td>\n",
       "      <td>5.0</td>\n",
       "      <td>4.0</td>\n",
       "      <td>50.0</td>\n",
       "    </tr>\n",
       "    <tr>\n",
       "      <th>5</th>\n",
       "      <td>GP</td>\n",
       "      <td>M</td>\n",
       "      <td>16</td>\n",
       "      <td>U</td>\n",
       "      <td>LE3</td>\n",
       "      <td>T</td>\n",
       "      <td>4.0</td>\n",
       "      <td>3.0</td>\n",
       "      <td>services</td>\n",
       "      <td>other</td>\n",
       "      <td>reputation</td>\n",
       "      <td>mother</td>\n",
       "      <td>1.0</td>\n",
       "      <td>2.0</td>\n",
       "      <td>0.0</td>\n",
       "      <td>no</td>\n",
       "      <td>yes</td>\n",
       "      <td>yes</td>\n",
       "      <td>yes</td>\n",
       "      <td>yes</td>\n",
       "      <td>-6.0</td>\n",
       "      <td>yes</td>\n",
       "      <td>yes</td>\n",
       "      <td>no</td>\n",
       "      <td>5.0</td>\n",
       "      <td>4.0</td>\n",
       "      <td>2.0</td>\n",
       "      <td>5.0</td>\n",
       "      <td>10.0</td>\n",
       "      <td>75.0</td>\n",
       "    </tr>\n",
       "    <tr>\n",
       "      <th>6</th>\n",
       "      <td>GP</td>\n",
       "      <td>M</td>\n",
       "      <td>16</td>\n",
       "      <td>NaN</td>\n",
       "      <td>LE3</td>\n",
       "      <td>T</td>\n",
       "      <td>2.0</td>\n",
       "      <td>2.0</td>\n",
       "      <td>other</td>\n",
       "      <td>other</td>\n",
       "      <td>home</td>\n",
       "      <td>mother</td>\n",
       "      <td>1.0</td>\n",
       "      <td>2.0</td>\n",
       "      <td>0.0</td>\n",
       "      <td>no</td>\n",
       "      <td>no</td>\n",
       "      <td>no</td>\n",
       "      <td>no</td>\n",
       "      <td>yes</td>\n",
       "      <td>-6.0</td>\n",
       "      <td>yes</td>\n",
       "      <td>yes</td>\n",
       "      <td>no</td>\n",
       "      <td>4.0</td>\n",
       "      <td>4.0</td>\n",
       "      <td>4.0</td>\n",
       "      <td>3.0</td>\n",
       "      <td>0.0</td>\n",
       "      <td>55.0</td>\n",
       "    </tr>\n",
       "    <tr>\n",
       "      <th>7</th>\n",
       "      <td>GP</td>\n",
       "      <td>F</td>\n",
       "      <td>17</td>\n",
       "      <td>U</td>\n",
       "      <td>GT3</td>\n",
       "      <td>A</td>\n",
       "      <td>4.0</td>\n",
       "      <td>4.0</td>\n",
       "      <td>other</td>\n",
       "      <td>teacher</td>\n",
       "      <td>home</td>\n",
       "      <td>mother</td>\n",
       "      <td>2.0</td>\n",
       "      <td>2.0</td>\n",
       "      <td>0.0</td>\n",
       "      <td>yes</td>\n",
       "      <td>yes</td>\n",
       "      <td>no</td>\n",
       "      <td>no</td>\n",
       "      <td>yes</td>\n",
       "      <td>-6.0</td>\n",
       "      <td>yes</td>\n",
       "      <td>no</td>\n",
       "      <td>no</td>\n",
       "      <td>4.0</td>\n",
       "      <td>1.0</td>\n",
       "      <td>4.0</td>\n",
       "      <td>1.0</td>\n",
       "      <td>6.0</td>\n",
       "      <td>30.0</td>\n",
       "    </tr>\n",
       "    <tr>\n",
       "      <th>8</th>\n",
       "      <td>GP</td>\n",
       "      <td>M</td>\n",
       "      <td>15</td>\n",
       "      <td>U</td>\n",
       "      <td>LE3</td>\n",
       "      <td>A</td>\n",
       "      <td>3.0</td>\n",
       "      <td>2.0</td>\n",
       "      <td>services</td>\n",
       "      <td>other</td>\n",
       "      <td>home</td>\n",
       "      <td>mother</td>\n",
       "      <td>1.0</td>\n",
       "      <td>2.0</td>\n",
       "      <td>0.0</td>\n",
       "      <td>no</td>\n",
       "      <td>yes</td>\n",
       "      <td>yes</td>\n",
       "      <td>no</td>\n",
       "      <td>yes</td>\n",
       "      <td>-6.0</td>\n",
       "      <td>yes</td>\n",
       "      <td>yes</td>\n",
       "      <td>no</td>\n",
       "      <td>NaN</td>\n",
       "      <td>2.0</td>\n",
       "      <td>2.0</td>\n",
       "      <td>1.0</td>\n",
       "      <td>0.0</td>\n",
       "      <td>95.0</td>\n",
       "    </tr>\n",
       "    <tr>\n",
       "      <th>9</th>\n",
       "      <td>GP</td>\n",
       "      <td>M</td>\n",
       "      <td>15</td>\n",
       "      <td>U</td>\n",
       "      <td>NaN</td>\n",
       "      <td>NaN</td>\n",
       "      <td>3.0</td>\n",
       "      <td>4.0</td>\n",
       "      <td>other</td>\n",
       "      <td>other</td>\n",
       "      <td>home</td>\n",
       "      <td>mother</td>\n",
       "      <td>1.0</td>\n",
       "      <td>2.0</td>\n",
       "      <td>0.0</td>\n",
       "      <td>no</td>\n",
       "      <td>yes</td>\n",
       "      <td>yes</td>\n",
       "      <td>yes</td>\n",
       "      <td>yes</td>\n",
       "      <td>-6.0</td>\n",
       "      <td>yes</td>\n",
       "      <td>yes</td>\n",
       "      <td>no</td>\n",
       "      <td>5.0</td>\n",
       "      <td>5.0</td>\n",
       "      <td>1.0</td>\n",
       "      <td>5.0</td>\n",
       "      <td>0.0</td>\n",
       "      <td>75.0</td>\n",
       "    </tr>\n",
       "  </tbody>\n",
       "</table>\n",
       "</div>"
      ],
      "text/plain": [
       "  school sex  age address famsize Pstatus  Medu  Fedu      Mjob     Fjob  \\\n",
       "0     GP   F   18       U     NaN       A   4.0   4.0   at_home  teacher   \n",
       "1     GP   F   17       U     GT3     NaN   1.0   1.0   at_home    other   \n",
       "2     GP   F   15       U     LE3       T   1.0   1.0   at_home    other   \n",
       "3     GP   F   15       U     GT3       T   4.0   2.0    health      NaN   \n",
       "4     GP   F   16       U     GT3       T   3.0   3.0     other    other   \n",
       "5     GP   M   16       U     LE3       T   4.0   3.0  services    other   \n",
       "6     GP   M   16     NaN     LE3       T   2.0   2.0     other    other   \n",
       "7     GP   F   17       U     GT3       A   4.0   4.0     other  teacher   \n",
       "8     GP   M   15       U     LE3       A   3.0   2.0  services    other   \n",
       "9     GP   M   15       U     NaN     NaN   3.0   4.0     other    other   \n",
       "\n",
       "       reason guardian  traveltime  studytime  failures schoolsup famsup paid  \\\n",
       "0      course   mother         2.0        2.0       0.0       yes     no   no   \n",
       "1      course   father         1.0        2.0       0.0        no    yes   no   \n",
       "2       other   mother         1.0        2.0       3.0       yes     no  NaN   \n",
       "3        home   mother         1.0        3.0       0.0        no    yes  yes   \n",
       "4        home   father         1.0        2.0       0.0        no    yes  yes   \n",
       "5  reputation   mother         1.0        2.0       0.0        no    yes  yes   \n",
       "6        home   mother         1.0        2.0       0.0        no     no   no   \n",
       "7        home   mother         2.0        2.0       0.0       yes    yes   no   \n",
       "8        home   mother         1.0        2.0       0.0        no    yes  yes   \n",
       "9        home   mother         1.0        2.0       0.0        no    yes  yes   \n",
       "\n",
       "  activities nursery  studytime, granular higher internet romantic  famrel  \\\n",
       "0         no     yes                 -6.0    yes      NaN       no     4.0   \n",
       "1         no      no                 -6.0    yes      yes       no     5.0   \n",
       "2         no     yes                 -6.0    yes      yes      NaN     4.0   \n",
       "3        yes     yes                 -9.0    yes      yes      yes     3.0   \n",
       "4         no     yes                 -6.0    yes       no       no     4.0   \n",
       "5        yes     yes                 -6.0    yes      yes       no     5.0   \n",
       "6         no     yes                 -6.0    yes      yes       no     4.0   \n",
       "7         no     yes                 -6.0    yes       no       no     4.0   \n",
       "8         no     yes                 -6.0    yes      yes       no     NaN   \n",
       "9        yes     yes                 -6.0    yes      yes       no     5.0   \n",
       "\n",
       "   freetime  goout  health  absences  score  \n",
       "0       3.0    4.0     3.0       6.0   30.0  \n",
       "1       3.0    3.0     3.0       4.0   30.0  \n",
       "2       3.0    2.0     3.0      10.0   50.0  \n",
       "3       2.0    2.0     5.0       2.0   75.0  \n",
       "4       3.0    2.0     5.0       4.0   50.0  \n",
       "5       4.0    2.0     5.0      10.0   75.0  \n",
       "6       4.0    4.0     3.0       0.0   55.0  \n",
       "7       1.0    4.0     1.0       6.0   30.0  \n",
       "8       2.0    2.0     1.0       0.0   95.0  \n",
       "9       5.0    1.0     5.0       0.0   75.0  "
      ]
     },
     "execution_count": 1680,
     "metadata": {},
     "output_type": "execute_result"
    }
   ],
   "source": [
    "stud.head(10)"
   ]
  },
  {
   "cell_type": "code",
   "execution_count": 1681,
   "id": "dac9d38f",
   "metadata": {},
   "outputs": [
    {
     "data": {
      "text/plain": [
       "(395, 30)"
      ]
     },
     "execution_count": 1681,
     "metadata": {},
     "output_type": "execute_result"
    }
   ],
   "source": [
    "stud.shape"
   ]
  },
  {
   "cell_type": "code",
   "execution_count": 1682,
   "id": "17779424",
   "metadata": {},
   "outputs": [
    {
     "name": "stdout",
     "output_type": "stream",
     "text": [
      "<class 'pandas.core.frame.DataFrame'>\n",
      "RangeIndex: 395 entries, 0 to 394\n",
      "Data columns (total 30 columns):\n",
      " #   Column               Non-Null Count  Dtype  \n",
      "---  ------               --------------  -----  \n",
      " 0   school               395 non-null    object \n",
      " 1   sex                  395 non-null    object \n",
      " 2   age                  395 non-null    int64  \n",
      " 3   address              378 non-null    object \n",
      " 4   famsize              368 non-null    object \n",
      " 5   Pstatus              350 non-null    object \n",
      " 6   Medu                 392 non-null    float64\n",
      " 7   Fedu                 371 non-null    float64\n",
      " 8   Mjob                 376 non-null    object \n",
      " 9   Fjob                 359 non-null    object \n",
      " 10  reason               378 non-null    object \n",
      " 11  guardian             364 non-null    object \n",
      " 12  traveltime           367 non-null    float64\n",
      " 13  studytime            388 non-null    float64\n",
      " 14  failures             373 non-null    float64\n",
      " 15  schoolsup            386 non-null    object \n",
      " 16  famsup               356 non-null    object \n",
      " 17  paid                 355 non-null    object \n",
      " 18  activities           381 non-null    object \n",
      " 19  nursery              379 non-null    object \n",
      " 20  studytime, granular  388 non-null    float64\n",
      " 21  higher               375 non-null    object \n",
      " 22  internet             361 non-null    object \n",
      " 23  romantic             364 non-null    object \n",
      " 24  famrel               368 non-null    float64\n",
      " 25  freetime             384 non-null    float64\n",
      " 26  goout                387 non-null    float64\n",
      " 27  health               380 non-null    float64\n",
      " 28  absences             383 non-null    float64\n",
      " 29  score                389 non-null    float64\n",
      "dtypes: float64(12), int64(1), object(17)\n",
      "memory usage: 92.7+ KB\n"
     ]
    }
   ],
   "source": [
    "stud.info()"
   ]
  },
  {
   "cell_type": "code",
   "execution_count": 1683,
   "id": "07a9ae67",
   "metadata": {},
   "outputs": [],
   "source": [
    "stud.columns = ['school','sex','age','address','family_size',\n",
    "                'p_status','mother_education','father_education','mother_job','father_job','school_choice',\n",
    "                'guardian','travel_time','study_time','failures','school_support','family_support','paid_lessons',\n",
    "               'activities','nursery','studytime_granular','higher_education','internet','romantic',\n",
    "                'fam_relationship','free_time','go_out','health','absences','score']"
   ]
  },
  {
   "cell_type": "code",
   "execution_count": 1684,
   "id": "7b0fabcf",
   "metadata": {},
   "outputs": [
    {
     "data": {
      "text/plain": [
       "school                 0\n",
       "sex                    0\n",
       "age                    0\n",
       "address               17\n",
       "family_size           27\n",
       "p_status              45\n",
       "mother_education       3\n",
       "father_education      24\n",
       "mother_job            19\n",
       "father_job            36\n",
       "school_choice         17\n",
       "guardian              31\n",
       "travel_time           28\n",
       "study_time             7\n",
       "failures              22\n",
       "school_support         9\n",
       "family_support        39\n",
       "paid_lessons          40\n",
       "activities            14\n",
       "nursery               16\n",
       "studytime_granular     7\n",
       "higher_education      20\n",
       "internet              34\n",
       "romantic              31\n",
       "fam_relationship      27\n",
       "free_time             11\n",
       "go_out                 8\n",
       "health                15\n",
       "absences              12\n",
       "score                  6\n",
       "dtype: int64"
      ]
     },
     "execution_count": 1684,
     "metadata": {},
     "output_type": "execute_result"
    }
   ],
   "source": [
    "stud.isnull().sum() # Let's look at the number of data gaps"
   ]
  },
  {
   "cell_type": "code",
   "execution_count": 1685,
   "id": "6c428061",
   "metadata": {},
   "outputs": [
    {
     "name": "stdout",
     "output_type": "stream",
     "text": [
      "school\n",
      "['GP' 'MS']\n",
      "GP    349\n",
      "MS     46\n",
      "Name: school, dtype: int64\n",
      "\n",
      "sex\n",
      "['F' 'M']\n",
      "F    208\n",
      "M    187\n",
      "Name: sex, dtype: int64\n",
      "\n",
      "age\n",
      "[18 17 15 16 19 22 20 21]\n",
      "16    104\n",
      "17     98\n",
      "15     82\n",
      "18     82\n",
      "19     24\n",
      "20      3\n",
      "21      1\n",
      "22      1\n",
      "Name: age, dtype: int64\n",
      "\n",
      "address\n",
      "['U' nan 'R']\n",
      "U      295\n",
      "R       83\n",
      "NaN     17\n",
      "Name: address, dtype: int64\n",
      "\n",
      "family_size\n",
      "[nan 'GT3' 'LE3']\n",
      "GT3    261\n",
      "LE3    107\n",
      "NaN     27\n",
      "Name: family_size, dtype: int64\n",
      "\n",
      "p_status\n",
      "['A' nan 'T']\n",
      "T      314\n",
      "NaN     45\n",
      "A       36\n",
      "Name: p_status, dtype: int64\n",
      "\n",
      "mother_education\n",
      "[ 4.  1.  3.  2. nan  0.]\n",
      "4.0    131\n",
      "2.0    102\n",
      "3.0     97\n",
      "1.0     59\n",
      "NaN      3\n",
      "0.0      3\n",
      "Name: mother_education, dtype: int64\n",
      "\n",
      "father_education\n",
      "[ 4.  1.  2.  3. 40. nan  0.]\n",
      "2.0     106\n",
      "3.0      96\n",
      "4.0      88\n",
      "1.0      78\n",
      "NaN      24\n",
      "0.0       2\n",
      "40.0      1\n",
      "Name: father_education, dtype: int64\n",
      "\n",
      "mother_job\n",
      "['at_home' 'health' 'other' 'services' 'teacher' nan]\n",
      "other       133\n",
      "services     98\n",
      "at_home      58\n",
      "teacher      55\n",
      "health       32\n",
      "NaN          19\n",
      "Name: mother_job, dtype: int64\n",
      "\n",
      "father_job\n",
      "['teacher' 'other' nan 'health' 'services' 'at_home']\n",
      "other       197\n",
      "services    102\n",
      "NaN          36\n",
      "teacher      29\n",
      "at_home      16\n",
      "health       15\n",
      "Name: father_job, dtype: int64\n",
      "\n",
      "school_choice\n",
      "['course' 'other' 'home' 'reputation' nan]\n",
      "course        137\n",
      "home          104\n",
      "reputation    103\n",
      "other          34\n",
      "NaN            17\n",
      "Name: school_choice, dtype: int64\n",
      "\n",
      "guardian\n",
      "['mother' 'father' 'other' nan]\n",
      "mother    250\n",
      "father     86\n",
      "NaN        31\n",
      "other      28\n",
      "Name: guardian, dtype: int64\n",
      "\n",
      "travel_time\n",
      "[ 2.  1.  3. nan  4.]\n",
      "1.0    242\n",
      "2.0     96\n",
      "NaN     28\n",
      "3.0     22\n",
      "4.0      7\n",
      "Name: travel_time, dtype: int64\n",
      "\n",
      "study_time\n",
      "[ 2.  3.  1. nan  4.]\n",
      "2.0    194\n",
      "1.0    103\n",
      "3.0     64\n",
      "4.0     27\n",
      "NaN      7\n",
      "Name: study_time, dtype: int64\n",
      "\n",
      "failures\n",
      "[ 0.  3. nan  2.  1.]\n",
      "0.0    293\n",
      "1.0     49\n",
      "NaN     22\n",
      "2.0     16\n",
      "3.0     15\n",
      "Name: failures, dtype: int64\n",
      "\n",
      "school_support\n",
      "['yes' 'no' nan]\n",
      "no     335\n",
      "yes     51\n",
      "NaN      9\n",
      "Name: school_support, dtype: int64\n",
      "\n",
      "family_support\n",
      "['no' 'yes' nan]\n",
      "yes    219\n",
      "no     137\n",
      "NaN     39\n",
      "Name: family_support, dtype: int64\n",
      "\n",
      "paid_lessons\n",
      "['no' nan 'yes']\n",
      "no     200\n",
      "yes    155\n",
      "NaN     40\n",
      "Name: paid_lessons, dtype: int64\n",
      "\n",
      "activities\n",
      "['no' 'yes' nan]\n",
      "yes    195\n",
      "no     186\n",
      "NaN     14\n",
      "Name: activities, dtype: int64\n",
      "\n",
      "nursery\n",
      "['yes' 'no' nan]\n",
      "yes    300\n",
      "no      79\n",
      "NaN     16\n",
      "Name: nursery, dtype: int64\n",
      "\n",
      "studytime_granular\n",
      "[ -6.  -9.  -3.  nan -12.]\n",
      "-6.0     194\n",
      "-3.0     103\n",
      "-9.0      64\n",
      "-12.0     27\n",
      " NaN       7\n",
      "Name: studytime_granular, dtype: int64\n",
      "\n",
      "higher_education\n",
      "['yes' nan 'no']\n",
      "yes    356\n",
      "NaN     20\n",
      "no      19\n",
      "Name: higher_education, dtype: int64\n",
      "\n",
      "internet\n",
      "[nan 'yes' 'no']\n",
      "yes    305\n",
      "no      56\n",
      "NaN     34\n",
      "Name: internet, dtype: int64\n",
      "\n",
      "romantic\n",
      "['no' nan 'yes']\n",
      "no     240\n",
      "yes    124\n",
      "NaN     31\n",
      "Name: romantic, dtype: int64\n",
      "\n",
      "fam_relationship\n",
      "[ 4.  5.  3. nan -1.  2.  1.]\n",
      " 4.0    182\n",
      " 5.0     99\n",
      " 3.0     62\n",
      " NaN     27\n",
      " 2.0     17\n",
      " 1.0      7\n",
      "-1.0      1\n",
      "Name: fam_relationship, dtype: int64\n",
      "\n",
      "free_time\n",
      "[ 3.  2.  4.  1.  5. nan]\n",
      "3.0    153\n",
      "4.0    112\n",
      "2.0     63\n",
      "5.0     38\n",
      "1.0     18\n",
      "NaN     11\n",
      "Name: free_time, dtype: int64\n",
      "\n",
      "go_out\n",
      "[ 4.  3.  2.  1.  5. nan]\n",
      "3.0    127\n",
      "2.0    101\n",
      "4.0     84\n",
      "5.0     52\n",
      "1.0     23\n",
      "NaN      8\n",
      "Name: go_out, dtype: int64\n",
      "\n",
      "health\n",
      "[ 3.  5.  1.  2.  4. nan]\n",
      "5.0    138\n",
      "3.0     89\n",
      "4.0     63\n",
      "1.0     47\n",
      "2.0     43\n",
      "NaN     15\n",
      "Name: health, dtype: int64\n",
      "\n",
      "absences\n",
      "[  6.   4.  10.   2.   0.  16.  nan  14.   7.   8.  25.  12.  54.  18.\n",
      "  26.  20.  56.  24.  28.   5.  13.  15.  22.   3. 385.  21.   1.  75.\n",
      "  30.  19.   9.  11.  38.  40.  23.  17. 212.]\n",
      "0.0      111\n",
      "2.0       60\n",
      "4.0       53\n",
      "6.0       31\n",
      "8.0       21\n",
      "10.0      17\n",
      "12.0      12\n",
      "14.0      12\n",
      "NaN       12\n",
      "3.0        8\n",
      "16.0       7\n",
      "7.0        6\n",
      "5.0        5\n",
      "18.0       5\n",
      "20.0       4\n",
      "1.0        3\n",
      "22.0       3\n",
      "9.0        3\n",
      "13.0       2\n",
      "11.0       2\n",
      "15.0       2\n",
      "56.0       1\n",
      "24.0       1\n",
      "23.0       1\n",
      "25.0       1\n",
      "19.0       1\n",
      "17.0       1\n",
      "75.0       1\n",
      "21.0       1\n",
      "212.0      1\n",
      "26.0       1\n",
      "30.0       1\n",
      "40.0       1\n",
      "28.0       1\n",
      "385.0      1\n",
      "38.0       1\n",
      "54.0       1\n",
      "Name: absences, dtype: int64\n",
      "\n",
      "score\n",
      "[ 30.  50.  75.  55.  95.  45.  60.  70.  80.  25.  40.  85.  90.  65.\n",
      " 100.  35.   0.  nan  20.]\n",
      "50.0     54\n",
      "55.0     46\n",
      "0.0      37\n",
      "75.0     33\n",
      "65.0     31\n",
      "60.0     31\n",
      "40.0     31\n",
      "45.0     27\n",
      "70.0     27\n",
      "80.0     16\n",
      "30.0     15\n",
      "90.0     12\n",
      "35.0      9\n",
      "25.0      7\n",
      "NaN       6\n",
      "85.0      6\n",
      "95.0      5\n",
      "100.0     1\n",
      "20.0      1\n",
      "Name: score, dtype: int64\n",
      "\n"
     ]
    }
   ],
   "source": [
    "get_unique_and_value_counts(stud)"
   ]
  },
  {
   "cell_type": "markdown",
   "id": "9171b354",
   "metadata": {},
   "source": [
    "### Now let's take a look at 30 columns and transform them if needed:"
   ]
  },
  {
   "cell_type": "markdown",
   "id": "c0a82eb9",
   "metadata": {},
   "source": [
    "- age"
   ]
  },
  {
   "cell_type": "code",
   "execution_count": 1686,
   "id": "e0b56a16",
   "metadata": {},
   "outputs": [
    {
     "data": {
      "text/plain": [
       "<AxesSubplot:title={'center':'The age of students'}>"
      ]
     },
     "execution_count": 1686,
     "metadata": {},
     "output_type": "execute_result"
    },
    {
     "data": {
      "image/png": "[encoded data removed]",
      "text/plain": [
       "<Figure size 432x288 with 1 Axes>"
      ]
     },
     "metadata": {
      "needs_background": "light"
     },
     "output_type": "display_data"
    }
   ],
   "source": [
    "stud['age'].value_counts().plot(kind = 'bar', \n",
    "                              grid = True, \n",
    "                              colormap = 'coolwarm', \n",
    "                              title = 'The age of students')"
   ]
  },
  {
   "cell_type": "code",
   "execution_count": 1687,
   "id": "396b9fcd",
   "metadata": {},
   "outputs": [
    {
     "data": {
      "image/png": "[encoded data removed]",
      "text/plain": [
       "<Figure size 2160x576 with 1 Axes>"
      ]
     },
     "metadata": {
      "needs_background": "light"
     },
     "output_type": "display_data"
    }
   ],
   "source": [
    "fig = plt.figure(figsize=(30, 8)) # checking data for outliers\n",
    "sns.boxplot(data=stud, x='age');"
   ]
  },
  {
   "cell_type": "code",
   "execution_count": 1688,
   "id": "efb20055",
   "metadata": {
    "scrolled": true
   },
   "outputs": [
    {
     "data": {
      "text/plain": [
       "mean    16.696203\n",
       "amax    22.000000\n",
       "amin    15.000000\n",
       "std      1.276043\n",
       "Name: age, dtype: float64"
      ]
     },
     "execution_count": 1688,
     "metadata": {},
     "output_type": "execute_result"
    }
   ],
   "source": [
    "stud.age.agg([np.mean, np.max, np.min, np.std]) # one outlier: age = 22"
   ]
  },
  {
   "cell_type": "markdown",
   "id": "93b4d705",
   "metadata": {},
   "source": [
    "- family_size"
   ]
  },
  {
   "cell_type": "code",
   "execution_count": 1689,
   "id": "ca807fa8",
   "metadata": {},
   "outputs": [],
   "source": [
    "# fill in the gaps by mode assuming a connection between family_size and p_status\n",
    "stud.family_size = pd.Series(np.where((stud.p_status == 'T')&(stud.family_size.isnull()),'GT3',stud.family_size))\n",
    "stud.family_size = pd.Series(np.where((stud.p_status == 'A')&(stud.family_size.isnull()),'LE3',stud.family_size))\n",
    "stud.family_size = stud.family_size.fillna(stud.family_size.mode()[0]) # fill the rest with mode"
   ]
  },
  {
   "cell_type": "markdown",
   "id": "589b0ebc",
   "metadata": {},
   "source": [
    "- p_status"
   ]
  },
  {
   "cell_type": "code",
   "execution_count": 1690,
   "id": "1ced8ac7",
   "metadata": {},
   "outputs": [],
   "source": [
    "# fill in the gaps by mode assuming a connection between family_size and p_status\n",
    "stud.p_status = pd.Series(np.where((stud.family_size == 'GT3')&(stud.p_status.isnull()),'T',stud.p_status))\n",
    "stud.p_status = pd.Series(np.where((stud.family_size == 'LE3')&(stud.p_status.isnull()),'A',stud.p_status))\n",
    "stud.p_status = stud.p_status.fillna(stud.p_status.mode()[0]) # fill the rest with mode"
   ]
  },
  {
   "cell_type": "markdown",
   "id": "f1daae79",
   "metadata": {},
   "source": [
    "#### Elimination of gaps in columns: address, mother_education, mother_job, father_job, school_choice, fam_relationship, free_time, go_out, health, father_education"
   ]
  },
  {
   "cell_type": "code",
   "execution_count": 1691,
   "id": "be08b3c8",
   "metadata": {
    "scrolled": true
   },
   "outputs": [],
   "source": [
    "list_col = ['address', 'mother_education','mother_job', 'father_job', 'school_choice', 'fam_relationship',\n",
    "           'free_time', 'go_out', 'health', 'father_education']\n",
    "replacement_mode(stud,list_col)"
   ]
  },
  {
   "cell_type": "markdown",
   "id": "3dbe3878",
   "metadata": {},
   "source": [
    "- father_education"
   ]
  },
  {
   "cell_type": "code",
   "execution_count": 1692,
   "id": "8b22a630",
   "metadata": {},
   "outputs": [],
   "source": [
    "stud.father_education = pd.Series(np.where((stud.father_education == 40.0\n",
    "                                           ),stud.father_education.mode(),stud.father_education))\n",
    "# father_education = 40.0 change to mode"
   ]
  },
  {
   "cell_type": "markdown",
   "id": "0a79dce1",
   "metadata": {},
   "source": [
    "- mother_job"
   ]
  },
  {
   "cell_type": "code",
   "execution_count": 1693,
   "id": "faa15b29",
   "metadata": {},
   "outputs": [
    {
     "data": {
      "text/plain": [
       "Text(0.5, 1.0, 'Mothers jobs')"
      ]
     },
     "execution_count": 1693,
     "metadata": {},
     "output_type": "execute_result"
    },
    {
     "data": {
      "image/png": "[encoded data removed]",
      "text/plain": [
       "<Figure size 720x360 with 1 Axes>"
      ]
     },
     "metadata": {
      "needs_background": "light"
     },
     "output_type": "display_data"
    }
   ],
   "source": [
    "plt.figure(figsize=(10, 5))\n",
    "stud['mother_job'].value_counts().plot(kind='barh');\n",
    "plt.title('Mothers jobs')"
   ]
  },
  {
   "cell_type": "markdown",
   "id": "b9a02a8f",
   "metadata": {},
   "source": [
    "- father_job"
   ]
  },
  {
   "cell_type": "code",
   "execution_count": 1694,
   "id": "c15a57e1",
   "metadata": {},
   "outputs": [
    {
     "data": {
      "text/plain": [
       "<AxesSubplot:title={'center':'Fathers job'}>"
      ]
     },
     "execution_count": 1694,
     "metadata": {},
     "output_type": "execute_result"
    },
    {
     "data": {
      "image/png": "[encoded data removed]",
      "text/plain": [
       "<Figure size 432x288 with 1 Axes>"
      ]
     },
     "metadata": {
      "needs_background": "light"
     },
     "output_type": "display_data"
    }
   ],
   "source": [
    "stud.father_job.value_counts().plot(kind = 'bar', \n",
    "                              grid = True, \n",
    "                              colormap = 'coolwarm', \n",
    "                              title = 'Fathers job' )"
   ]
  },
  {
   "cell_type": "markdown",
   "id": "bca38dd0",
   "metadata": {},
   "source": [
    "- fam_relationship"
   ]
  },
  {
   "cell_type": "code",
   "execution_count": 1695,
   "id": "668fd4fa",
   "metadata": {},
   "outputs": [],
   "source": [
    "stud.fam_relationship = pd.Series(np.where((stud.fam_relationship == -1.0\n",
    "                                           ),stud.fam_relationship.mode(),stud.fam_relationship))\n",
    "# fam_relationship = -1.0 change to mode"
   ]
  },
  {
   "cell_type": "markdown",
   "id": "4853774b",
   "metadata": {},
   "source": [
    "#### Elimination of gaps in columns: guardian, failures, school_support, family_support, paid_lessons, activities, nursery, higher_education, internet, romantic"
   ]
  },
  {
   "cell_type": "code",
   "execution_count": 1697,
   "id": "4d88b3a7",
   "metadata": {},
   "outputs": [],
   "source": [
    "list_1 = ['guardian', 'failures','school_support', 'family_support', 'paid_lessons', 'activities', 'nursery', \n",
    "          'higher_education', 'internet', 'romantic']\n",
    "replacement_prop(stud,list_1)"
   ]
  },
  {
   "cell_type": "markdown",
   "id": "6a6f9d39",
   "metadata": {},
   "source": [
    "- failures"
   ]
  },
  {
   "cell_type": "code",
   "execution_count": 1698,
   "id": "cd9159be",
   "metadata": {},
   "outputs": [
    {
     "data": {
      "text/plain": [
       "<AxesSubplot:title={'center':'failures'}>"
      ]
     },
     "execution_count": 1698,
     "metadata": {},
     "output_type": "execute_result"
    },
    {
     "data": {
      "image/png": "[encoded data removed]",
      "text/plain": [
       "<Figure size 432x288 with 1 Axes>"
      ]
     },
     "metadata": {
      "needs_background": "light"
     },
     "output_type": "display_data"
    }
   ],
   "source": [
    "stud.failures.value_counts().plot(kind = 'bar', \n",
    "                              grid = True, \n",
    "                              colormap = 'coolwarm', \n",
    "                              title = 'failures' )"
   ]
  },
  {
   "cell_type": "markdown",
   "id": "6eee8400",
   "metadata": {},
   "source": [
    "#### Elimination of gaps in columns: travel_time, study_time, score, absences, studytime_granular"
   ]
  },
  {
   "cell_type": "code",
   "execution_count": 1699,
   "id": "5f731870",
   "metadata": {},
   "outputs": [],
   "source": [
    "list_2 = ['travel_time', 'study_time','score', 'absences', 'studytime_granular']\n",
    "replacement_median(stud,list_2)"
   ]
  },
  {
   "cell_type": "code",
   "execution_count": 1700,
   "id": "4b5814bc",
   "metadata": {},
   "outputs": [
    {
     "data": {
      "text/plain": [
       "school                0\n",
       "sex                   0\n",
       "age                   0\n",
       "address               0\n",
       "family_size           0\n",
       "p_status              0\n",
       "mother_education      0\n",
       "father_education      0\n",
       "mother_job            0\n",
       "father_job            0\n",
       "school_choice         0\n",
       "guardian              0\n",
       "travel_time           0\n",
       "study_time            0\n",
       "failures              0\n",
       "school_support        0\n",
       "family_support        0\n",
       "paid_lessons          0\n",
       "activities            0\n",
       "nursery               0\n",
       "studytime_granular    0\n",
       "higher_education      0\n",
       "internet              0\n",
       "romantic              0\n",
       "fam_relationship      0\n",
       "free_time             0\n",
       "go_out                0\n",
       "health                0\n",
       "absences              0\n",
       "score                 0\n",
       "dtype: int64"
      ]
     },
     "execution_count": 1700,
     "metadata": {},
     "output_type": "execute_result"
    }
   ],
   "source": [
    "stud.isnull().sum()"
   ]
  },
  {
   "cell_type": "markdown",
   "id": "d20d57a5",
   "metadata": {},
   "source": [
    "- travel_time"
   ]
  },
  {
   "cell_type": "code",
   "execution_count": 1701,
   "id": "22fc126d",
   "metadata": {},
   "outputs": [
    {
     "data": {
      "image/png": "[encoded data removed]",
      "text/plain": [
       "<Figure size 2160x576 with 1 Axes>"
      ]
     },
     "metadata": {
      "needs_background": "light"
     },
     "output_type": "display_data"
    }
   ],
   "source": [
    "fig = plt.figure(figsize=(30, 8)) # checking data for outliers\n",
    "sns.boxplot(data=stud, x='travel_time');"
   ]
  },
  {
   "cell_type": "code",
   "execution_count": 1702,
   "id": "8f51e66f",
   "metadata": {},
   "outputs": [
    {
     "data": {
      "text/plain": [
       "mean      1.407595\n",
       "amax      4.000000\n",
       "amin      1.000000\n",
       "std       0.678490\n",
       "median    1.000000\n",
       "Name: travel_time, dtype: float64"
      ]
     },
     "execution_count": 1702,
     "metadata": {},
     "output_type": "execute_result"
    }
   ],
   "source": [
    "stud.travel_time.agg([np.mean, np.max, np.min, np.std, np.median]) \n",
    "# outliers with 7 values of travel_time = 4 (>60 min) - not discard these values"
   ]
  },
  {
   "cell_type": "markdown",
   "id": "e2b5664e",
   "metadata": {},
   "source": [
    "- study_time"
   ]
  },
  {
   "cell_type": "code",
   "execution_count": 1703,
   "id": "18232018",
   "metadata": {},
   "outputs": [
    {
     "data": {
      "image/png": "[encoded data removed]",
      "text/plain": [
       "<Figure size 2160x576 with 1 Axes>"
      ]
     },
     "metadata": {
      "needs_background": "light"
     },
     "output_type": "display_data"
    }
   ],
   "source": [
    "fig = plt.figure(figsize=(30, 8)) # checking data for outliers\n",
    "sns.boxplot(data=stud, x='study_time');"
   ]
  },
  {
   "cell_type": "code",
   "execution_count": 1704,
   "id": "6210bd9e",
   "metadata": {},
   "outputs": [
    {
     "data": {
      "text/plain": [
       "mean      2.037975\n",
       "amax      4.000000\n",
       "amin      1.000000\n",
       "std       0.834580\n",
       "median    2.000000\n",
       "Name: study_time, dtype: float64"
      ]
     },
     "execution_count": 1704,
     "metadata": {},
     "output_type": "execute_result"
    }
   ],
   "source": [
    "stud.study_time.agg([np.mean, np.max, np.min, np.std, np.median]) \n",
    "# outliers with 27 values of travel_time = 4 (>10 h) - not discard these values"
   ]
  },
  {
   "cell_type": "markdown",
   "id": "f45a9192",
   "metadata": {},
   "source": [
    "- absences "
   ]
  },
  {
   "cell_type": "code",
   "execution_count": 1705,
   "id": "eb73e0f2",
   "metadata": {},
   "outputs": [
    {
     "data": {
      "text/plain": [
       "count    395.000000\n",
       "mean       7.179747\n",
       "std       23.111967\n",
       "min        0.000000\n",
       "25%        0.000000\n",
       "50%        4.000000\n",
       "75%        8.000000\n",
       "max      385.000000\n",
       "Name: absences, dtype: float64"
      ]
     },
     "execution_count": 1705,
     "metadata": {},
     "output_type": "execute_result"
    }
   ],
   "source": [
    "stud.absences.describe()"
   ]
  },
  {
   "cell_type": "code",
   "execution_count": 1706,
   "id": "6ea5ed49",
   "metadata": {},
   "outputs": [
    {
     "data": {
      "image/png": "[encoded data removed]",
      "text/plain": [
       "<Figure size 2160x576 with 1 Axes>"
      ]
     },
     "metadata": {
      "needs_background": "light"
     },
     "output_type": "display_data"
    }
   ],
   "source": [
    "fig = plt.figure(figsize=(30, 8)) # checking data for outliers\n",
    "sns.boxplot(data=stud, x='absences');"
   ]
  },
  {
   "cell_type": "code",
   "execution_count": 1707,
   "id": "309e2932",
   "metadata": {},
   "outputs": [
    {
     "data": {
      "text/html": [
       "<div>\n",
       "<style scoped>\n",
       "    .dataframe tbody tr th:only-of-type {\n",
       "        vertical-align: middle;\n",
       "    }\n",
       "\n",
       "    .dataframe tbody tr th {\n",
       "        vertical-align: top;\n",
       "    }\n",
       "\n",
       "    .dataframe thead th {\n",
       "        text-align: right;\n",
       "    }\n",
       "</style>\n",
       "<table border=\"1\" class=\"dataframe\">\n",
       "  <thead>\n",
       "    <tr style=\"text-align: right;\">\n",
       "      <th></th>\n",
       "      <th>school</th>\n",
       "      <th>sex</th>\n",
       "      <th>age</th>\n",
       "      <th>address</th>\n",
       "      <th>family_size</th>\n",
       "      <th>p_status</th>\n",
       "      <th>mother_education</th>\n",
       "      <th>father_education</th>\n",
       "      <th>mother_job</th>\n",
       "      <th>father_job</th>\n",
       "      <th>school_choice</th>\n",
       "      <th>guardian</th>\n",
       "      <th>travel_time</th>\n",
       "      <th>study_time</th>\n",
       "      <th>failures</th>\n",
       "      <th>school_support</th>\n",
       "      <th>family_support</th>\n",
       "      <th>paid_lessons</th>\n",
       "      <th>activities</th>\n",
       "      <th>nursery</th>\n",
       "      <th>studytime_granular</th>\n",
       "      <th>higher_education</th>\n",
       "      <th>internet</th>\n",
       "      <th>romantic</th>\n",
       "      <th>fam_relationship</th>\n",
       "      <th>free_time</th>\n",
       "      <th>go_out</th>\n",
       "      <th>health</th>\n",
       "      <th>absences</th>\n",
       "      <th>score</th>\n",
       "    </tr>\n",
       "  </thead>\n",
       "  <tbody>\n",
       "    <tr>\n",
       "      <th>222</th>\n",
       "      <td>GP</td>\n",
       "      <td>F</td>\n",
       "      <td>16</td>\n",
       "      <td>U</td>\n",
       "      <td>GT3</td>\n",
       "      <td>T</td>\n",
       "      <td>2.0</td>\n",
       "      <td>3.0</td>\n",
       "      <td>services</td>\n",
       "      <td>teacher</td>\n",
       "      <td>other</td>\n",
       "      <td>mother</td>\n",
       "      <td>1.0</td>\n",
       "      <td>2.0</td>\n",
       "      <td>0.0</td>\n",
       "      <td>yes</td>\n",
       "      <td>yes</td>\n",
       "      <td>no</td>\n",
       "      <td>no</td>\n",
       "      <td>yes</td>\n",
       "      <td>-6.0</td>\n",
       "      <td>yes</td>\n",
       "      <td>yes</td>\n",
       "      <td>no</td>\n",
       "      <td>2.0</td>\n",
       "      <td>3.0</td>\n",
       "      <td>1.0</td>\n",
       "      <td>3.0</td>\n",
       "      <td>385.0</td>\n",
       "      <td>85.0</td>\n",
       "    </tr>\n",
       "    <tr>\n",
       "      <th>390</th>\n",
       "      <td>MS</td>\n",
       "      <td>M</td>\n",
       "      <td>20</td>\n",
       "      <td>U</td>\n",
       "      <td>LE3</td>\n",
       "      <td>A</td>\n",
       "      <td>2.0</td>\n",
       "      <td>2.0</td>\n",
       "      <td>services</td>\n",
       "      <td>services</td>\n",
       "      <td>course</td>\n",
       "      <td>other</td>\n",
       "      <td>1.0</td>\n",
       "      <td>2.0</td>\n",
       "      <td>2.0</td>\n",
       "      <td>no</td>\n",
       "      <td>yes</td>\n",
       "      <td>yes</td>\n",
       "      <td>no</td>\n",
       "      <td>yes</td>\n",
       "      <td>-6.0</td>\n",
       "      <td>yes</td>\n",
       "      <td>no</td>\n",
       "      <td>no</td>\n",
       "      <td>5.0</td>\n",
       "      <td>5.0</td>\n",
       "      <td>4.0</td>\n",
       "      <td>4.0</td>\n",
       "      <td>212.0</td>\n",
       "      <td>45.0</td>\n",
       "    </tr>\n",
       "  </tbody>\n",
       "</table>\n",
       "</div>"
      ],
      "text/plain": [
       "    school sex  age address family_size p_status  mother_education  \\\n",
       "222     GP   F   16       U         GT3        T               2.0   \n",
       "390     MS   M   20       U         LE3        A               2.0   \n",
       "\n",
       "     father_education mother_job father_job school_choice guardian  \\\n",
       "222               3.0   services    teacher         other   mother   \n",
       "390               2.0   services   services        course    other   \n",
       "\n",
       "     travel_time  study_time  failures school_support family_support  \\\n",
       "222          1.0         2.0       0.0            yes            yes   \n",
       "390          1.0         2.0       2.0             no            yes   \n",
       "\n",
       "    paid_lessons activities nursery  studytime_granular higher_education  \\\n",
       "222           no         no     yes                -6.0              yes   \n",
       "390          yes         no     yes                -6.0              yes   \n",
       "\n",
       "    internet romantic  fam_relationship  free_time  go_out  health  absences  \\\n",
       "222      yes       no               2.0        3.0     1.0     3.0     385.0   \n",
       "390       no       no               5.0        5.0     4.0     4.0     212.0   \n",
       "\n",
       "     score  \n",
       "222   85.0  \n",
       "390   45.0  "
      ]
     },
     "execution_count": 1707,
     "metadata": {},
     "output_type": "execute_result"
    }
   ],
   "source": [
    "new_stud = stud.copy()\n",
    "new_stud[new_stud['absences'] > 100] # absence from more than 100 lessons seems suspicious"
   ]
  },
  {
   "cell_type": "code",
   "execution_count": 1708,
   "id": "addfe1fc",
   "metadata": {},
   "outputs": [],
   "source": [
    "new_stud = new_stud[new_stud['absences'] < 100]"
   ]
  },
  {
   "cell_type": "code",
   "execution_count": 1709,
   "id": "07e86198",
   "metadata": {},
   "outputs": [
    {
     "data": {
      "image/png": "[encoded data removed]",
      "text/plain": [
       "<Figure size 2160x576 with 1 Axes>"
      ]
     },
     "metadata": {
      "needs_background": "light"
     },
     "output_type": "display_data"
    }
   ],
   "source": [
    "fig = plt.figure(figsize=(30, 8)) # checking data for outliers\n",
    "sns.boxplot(data=new_stud, x='absences');"
   ]
  },
  {
   "cell_type": "code",
   "execution_count": 1710,
   "id": "5e906baf",
   "metadata": {},
   "outputs": [],
   "source": [
    "stud = new_stud.copy()"
   ]
  },
  {
   "cell_type": "markdown",
   "id": "51a1ff31",
   "metadata": {},
   "source": [
    "- score"
   ]
  },
  {
   "cell_type": "code",
   "execution_count": 1711,
   "id": "8d23f046",
   "metadata": {},
   "outputs": [
    {
     "data": {
      "image/png": "[encoded data removed]",
      "text/plain": [
       "<Figure size 432x288 with 1 Axes>"
      ]
     },
     "metadata": {
      "needs_background": "light"
     },
     "output_type": "display_data"
    }
   ],
   "source": [
    "plt.hist(stud['score'], bins=20);"
   ]
  },
  {
   "cell_type": "code",
   "execution_count": 1712,
   "id": "835e7925",
   "metadata": {},
   "outputs": [
    {
     "data": {
      "text/plain": [
       "count    393.000000\n",
       "mean      52.239186\n",
       "std       22.741309\n",
       "min        0.000000\n",
       "25%       40.000000\n",
       "50%       55.000000\n",
       "75%       70.000000\n",
       "max      100.000000\n",
       "Name: score, dtype: float64"
      ]
     },
     "execution_count": 1712,
     "metadata": {},
     "output_type": "execute_result"
    }
   ],
   "source": [
    "stud.score.describe()"
   ]
  },
  {
   "cell_type": "code",
   "execution_count": 1713,
   "id": "9dcafdf5",
   "metadata": {},
   "outputs": [
    {
     "data": {
      "image/png": "[encoded data removed]",
      "text/plain": [
       "<Figure size 2160x576 with 1 Axes>"
      ]
     },
     "metadata": {
      "needs_background": "light"
     },
     "output_type": "display_data"
    }
   ],
   "source": [
    "fig = plt.figure(figsize=(30, 8)) # checking data for outliers: no outliers\n",
    "sns.boxplot(data=stud, x='score');"
   ]
  },
  {
   "cell_type": "markdown",
   "id": "4f76ec06",
   "metadata": {},
   "source": [
    "#### studytime_granular"
   ]
  },
  {
   "cell_type": "code",
   "execution_count": 1714,
   "id": "652ed33f",
   "metadata": {},
   "outputs": [
    {
     "data": {
      "text/plain": [
       "count    393.000000\n",
       "mean      -6.114504\n",
       "std        2.510106\n",
       "min      -12.000000\n",
       "25%       -6.000000\n",
       "50%       -6.000000\n",
       "75%       -3.000000\n",
       "max       -3.000000\n",
       "Name: studytime_granular, dtype: float64"
      ]
     },
     "execution_count": 1714,
     "metadata": {},
     "output_type": "execute_result"
    }
   ],
   "source": [
    "stud.studytime_granular.describe()"
   ]
  },
  {
   "cell_type": "code",
   "execution_count": 1715,
   "id": "4e76f4da",
   "metadata": {},
   "outputs": [
    {
     "data": {
      "text/plain": [
       "<AxesSubplot:>"
      ]
     },
     "execution_count": 1715,
     "metadata": {},
     "output_type": "execute_result"
    },
    {
     "data": {
      "image/png": "[encoded data removed]",
      "text/plain": [
       "<Figure size 432x288 with 1 Axes>"
      ]
     },
     "metadata": {
      "needs_background": "light"
     },
     "output_type": "display_data"
    }
   ],
   "source": [
    "stud.studytime_granular.hist()"
   ]
  },
  {
   "cell_type": "markdown",
   "id": "a7089f18",
   "metadata": {},
   "source": [
    "### Correlation analysis"
   ]
  },
  {
   "cell_type": "code",
   "execution_count": 1716,
   "id": "beee1892",
   "metadata": {},
   "outputs": [
    {
     "data": {
      "text/html": [
       "<div>\n",
       "<style scoped>\n",
       "    .dataframe tbody tr th:only-of-type {\n",
       "        vertical-align: middle;\n",
       "    }\n",
       "\n",
       "    .dataframe tbody tr th {\n",
       "        vertical-align: top;\n",
       "    }\n",
       "\n",
       "    .dataframe thead th {\n",
       "        text-align: right;\n",
       "    }\n",
       "</style>\n",
       "<table border=\"1\" class=\"dataframe\">\n",
       "  <thead>\n",
       "    <tr style=\"text-align: right;\">\n",
       "      <th></th>\n",
       "      <th>age</th>\n",
       "      <th>mother_education</th>\n",
       "      <th>father_education</th>\n",
       "      <th>travel_time</th>\n",
       "      <th>study_time</th>\n",
       "      <th>failures</th>\n",
       "      <th>studytime_granular</th>\n",
       "      <th>fam_relationship</th>\n",
       "      <th>free_time</th>\n",
       "      <th>go_out</th>\n",
       "      <th>health</th>\n",
       "      <th>absences</th>\n",
       "      <th>score</th>\n",
       "    </tr>\n",
       "  </thead>\n",
       "  <tbody>\n",
       "    <tr>\n",
       "      <th>age</th>\n",
       "      <td>1.000000</td>\n",
       "      <td>-0.158786</td>\n",
       "      <td>-0.146508</td>\n",
       "      <td>0.088761</td>\n",
       "      <td>-0.015255</td>\n",
       "      <td>0.233227</td>\n",
       "      <td>0.015255</td>\n",
       "      <td>0.051146</td>\n",
       "      <td>0.014402</td>\n",
       "      <td>0.127950</td>\n",
       "      <td>-0.063616</td>\n",
       "      <td>0.163111</td>\n",
       "      <td>-0.148801</td>\n",
       "    </tr>\n",
       "    <tr>\n",
       "      <th>mother_education</th>\n",
       "      <td>-0.158786</td>\n",
       "      <td>1.000000</td>\n",
       "      <td>0.592957</td>\n",
       "      <td>-0.166756</td>\n",
       "      <td>0.073536</td>\n",
       "      <td>-0.227342</td>\n",
       "      <td>-0.073536</td>\n",
       "      <td>-0.021757</td>\n",
       "      <td>0.032163</td>\n",
       "      <td>0.060892</td>\n",
       "      <td>-0.066730</td>\n",
       "      <td>0.094752</td>\n",
       "      <td>0.199556</td>\n",
       "    </tr>\n",
       "    <tr>\n",
       "      <th>father_education</th>\n",
       "      <td>-0.146508</td>\n",
       "      <td>0.592957</td>\n",
       "      <td>1.000000</td>\n",
       "      <td>-0.132293</td>\n",
       "      <td>0.002257</td>\n",
       "      <td>-0.244447</td>\n",
       "      <td>-0.002257</td>\n",
       "      <td>-0.030427</td>\n",
       "      <td>-0.021689</td>\n",
       "      <td>0.047549</td>\n",
       "      <td>-0.010446</td>\n",
       "      <td>0.034732</td>\n",
       "      <td>0.119549</td>\n",
       "    </tr>\n",
       "    <tr>\n",
       "      <th>travel_time</th>\n",
       "      <td>0.088761</td>\n",
       "      <td>-0.166756</td>\n",
       "      <td>-0.132293</td>\n",
       "      <td>1.000000</td>\n",
       "      <td>-0.094864</td>\n",
       "      <td>0.045161</td>\n",
       "      <td>0.094864</td>\n",
       "      <td>-0.026512</td>\n",
       "      <td>-0.010127</td>\n",
       "      <td>0.050421</td>\n",
       "      <td>-0.044573</td>\n",
       "      <td>0.000354</td>\n",
       "      <td>-0.053730</td>\n",
       "    </tr>\n",
       "    <tr>\n",
       "      <th>study_time</th>\n",
       "      <td>-0.015255</td>\n",
       "      <td>0.073536</td>\n",
       "      <td>0.002257</td>\n",
       "      <td>-0.094864</td>\n",
       "      <td>1.000000</td>\n",
       "      <td>-0.156357</td>\n",
       "      <td>-1.000000</td>\n",
       "      <td>0.027290</td>\n",
       "      <td>-0.119337</td>\n",
       "      <td>-0.051498</td>\n",
       "      <td>-0.064897</td>\n",
       "      <td>-0.065978</td>\n",
       "      <td>0.114818</td>\n",
       "    </tr>\n",
       "    <tr>\n",
       "      <th>failures</th>\n",
       "      <td>0.233227</td>\n",
       "      <td>-0.227342</td>\n",
       "      <td>-0.244447</td>\n",
       "      <td>0.045161</td>\n",
       "      <td>-0.156357</td>\n",
       "      <td>1.000000</td>\n",
       "      <td>0.156357</td>\n",
       "      <td>0.002857</td>\n",
       "      <td>0.065968</td>\n",
       "      <td>0.093347</td>\n",
       "      <td>0.067302</td>\n",
       "      <td>0.088887</td>\n",
       "      <td>-0.318436</td>\n",
       "    </tr>\n",
       "    <tr>\n",
       "      <th>studytime_granular</th>\n",
       "      <td>0.015255</td>\n",
       "      <td>-0.073536</td>\n",
       "      <td>-0.002257</td>\n",
       "      <td>0.094864</td>\n",
       "      <td>-1.000000</td>\n",
       "      <td>0.156357</td>\n",
       "      <td>1.000000</td>\n",
       "      <td>-0.027290</td>\n",
       "      <td>0.119337</td>\n",
       "      <td>0.051498</td>\n",
       "      <td>0.064897</td>\n",
       "      <td>0.065978</td>\n",
       "      <td>-0.114818</td>\n",
       "    </tr>\n",
       "    <tr>\n",
       "      <th>fam_relationship</th>\n",
       "      <td>0.051146</td>\n",
       "      <td>-0.021757</td>\n",
       "      <td>-0.030427</td>\n",
       "      <td>-0.026512</td>\n",
       "      <td>0.027290</td>\n",
       "      <td>0.002857</td>\n",
       "      <td>-0.027290</td>\n",
       "      <td>1.000000</td>\n",
       "      <td>0.151734</td>\n",
       "      <td>0.053712</td>\n",
       "      <td>0.098011</td>\n",
       "      <td>-0.033393</td>\n",
       "      <td>0.059473</td>\n",
       "    </tr>\n",
       "    <tr>\n",
       "      <th>free_time</th>\n",
       "      <td>0.014402</td>\n",
       "      <td>0.032163</td>\n",
       "      <td>-0.021689</td>\n",
       "      <td>-0.010127</td>\n",
       "      <td>-0.119337</td>\n",
       "      <td>0.065968</td>\n",
       "      <td>0.119337</td>\n",
       "      <td>0.151734</td>\n",
       "      <td>1.000000</td>\n",
       "      <td>0.290287</td>\n",
       "      <td>0.062987</td>\n",
       "      <td>-0.071490</td>\n",
       "      <td>0.020646</td>\n",
       "    </tr>\n",
       "    <tr>\n",
       "      <th>go_out</th>\n",
       "      <td>0.127950</td>\n",
       "      <td>0.060892</td>\n",
       "      <td>0.047549</td>\n",
       "      <td>0.050421</td>\n",
       "      <td>-0.051498</td>\n",
       "      <td>0.093347</td>\n",
       "      <td>0.051498</td>\n",
       "      <td>0.053712</td>\n",
       "      <td>0.290287</td>\n",
       "      <td>1.000000</td>\n",
       "      <td>-0.016017</td>\n",
       "      <td>0.032760</td>\n",
       "      <td>-0.119067</td>\n",
       "    </tr>\n",
       "    <tr>\n",
       "      <th>health</th>\n",
       "      <td>-0.063616</td>\n",
       "      <td>-0.066730</td>\n",
       "      <td>-0.010446</td>\n",
       "      <td>-0.044573</td>\n",
       "      <td>-0.064897</td>\n",
       "      <td>0.067302</td>\n",
       "      <td>0.064897</td>\n",
       "      <td>0.098011</td>\n",
       "      <td>0.062987</td>\n",
       "      <td>-0.016017</td>\n",
       "      <td>1.000000</td>\n",
       "      <td>-0.029718</td>\n",
       "      <td>-0.078657</td>\n",
       "    </tr>\n",
       "    <tr>\n",
       "      <th>absences</th>\n",
       "      <td>0.163111</td>\n",
       "      <td>0.094752</td>\n",
       "      <td>0.034732</td>\n",
       "      <td>0.000354</td>\n",
       "      <td>-0.065978</td>\n",
       "      <td>0.088887</td>\n",
       "      <td>0.065978</td>\n",
       "      <td>-0.033393</td>\n",
       "      <td>-0.071490</td>\n",
       "      <td>0.032760</td>\n",
       "      <td>-0.029718</td>\n",
       "      <td>1.000000</td>\n",
       "      <td>0.028524</td>\n",
       "    </tr>\n",
       "    <tr>\n",
       "      <th>score</th>\n",
       "      <td>-0.148801</td>\n",
       "      <td>0.199556</td>\n",
       "      <td>0.119549</td>\n",
       "      <td>-0.053730</td>\n",
       "      <td>0.114818</td>\n",
       "      <td>-0.318436</td>\n",
       "      <td>-0.114818</td>\n",
       "      <td>0.059473</td>\n",
       "      <td>0.020646</td>\n",
       "      <td>-0.119067</td>\n",
       "      <td>-0.078657</td>\n",
       "      <td>0.028524</td>\n",
       "      <td>1.000000</td>\n",
       "    </tr>\n",
       "  </tbody>\n",
       "</table>\n",
       "</div>"
      ],
      "text/plain": [
       "                         age  mother_education  father_education  travel_time  \\\n",
       "age                 1.000000         -0.158786         -0.146508     0.088761   \n",
       "mother_education   -0.158786          1.000000          0.592957    -0.166756   \n",
       "father_education   -0.146508          0.592957          1.000000    -0.132293   \n",
       "travel_time         0.088761         -0.166756         -0.132293     1.000000   \n",
       "study_time         -0.015255          0.073536          0.002257    -0.094864   \n",
       "failures            0.233227         -0.227342         -0.244447     0.045161   \n",
       "studytime_granular  0.015255         -0.073536         -0.002257     0.094864   \n",
       "fam_relationship    0.051146         -0.021757         -0.030427    -0.026512   \n",
       "free_time           0.014402          0.032163         -0.021689    -0.010127   \n",
       "go_out              0.127950          0.060892          0.047549     0.050421   \n",
       "health             -0.063616         -0.066730         -0.010446    -0.044573   \n",
       "absences            0.163111          0.094752          0.034732     0.000354   \n",
       "score              -0.148801          0.199556          0.119549    -0.053730   \n",
       "\n",
       "                    study_time  failures  studytime_granular  \\\n",
       "age                  -0.015255  0.233227            0.015255   \n",
       "mother_education      0.073536 -0.227342           -0.073536   \n",
       "father_education      0.002257 -0.244447           -0.002257   \n",
       "travel_time          -0.094864  0.045161            0.094864   \n",
       "study_time            1.000000 -0.156357           -1.000000   \n",
       "failures             -0.156357  1.000000            0.156357   \n",
       "studytime_granular   -1.000000  0.156357            1.000000   \n",
       "fam_relationship      0.027290  0.002857           -0.027290   \n",
       "free_time            -0.119337  0.065968            0.119337   \n",
       "go_out               -0.051498  0.093347            0.051498   \n",
       "health               -0.064897  0.067302            0.064897   \n",
       "absences             -0.065978  0.088887            0.065978   \n",
       "score                 0.114818 -0.318436           -0.114818   \n",
       "\n",
       "                    fam_relationship  free_time    go_out    health  absences  \\\n",
       "age                         0.051146   0.014402  0.127950 -0.063616  0.163111   \n",
       "mother_education           -0.021757   0.032163  0.060892 -0.066730  0.094752   \n",
       "father_education           -0.030427  -0.021689  0.047549 -0.010446  0.034732   \n",
       "travel_time                -0.026512  -0.010127  0.050421 -0.044573  0.000354   \n",
       "study_time                  0.027290  -0.119337 -0.051498 -0.064897 -0.065978   \n",
       "failures                    0.002857   0.065968  0.093347  0.067302  0.088887   \n",
       "studytime_granular         -0.027290   0.119337  0.051498  0.064897  0.065978   \n",
       "fam_relationship            1.000000   0.151734  0.053712  0.098011 -0.033393   \n",
       "free_time                   0.151734   1.000000  0.290287  0.062987 -0.071490   \n",
       "go_out                      0.053712   0.290287  1.000000 -0.016017  0.032760   \n",
       "health                      0.098011   0.062987 -0.016017  1.000000 -0.029718   \n",
       "absences                   -0.033393  -0.071490  0.032760 -0.029718  1.000000   \n",
       "score                       0.059473   0.020646 -0.119067 -0.078657  0.028524   \n",
       "\n",
       "                       score  \n",
       "age                -0.148801  \n",
       "mother_education    0.199556  \n",
       "father_education    0.119549  \n",
       "travel_time        -0.053730  \n",
       "study_time          0.114818  \n",
       "failures           -0.318436  \n",
       "studytime_granular -0.114818  \n",
       "fam_relationship    0.059473  \n",
       "free_time           0.020646  \n",
       "go_out             -0.119067  \n",
       "health             -0.078657  \n",
       "absences            0.028524  \n",
       "score               1.000000  "
      ]
     },
     "execution_count": 1716,
     "metadata": {},
     "output_type": "execute_result"
    }
   ],
   "source": [
    "stud.corr()"
   ]
  },
  {
   "cell_type": "code",
   "execution_count": 1723,
   "id": "809ce926",
   "metadata": {
    "scrolled": true
   },
   "outputs": [
    {
     "data": {
      "text/plain": [
       "<AxesSubplot:>"
      ]
     },
     "execution_count": 1723,
     "metadata": {},
     "output_type": "execute_result"
    },
    {
     "data": {
      "image/png": "[encoded data removed]",
      "text/plain": [
       "<Figure size 1440x1152 with 2 Axes>"
      ]
     },
     "metadata": {
      "needs_background": "light"
     },
     "output_type": "display_data"
    }
   ],
   "source": [
    "plt.figure(figsize=(20, 16))\n",
    "sns.heatmap(stud.corr(),annot=True,fmt='.2g', vmin=-1, vmax=1, center= 0, cmap= 'coolwarm')"
   ]
  },
  {
   "cell_type": "markdown",
   "id": "a0bb8666",
   "metadata": {},
   "source": [
    "### Analysis of nominative values"
   ]
  },
  {
   "cell_type": "code",
   "execution_count": 1738,
   "id": "22cd85f2",
   "metadata": {},
   "outputs": [
    {
     "name": "stdout",
     "output_type": "stream",
     "text": [
      "Найдены статистически значимые различия для колонки sex\n",
      "Найдены статистически значимые различия для колонки address\n",
      "Найдены статистически значимые различия для колонки mother_job\n",
      "Найдены статистически значимые различия для колонки higher_education\n",
      "Найдены статистически значимые различия для колонки romantic\n"
     ]
    }
   ],
   "source": [
    "for col in ['school', 'sex', 'address', 'family_size', 'p_status', 'mother_job', 'father_job', 'school_choice', \n",
    "            'guardian','school_support','family_support', \n",
    "            'paid_lessons', 'activities', 'nursery', 'higher_education', 'internet','romantic']:\n",
    "    get_stat_dif(col)"
   ]
  },
  {
   "cell_type": "code",
   "execution_count": 1718,
   "id": "e7515454",
   "metadata": {
    "scrolled": true
   },
   "outputs": [
    {
     "data": {
      "image/png": "[encoded data removed]",
      "text/plain": [
       "<Figure size 1008x288 with 1 Axes>"
      ]
     },
     "metadata": {
      "needs_background": "light"
     },
     "output_type": "display_data"
    },
    {
     "data": {
      "image/png": "[encoded data removed]",
      "text/plain": [
       "<Figure size 1008x288 with 1 Axes>"
      ]
     },
     "metadata": {
      "needs_background": "light"
     },
     "output_type": "display_data"
    },
    {
     "data": {
      "image/png": "[encoded data removed]",
      "text/plain": [
       "<Figure size 1008x288 with 1 Axes>"
      ]
     },
     "metadata": {
      "needs_background": "light"
     },
     "output_type": "display_data"
    },
    {
     "data": {
      "image/png": "[encoded data removed]",
      "text/plain": [
       "<Figure size 1008x288 with 1 Axes>"
      ]
     },
     "metadata": {
      "needs_background": "light"
     },
     "output_type": "display_data"
    },
    {
     "data": {
      "image/png": "[encoded data removed]",
      "text/plain": [
       "<Figure size 1008x288 with 1 Axes>"
      ]
     },
     "metadata": {
      "needs_background": "light"
     },
     "output_type": "display_data"
    },
    {
     "data": {
      "image/png": "[encoded data removed]",
      "text/plain": [
       "<Figure size 1008x288 with 1 Axes>"
      ]
     },
     "metadata": {
      "needs_background": "light"
     },
     "output_type": "display_data"
    },
    {
     "data": {
      "image/png": "[encoded data removed]",
      "text/plain": [
       "<Figure size 1008x288 with 1 Axes>"
      ]
     },
     "metadata": {
      "needs_background": "light"
     },
     "output_type": "display_data"
    },
    {
     "data": {
      "image/png": "[encoded data removed]",
      "text/plain": [
       "<Figure size 1008x288 with 1 Axes>"
      ]
     },
     "metadata": {
      "needs_background": "light"
     },
     "output_type": "display_data"
    },
    {
     "data": {
      "image/png": "[encoded data removed]",
      "text/plain": [
       "<Figure size 1008x288 with 1 Axes>"
      ]
     },
     "metadata": {
      "needs_background": "light"
     },
     "output_type": "display_data"
    },
    {
     "data": {
      "image/png": "[encoded data removed]",
      "text/plain": [
       "<Figure size 1008x288 with 1 Axes>"
      ]
     },
     "metadata": {
      "needs_background": "light"
     },
     "output_type": "display_data"
    },
    {
     "data": {
      "image/png": "[encoded data removed]",
      "text/plain": [
       "<Figure size 1008x288 with 1 Axes>"
      ]
     },
     "metadata": {
      "needs_background": "light"
     },
     "output_type": "display_data"
    },
    {
     "data": {
      "image/png": "[encoded data removed]",
      "text/plain": [
       "<Figure size 1008x288 with 1 Axes>"
      ]
     },
     "metadata": {
      "needs_background": "light"
     },
     "output_type": "display_data"
    },
    {
     "data": {
      "image/png": "[encoded data removed]",
      "text/plain": [
       "<Figure size 1008x288 with 1 Axes>"
      ]
     },
     "metadata": {
      "needs_background": "light"
     },
     "output_type": "display_data"
    },
    {
     "data": {
      "image/png": "[encoded data removed]",
      "text/plain": [
       "<Figure size 1008x288 with 1 Axes>"
      ]
     },
     "metadata": {
      "needs_background": "light"
     },
     "output_type": "display_data"
    },
    {
     "data": {
      "image/png": "[encoded data removed]",
      "text/plain": [
       "<Figure size 1008x288 with 1 Axes>"
      ]
     },
     "metadata": {
      "needs_background": "light"
     },
     "output_type": "display_data"
    },
    {
     "data": {
      "image/png": "[encoded data removed]",
      "text/plain": [
       "<Figure size 1008x288 with 1 Axes>"
      ]
     },
     "metadata": {
      "needs_background": "light"
     },
     "output_type": "display_data"
    },
    {
     "data": {
      "image/png": "[encoded data removed]",
      "text/plain": [
       "<Figure size 1008x288 with 1 Axes>"
      ]
     },
     "metadata": {
      "needs_background": "light"
     },
     "output_type": "display_data"
    }
   ],
   "source": [
    "for col in ['school', 'sex', 'address', 'family_size', 'p_status', 'mother_job', 'father_job', 'school_choice', \n",
    "            'guardian','school_support','family_support', \n",
    "            'paid_lessons', 'activities', 'nursery', 'higher_education', 'internet','romantic']:\n",
    "    get_boxplot(col)"
   ]
  },
  {
   "cell_type": "code",
   "execution_count": 1740,
   "id": "1a4d7d81",
   "metadata": {},
   "outputs": [
    {
     "data": {
      "text/html": [
       "<div>\n",
       "<style scoped>\n",
       "    .dataframe tbody tr th:only-of-type {\n",
       "        vertical-align: middle;\n",
       "    }\n",
       "\n",
       "    .dataframe tbody tr th {\n",
       "        vertical-align: top;\n",
       "    }\n",
       "\n",
       "    .dataframe thead th {\n",
       "        text-align: right;\n",
       "    }\n",
       "</style>\n",
       "<table border=\"1\" class=\"dataframe\">\n",
       "  <thead>\n",
       "    <tr style=\"text-align: right;\">\n",
       "      <th></th>\n",
       "      <th>sex</th>\n",
       "      <th>address</th>\n",
       "      <th>mother_job</th>\n",
       "      <th>higher_education</th>\n",
       "      <th>romantic</th>\n",
       "      <th>mother_education</th>\n",
       "      <th>failures</th>\n",
       "      <th>score</th>\n",
       "    </tr>\n",
       "  </thead>\n",
       "  <tbody>\n",
       "    <tr>\n",
       "      <th>0</th>\n",
       "      <td>F</td>\n",
       "      <td>U</td>\n",
       "      <td>at_home</td>\n",
       "      <td>yes</td>\n",
       "      <td>no</td>\n",
       "      <td>4.0</td>\n",
       "      <td>0.0</td>\n",
       "      <td>30.0</td>\n",
       "    </tr>\n",
       "    <tr>\n",
       "      <th>1</th>\n",
       "      <td>F</td>\n",
       "      <td>U</td>\n",
       "      <td>at_home</td>\n",
       "      <td>yes</td>\n",
       "      <td>no</td>\n",
       "      <td>1.0</td>\n",
       "      <td>0.0</td>\n",
       "      <td>30.0</td>\n",
       "    </tr>\n",
       "    <tr>\n",
       "      <th>2</th>\n",
       "      <td>F</td>\n",
       "      <td>U</td>\n",
       "      <td>at_home</td>\n",
       "      <td>yes</td>\n",
       "      <td>no</td>\n",
       "      <td>1.0</td>\n",
       "      <td>3.0</td>\n",
       "      <td>50.0</td>\n",
       "    </tr>\n",
       "    <tr>\n",
       "      <th>3</th>\n",
       "      <td>F</td>\n",
       "      <td>U</td>\n",
       "      <td>health</td>\n",
       "      <td>yes</td>\n",
       "      <td>yes</td>\n",
       "      <td>4.0</td>\n",
       "      <td>0.0</td>\n",
       "      <td>75.0</td>\n",
       "    </tr>\n",
       "    <tr>\n",
       "      <th>4</th>\n",
       "      <td>F</td>\n",
       "      <td>U</td>\n",
       "      <td>other</td>\n",
       "      <td>yes</td>\n",
       "      <td>no</td>\n",
       "      <td>3.0</td>\n",
       "      <td>0.0</td>\n",
       "      <td>50.0</td>\n",
       "    </tr>\n",
       "  </tbody>\n",
       "</table>\n",
       "</div>"
      ],
      "text/plain": [
       "  sex address mother_job higher_education romantic  mother_education  \\\n",
       "0   F       U    at_home              yes       no               4.0   \n",
       "1   F       U    at_home              yes       no               1.0   \n",
       "2   F       U    at_home              yes       no               1.0   \n",
       "3   F       U     health              yes      yes               4.0   \n",
       "4   F       U      other              yes       no               3.0   \n",
       "\n",
       "   failures  score  \n",
       "0       0.0   30.0  \n",
       "1       0.0   30.0  \n",
       "2       3.0   50.0  \n",
       "3       0.0   75.0  \n",
       "4       0.0   50.0  "
      ]
     },
     "execution_count": 1740,
     "metadata": {},
     "output_type": "execute_result"
    }
   ],
   "source": [
    "stud_for_model = stud.loc[:, ['sex', 'address', 'mother_job', 'higher_education', 'romantic', \n",
    "                              'mother_education', 'failures', 'score']]\n",
    "stud_for_model.head()"
   ]
  },
  {
   "cell_type": "markdown",
   "id": "d308611e",
   "metadata": {},
   "source": [
    "Итак, в результате EDA для анализа влияния условий жизни учащихся в возрасте от 15 до 22 лет на их успеваемость по математике были получены следующие выводы:\n",
    "\n",
    "- В данных достаточно мало пустых значений.\n",
    "- Значимые выбросы найдены только в столбце с количеством пропущенных занятий (absences), что позволяет сделать вывод о том, что данные достаточно чистые.\n",
    "- Самые важные параметры, которые предлагается использовать в дальнейшем для построения модели, это sex, address, mother_job, higher_education, romantic, mother_education, failures, score"
   ]
  },
  {
   "cell_type": "code",
   "execution_count": null,
   "id": "02eaefb3",
   "metadata": {},
   "outputs": [],
   "source": []
  }
 ],
 "metadata": {
  "kernelspec": {
   "display_name": "Python 3",
   "language": "python",
   "name": "python3"
  },
  "language_info": {
   "codemirror_mode": {
    "name": "ipython",
    "version": 3
   },
   "file_extension": ".py",
   "mimetype": "text/x-python",
   "name": "python",
   "nbconvert_exporter": "python",
   "pygments_lexer": "ipython3",
   "version": "3.8.8"
  }
 },
 "nbformat": 4,
 "nbformat_minor": 5
}
