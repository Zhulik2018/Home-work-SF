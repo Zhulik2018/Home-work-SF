{
 "cells": [
  {
   "cell_type": "markdown",
   "id": "7c4455ae",
   "metadata": {},
   "source": [
    "### import"
   ]
  },
  {
   "cell_type": "code",
   "execution_count": 8,
   "id": "236c7a62",
   "metadata": {},
   "outputs": [],
   "source": [
    "import pandas as pd\n",
    "import matplotlib.pyplot as plt\n",
    "%matplotlib inline\n",
    "import numpy as np\n",
    "import datetime\n",
    "import seaborn as sns\n",
    "pd.set_option('display.max_columns', 40)  # показывать больше колонок"
   ]
  },
  {
   "cell_type": "markdown",
   "id": "fd3422af",
   "metadata": {},
   "source": [
    "### Загрузка и первичный осмотр данных"
   ]
  },
  {
   "cell_type": "code",
   "execution_count": 9,
   "id": "112db983",
   "metadata": {},
   "outputs": [
    {
     "data": {
      "text/html": [
       "<div>\n",
       "<style scoped>\n",
       "    .dataframe tbody tr th:only-of-type {\n",
       "        vertical-align: middle;\n",
       "    }\n",
       "\n",
       "    .dataframe tbody tr th {\n",
       "        vertical-align: top;\n",
       "    }\n",
       "\n",
       "    .dataframe thead th {\n",
       "        text-align: right;\n",
       "    }\n",
       "</style>\n",
       "<table border=\"1\" class=\"dataframe\">\n",
       "  <thead>\n",
       "    <tr style=\"text-align: right;\">\n",
       "      <th></th>\n",
       "      <th>flight_id</th>\n",
       "      <th>flight_no</th>\n",
       "      <th>departure_airport</th>\n",
       "      <th>arrival_airport</th>\n",
       "      <th>arrival_city</th>\n",
       "      <th>model</th>\n",
       "      <th>total_passenger_seats</th>\n",
       "      <th>max_takeoff_weight</th>\n",
       "      <th>security_fare</th>\n",
       "      <th>takeoff_fare</th>\n",
       "      <th>parking_fare</th>\n",
       "      <th>actual_arrival</th>\n",
       "      <th>actual_departure</th>\n",
       "      <th>sheduled_flight_time</th>\n",
       "      <th>actual_flight_time</th>\n",
       "      <th>sold_tickets</th>\n",
       "      <th>passenger_service</th>\n",
       "      <th>total_amount</th>\n",
       "      <th>ticket_economy</th>\n",
       "      <th>ticket_comfort</th>\n",
       "      <th>ticket_business</th>\n",
       "      <th>fuel_consumption</th>\n",
       "      <th>fuel_price</th>\n",
       "    </tr>\n",
       "  </thead>\n",
       "  <tbody>\n",
       "    <tr>\n",
       "      <th>82</th>\n",
       "      <td>136661</td>\n",
       "      <td>PG0480</td>\n",
       "      <td>AAQ</td>\n",
       "      <td>EGO</td>\n",
       "      <td>Belgorod</td>\n",
       "      <td>Sukhoi Superjet-100</td>\n",
       "      <td>97</td>\n",
       "      <td>45.88</td>\n",
       "      <td>317</td>\n",
       "      <td>412</td>\n",
       "      <td>20.6</td>\n",
       "      <td>2017-01-01T10:17:00Z</td>\n",
       "      <td>2017-01-01T09:27:00Z</td>\n",
       "      <td>50.0</td>\n",
       "      <td>50.0</td>\n",
       "      <td>96.0</td>\n",
       "      <td>231</td>\n",
       "      <td>759000.0</td>\n",
       "      <td>84.0</td>\n",
       "      <td>0.0</td>\n",
       "      <td>12.0</td>\n",
       "      <td>1700</td>\n",
       "      <td>48.8933</td>\n",
       "    </tr>\n",
       "    <tr>\n",
       "      <th>78</th>\n",
       "      <td>136645</td>\n",
       "      <td>PG0480</td>\n",
       "      <td>AAQ</td>\n",
       "      <td>EGO</td>\n",
       "      <td>Belgorod</td>\n",
       "      <td>Sukhoi Superjet-100</td>\n",
       "      <td>97</td>\n",
       "      <td>45.88</td>\n",
       "      <td>317</td>\n",
       "      <td>412</td>\n",
       "      <td>20.6</td>\n",
       "      <td>2017-01-05T10:20:00Z</td>\n",
       "      <td>2017-01-05T09:29:00Z</td>\n",
       "      <td>50.0</td>\n",
       "      <td>51.0</td>\n",
       "      <td>82.0</td>\n",
       "      <td>231</td>\n",
       "      <td>633000.0</td>\n",
       "      <td>73.0</td>\n",
       "      <td>0.0</td>\n",
       "      <td>9.0</td>\n",
       "      <td>1700</td>\n",
       "      <td>48.8933</td>\n",
       "    </tr>\n",
       "    <tr>\n",
       "      <th>77</th>\n",
       "      <td>136642</td>\n",
       "      <td>PG0480</td>\n",
       "      <td>AAQ</td>\n",
       "      <td>EGO</td>\n",
       "      <td>Belgorod</td>\n",
       "      <td>Sukhoi Superjet-100</td>\n",
       "      <td>97</td>\n",
       "      <td>45.88</td>\n",
       "      <td>317</td>\n",
       "      <td>412</td>\n",
       "      <td>20.6</td>\n",
       "      <td>2017-01-30T10:17:00Z</td>\n",
       "      <td>2017-01-30T09:28:00Z</td>\n",
       "      <td>50.0</td>\n",
       "      <td>49.0</td>\n",
       "      <td>64.0</td>\n",
       "      <td>231</td>\n",
       "      <td>531000.0</td>\n",
       "      <td>54.0</td>\n",
       "      <td>0.0</td>\n",
       "      <td>10.0</td>\n",
       "      <td>1700</td>\n",
       "      <td>48.8933</td>\n",
       "    </tr>\n",
       "    <tr>\n",
       "      <th>41</th>\n",
       "      <td>136387</td>\n",
       "      <td>PG0252</td>\n",
       "      <td>AAQ</td>\n",
       "      <td>SVO</td>\n",
       "      <td>Moscow</td>\n",
       "      <td>Boeing 737-300</td>\n",
       "      <td>130</td>\n",
       "      <td>62.82</td>\n",
       "      <td>317</td>\n",
       "      <td>412</td>\n",
       "      <td>20.6</td>\n",
       "      <td>2017-01-19T11:47:00Z</td>\n",
       "      <td>2017-01-19T10:08:00Z</td>\n",
       "      <td>100.0</td>\n",
       "      <td>99.0</td>\n",
       "      <td>121.0</td>\n",
       "      <td>231</td>\n",
       "      <td>1775000.0</td>\n",
       "      <td>109.0</td>\n",
       "      <td>0.0</td>\n",
       "      <td>12.0</td>\n",
       "      <td>2400</td>\n",
       "      <td>48.8933</td>\n",
       "    </tr>\n",
       "    <tr>\n",
       "      <th>11</th>\n",
       "      <td>136172</td>\n",
       "      <td>PG0252</td>\n",
       "      <td>AAQ</td>\n",
       "      <td>SVO</td>\n",
       "      <td>Moscow</td>\n",
       "      <td>Boeing 737-300</td>\n",
       "      <td>130</td>\n",
       "      <td>62.82</td>\n",
       "      <td>317</td>\n",
       "      <td>412</td>\n",
       "      <td>20.6</td>\n",
       "      <td>2017-01-15T11:44:00Z</td>\n",
       "      <td>2017-01-15T10:05:00Z</td>\n",
       "      <td>100.0</td>\n",
       "      <td>99.0</td>\n",
       "      <td>110.0</td>\n",
       "      <td>231</td>\n",
       "      <td>1617600.0</td>\n",
       "      <td>99.0</td>\n",
       "      <td>0.0</td>\n",
       "      <td>11.0</td>\n",
       "      <td>2400</td>\n",
       "      <td>48.8933</td>\n",
       "    </tr>\n",
       "  </tbody>\n",
       "</table>\n",
       "</div>"
      ],
      "text/plain": [
       "    flight_id flight_no departure_airport arrival_airport arrival_city  \\\n",
       "82     136661    PG0480               AAQ             EGO     Belgorod   \n",
       "78     136645    PG0480               AAQ             EGO     Belgorod   \n",
       "77     136642    PG0480               AAQ             EGO     Belgorod   \n",
       "41     136387    PG0252               AAQ             SVO       Moscow   \n",
       "11     136172    PG0252               AAQ             SVO       Moscow   \n",
       "\n",
       "                  model  total_passenger_seats  max_takeoff_weight  \\\n",
       "82  Sukhoi Superjet-100                     97               45.88   \n",
       "78  Sukhoi Superjet-100                     97               45.88   \n",
       "77  Sukhoi Superjet-100                     97               45.88   \n",
       "41       Boeing 737-300                    130               62.82   \n",
       "11       Boeing 737-300                    130               62.82   \n",
       "\n",
       "    security_fare  takeoff_fare  parking_fare        actual_arrival  \\\n",
       "82            317           412          20.6  2017-01-01T10:17:00Z   \n",
       "78            317           412          20.6  2017-01-05T10:20:00Z   \n",
       "77            317           412          20.6  2017-01-30T10:17:00Z   \n",
       "41            317           412          20.6  2017-01-19T11:47:00Z   \n",
       "11            317           412          20.6  2017-01-15T11:44:00Z   \n",
       "\n",
       "        actual_departure  sheduled_flight_time  actual_flight_time  \\\n",
       "82  2017-01-01T09:27:00Z                  50.0                50.0   \n",
       "78  2017-01-05T09:29:00Z                  50.0                51.0   \n",
       "77  2017-01-30T09:28:00Z                  50.0                49.0   \n",
       "41  2017-01-19T10:08:00Z                 100.0                99.0   \n",
       "11  2017-01-15T10:05:00Z                 100.0                99.0   \n",
       "\n",
       "    sold_tickets  passenger_service  total_amount  ticket_economy  \\\n",
       "82          96.0                231      759000.0            84.0   \n",
       "78          82.0                231      633000.0            73.0   \n",
       "77          64.0                231      531000.0            54.0   \n",
       "41         121.0                231     1775000.0           109.0   \n",
       "11         110.0                231     1617600.0            99.0   \n",
       "\n",
       "    ticket_comfort  ticket_business  fuel_consumption  fuel_price  \n",
       "82             0.0             12.0              1700     48.8933  \n",
       "78             0.0              9.0              1700     48.8933  \n",
       "77             0.0             10.0              1700     48.8933  \n",
       "41             0.0             12.0              2400     48.8933  \n",
       "11             0.0             11.0              2400     48.8933  "
      ]
     },
     "metadata": {},
     "output_type": "display_data"
    }
   ],
   "source": [
    "fl = pd.read_csv('flights_from_Anapa_winter_2017.csv')\n",
    "display(fl.sample(5))"
   ]
  },
  {
   "cell_type": "code",
   "execution_count": 10,
   "id": "476650ff",
   "metadata": {},
   "outputs": [
    {
     "name": "stdout",
     "output_type": "stream",
     "text": [
      "<class 'pandas.core.frame.DataFrame'>\n",
      "RangeIndex: 127 entries, 0 to 126\n",
      "Data columns (total 23 columns):\n",
      " #   Column                 Non-Null Count  Dtype  \n",
      "---  ------                 --------------  -----  \n",
      " 0   flight_id              127 non-null    int64  \n",
      " 1   flight_no              127 non-null    object \n",
      " 2   departure_airport      127 non-null    object \n",
      " 3   arrival_airport        127 non-null    object \n",
      " 4   arrival_city           127 non-null    object \n",
      " 5   model                  127 non-null    object \n",
      " 6   total_passenger_seats  127 non-null    int64  \n",
      " 7   max_takeoff_weight     127 non-null    float64\n",
      " 8   security_fare          127 non-null    int64  \n",
      " 9   takeoff_fare           127 non-null    int64  \n",
      " 10  parking_fare           127 non-null    float64\n",
      " 11  actual_arrival         127 non-null    object \n",
      " 12  actual_departure       127 non-null    object \n",
      " 13  sheduled_flight_time   127 non-null    float64\n",
      " 14  actual_flight_time     127 non-null    float64\n",
      " 15  sold_tickets           118 non-null    float64\n",
      " 16  passenger_service      127 non-null    int64  \n",
      " 17  total_amount           118 non-null    float64\n",
      " 18  ticket_economy         118 non-null    float64\n",
      " 19  ticket_comfort         118 non-null    float64\n",
      " 20  ticket_business        118 non-null    float64\n",
      " 21  fuel_consumption       127 non-null    int64  \n",
      " 22  fuel_price             127 non-null    float64\n",
      "dtypes: float64(10), int64(6), object(7)\n",
      "memory usage: 22.9+ KB\n"
     ]
    }
   ],
   "source": [
    "fl.info()"
   ]
  },
  {
   "cell_type": "code",
   "execution_count": 11,
   "id": "b7bcfe9f",
   "metadata": {},
   "outputs": [
    {
     "data": {
      "text/html": [
       "<div>\n",
       "<style scoped>\n",
       "    .dataframe tbody tr th:only-of-type {\n",
       "        vertical-align: middle;\n",
       "    }\n",
       "\n",
       "    .dataframe tbody tr th {\n",
       "        vertical-align: top;\n",
       "    }\n",
       "\n",
       "    .dataframe thead th {\n",
       "        text-align: right;\n",
       "    }\n",
       "</style>\n",
       "<table border=\"1\" class=\"dataframe\">\n",
       "  <thead>\n",
       "    <tr style=\"text-align: right;\">\n",
       "      <th></th>\n",
       "      <th>flight_id</th>\n",
       "      <th>total_passenger_seats</th>\n",
       "      <th>max_takeoff_weight</th>\n",
       "      <th>security_fare</th>\n",
       "      <th>takeoff_fare</th>\n",
       "      <th>parking_fare</th>\n",
       "      <th>sheduled_flight_time</th>\n",
       "      <th>actual_flight_time</th>\n",
       "      <th>sold_tickets</th>\n",
       "      <th>passenger_service</th>\n",
       "      <th>total_amount</th>\n",
       "      <th>ticket_economy</th>\n",
       "      <th>ticket_comfort</th>\n",
       "      <th>ticket_business</th>\n",
       "      <th>fuel_consumption</th>\n",
       "      <th>fuel_price</th>\n",
       "    </tr>\n",
       "  </thead>\n",
       "  <tbody>\n",
       "    <tr>\n",
       "      <th>count</th>\n",
       "      <td>127.000000</td>\n",
       "      <td>127.000000</td>\n",
       "      <td>127.000000</td>\n",
       "      <td>127.0</td>\n",
       "      <td>127.0</td>\n",
       "      <td>1.270000e+02</td>\n",
       "      <td>127.000000</td>\n",
       "      <td>127.000000</td>\n",
       "      <td>118.000000</td>\n",
       "      <td>127.0</td>\n",
       "      <td>1.180000e+02</td>\n",
       "      <td>118.000000</td>\n",
       "      <td>118.0</td>\n",
       "      <td>118.000000</td>\n",
       "      <td>127.000000</td>\n",
       "      <td>127.000000</td>\n",
       "    </tr>\n",
       "    <tr>\n",
       "      <th>mean</th>\n",
       "      <td>136533.574803</td>\n",
       "      <td>114.669291</td>\n",
       "      <td>54.950236</td>\n",
       "      <td>317.0</td>\n",
       "      <td>412.0</td>\n",
       "      <td>2.060000e+01</td>\n",
       "      <td>91.299213</td>\n",
       "      <td>91.377953</td>\n",
       "      <td>101.652542</td>\n",
       "      <td>231.0</td>\n",
       "      <td>1.176506e+06</td>\n",
       "      <td>90.864407</td>\n",
       "      <td>0.0</td>\n",
       "      <td>10.788136</td>\n",
       "      <td>2074.803150</td>\n",
       "      <td>47.844122</td>\n",
       "    </tr>\n",
       "    <tr>\n",
       "      <th>std</th>\n",
       "      <td>252.498327</td>\n",
       "      <td>16.523699</td>\n",
       "      <td>8.482165</td>\n",
       "      <td>0.0</td>\n",
       "      <td>0.0</td>\n",
       "      <td>4.993497e-14</td>\n",
       "      <td>64.000907</td>\n",
       "      <td>64.377474</td>\n",
       "      <td>14.295643</td>\n",
       "      <td>0.0</td>\n",
       "      <td>4.794251e+05</td>\n",
       "      <td>14.028003</td>\n",
       "      <td>0.0</td>\n",
       "      <td>1.395057</td>\n",
       "      <td>350.502701</td>\n",
       "      <td>1.113083</td>\n",
       "    </tr>\n",
       "    <tr>\n",
       "      <th>min</th>\n",
       "      <td>136119.000000</td>\n",
       "      <td>97.000000</td>\n",
       "      <td>45.880000</td>\n",
       "      <td>317.0</td>\n",
       "      <td>412.0</td>\n",
       "      <td>2.060000e+01</td>\n",
       "      <td>50.000000</td>\n",
       "      <td>49.000000</td>\n",
       "      <td>64.000000</td>\n",
       "      <td>231.0</td>\n",
       "      <td>5.310000e+05</td>\n",
       "      <td>54.000000</td>\n",
       "      <td>0.0</td>\n",
       "      <td>6.000000</td>\n",
       "      <td>1700.000000</td>\n",
       "      <td>46.672540</td>\n",
       "    </tr>\n",
       "    <tr>\n",
       "      <th>25%</th>\n",
       "      <td>136313.000000</td>\n",
       "      <td>97.000000</td>\n",
       "      <td>45.880000</td>\n",
       "      <td>317.0</td>\n",
       "      <td>412.0</td>\n",
       "      <td>2.060000e+01</td>\n",
       "      <td>50.000000</td>\n",
       "      <td>50.000000</td>\n",
       "      <td>95.000000</td>\n",
       "      <td>231.0</td>\n",
       "      <td>7.464000e+05</td>\n",
       "      <td>83.000000</td>\n",
       "      <td>0.0</td>\n",
       "      <td>10.000000</td>\n",
       "      <td>1700.000000</td>\n",
       "      <td>46.672540</td>\n",
       "    </tr>\n",
       "    <tr>\n",
       "      <th>50%</th>\n",
       "      <td>136540.000000</td>\n",
       "      <td>130.000000</td>\n",
       "      <td>62.820000</td>\n",
       "      <td>317.0</td>\n",
       "      <td>412.0</td>\n",
       "      <td>2.060000e+01</td>\n",
       "      <td>100.000000</td>\n",
       "      <td>99.000000</td>\n",
       "      <td>97.000000</td>\n",
       "      <td>231.0</td>\n",
       "      <td>1.081650e+06</td>\n",
       "      <td>85.500000</td>\n",
       "      <td>0.0</td>\n",
       "      <td>11.000000</td>\n",
       "      <td>2400.000000</td>\n",
       "      <td>48.893300</td>\n",
       "    </tr>\n",
       "    <tr>\n",
       "      <th>75%</th>\n",
       "      <td>136757.500000</td>\n",
       "      <td>130.000000</td>\n",
       "      <td>62.820000</td>\n",
       "      <td>317.0</td>\n",
       "      <td>412.0</td>\n",
       "      <td>2.060000e+01</td>\n",
       "      <td>100.000000</td>\n",
       "      <td>100.000000</td>\n",
       "      <td>111.750000</td>\n",
       "      <td>231.0</td>\n",
       "      <td>1.625850e+06</td>\n",
       "      <td>101.750000</td>\n",
       "      <td>0.0</td>\n",
       "      <td>12.000000</td>\n",
       "      <td>2400.000000</td>\n",
       "      <td>48.893300</td>\n",
       "    </tr>\n",
       "    <tr>\n",
       "      <th>max</th>\n",
       "      <td>136956.000000</td>\n",
       "      <td>130.000000</td>\n",
       "      <td>62.820000</td>\n",
       "      <td>317.0</td>\n",
       "      <td>412.0</td>\n",
       "      <td>2.060000e+01</td>\n",
       "      <td>305.000000</td>\n",
       "      <td>312.000000</td>\n",
       "      <td>130.000000</td>\n",
       "      <td>231.0</td>\n",
       "      <td>1.886000e+06</td>\n",
       "      <td>118.000000</td>\n",
       "      <td>0.0</td>\n",
       "      <td>12.000000</td>\n",
       "      <td>2400.000000</td>\n",
       "      <td>48.893300</td>\n",
       "    </tr>\n",
       "  </tbody>\n",
       "</table>\n",
       "</div>"
      ],
      "text/plain": [
       "           flight_id  total_passenger_seats  max_takeoff_weight  \\\n",
       "count     127.000000             127.000000          127.000000   \n",
       "mean   136533.574803             114.669291           54.950236   \n",
       "std       252.498327              16.523699            8.482165   \n",
       "min    136119.000000              97.000000           45.880000   \n",
       "25%    136313.000000              97.000000           45.880000   \n",
       "50%    136540.000000             130.000000           62.820000   \n",
       "75%    136757.500000             130.000000           62.820000   \n",
       "max    136956.000000             130.000000           62.820000   \n",
       "\n",
       "       security_fare  takeoff_fare  parking_fare  sheduled_flight_time  \\\n",
       "count          127.0         127.0  1.270000e+02            127.000000   \n",
       "mean           317.0         412.0  2.060000e+01             91.299213   \n",
       "std              0.0           0.0  4.993497e-14             64.000907   \n",
       "min            317.0         412.0  2.060000e+01             50.000000   \n",
       "25%            317.0         412.0  2.060000e+01             50.000000   \n",
       "50%            317.0         412.0  2.060000e+01            100.000000   \n",
       "75%            317.0         412.0  2.060000e+01            100.000000   \n",
       "max            317.0         412.0  2.060000e+01            305.000000   \n",
       "\n",
       "       actual_flight_time  sold_tickets  passenger_service  total_amount  \\\n",
       "count          127.000000    118.000000              127.0  1.180000e+02   \n",
       "mean            91.377953    101.652542              231.0  1.176506e+06   \n",
       "std             64.377474     14.295643                0.0  4.794251e+05   \n",
       "min             49.000000     64.000000              231.0  5.310000e+05   \n",
       "25%             50.000000     95.000000              231.0  7.464000e+05   \n",
       "50%             99.000000     97.000000              231.0  1.081650e+06   \n",
       "75%            100.000000    111.750000              231.0  1.625850e+06   \n",
       "max            312.000000    130.000000              231.0  1.886000e+06   \n",
       "\n",
       "       ticket_economy  ticket_comfort  ticket_business  fuel_consumption  \\\n",
       "count      118.000000           118.0       118.000000        127.000000   \n",
       "mean        90.864407             0.0        10.788136       2074.803150   \n",
       "std         14.028003             0.0         1.395057        350.502701   \n",
       "min         54.000000             0.0         6.000000       1700.000000   \n",
       "25%         83.000000             0.0        10.000000       1700.000000   \n",
       "50%         85.500000             0.0        11.000000       2400.000000   \n",
       "75%        101.750000             0.0        12.000000       2400.000000   \n",
       "max        118.000000             0.0        12.000000       2400.000000   \n",
       "\n",
       "       fuel_price  \n",
       "count  127.000000  \n",
       "mean    47.844122  \n",
       "std      1.113083  \n",
       "min     46.672540  \n",
       "25%     46.672540  \n",
       "50%     48.893300  \n",
       "75%     48.893300  \n",
       "max     48.893300  "
      ]
     },
     "execution_count": 11,
     "metadata": {},
     "output_type": "execute_result"
    }
   ],
   "source": [
    "fl.describe()"
   ]
  },
  {
   "cell_type": "code",
   "execution_count": 12,
   "id": "3aa7009d",
   "metadata": {},
   "outputs": [
    {
     "name": "stdout",
     "output_type": "stream",
     "text": [
      "Дубликатов нет\n"
     ]
    }
   ],
   "source": [
    "#Проверим датасет df_train на наличие дубликатов:\n",
    "if len(fl)>len(fl.drop_duplicates()):\n",
    "    print('Дубликаты есть')\n",
    "    display(fl[fl.duplicated()])\n",
    "else:\n",
    "    print('Дубликатов нет')"
   ]
  },
  {
   "cell_type": "markdown",
   "id": "bfa87af4",
   "metadata": {},
   "source": [
    "**Подробнее по признакам:**\n",
    "* flight_id: Идентификатор рейса\n",
    "* flight_no: Номер рейса\n",
    "* departure_airport: Аэропорт отправления\n",
    "* arrival_airport: Аэропорт прибытия\n",
    "* arrival_city: Город прибытия\n",
    "* model: Модель самолёта\n",
    "* total_passenger_seats: Общее количество пассажирских мест\n",
    "* max_takeoff_weight: Максимальная взлётная масса (мвм), в тоннах\n",
    "* security_fare: Обеспечение авиационной безопасности руб/т мвм \n",
    "https://fas.gov.ru/upload/other/протокол%20№%2032%20от%2003.08.2017.pdf\n",
    "* takeoff_fare: Сбор за взлёт-посадку руб/т мвм\n",
    "* parking_fare: Сбор за стоянку, 5%/час от сбора за взлет-посадку\n",
    "* actual_arrival: Фактическое время прилёта\n",
    "* actual_departure: Фактическое время вылета\n",
    "* sheduled_flight_time: Запланированное время полёта\n",
    "* actual_flight_time: Актуальное время полёта\n",
    "* sold_tickets: Количество проданных билетов на рейс\n",
    "* passenger_service: Тарифы аэропорта и аэровокзала на обслуживание пассажиров, руб/чел https://fas.gov.ru/upload/other/протокол%20№%2032%20от%2003.08.2017.pdf\n",
    "* total_amount: Сумма, полученная за продажу билетов на рейс\n",
    "* ticket_economy: Проданное количество билетов класса 'Economy'\n",
    "* ticket_comfort: Проданное количество билетов класса 'Comfort'\n",
    "* ticket_business: Проданное количество билетов класса 'Business'\n",
    "* fuel_consumption: Расход топлива определенной моделью самолёта, кг/час полёта  \n",
    "* fuel_price: Стоимость топлива в аэропорту вылета, руб/кг https://favt.gov.ru/dejatelnost-ajeroporty-i-ajerodromy-ceny-na-aviagsm/?id=7329"
   ]
  },
  {
   "cell_type": "code",
   "execution_count": 13,
   "id": "f0318163",
   "metadata": {},
   "outputs": [
    {
     "data": {
      "image/png": "[encoded data removed]",
      "text/plain": [
       "<Figure size 1080x504 with 2 Axes>"
      ]
     },
     "metadata": {
      "needs_background": "light"
     },
     "output_type": "display_data"
    }
   ],
   "source": [
    "# Посмотрим как распределены пропуски по датасету:\n",
    "plt.figure(figsize=(15, 7))# размер тепловой карты\n",
    "sns.heatmap(fl.isnull(), cmap=\"YlGnBu_r\");"
   ]
  },
  {
   "cell_type": "markdown",
   "id": "7d6c39c3",
   "metadata": {},
   "source": [
    "Мы видим, что на некоторых рейсах отсутствует информация о проданных билетах. Причём, отсутствующая информация подозрительно сгруппирована. Посмотрим, сколько их."
   ]
  },
  {
   "cell_type": "code",
   "execution_count": 14,
   "id": "112fb4e0",
   "metadata": {},
   "outputs": [
    {
     "data": {
      "text/plain": [
       "flight_id                0\n",
       "flight_no                0\n",
       "departure_airport        0\n",
       "arrival_airport          0\n",
       "arrival_city             0\n",
       "model                    0\n",
       "total_passenger_seats    0\n",
       "max_takeoff_weight       0\n",
       "security_fare            0\n",
       "takeoff_fare             0\n",
       "parking_fare             0\n",
       "actual_arrival           0\n",
       "actual_departure         0\n",
       "sheduled_flight_time     0\n",
       "actual_flight_time       0\n",
       "sold_tickets             9\n",
       "passenger_service        0\n",
       "total_amount             9\n",
       "ticket_economy           9\n",
       "ticket_comfort           9\n",
       "ticket_business          9\n",
       "fuel_consumption         0\n",
       "fuel_price               0\n",
       "dtype: int64"
      ]
     },
     "execution_count": 14,
     "metadata": {},
     "output_type": "execute_result"
    }
   ],
   "source": [
    "fl.isnull().sum() "
   ]
  },
  {
   "cell_type": "markdown",
   "id": "8ee18097",
   "metadata": {},
   "source": [
    "Предположим, что у нас нет информации по проданным билетам для рейсов по какому-то одному направлению. Ниже проверим эту гипотезу"
   ]
  },
  {
   "cell_type": "markdown",
   "id": "c97668eb",
   "metadata": {},
   "source": [
    "# \n",
    "### Aнализ переменных и создание новых признаков\n",
    "#### 1. flight_id "
   ]
  },
  {
   "cell_type": "code",
   "execution_count": 15,
   "id": "1cebdd9f",
   "metadata": {},
   "outputs": [
    {
     "data": {
      "text/plain": [
       "127"
      ]
     },
     "execution_count": 15,
     "metadata": {},
     "output_type": "execute_result"
    }
   ],
   "source": [
    "fl.flight_id.nunique()"
   ]
  },
  {
   "cell_type": "markdown",
   "id": "93fd348a",
   "metadata": {},
   "source": [
    "flight_id - это набор уникальных значений рейсов"
   ]
  },
  {
   "cell_type": "markdown",
   "id": "2330f52e",
   "metadata": {},
   "source": [
    "#### 2. flight_no"
   ]
  },
  {
   "cell_type": "code",
   "execution_count": 16,
   "id": "ab5bdb0e",
   "metadata": {},
   "outputs": [
    {
     "data": {
      "text/plain": [
       "3"
      ]
     },
     "execution_count": 16,
     "metadata": {},
     "output_type": "execute_result"
    }
   ],
   "source": [
    "fl.flight_no.nunique()"
   ]
  },
  {
   "cell_type": "markdown",
   "id": "fff6444b",
   "metadata": {},
   "source": [
    "Всего из Анапы летают 3 рейса. Посмотрим какие и сколько раз за три зимних месяца"
   ]
  },
  {
   "cell_type": "code",
   "execution_count": 17,
   "id": "ce3974fb",
   "metadata": {},
   "outputs": [
    {
     "data": {
      "text/plain": [
       "PG0480    59\n",
       "PG0252    59\n",
       "PG0194     9\n",
       "Name: flight_no, dtype: int64"
      ]
     },
     "execution_count": 17,
     "metadata": {},
     "output_type": "execute_result"
    }
   ],
   "source": [
    "fl.flight_no.value_counts()"
   ]
  },
  {
   "cell_type": "markdown",
   "id": "74f06d93",
   "metadata": {},
   "source": [
    "Проверим нашу гипотезу, что на рейсах с номером PG0194 нет информации о проданных билетах"
   ]
  },
  {
   "cell_type": "code",
   "execution_count": 18,
   "id": "7328b60c",
   "metadata": {},
   "outputs": [
    {
     "name": "stdout",
     "output_type": "stream",
     "text": [
      "<class 'pandas.core.frame.DataFrame'>\n",
      "Int64Index: 9 entries, 59 to 67\n",
      "Data columns (total 23 columns):\n",
      " #   Column                 Non-Null Count  Dtype  \n",
      "---  ------                 --------------  -----  \n",
      " 0   flight_id              9 non-null      int64  \n",
      " 1   flight_no              9 non-null      object \n",
      " 2   departure_airport      9 non-null      object \n",
      " 3   arrival_airport        9 non-null      object \n",
      " 4   arrival_city           9 non-null      object \n",
      " 5   model                  9 non-null      object \n",
      " 6   total_passenger_seats  9 non-null      int64  \n",
      " 7   max_takeoff_weight     9 non-null      float64\n",
      " 8   security_fare          9 non-null      int64  \n",
      " 9   takeoff_fare           9 non-null      int64  \n",
      " 10  parking_fare           9 non-null      float64\n",
      " 11  actual_arrival         9 non-null      object \n",
      " 12  actual_departure       9 non-null      object \n",
      " 13  sheduled_flight_time   9 non-null      float64\n",
      " 14  actual_flight_time     9 non-null      float64\n",
      " 15  sold_tickets           0 non-null      float64\n",
      " 16  passenger_service      9 non-null      int64  \n",
      " 17  total_amount           0 non-null      float64\n",
      " 18  ticket_economy         0 non-null      float64\n",
      " 19  ticket_comfort         0 non-null      float64\n",
      " 20  ticket_business        0 non-null      float64\n",
      " 21  fuel_consumption       9 non-null      int64  \n",
      " 22  fuel_price             9 non-null      float64\n",
      "dtypes: float64(10), int64(6), object(7)\n",
      "memory usage: 1.7+ KB\n"
     ]
    }
   ],
   "source": [
    "fl[(fl.flight_no == 'PG0194')].info()"
   ]
  },
  {
   "cell_type": "markdown",
   "id": "df455873",
   "metadata": {},
   "source": [
    "Это действительно рейсы с номером PG0194. Поскольку по ним нет никаких статистических данных, мы не знаем стоимость билета на данный рейс и сколько их было продано, мы их исключим из анализа"
   ]
  },
  {
   "cell_type": "code",
   "execution_count": 19,
   "id": "49e4f131",
   "metadata": {},
   "outputs": [],
   "source": [
    "fl = fl.dropna()"
   ]
  },
  {
   "cell_type": "markdown",
   "id": "856f1541",
   "metadata": {},
   "source": [
    "#### 3. actual_arrival и actual_departure\n",
    "\n",
    "Переведем столбцы **'actual_arrival'** и **'actual_departure'** из типа object в формат **datetime**"
   ]
  },
  {
   "cell_type": "code",
   "execution_count": 20,
   "id": "c16f9d7c",
   "metadata": {},
   "outputs": [],
   "source": [
    "fl['actual_arrival'] = pd.to_datetime(fl['actual_arrival'])\n",
    "fl['actual_departure'] = pd.to_datetime(fl['actual_departure']) "
   ]
  },
  {
   "cell_type": "markdown",
   "id": "73e7e604",
   "metadata": {},
   "source": [
    "Создадим столбец **'month'**, где отдельно выделим из **'actual_departure'** месяц"
   ]
  },
  {
   "cell_type": "code",
   "execution_count": 21,
   "id": "4abe2570",
   "metadata": {},
   "outputs": [],
   "source": [
    "fl['month'] = fl['actual_departure'].apply(lambda x: x.strftime('%B'))"
   ]
  },
  {
   "cell_type": "markdown",
   "id": "c315d3dc",
   "metadata": {},
   "source": [
    "#### 4. Посчитаем аэропортовые сборы\n",
    "\n",
    "Сделаем допущение, что самолет находится в аэропорту города Анапа не более двух часов до следующего рейса (это необязательно обратный рейс). Создадим новый признак **'total_fare'**"
   ]
  },
  {
   "cell_type": "code",
   "execution_count": 23,
   "id": "0aa43687",
   "metadata": {},
   "outputs": [],
   "source": [
    "fl['total_fare'] = round(fl['max_takeoff_weight']*(fl['security_fare'] + fl['takeoff_fare'] + 2*fl['parking_fare']\n",
    "                                                  ) + fl['sold_tickets']*fl['passenger_service'],0)"
   ]
  },
  {
   "cell_type": "code",
   "execution_count": 24,
   "id": "7f5fb4ea",
   "metadata": {},
   "outputs": [
    {
     "data": {
      "text/plain": [
       "<AxesSubplot:title={'center':'total_fare & model'}, xlabel='model'>"
      ]
     },
     "execution_count": 24,
     "metadata": {},
     "output_type": "execute_result"
    },
    {
     "data": {
      "image/png": "[encoded data removed]",
      "text/plain": [
       "<Figure size 432x288 with 1 Axes>"
      ]
     },
     "metadata": {
      "needs_background": "light"
     },
     "output_type": "display_data"
    }
   ],
   "source": [
    "# Посмотрим на сколько отличается обслуживание для моделей воздушных судов в нашем датасете\n",
    "fl.pivot_table(values = 'total_fare', \n",
    "               index = 'model', \n",
    "               aggfunc = 'mean').plot(kind = 'bar', grid = True, title = 'total_fare & model')"
   ]
  },
  {
   "cell_type": "markdown",
   "id": "f06e873e",
   "metadata": {},
   "source": [
    "Мы видим, что расходы на обслуживание в аэропорту самолёта с большей максимальной взлётной массой выше. И признак **total_fare** ещё неполный, поскольку есть ещё приземление и обслуживание воздушного судна в аэропорту прибытия, которое мы тут не рассматриваем, так как не удалось найти достоверные данные по тарифам за 2017 год в аэропорту Белгорода"
   ]
  },
  {
   "cell_type": "markdown",
   "id": "8737fde7",
   "metadata": {},
   "source": [
    "#### 5. Посчитаем расходы на топливо\n",
    "\n",
    "Создадим новый признак **'total_fuel_price'**"
   ]
  },
  {
   "cell_type": "code",
   "execution_count": 25,
   "id": "86f41c51",
   "metadata": {},
   "outputs": [],
   "source": [
    "fl['total_fuel_price'] = round(fl['actual_flight_time']/60*fl['fuel_consumption']*fl['fuel_price'],0)"
   ]
  },
  {
   "cell_type": "code",
   "execution_count": 26,
   "id": "7b486a95",
   "metadata": {},
   "outputs": [
    {
     "data": {
      "text/plain": [
       "<AxesSubplot:title={'center':'total_fuel_price & город прилёта'}, xlabel='arrival_city'>"
      ]
     },
     "execution_count": 26,
     "metadata": {},
     "output_type": "execute_result"
    },
    {
     "data": {
      "image/png": "[encoded data removed]",
      "text/plain": [
       "<Figure size 432x288 with 1 Axes>"
      ]
     },
     "metadata": {
      "needs_background": "light"
     },
     "output_type": "display_data"
    }
   ],
   "source": [
    "# Посмотрим на графике, насколько в среднем отличаются затраты на авиационное топливо по направлениям (за рейс)\n",
    "fl.pivot_table(values = 'total_fuel_price', \n",
    "               index = 'arrival_city', \n",
    "               aggfunc = 'mean').plot(kind = 'bar', grid = True, title = 'total_fuel_price & город прилёта')"
   ]
  },
  {
   "cell_type": "code",
   "execution_count": 27,
   "id": "3c20747e",
   "metadata": {},
   "outputs": [
    {
     "data": {
      "text/plain": [
       "<AxesSubplot:title={'center':'total_fuel_price & месяц'}, xlabel='arrival_city,month'>"
      ]
     },
     "execution_count": 27,
     "metadata": {},
     "output_type": "execute_result"
    },
    {
     "data": {
      "image/png": "[encoded data removed]",
      "text/plain": [
       "<Figure size 432x288 with 1 Axes>"
      ]
     },
     "metadata": {
      "needs_background": "light"
     },
     "output_type": "display_data"
    }
   ],
   "source": [
    "# Посмотрим то же самое с разбивкой по месяцам\n",
    "fl.groupby(by = ['arrival_city', 'month']\n",
    "          )['total_fuel_price'].sum().plot(kind='bar', grid=True, title='total_fuel_price & месяц')"
   ]
  },
  {
   "cell_type": "markdown",
   "id": "6f64b819",
   "metadata": {},
   "source": [
    "- Мы видим, что изначально в нашем датасете отсутствует информация о полётах из Анапы в декабре 2017 года. \n",
    "- Затраты на топливо по обоим направлениям выше в январе. Цены на авиатопливо выше в январе, но разница в большей степени объясняется тем, что в январе больше дней и, соответственно, больше рейсов. Проверим это:"
   ]
  },
  {
   "cell_type": "code",
   "execution_count": 28,
   "id": "2f7f6885",
   "metadata": {
    "scrolled": false
   },
   "outputs": [
    {
     "data": {
      "text/plain": [
       "<AxesSubplot:title={'center':'flights & месяц'}, xlabel='arrival_city,month'>"
      ]
     },
     "execution_count": 28,
     "metadata": {},
     "output_type": "execute_result"
    },
    {
     "data": {
      "image/png": "[encoded data removed]",
      "text/plain": [
       "<Figure size 432x288 with 1 Axes>"
      ]
     },
     "metadata": {
      "needs_background": "light"
     },
     "output_type": "display_data"
    }
   ],
   "source": [
    "fl.groupby(by = ['arrival_city', 'month']\n",
    "          )['flight_id'].count().plot(kind='bar', grid=True, title='flights & месяц')"
   ]
  },
  {
   "cell_type": "markdown",
   "id": "65264458",
   "metadata": {},
   "source": [
    "Так и есть, так как рейсы осуществляются ежедневно, получается, что в январе 31 рейс, а в феврале 28"
   ]
  },
  {
   "cell_type": "markdown",
   "id": "646f88a1",
   "metadata": {},
   "source": [
    "Создадим столбец **'ssj_100_SVO'**, в котором рассчитаем затраты на топливо для самолёта **Sukhoi Superjet-100**, так если бы он летел в Москву из Анапы. Это нужно нам для сравнения затрат на авиатопливо для разных моделей самолётов на одном направлении:"
   ]
  },
  {
   "cell_type": "code",
   "execution_count": 29,
   "id": "0818f6de",
   "metadata": {},
   "outputs": [],
   "source": [
    "fl['ssj_100_SVO'] = round(fl['actual_flight_time']/60*1700*fl['fuel_price'],0)"
   ]
  },
  {
   "cell_type": "code",
   "execution_count": 30,
   "id": "7a53318e",
   "metadata": {},
   "outputs": [
    {
     "data": {
      "text/plain": [
       "7983360.0"
      ]
     },
     "execution_count": 30,
     "metadata": {},
     "output_type": "execute_result"
    }
   ],
   "source": [
    "# Суммарные затраты на топливо за два месяца самолета Sukhoi Superjet-100 по маршруту Анапа - Москва\n",
    "s = fl[(fl['arrival_airport'] == 'SVO')].ssj_100_SVO.sum()\n",
    "s"
   ]
  },
  {
   "cell_type": "code",
   "execution_count": 31,
   "id": "abf06ac0",
   "metadata": {},
   "outputs": [
    {
     "data": {
      "text/plain": [
       "11270614.0"
      ]
     },
     "execution_count": 31,
     "metadata": {},
     "output_type": "execute_result"
    }
   ],
   "source": [
    "# Суммарные затраты на топливо за два месяца самолета Boeing 737-300 по маршруту Анапа - Москва\n",
    "b = fl[(fl['arrival_airport'] == 'SVO')].total_fuel_price.sum()\n",
    "b"
   ]
  },
  {
   "cell_type": "code",
   "execution_count": 32,
   "id": "d48aeb26",
   "metadata": {},
   "outputs": [
    {
     "data": {
      "text/plain": [
       "29.17"
      ]
     },
     "execution_count": 32,
     "metadata": {},
     "output_type": "execute_result"
    }
   ],
   "source": [
    "# Посчитаем экономию на топливе в процентах (за два месяца), если бы в Москву рейс совершал не Boeing 737-300, \n",
    "# а Sukhoi Superjet-100:\n",
    "round((b - s)/b*100,2)"
   ]
  },
  {
   "cell_type": "markdown",
   "id": "4c43050c",
   "metadata": {},
   "source": [
    "#### 6. Посчитаем разницу между выручкой от билетов и расходами на топливо и аэропортовые сборы\n",
    "\n",
    "Мы тут очень сильно упрощаем формулу, поскольку в расходы можно записать, например, зарплату персонала, страхование рейса(воздушного судна), стоимость технического обслуживания, выплаты по кредиту или лизингу и много ещё чего.\n",
    "\n",
    "Создадим новый признак **'revenue'**"
   ]
  },
  {
   "cell_type": "code",
   "execution_count": 33,
   "id": "461ce3f3",
   "metadata": {},
   "outputs": [],
   "source": [
    "fl['revenue'] = fl['total_amount'] - fl['total_fuel_price'] - fl['total_fare']"
   ]
  },
  {
   "cell_type": "code",
   "execution_count": 34,
   "id": "4641a7d1",
   "metadata": {
    "scrolled": false
   },
   "outputs": [
    {
     "data": {
      "text/plain": [
       "<AxesSubplot:title={'center':'revenue & direction & месяц'}, xlabel='arrival_city,month'>"
      ]
     },
     "execution_count": 34,
     "metadata": {},
     "output_type": "execute_result"
    },
    {
     "data": {
      "image/png": "[encoded data removed]",
      "text/plain": [
       "<Figure size 432x288 with 1 Axes>"
      ]
     },
     "metadata": {
      "needs_background": "light"
     },
     "output_type": "display_data"
    }
   ],
   "source": [
    "# Посмотрим распределение суммарного revenue по направлениям и месяцам\n",
    "fl.groupby(by = ['arrival_city', 'month']\n",
    "          )['revenue'].sum().plot(kind='bar', grid=True, title='revenue & direction & месяц')"
   ]
  },
  {
   "cell_type": "markdown",
   "id": "f3a6565f",
   "metadata": {},
   "source": [
    "Здесь также вполне объяснимо различие по месяцам из-за разницы в количестве полётов"
   ]
  },
  {
   "cell_type": "markdown",
   "id": "fabb3d50",
   "metadata": {},
   "source": [
    "#### 7. Посмотрим наполняемость на рейсах в зимние месяцы\n",
    "\n",
    "- Сколько осталось нераспроданных билетов в процентах от общего количества пассажирских мест?\n",
    "- Создадим новый признак **'not_sold_tickets%'**"
   ]
  },
  {
   "cell_type": "code",
   "execution_count": 35,
   "id": "4d3525d1",
   "metadata": {},
   "outputs": [],
   "source": [
    "fl['not_sold_tickets%'] = (fl['total_passenger_seats'] - fl['sold_tickets'])/fl['total_passenger_seats']*100"
   ]
  },
  {
   "cell_type": "code",
   "execution_count": 36,
   "id": "39013aee",
   "metadata": {},
   "outputs": [
    {
     "data": {
      "text/plain": [
       "<AxesSubplot:title={'center':'Нераспроданные билеты,% & город прилёта'}, xlabel='arrival_city'>"
      ]
     },
     "execution_count": 36,
     "metadata": {},
     "output_type": "execute_result"
    },
    {
     "data": {
      "image/png": "[encoded data removed]",
      "text/plain": [
       "<Figure size 432x288 with 1 Axes>"
      ]
     },
     "metadata": {
      "needs_background": "light"
     },
     "output_type": "display_data"
    }
   ],
   "source": [
    "# Посмотрим на графике, сколько в среднем остаётся нераспроданных билетов на рейсы по направлениям\n",
    "fl.pivot_table(values = 'not_sold_tickets%', \n",
    "               index = 'arrival_city', \n",
    "               aggfunc = 'mean').plot(kind = 'bar', grid = True, title = 'Нераспроданные билеты,% & город прилёта')"
   ]
  },
  {
   "cell_type": "code",
   "execution_count": 37,
   "id": "3854186a",
   "metadata": {
    "scrolled": false
   },
   "outputs": [
    {
     "data": {
      "text/plain": [
       "<AxesSubplot:title={'center':'not_sold_tickets% & месяц'}, xlabel='arrival_city,month'>"
      ]
     },
     "execution_count": 37,
     "metadata": {},
     "output_type": "execute_result"
    },
    {
     "data": {
      "image/png": "[encoded data removed]",
      "text/plain": [
       "<Figure size 432x288 with 1 Axes>"
      ]
     },
     "metadata": {
      "needs_background": "light"
     },
     "output_type": "display_data"
    }
   ],
   "source": [
    "# Теперь посмотрим на графике, сколько остаётся нераспроданных билетов на рейсы по направлениям в разные месяца\n",
    "fl.groupby(by = ['arrival_city', 'month']\n",
    "          )['not_sold_tickets%'].mean().plot(kind='bar', grid=True, title='not_sold_tickets% & месяц')"
   ]
  },
  {
   "cell_type": "markdown",
   "id": "637e5db6",
   "metadata": {},
   "source": [
    "Ситуация с проданными билетами хуже у рейсов, летающих в Москву, и у всех рейсов в феврале немного хуже чем в январе. Здесь уже нет влияния количества рейсов в конкретном месяце, поскольку мы смотрим среднее"
   ]
  },
  {
   "cell_type": "markdown",
   "id": "547fd865",
   "metadata": {},
   "source": [
    "#### 8. Классы билетов (ticket_economy, ticket_business, ticket_comfort)"
   ]
  },
  {
   "cell_type": "code",
   "execution_count": 38,
   "id": "1eacaca9",
   "metadata": {},
   "outputs": [
    {
     "data": {
      "text/plain": [
       "0.0"
      ]
     },
     "execution_count": 38,
     "metadata": {},
     "output_type": "execute_result"
    }
   ],
   "source": [
    "fl.ticket_comfort.sum()"
   ]
  },
  {
   "cell_type": "markdown",
   "id": "a351403d",
   "metadata": {},
   "source": [
    "В нашем датасете нет ни одного проданного билета класса комфорт, поэтому мы не будем их рассматривать"
   ]
  },
  {
   "cell_type": "code",
   "execution_count": 39,
   "id": "437696a6",
   "metadata": {},
   "outputs": [],
   "source": [
    "eticket_svo = fl[(fl['arrival_airport'] == 'SVO')].groupby(by = 'month'\n",
    "                                                          )['ticket_economy'].agg(['min','max','mean']).reset_index()\n",
    "bticket_svo = fl[(fl['arrival_airport'] == 'SVO')].groupby(by = 'month'\n",
    "                                                          )['ticket_business'].agg(['min','max','mean']).reset_index()\n",
    "eticket_ego = fl[(fl['arrival_airport'] == 'EGO')].groupby(by = 'month'\n",
    "                                                          )['ticket_economy'].agg(['min','max','mean']).reset_index()\n",
    "bticket_ego = fl[(fl['arrival_airport'] == 'EGO')].groupby(by = 'month'\n",
    "                                                          )['ticket_business'].agg(['mean','max','min']).reset_index()"
   ]
  },
  {
   "cell_type": "code",
   "execution_count": 40,
   "id": "98fde8a8",
   "metadata": {
    "scrolled": false
   },
   "outputs": [
    {
     "data": {
      "text/plain": [
       "Text(0.5, 1.0, 'Класс Business (EGO)')"
      ]
     },
     "execution_count": 40,
     "metadata": {},
     "output_type": "execute_result"
    },
    {
     "data": {
      "image/png": "[encoded data removed]",
      "text/plain": [
       "<Figure size 1152x360 with 4 Axes>"
      ]
     },
     "metadata": {
      "needs_background": "light"
     },
     "output_type": "display_data"
    }
   ],
   "source": [
    "fig, axes = plt.subplots(1, 4, figsize=(16,5))\n",
    "axes[0].bar(x = eticket_svo['month'], height = eticket_svo['max'], width = 0.4, align = 'edge', label = 'max')\n",
    "axes[0].bar(x = eticket_svo['month'], height = eticket_svo['min'], width = 0.4, align = 'edge', label = 'min')\n",
    "axes[0].bar(x = eticket_svo['month'], height = eticket_svo['mean'], width = -0.4, align = 'edge', label = 'mean')\n",
    "axes[0].set_ylim(0, 150)\n",
    "axes[0].legend(loc = 1)\n",
    "axes[0].set_title('Класс Economy (SVO)')\n",
    "\n",
    "axes[1].bar(x = bticket_svo['month'], height = bticket_svo['max'], width = 0.4, align = 'edge', label = 'max')\n",
    "axes[1].bar(x = bticket_svo['month'], height = bticket_svo['min'], width = 0.4, align = 'edge', label = 'min')\n",
    "axes[1].bar(x = bticket_svo['month'], height = bticket_svo['mean'], width = -0.4, align = 'edge', label = 'mean')\n",
    "axes[1].set_ylim(0, 18)\n",
    "axes[1].legend(loc = 1)\n",
    "axes[1].set_title('Класс Business (SVO)')\n",
    "\n",
    "axes[2].bar(x = eticket_ego['month'], height = eticket_ego['max'], width = 0.4, align = 'edge', label = 'max')\n",
    "axes[2].bar(x = eticket_ego['month'], height = eticket_ego['min'], width = 0.4, align = 'edge', label = 'min')\n",
    "axes[2].bar(x = eticket_ego['month'], height = eticket_ego['mean'], width = -0.4, align = 'edge', label = 'mean')\n",
    "axes[2].set_ylim(0, 120)\n",
    "axes[2].legend(loc = 1)\n",
    "axes[2].set_title('Класс Economy (EGO)')\n",
    "\n",
    "axes[3].bar(x = bticket_ego['month'], height = bticket_ego['max'], width = 0.4, align = 'edge', label = 'max')\n",
    "axes[3].bar(x = bticket_ego['month'], height = bticket_ego['min'], width = 0.4, align = 'edge', label = 'min')\n",
    "axes[3].bar(x = bticket_ego['month'], height = bticket_ego['mean'], width = -0.4, align = 'edge', label = 'mean')\n",
    "axes[3].set_ylim(0, 18)\n",
    "axes[3].legend(loc = 1)\n",
    "axes[3].set_title('Класс Business (EGO)')"
   ]
  },
  {
   "cell_type": "code",
   "execution_count": 41,
   "id": "0f67548b",
   "metadata": {},
   "outputs": [
    {
     "data": {
      "text/plain": [
       "6054.0"
      ]
     },
     "execution_count": 41,
     "metadata": {},
     "output_type": "execute_result"
    }
   ],
   "source": [
    "# Столько было куплено билетов класса Economy по направлению Анапа-Москва\n",
    "fl[((fl.arrival_airport == 'SVO'))].ticket_economy.sum()"
   ]
  },
  {
   "cell_type": "code",
   "execution_count": 42,
   "id": "d556b0b2",
   "metadata": {},
   "outputs": [
    {
     "data": {
      "text/plain": [
       "12.0"
      ]
     },
     "execution_count": 42,
     "metadata": {},
     "output_type": "execute_result"
    }
   ],
   "source": [
    "# Посчитаем, сколько (за два зимних месяца) необходимо пустить дополнительных рейсов при замене модели самолёта\n",
    "round((fl[((fl.arrival_airport == 'SVO'))\n",
    "  ].ticket_economy.sum() - fl[(fl.model == 'Sukhoi Superjet-100'\n",
    "                              )].ticket_economy.max()*59)/fl[(fl.model == 'Sukhoi Superjet-100'\n",
    "                                                             )].ticket_economy.max(),0)"
   ]
  },
  {
   "cell_type": "markdown",
   "id": "80270988",
   "metadata": {},
   "source": [
    "### Можно уже сделать предварительные выводы и дать рекомендации\n",
    "#### Анапа-Москва\n",
    "Поскольку наполняемость пассажирами самолета модели **Boeing 737-300**, осуществляющего в зимние месяцы (январь, февраль) ежедневные полёты по маршруту **Анапа - Москва**, составляет порядка **87 %**, есть смысл большую часть рейсов осуществлять самолётом **Sukhoi Superjet-100**, который экономичнее в расходе топлива, а также экономичнее в плане потребления услуг аэропортов. И если стоимость билетов на **Sukhoi Superjet-100** будет сравнима со стоимостью билетов на **Boeing 737-300**, то прибыль авиакомпании точно не упадет. А освободившиеся самолеты **Boeing 737-300** можно направить на другие направления, где наполняемость будет близка к 100%. Небольшая ремарка: технические характеристики самолета **Sukhoi Superjet-100** позволяют ему летать на расстояния от 3048 км до 4578 км, что делает его приемлемой заменой на этом направлении.\n",
    "\n",
    "**Один нюанс с требуемым количеством пассажирских мест!**\n",
    "\n",
    "Даже если на всех рейсах в Москву заменить **Boeing 737-300** на **Sukhoi Superjet-100**, запрашиваемых пассажирских мест будет не хватать, и это касается исключительно мест класса **Economy**, поскольку в салонах самолетов одинаковое количество мест класса **Business** (12), и разница в местах в салоне **Economy** составляет 33 места. Но в реалиях слабой загруженности зимних месяцев на этом направлении нехватка мест составит 16-17 в сутки. Выход из сложившейся ситуации пустить по данному направлению один дополнительный рейс раз в пять дней, который полностью покроет недостаток пассажирских мест (в салоне SSJ-100 85 мест класса Economy *(17*5 = 85)).*\n",
    "\n",
    "#### Анапа-Белгород\n",
    "Направление Анапа-Белгород можно не трогать, так как невыкупленных билетов около 7 %:"
   ]
  },
  {
   "cell_type": "code",
   "execution_count": 43,
   "id": "d3fc1c72",
   "metadata": {},
   "outputs": [
    {
     "data": {
      "text/plain": [
       "7.024287960859689"
      ]
     },
     "execution_count": 43,
     "metadata": {},
     "output_type": "execute_result"
    }
   ],
   "source": [
    "(fl[((fl.arrival_airport == 'EGO'))\n",
    "  ].total_passenger_seats.sum() - fl[((fl.arrival_airport == 'EGO'))\n",
    "                                    ].ticket_economy.sum() - fl[((fl.arrival_airport == 'EGO'))\n",
    "                                    ].ticket_business.sum())/fl[((fl.arrival_airport == 'EGO'))\n",
    "                                    ].total_passenger_seats.sum()*100"
   ]
  },
  {
   "cell_type": "markdown",
   "id": "aa8868c6",
   "metadata": {},
   "source": [
    "А можно убрать один рейс в две недели (всего 4 рейса за 2 месяца) и тогда авиакомпания перевезёт всех пассажиров и сэкономит на топливе"
   ]
  },
  {
   "cell_type": "code",
   "execution_count": 44,
   "id": "c0fa68e7",
   "metadata": {},
   "outputs": [
    {
     "data": {
      "text/html": [
       "<div>\n",
       "<style scoped>\n",
       "    .dataframe tbody tr th:only-of-type {\n",
       "        vertical-align: middle;\n",
       "    }\n",
       "\n",
       "    .dataframe tbody tr th {\n",
       "        vertical-align: top;\n",
       "    }\n",
       "\n",
       "    .dataframe thead th {\n",
       "        text-align: right;\n",
       "    }\n",
       "</style>\n",
       "<table border=\"1\" class=\"dataframe\">\n",
       "  <thead>\n",
       "    <tr style=\"text-align: right;\">\n",
       "      <th></th>\n",
       "      <th>flight_id</th>\n",
       "      <th>flight_no</th>\n",
       "      <th>departure_airport</th>\n",
       "      <th>arrival_airport</th>\n",
       "      <th>arrival_city</th>\n",
       "      <th>model</th>\n",
       "      <th>total_passenger_seats</th>\n",
       "      <th>max_takeoff_weight</th>\n",
       "      <th>security_fare</th>\n",
       "      <th>takeoff_fare</th>\n",
       "      <th>parking_fare</th>\n",
       "      <th>actual_arrival</th>\n",
       "      <th>actual_departure</th>\n",
       "      <th>sheduled_flight_time</th>\n",
       "      <th>actual_flight_time</th>\n",
       "      <th>sold_tickets</th>\n",
       "      <th>passenger_service</th>\n",
       "      <th>total_amount</th>\n",
       "      <th>ticket_economy</th>\n",
       "      <th>ticket_comfort</th>\n",
       "      <th>ticket_business</th>\n",
       "      <th>fuel_consumption</th>\n",
       "      <th>fuel_price</th>\n",
       "      <th>month</th>\n",
       "      <th>total_fare</th>\n",
       "      <th>total_fuel_price</th>\n",
       "      <th>ssj_100_SVO</th>\n",
       "      <th>revenue</th>\n",
       "      <th>not_sold_tickets%</th>\n",
       "    </tr>\n",
       "  </thead>\n",
       "  <tbody>\n",
       "    <tr>\n",
       "      <th>56</th>\n",
       "      <td>136479</td>\n",
       "      <td>PG0252</td>\n",
       "      <td>AAQ</td>\n",
       "      <td>SVO</td>\n",
       "      <td>Moscow</td>\n",
       "      <td>Boeing 737-300</td>\n",
       "      <td>130</td>\n",
       "      <td>62.82</td>\n",
       "      <td>317</td>\n",
       "      <td>412</td>\n",
       "      <td>20.6</td>\n",
       "      <td>2017-02-21 11:47:00+00:00</td>\n",
       "      <td>2017-02-21 10:08:00+00:00</td>\n",
       "      <td>100.0</td>\n",
       "      <td>99.0</td>\n",
       "      <td>122.0</td>\n",
       "      <td>231</td>\n",
       "      <td>1738400.0</td>\n",
       "      <td>112.0</td>\n",
       "      <td>0.0</td>\n",
       "      <td>10.0</td>\n",
       "      <td>2400</td>\n",
       "      <td>46.67254</td>\n",
       "      <td>February</td>\n",
       "      <td>76566.0</td>\n",
       "      <td>184823.0</td>\n",
       "      <td>130916.0</td>\n",
       "      <td>1477011.0</td>\n",
       "      <td>6.153846</td>\n",
       "    </tr>\n",
       "    <tr>\n",
       "      <th>77</th>\n",
       "      <td>136642</td>\n",
       "      <td>PG0480</td>\n",
       "      <td>AAQ</td>\n",
       "      <td>EGO</td>\n",
       "      <td>Belgorod</td>\n",
       "      <td>Sukhoi Superjet-100</td>\n",
       "      <td>97</td>\n",
       "      <td>45.88</td>\n",
       "      <td>317</td>\n",
       "      <td>412</td>\n",
       "      <td>20.6</td>\n",
       "      <td>2017-01-30 10:17:00+00:00</td>\n",
       "      <td>2017-01-30 09:28:00+00:00</td>\n",
       "      <td>50.0</td>\n",
       "      <td>49.0</td>\n",
       "      <td>64.0</td>\n",
       "      <td>231</td>\n",
       "      <td>531000.0</td>\n",
       "      <td>54.0</td>\n",
       "      <td>0.0</td>\n",
       "      <td>10.0</td>\n",
       "      <td>1700</td>\n",
       "      <td>48.89330</td>\n",
       "      <td>January</td>\n",
       "      <td>50121.0</td>\n",
       "      <td>67880.0</td>\n",
       "      <td>67880.0</td>\n",
       "      <td>412999.0</td>\n",
       "      <td>34.020619</td>\n",
       "    </tr>\n",
       "    <tr>\n",
       "      <th>74</th>\n",
       "      <td>136620</td>\n",
       "      <td>PG0480</td>\n",
       "      <td>AAQ</td>\n",
       "      <td>EGO</td>\n",
       "      <td>Belgorod</td>\n",
       "      <td>Sukhoi Superjet-100</td>\n",
       "      <td>97</td>\n",
       "      <td>45.88</td>\n",
       "      <td>317</td>\n",
       "      <td>412</td>\n",
       "      <td>20.6</td>\n",
       "      <td>2017-02-17 10:19:00+00:00</td>\n",
       "      <td>2017-02-17 09:30:00+00:00</td>\n",
       "      <td>50.0</td>\n",
       "      <td>49.0</td>\n",
       "      <td>79.0</td>\n",
       "      <td>231</td>\n",
       "      <td>613500.0</td>\n",
       "      <td>70.0</td>\n",
       "      <td>0.0</td>\n",
       "      <td>9.0</td>\n",
       "      <td>1700</td>\n",
       "      <td>46.67254</td>\n",
       "      <td>February</td>\n",
       "      <td>53586.0</td>\n",
       "      <td>64797.0</td>\n",
       "      <td>64797.0</td>\n",
       "      <td>495117.0</td>\n",
       "      <td>18.556701</td>\n",
       "    </tr>\n",
       "    <tr>\n",
       "      <th>115</th>\n",
       "      <td>136875</td>\n",
       "      <td>PG0480</td>\n",
       "      <td>AAQ</td>\n",
       "      <td>EGO</td>\n",
       "      <td>Belgorod</td>\n",
       "      <td>Sukhoi Superjet-100</td>\n",
       "      <td>97</td>\n",
       "      <td>45.88</td>\n",
       "      <td>317</td>\n",
       "      <td>412</td>\n",
       "      <td>20.6</td>\n",
       "      <td>2017-02-16 10:19:00+00:00</td>\n",
       "      <td>2017-02-16 09:29:00+00:00</td>\n",
       "      <td>50.0</td>\n",
       "      <td>50.0</td>\n",
       "      <td>97.0</td>\n",
       "      <td>231</td>\n",
       "      <td>765300.0</td>\n",
       "      <td>85.0</td>\n",
       "      <td>0.0</td>\n",
       "      <td>12.0</td>\n",
       "      <td>1700</td>\n",
       "      <td>46.67254</td>\n",
       "      <td>February</td>\n",
       "      <td>57744.0</td>\n",
       "      <td>66119.0</td>\n",
       "      <td>66119.0</td>\n",
       "      <td>641437.0</td>\n",
       "      <td>0.000000</td>\n",
       "    </tr>\n",
       "    <tr>\n",
       "      <th>106</th>\n",
       "      <td>136827</td>\n",
       "      <td>PG0480</td>\n",
       "      <td>AAQ</td>\n",
       "      <td>EGO</td>\n",
       "      <td>Belgorod</td>\n",
       "      <td>Sukhoi Superjet-100</td>\n",
       "      <td>97</td>\n",
       "      <td>45.88</td>\n",
       "      <td>317</td>\n",
       "      <td>412</td>\n",
       "      <td>20.6</td>\n",
       "      <td>2017-02-18 10:17:00+00:00</td>\n",
       "      <td>2017-02-18 09:26:00+00:00</td>\n",
       "      <td>50.0</td>\n",
       "      <td>51.0</td>\n",
       "      <td>97.0</td>\n",
       "      <td>231</td>\n",
       "      <td>765300.0</td>\n",
       "      <td>85.0</td>\n",
       "      <td>0.0</td>\n",
       "      <td>12.0</td>\n",
       "      <td>1700</td>\n",
       "      <td>46.67254</td>\n",
       "      <td>February</td>\n",
       "      <td>57744.0</td>\n",
       "      <td>67442.0</td>\n",
       "      <td>67442.0</td>\n",
       "      <td>640114.0</td>\n",
       "      <td>0.000000</td>\n",
       "    </tr>\n",
       "  </tbody>\n",
       "</table>\n",
       "</div>"
      ],
      "text/plain": [
       "     flight_id flight_no departure_airport arrival_airport arrival_city  \\\n",
       "56      136479    PG0252               AAQ             SVO       Moscow   \n",
       "77      136642    PG0480               AAQ             EGO     Belgorod   \n",
       "74      136620    PG0480               AAQ             EGO     Belgorod   \n",
       "115     136875    PG0480               AAQ             EGO     Belgorod   \n",
       "106     136827    PG0480               AAQ             EGO     Belgorod   \n",
       "\n",
       "                   model  total_passenger_seats  max_takeoff_weight  \\\n",
       "56        Boeing 737-300                    130               62.82   \n",
       "77   Sukhoi Superjet-100                     97               45.88   \n",
       "74   Sukhoi Superjet-100                     97               45.88   \n",
       "115  Sukhoi Superjet-100                     97               45.88   \n",
       "106  Sukhoi Superjet-100                     97               45.88   \n",
       "\n",
       "     security_fare  takeoff_fare  parking_fare            actual_arrival  \\\n",
       "56             317           412          20.6 2017-02-21 11:47:00+00:00   \n",
       "77             317           412          20.6 2017-01-30 10:17:00+00:00   \n",
       "74             317           412          20.6 2017-02-17 10:19:00+00:00   \n",
       "115            317           412          20.6 2017-02-16 10:19:00+00:00   \n",
       "106            317           412          20.6 2017-02-18 10:17:00+00:00   \n",
       "\n",
       "             actual_departure  sheduled_flight_time  actual_flight_time  \\\n",
       "56  2017-02-21 10:08:00+00:00                 100.0                99.0   \n",
       "77  2017-01-30 09:28:00+00:00                  50.0                49.0   \n",
       "74  2017-02-17 09:30:00+00:00                  50.0                49.0   \n",
       "115 2017-02-16 09:29:00+00:00                  50.0                50.0   \n",
       "106 2017-02-18 09:26:00+00:00                  50.0                51.0   \n",
       "\n",
       "     sold_tickets  passenger_service  total_amount  ticket_economy  \\\n",
       "56          122.0                231     1738400.0           112.0   \n",
       "77           64.0                231      531000.0            54.0   \n",
       "74           79.0                231      613500.0            70.0   \n",
       "115          97.0                231      765300.0            85.0   \n",
       "106          97.0                231      765300.0            85.0   \n",
       "\n",
       "     ticket_comfort  ticket_business  fuel_consumption  fuel_price     month  \\\n",
       "56              0.0             10.0              2400    46.67254  February   \n",
       "77              0.0             10.0              1700    48.89330   January   \n",
       "74              0.0              9.0              1700    46.67254  February   \n",
       "115             0.0             12.0              1700    46.67254  February   \n",
       "106             0.0             12.0              1700    46.67254  February   \n",
       "\n",
       "     total_fare  total_fuel_price  ssj_100_SVO    revenue  not_sold_tickets%  \n",
       "56      76566.0          184823.0     130916.0  1477011.0           6.153846  \n",
       "77      50121.0           67880.0      67880.0   412999.0          34.020619  \n",
       "74      53586.0           64797.0      64797.0   495117.0          18.556701  \n",
       "115     57744.0           66119.0      66119.0   641437.0           0.000000  \n",
       "106     57744.0           67442.0      67442.0   640114.0           0.000000  "
      ]
     },
     "execution_count": 44,
     "metadata": {},
     "output_type": "execute_result"
    }
   ],
   "source": [
    "fl.sample(5)"
   ]
  },
  {
   "cell_type": "code",
   "execution_count": null,
   "id": "4c1b1838",
   "metadata": {},
   "outputs": [],
   "source": []
  }
 ],
 "metadata": {
  "kernelspec": {
   "display_name": "Python 3",
   "language": "python",
   "name": "python3"
  },
  "language_info": {
   "codemirror_mode": {
    "name": "ipython",
    "version": 3
   },
   "file_extension": ".py",
   "mimetype": "text/x-python",
   "name": "python",
   "nbconvert_exporter": "python",
   "pygments_lexer": "ipython3",
   "version": "3.8.8"
  }
 },
 "nbformat": 4,
 "nbformat_minor": 5
}
