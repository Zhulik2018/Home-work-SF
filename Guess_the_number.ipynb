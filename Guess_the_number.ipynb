{
 "cells": [
  {
   "cell_type": "code",
   "execution_count": 76,
   "id": "dad49609",
   "metadata": {
    "scrolled": true
   },
   "outputs": [
    {
     "name": "stdout",
     "output_type": "stream",
     "text": [
      "Введите в какой длине последовательности будем искать число:100\n",
      "Загадано число от 1 до 100\n",
      "Ваш алгоритм угадывает число в среднем за 5 попыток\n"
     ]
    },
    {
     "data": {
      "text/plain": [
       "5"
      ]
     },
     "execution_count": 76,
     "metadata": {},
     "output_type": "execute_result"
    }
   ],
   "source": [
    "import numpy as np\n",
    "\n",
    "len_seq = int(input(\"Введите в какой длине последовательности будем искать число:\"))\n",
    "print(f\"Загадано число от 1 до {len_seq}\")\n",
    "\n",
    "\n",
    "def score_game(game_core):\n",
    "    '''Запускаем игру 1000 раз, чтобы узнать, как быстро игра угадывает число'''\n",
    "    count_ls = []\n",
    "    np.random.seed(1)\n",
    "    random_array = np.random.randint(1,len_seq+1,size=(1000))\n",
    "    for number in random_array:\n",
    "        count_ls.append(game_core(number))\n",
    "    score = int(np.mean(count_ls))\n",
    "    print(f\"Ваш алгоритм угадывает число в среднем за {score} попыток\")\n",
    "    return(score)\n",
    "\n",
    "\n",
    "def guess_number(hidden_num):\n",
    "    \"\"\"Function to find a hidden number\"\"\"\n",
    "    \"\"\"Все время устанавливаем для нашего предполагаемого числа \"медианное\" значение последовательности \n",
    "    чисел, в которой ищем загаданное число, с помощью delta. В последующем, в зависимости от того больше\n",
    "    или меньше наше число загаданного, \"отбрасываем\" каждый раз ту половину числовой последовательности,\n",
    "    в которой загаданного числа нет. \"Отбрасываем\" - просто она \"no longer taken into account\". То есть \n",
    "    с каждой последующей попыткой область поиска сокращается в два раза.\"\"\"\n",
    "    count = 0 # счётчик попыток\n",
    "    \n",
    "    if len_seq%2 == 0: # первая попытка предсказать\n",
    "        predict = len_seq//2\n",
    "    else: \n",
    "        predict = len_seq//2 + 1\n",
    "        \n",
    "    if predict%2 == 0:\n",
    "        delta = predict//2\n",
    "    else: \n",
    "        delta = predict//2 + 1\n",
    "    \n",
    "    while hidden_num != predict:\n",
    "        count+=1\n",
    "        \n",
    "        if hidden_num > predict:\n",
    "            predict += delta\n",
    "        elif hidden_num < predict: \n",
    "            predict -= delta    \n",
    "        \n",
    "        if delta%2 == 0:\n",
    "            delta //= 2\n",
    "        else:\n",
    "            delta = delta//2 + 1\n",
    "    \n",
    "    count+=1\n",
    "    return count\n",
    "                 \n",
    "score_game(guess_number)"
   ]
  },
  {
   "cell_type": "code",
   "execution_count": null,
   "id": "d3c33c50",
   "metadata": {},
   "outputs": [],
   "source": []
  },
  {
   "cell_type": "code",
   "execution_count": null,
   "id": "ad8deb2a",
   "metadata": {},
   "outputs": [],
   "source": []
  }
 ],
 "metadata": {
  "kernelspec": {
   "display_name": "Python 3",
   "language": "python",
   "name": "python3"
  },
  "language_info": {
   "codemirror_mode": {
    "name": "ipython",
    "version": 3
   },
   "file_extension": ".py",
   "mimetype": "text/x-python",
   "name": "python",
   "nbconvert_exporter": "python",
   "pygments_lexer": "ipython3",
   "version": "3.8.8"
  }
 },
 "nbformat": 4,
 "nbformat_minor": 5
}
