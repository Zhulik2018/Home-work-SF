{
 "cells": [
  {
   "cell_type": "markdown",
   "metadata": {},
   "source": [
    "### import"
   ]
  },
  {
   "cell_type": "code",
   "execution_count": 1,
   "metadata": {
    "_cell_guid": "b1076dfc-b9ad-4769-8c92-a6c4dae69d19",
    "_uuid": "8f2839f25d086af736a60e9eeb907d3b93b6e0e5",
    "execution": {
     "iopub.execute_input": "2021-10-13T16:53:11.776670Z",
     "iopub.status.busy": "2021-10-13T16:53:11.776303Z",
     "iopub.status.idle": "2021-10-13T16:53:11.798823Z",
     "shell.execute_reply": "2021-10-13T16:53:11.797918Z",
     "shell.execute_reply.started": "2021-10-13T16:53:11.776616Z"
    }
   },
   "outputs": [
    {
     "name": "stdout",
     "output_type": "stream",
     "text": [
      "/kaggle/input/sf-dst-restaurant-rating/sample_submission.csv\n",
      "/kaggle/input/sf-dst-restaurant-rating/main_task.csv\n",
      "/kaggle/input/sf-dst-restaurant-rating/kaggle_task.csv\n"
     ]
    }
   ],
   "source": [
    "import pandas as pd\n",
    "import matplotlib.pyplot as plt\n",
    "%matplotlib inline\n",
    "import seaborn as sns\n",
    "from itertools import combinations\n",
    "from scipy.stats import ttest_ind\n",
    "import numpy as np\n",
    "import warnings; warnings.simplefilter('ignore')\n",
    "import random\n",
    "import json\n",
    "import re\n",
    "import datetime\n",
    "import math\n",
    "import collections\n",
    "from sklearn import preprocessing\n",
    "from sklearn.preprocessing import LabelEncoder\n",
    "from sklearn.preprocessing import StandardScaler\n",
    "from sklearn.preprocessing import MinMaxScaler\n",
    "from collections import Counter\n",
    "from collections import OrderedDict\n",
    "from operator import itemgetter\n",
    "\n",
    "pd.set_option('display.max_columns', 200)  # показывать больше колонок\n",
    "\n",
    "# Загружаем специальный удобный инструмент для разделения датасета:\n",
    "from sklearn.model_selection import train_test_split\n",
    "\n",
    "# Input data files are available in the \"../input/\" directory.\n",
    "# For example, running this (by clicking run or pressing Shift+Enter) will list all files under the input directory\n",
    "\n",
    "import os\n",
    "for dirname, _, filenames in os.walk('/kaggle/input'):\n",
    "    for filename in filenames:\n",
    "        print(os.path.join(dirname, filename))\n",
    "\n",
    "# Any results you write to the current directory are saved as output."
   ]
  },
  {
   "cell_type": "code",
   "execution_count": 2,
   "metadata": {
    "execution": {
     "iopub.execute_input": "2021-10-13T16:53:12.699651Z",
     "iopub.status.busy": "2021-10-13T16:53:12.699217Z",
     "iopub.status.idle": "2021-10-13T16:53:12.703826Z",
     "shell.execute_reply": "2021-10-13T16:53:12.703143Z",
     "shell.execute_reply.started": "2021-10-13T16:53:12.699610Z"
    }
   },
   "outputs": [],
   "source": [
    "# всегда фиксируйте RANDOM_SEED, чтобы ваши эксперименты были воспроизводимы!\n",
    "RANDOM_SEED = 42"
   ]
  },
  {
   "cell_type": "code",
   "execution_count": 3,
   "metadata": {
    "execution": {
     "iopub.execute_input": "2021-10-13T16:53:14.585985Z",
     "iopub.status.busy": "2021-10-13T16:53:14.585616Z",
     "iopub.status.idle": "2021-10-13T16:53:17.172687Z",
     "shell.execute_reply": "2021-10-13T16:53:17.171246Z",
     "shell.execute_reply.started": "2021-10-13T16:53:14.585930Z"
    }
   },
   "outputs": [],
   "source": [
    "# зафиксируем версию пакетов, чтобы эксперименты были воспроизводимы:\n",
    "!pip freeze > requirements.txt"
   ]
  },
  {
   "cell_type": "code",
   "execution_count": 4,
   "metadata": {
    "execution": {
     "iopub.execute_input": "2021-10-13T16:53:17.175320Z",
     "iopub.status.busy": "2021-10-13T16:53:17.174975Z",
     "iopub.status.idle": "2021-10-13T16:53:17.202803Z",
     "shell.execute_reply": "2021-10-13T16:53:17.201929Z",
     "shell.execute_reply.started": "2021-10-13T16:53:17.175260Z"
    }
   },
   "outputs": [],
   "source": [
    "def rename_columns(df):  \n",
    "    '''Функция преобразования названия столбцов к единому формату'''\n",
    "    columns = {}\n",
    "    for column in df.columns:\n",
    "        columns[column] = column.lower().replace(' ', '_')\n",
    "    return df.rename(columns=columns, inplace=True)\n",
    "\n",
    "def replacement_prop(df,columns):\n",
    "    '''Функция для замены пропусков в столбце датафрейма значениями, согласно \n",
    "    их процентному распределению в столбце'''\n",
    "    for col in columns:\n",
    "        t = pd.DataFrame(df[col].value_counts(normalize=True))\n",
    "        s_NaN = df[col].isna().sum()\n",
    "        n = round(t[col]*s_NaN,0).to_dict()\n",
    "        n = dict((k, v) for k, v in n.items() if v) \n",
    "        index_NaN = np.where(df[col].isna())[0].tolist()\n",
    "        if len(index_NaN)-sum(v for v in n.values() if v > 0)!=0:\n",
    "            md = df[col].mode()[0]\n",
    "            n[md]+=1\n",
    "        for k, v in n.items():\n",
    "            for index, element in enumerate(index_NaN):\n",
    "                if index < v:\n",
    "                    df.loc[element,col] = k\n",
    "                    i = index\n",
    "                else:\n",
    "                    break\n",
    "            del index_NaN[0:(i+1)]\n",
    "                  \n",
    "def MinMax(series):\n",
    "    '''\n",
    "    Функция для нормализации методом MinMax\n",
    "    '''\n",
    "    scaler = MinMaxScaler()\n",
    "    x = np.array(series).reshape(len(series), 1)\n",
    "    a = scaler.fit_transform(x)\n",
    "    a_s = pd.Series(a.flatten())\n",
    "    return a_s\n",
    "\n",
    "\n",
    "\n",
    "def IQR_outlier(column, verbose=True):\n",
    "    '''\n",
    "    Функция для отображения границ межквартильного размаха\n",
    "    '''\n",
    "    perc25 = data[column].quantile(0.25)\n",
    "    perc75 = data[column].quantile(0.75)\n",
    "    IQR = perc75 - perc25\n",
    "    low = perc25 - 1.5*IQR\n",
    "    high = perc75 + 1.5*IQR\n",
    "    count_outliers = len(data[data[column] > high])+len(data[data[column] < low])\n",
    "    if verbose:\n",
    "        print('25-й перцентиль: {},'.format(perc25)[:-1], '75-й перцентиль: {},'.format(perc75),\n",
    "            \"IQR: {}, \".format(IQR), \"Границы выбросов: [{f}, {l}].\".format(f=low, l=high))\n",
    "    return print('Выбросов, согласно IQR: {} | {:2.2%}'.format(count_outliers, count_outliers\n",
    "                                                               /len(data)))\n",
    "\n",
    "\n",
    "def get_stat_dif(df: pd.DataFrame, column: object, target='score') -> bool:\n",
    "    '''\n",
    "    Функция для проведения теста Стьюдента для номинативных и смешанных переменных\n",
    "    '''\n",
    "    cols = df.loc[:, column].value_counts()\n",
    "    cols = cols[cols>15].index\n",
    "    combinations_all = list(combinations(cols, 2))\n",
    "    for comb in combinations_all:\n",
    "        if ttest_ind(df.loc[df.loc[:, column] == comb[0], target].dropna(), \n",
    "                        df.loc[df.loc[:, column] == comb[1], target].dropna()).pvalue \\\n",
    "            <= 0.075/len(combinations_all): # Учли поправку Бонферони\n",
    "            print('Найдены статистически значимые различия для колонки', column)\n",
    "            return True\n",
    "            break"
   ]
  },
  {
   "cell_type": "markdown",
   "metadata": {},
   "source": [
    "### Загрузка и первичный осмотр данных"
   ]
  },
  {
   "cell_type": "code",
   "execution_count": 5,
   "metadata": {
    "_cell_guid": "79c7e3d0-c299-4dcb-8224-4455121ee9b0",
    "_uuid": "d629ff2d2480ee46fbb7e2d37f6b5fab8052498a",
    "execution": {
     "iopub.execute_input": "2021-10-13T16:53:17.709461Z",
     "iopub.status.busy": "2021-10-13T16:53:17.709092Z",
     "iopub.status.idle": "2021-10-13T16:53:18.009914Z",
     "shell.execute_reply": "2021-10-13T16:53:18.008935Z",
     "shell.execute_reply.started": "2021-10-13T16:53:17.709399Z"
    }
   },
   "outputs": [
    {
     "data": {
      "text/html": [
       "<div>\n",
       "<style scoped>\n",
       "    .dataframe tbody tr th:only-of-type {\n",
       "        vertical-align: middle;\n",
       "    }\n",
       "\n",
       "    .dataframe tbody tr th {\n",
       "        vertical-align: top;\n",
       "    }\n",
       "\n",
       "    .dataframe thead th {\n",
       "        text-align: right;\n",
       "    }\n",
       "</style>\n",
       "<table border=\"1\" class=\"dataframe\">\n",
       "  <thead>\n",
       "    <tr style=\"text-align: right;\">\n",
       "      <th></th>\n",
       "      <th>restaurant_id</th>\n",
       "      <th>city</th>\n",
       "      <th>cuisine_style</th>\n",
       "      <th>ranking</th>\n",
       "      <th>rating</th>\n",
       "      <th>price_range</th>\n",
       "      <th>number_of_reviews</th>\n",
       "      <th>reviews</th>\n",
       "      <th>url_ta</th>\n",
       "      <th>id_ta</th>\n",
       "    </tr>\n",
       "  </thead>\n",
       "  <tbody>\n",
       "    <tr>\n",
       "      <th>0</th>\n",
       "      <td>id_5569</td>\n",
       "      <td>Paris</td>\n",
       "      <td>['European', 'French', 'International']</td>\n",
       "      <td>5570.0</td>\n",
       "      <td>3.5</td>\n",
       "      <td>$$ - $$$</td>\n",
       "      <td>194.0</td>\n",
       "      <td>[['Good food at your doorstep', 'A good hotel ...</td>\n",
       "      <td>/Restaurant_Review-g187147-d1912643-Reviews-R_...</td>\n",
       "      <td>d1912643</td>\n",
       "    </tr>\n",
       "    <tr>\n",
       "      <th>1</th>\n",
       "      <td>id_1535</td>\n",
       "      <td>Stockholm</td>\n",
       "      <td>NaN</td>\n",
       "      <td>1537.0</td>\n",
       "      <td>4.0</td>\n",
       "      <td>NaN</td>\n",
       "      <td>10.0</td>\n",
       "      <td>[['Unique cuisine', 'Delicious Nepalese food']...</td>\n",
       "      <td>/Restaurant_Review-g189852-d7992032-Reviews-Bu...</td>\n",
       "      <td>d7992032</td>\n",
       "    </tr>\n",
       "  </tbody>\n",
       "</table>\n",
       "</div>"
      ],
      "text/plain": [
       "  restaurant_id       city                            cuisine_style  ranking  \\\n",
       "0       id_5569      Paris  ['European', 'French', 'International']   5570.0   \n",
       "1       id_1535  Stockholm                                      NaN   1537.0   \n",
       "\n",
       "   rating price_range  number_of_reviews  \\\n",
       "0     3.5    $$ - $$$              194.0   \n",
       "1     4.0         NaN               10.0   \n",
       "\n",
       "                                             reviews  \\\n",
       "0  [['Good food at your doorstep', 'A good hotel ...   \n",
       "1  [['Unique cuisine', 'Delicious Nepalese food']...   \n",
       "\n",
       "                                              url_ta     id_ta  \n",
       "0  /Restaurant_Review-g187147-d1912643-Reviews-R_...  d1912643  \n",
       "1  /Restaurant_Review-g189852-d7992032-Reviews-Bu...  d7992032  "
      ]
     },
     "metadata": {},
     "output_type": "display_data"
    },
    {
     "data": {
      "text/html": [
       "<div>\n",
       "<style scoped>\n",
       "    .dataframe tbody tr th:only-of-type {\n",
       "        vertical-align: middle;\n",
       "    }\n",
       "\n",
       "    .dataframe tbody tr th {\n",
       "        vertical-align: top;\n",
       "    }\n",
       "\n",
       "    .dataframe thead th {\n",
       "        text-align: right;\n",
       "    }\n",
       "</style>\n",
       "<table border=\"1\" class=\"dataframe\">\n",
       "  <thead>\n",
       "    <tr style=\"text-align: right;\">\n",
       "      <th></th>\n",
       "      <th>restaurant_id</th>\n",
       "      <th>city</th>\n",
       "      <th>cuisine_style</th>\n",
       "      <th>ranking</th>\n",
       "      <th>price_range</th>\n",
       "      <th>number_of_reviews</th>\n",
       "      <th>reviews</th>\n",
       "      <th>url_ta</th>\n",
       "      <th>id_ta</th>\n",
       "    </tr>\n",
       "  </thead>\n",
       "  <tbody>\n",
       "    <tr>\n",
       "      <th>0</th>\n",
       "      <td>id_0</td>\n",
       "      <td>Paris</td>\n",
       "      <td>['Bar', 'Pub']</td>\n",
       "      <td>12963.0</td>\n",
       "      <td>$$ - $$$</td>\n",
       "      <td>4.0</td>\n",
       "      <td>[[], []]</td>\n",
       "      <td>/Restaurant_Review-g187147-d10746918-Reviews-L...</td>\n",
       "      <td>d10746918</td>\n",
       "    </tr>\n",
       "    <tr>\n",
       "      <th>1</th>\n",
       "      <td>id_1</td>\n",
       "      <td>Helsinki</td>\n",
       "      <td>['European', 'Scandinavian', 'Gluten Free Opti...</td>\n",
       "      <td>106.0</td>\n",
       "      <td>$$ - $$$</td>\n",
       "      <td>97.0</td>\n",
       "      <td>[['Very good reviews!', 'Fine dining in Hakani...</td>\n",
       "      <td>/Restaurant_Review-g189934-d6674944-Reviews-Ra...</td>\n",
       "      <td>d6674944</td>\n",
       "    </tr>\n",
       "  </tbody>\n",
       "</table>\n",
       "</div>"
      ],
      "text/plain": [
       "  restaurant_id      city                                      cuisine_style  \\\n",
       "0          id_0     Paris                                     ['Bar', 'Pub']   \n",
       "1          id_1  Helsinki  ['European', 'Scandinavian', 'Gluten Free Opti...   \n",
       "\n",
       "   ranking price_range  number_of_reviews  \\\n",
       "0  12963.0    $$ - $$$                4.0   \n",
       "1    106.0    $$ - $$$               97.0   \n",
       "\n",
       "                                             reviews  \\\n",
       "0                                           [[], []]   \n",
       "1  [['Very good reviews!', 'Fine dining in Hakani...   \n",
       "\n",
       "                                              url_ta      id_ta  \n",
       "0  /Restaurant_Review-g187147-d10746918-Reviews-L...  d10746918  \n",
       "1  /Restaurant_Review-g189934-d6674944-Reviews-Ra...   d6674944  "
      ]
     },
     "metadata": {},
     "output_type": "display_data"
    },
    {
     "data": {
      "text/html": [
       "<div>\n",
       "<style scoped>\n",
       "    .dataframe tbody tr th:only-of-type {\n",
       "        vertical-align: middle;\n",
       "    }\n",
       "\n",
       "    .dataframe tbody tr th {\n",
       "        vertical-align: top;\n",
       "    }\n",
       "\n",
       "    .dataframe thead th {\n",
       "        text-align: right;\n",
       "    }\n",
       "</style>\n",
       "<table border=\"1\" class=\"dataframe\">\n",
       "  <thead>\n",
       "    <tr style=\"text-align: right;\">\n",
       "      <th></th>\n",
       "      <th>restaurant_id</th>\n",
       "      <th>rating</th>\n",
       "    </tr>\n",
       "  </thead>\n",
       "  <tbody>\n",
       "    <tr>\n",
       "      <th>0</th>\n",
       "      <td>id_0</td>\n",
       "      <td>2.0</td>\n",
       "    </tr>\n",
       "    <tr>\n",
       "      <th>1</th>\n",
       "      <td>id_1</td>\n",
       "      <td>2.5</td>\n",
       "    </tr>\n",
       "  </tbody>\n",
       "</table>\n",
       "</div>"
      ],
      "text/plain": [
       "  restaurant_id  rating\n",
       "0          id_0     2.0\n",
       "1          id_1     2.5"
      ]
     },
     "metadata": {},
     "output_type": "display_data"
    }
   ],
   "source": [
    "DATA_DIR = '/kaggle/input/sf-dst-restaurant-rating/'\n",
    "df_train = pd.read_csv(DATA_DIR+'/main_task.csv')\n",
    "df_test = pd.read_csv(DATA_DIR+'kaggle_task.csv')\n",
    "sample_submission = pd.read_csv(DATA_DIR+'/sample_submission.csv')\n",
    "\n",
    "# Приведем названия колонок к единому формату:\n",
    "rename_columns(df_train)\n",
    "rename_columns(df_test)\n",
    "rename_columns(sample_submission)\n",
    "\n",
    "display(df_train.head(2))\n",
    "display(df_test.head(2))\n",
    "display(sample_submission.head(2))"
   ]
  },
  {
   "cell_type": "markdown",
   "metadata": {},
   "source": [
    "# \n",
    "### Предварительный анализ данных"
   ]
  },
  {
   "cell_type": "code",
   "execution_count": 6,
   "metadata": {
    "execution": {
     "iopub.execute_input": "2021-10-13T16:53:20.131622Z",
     "iopub.status.busy": "2021-10-13T16:53:20.131230Z",
     "iopub.status.idle": "2021-10-13T16:53:20.173670Z",
     "shell.execute_reply": "2021-10-13T16:53:20.172355Z",
     "shell.execute_reply.started": "2021-10-13T16:53:20.131555Z"
    }
   },
   "outputs": [
    {
     "name": "stdout",
     "output_type": "stream",
     "text": [
      "<class 'pandas.core.frame.DataFrame'>\n",
      "RangeIndex: 40000 entries, 0 to 39999\n",
      "Data columns (total 10 columns):\n",
      "restaurant_id        40000 non-null object\n",
      "city                 40000 non-null object\n",
      "cuisine_style        30717 non-null object\n",
      "ranking              40000 non-null float64\n",
      "rating               40000 non-null float64\n",
      "price_range          26114 non-null object\n",
      "number_of_reviews    37457 non-null float64\n",
      "reviews              40000 non-null object\n",
      "url_ta               40000 non-null object\n",
      "id_ta                40000 non-null object\n",
      "dtypes: float64(3), object(7)\n",
      "memory usage: 3.1+ MB\n"
     ]
    }
   ],
   "source": [
    "df_train.info()"
   ]
  },
  {
   "cell_type": "code",
   "execution_count": 7,
   "metadata": {
    "execution": {
     "iopub.execute_input": "2021-10-13T16:53:20.979569Z",
     "iopub.status.busy": "2021-10-13T16:53:20.979244Z",
     "iopub.status.idle": "2021-10-13T16:53:21.056702Z",
     "shell.execute_reply": "2021-10-13T16:53:21.055610Z",
     "shell.execute_reply.started": "2021-10-13T16:53:20.979516Z"
    }
   },
   "outputs": [
    {
     "name": "stdout",
     "output_type": "stream",
     "text": [
      "Дубликатов нет\n"
     ]
    }
   ],
   "source": [
    "#Проверим датасет df_train на наличие дубликатов:\n",
    "if len(df_train)>len(df_train.drop_duplicates()):\n",
    "    print('Дубликаты есть')\n",
    "    display(df_train[df_train.duplicated()])\n",
    "else:\n",
    "    print('Дубликатов нет')"
   ]
  },
  {
   "cell_type": "code",
   "execution_count": 8,
   "metadata": {
    "execution": {
     "iopub.execute_input": "2021-10-13T16:53:21.935153Z",
     "iopub.status.busy": "2021-10-13T16:53:21.934809Z",
     "iopub.status.idle": "2021-10-13T16:53:21.955639Z",
     "shell.execute_reply": "2021-10-13T16:53:21.954239Z",
     "shell.execute_reply.started": "2021-10-13T16:53:21.935094Z"
    }
   },
   "outputs": [
    {
     "name": "stdout",
     "output_type": "stream",
     "text": [
      "<class 'pandas.core.frame.DataFrame'>\n",
      "RangeIndex: 10000 entries, 0 to 9999\n",
      "Data columns (total 9 columns):\n",
      "restaurant_id        10000 non-null object\n",
      "city                 10000 non-null object\n",
      "cuisine_style        7693 non-null object\n",
      "ranking              10000 non-null float64\n",
      "price_range          6525 non-null object\n",
      "number_of_reviews    9343 non-null float64\n",
      "reviews              9998 non-null object\n",
      "url_ta               10000 non-null object\n",
      "id_ta                10000 non-null object\n",
      "dtypes: float64(2), object(7)\n",
      "memory usage: 703.2+ KB\n"
     ]
    }
   ],
   "source": [
    "df_test.info()"
   ]
  },
  {
   "cell_type": "code",
   "execution_count": 9,
   "metadata": {
    "execution": {
     "iopub.execute_input": "2021-10-13T16:53:23.166987Z",
     "iopub.status.busy": "2021-10-13T16:53:23.166649Z",
     "iopub.status.idle": "2021-10-13T16:53:23.198718Z",
     "shell.execute_reply": "2021-10-13T16:53:23.197355Z",
     "shell.execute_reply.started": "2021-10-13T16:53:23.166945Z"
    }
   },
   "outputs": [
    {
     "name": "stdout",
     "output_type": "stream",
     "text": [
      "Дубликатов нет\n"
     ]
    }
   ],
   "source": [
    "#Проверим датасет df_test на наличие дубликатов:\n",
    "if len(df_test)>len(df_test.drop_duplicates()):\n",
    "    print('Дубликаты есть')\n",
    "    display(df_test[df_test.duplicated()])\n",
    "else:\n",
    "    print('Дубликатов нет')"
   ]
  },
  {
   "cell_type": "code",
   "execution_count": 10,
   "metadata": {
    "execution": {
     "iopub.execute_input": "2021-10-13T16:53:23.939848Z",
     "iopub.status.busy": "2021-10-13T16:53:23.939531Z",
     "iopub.status.idle": "2021-10-13T16:53:23.951482Z",
     "shell.execute_reply": "2021-10-13T16:53:23.950214Z",
     "shell.execute_reply.started": "2021-10-13T16:53:23.939796Z"
    }
   },
   "outputs": [
    {
     "name": "stdout",
     "output_type": "stream",
     "text": [
      "<class 'pandas.core.frame.DataFrame'>\n",
      "RangeIndex: 10000 entries, 0 to 9999\n",
      "Data columns (total 2 columns):\n",
      "restaurant_id    10000 non-null object\n",
      "rating           10000 non-null float64\n",
      "dtypes: float64(1), object(1)\n",
      "memory usage: 156.4+ KB\n"
     ]
    }
   ],
   "source": [
    "sample_submission.info()"
   ]
  },
  {
   "cell_type": "code",
   "execution_count": 11,
   "metadata": {
    "execution": {
     "iopub.execute_input": "2021-10-13T16:53:24.736225Z",
     "iopub.status.busy": "2021-10-13T16:53:24.735872Z",
     "iopub.status.idle": "2021-10-13T16:53:24.778167Z",
     "shell.execute_reply": "2021-10-13T16:53:24.777062Z",
     "shell.execute_reply.started": "2021-10-13T16:53:24.736162Z"
    }
   },
   "outputs": [],
   "source": [
    "# ВАЖНО! дря корректной обработки признаков объединяем трейн и тест в один датасет\n",
    "df_train['sample'] = 1 # помечаем где у нас трейн\n",
    "df_test['sample'] = 0 # помечаем где у нас тест\n",
    "df_test['rating'] = 0 # в тесте у нас нет значения rating, мы его должны предсказать, \n",
    "# по этому пока просто заполняем нулями\n",
    "\n",
    "data = df_test.append(df_train, sort=False).reset_index(drop=True) # объединяем"
   ]
  },
  {
   "cell_type": "code",
   "execution_count": 12,
   "metadata": {
    "execution": {
     "iopub.execute_input": "2021-10-13T16:53:26.102430Z",
     "iopub.status.busy": "2021-10-13T16:53:26.102125Z",
     "iopub.status.idle": "2021-10-13T16:53:26.183215Z",
     "shell.execute_reply": "2021-10-13T16:53:26.182070Z",
     "shell.execute_reply.started": "2021-10-13T16:53:26.102378Z"
    }
   },
   "outputs": [
    {
     "name": "stdout",
     "output_type": "stream",
     "text": [
      "<class 'pandas.core.frame.DataFrame'>\n",
      "RangeIndex: 50000 entries, 0 to 49999\n",
      "Data columns (total 11 columns):\n",
      "restaurant_id        50000 non-null object\n",
      "city                 50000 non-null object\n",
      "cuisine_style        38410 non-null object\n",
      "ranking              50000 non-null float64\n",
      "price_range          32639 non-null object\n",
      "number_of_reviews    46800 non-null float64\n",
      "reviews              49998 non-null object\n",
      "url_ta               50000 non-null object\n",
      "id_ta                50000 non-null object\n",
      "sample               50000 non-null int64\n",
      "rating               50000 non-null float64\n",
      "dtypes: float64(3), int64(1), object(7)\n",
      "memory usage: 4.2+ MB\n"
     ]
    },
    {
     "data": {
      "text/plain": [
       "None"
      ]
     },
     "metadata": {},
     "output_type": "display_data"
    },
    {
     "data": {
      "text/html": [
       "<div>\n",
       "<style scoped>\n",
       "    .dataframe tbody tr th:only-of-type {\n",
       "        vertical-align: middle;\n",
       "    }\n",
       "\n",
       "    .dataframe tbody tr th {\n",
       "        vertical-align: top;\n",
       "    }\n",
       "\n",
       "    .dataframe thead th {\n",
       "        text-align: right;\n",
       "    }\n",
       "</style>\n",
       "<table border=\"1\" class=\"dataframe\">\n",
       "  <thead>\n",
       "    <tr style=\"text-align: right;\">\n",
       "      <th></th>\n",
       "      <th>ranking</th>\n",
       "      <th>number_of_reviews</th>\n",
       "      <th>sample</th>\n",
       "      <th>rating</th>\n",
       "    </tr>\n",
       "  </thead>\n",
       "  <tbody>\n",
       "    <tr>\n",
       "      <th>count</th>\n",
       "      <td>50000.000000</td>\n",
       "      <td>46800.000000</td>\n",
       "      <td>50000.000000</td>\n",
       "      <td>50000.000000</td>\n",
       "    </tr>\n",
       "    <tr>\n",
       "      <th>mean</th>\n",
       "      <td>3664.427520</td>\n",
       "      <td>124.471197</td>\n",
       "      <td>0.800000</td>\n",
       "      <td>3.194430</td>\n",
       "    </tr>\n",
       "    <tr>\n",
       "      <th>std</th>\n",
       "      <td>3700.092452</td>\n",
       "      <td>294.114345</td>\n",
       "      <td>0.400004</td>\n",
       "      <td>1.705453</td>\n",
       "    </tr>\n",
       "    <tr>\n",
       "      <th>min</th>\n",
       "      <td>1.000000</td>\n",
       "      <td>2.000000</td>\n",
       "      <td>0.000000</td>\n",
       "      <td>0.000000</td>\n",
       "    </tr>\n",
       "    <tr>\n",
       "      <th>25%</th>\n",
       "      <td>972.000000</td>\n",
       "      <td>9.000000</td>\n",
       "      <td>1.000000</td>\n",
       "      <td>3.000000</td>\n",
       "    </tr>\n",
       "    <tr>\n",
       "      <th>50%</th>\n",
       "      <td>2278.000000</td>\n",
       "      <td>33.000000</td>\n",
       "      <td>1.000000</td>\n",
       "      <td>4.000000</td>\n",
       "    </tr>\n",
       "    <tr>\n",
       "      <th>75%</th>\n",
       "      <td>5241.000000</td>\n",
       "      <td>115.000000</td>\n",
       "      <td>1.000000</td>\n",
       "      <td>4.500000</td>\n",
       "    </tr>\n",
       "    <tr>\n",
       "      <th>max</th>\n",
       "      <td>16444.000000</td>\n",
       "      <td>9660.000000</td>\n",
       "      <td>1.000000</td>\n",
       "      <td>5.000000</td>\n",
       "    </tr>\n",
       "  </tbody>\n",
       "</table>\n",
       "</div>"
      ],
      "text/plain": [
       "            ranking  number_of_reviews        sample        rating\n",
       "count  50000.000000       46800.000000  50000.000000  50000.000000\n",
       "mean    3664.427520         124.471197      0.800000      3.194430\n",
       "std     3700.092452         294.114345      0.400004      1.705453\n",
       "min        1.000000           2.000000      0.000000      0.000000\n",
       "25%      972.000000           9.000000      1.000000      3.000000\n",
       "50%     2278.000000          33.000000      1.000000      4.000000\n",
       "75%     5241.000000         115.000000      1.000000      4.500000\n",
       "max    16444.000000        9660.000000      1.000000      5.000000"
      ]
     },
     "metadata": {},
     "output_type": "display_data"
    }
   ],
   "source": [
    "display (data.info())\n",
    "display (data.describe())"
   ]
  },
  {
   "cell_type": "markdown",
   "metadata": {},
   "source": [
    "Подробнее по признакам:\n",
    "* City: Город \n",
    "* Cuisine Style: Кухня\n",
    "* Ranking: Ранг ресторана относительно других ресторанов в этом городе\n",
    "* Price Range: Цены в ресторане в 3 категориях\n",
    "* Number of Reviews: Количество отзывов\n",
    "* Reviews: 2 последних отзыва и даты этих отзывов\n",
    "* URL_TA: страница ресторана на 'www.tripadvisor.com' \n",
    "* ID_TA: ID ресторана в TripAdvisor\n",
    "* Rating: Рейтинг ресторана"
   ]
  },
  {
   "cell_type": "code",
   "execution_count": 13,
   "metadata": {
    "execution": {
     "iopub.execute_input": "2021-10-13T16:53:29.692019Z",
     "iopub.status.busy": "2021-10-13T16:53:29.691655Z",
     "iopub.status.idle": "2021-10-13T16:53:31.293034Z",
     "shell.execute_reply": "2021-10-13T16:53:31.289342Z",
     "shell.execute_reply.started": "2021-10-13T16:53:29.691961Z"
    }
   },
   "outputs": [
    {
     "data": {
      "image/png": "[encoded data removed]",
      "text/plain": [
       "<Figure size 720x504 with 2 Axes>"
      ]
     },
     "metadata": {
      "needs_background": "light"
     },
     "output_type": "display_data"
    }
   ],
   "source": [
    "# Посмотрим как распеделены пропуски по датасету:\n",
    "plt.figure(figsize=(10, 7))# размер тепловой карты\n",
    "sns.heatmap(data.isnull(), cmap=\"YlGnBu_r\");"
   ]
  },
  {
   "cell_type": "code",
   "execution_count": 14,
   "metadata": {
    "execution": {
     "iopub.execute_input": "2021-10-13T16:53:31.296171Z",
     "iopub.status.busy": "2021-10-13T16:53:31.295508Z",
     "iopub.status.idle": "2021-10-13T16:53:31.362754Z",
     "shell.execute_reply": "2021-10-13T16:53:31.362083Z",
     "shell.execute_reply.started": "2021-10-13T16:53:31.296099Z"
    }
   },
   "outputs": [
    {
     "data": {
      "text/plain": [
       "restaurant_id            0\n",
       "city                     0\n",
       "cuisine_style        11590\n",
       "ranking                  0\n",
       "price_range          17361\n",
       "number_of_reviews     3200\n",
       "reviews                  2\n",
       "url_ta                   0\n",
       "id_ta                    0\n",
       "sample                   0\n",
       "rating                   0\n",
       "dtype: int64"
      ]
     },
     "execution_count": 14,
     "metadata": {},
     "output_type": "execute_result"
    }
   ],
   "source": [
    "# Посмотрим на количество пропусков у признаков\n",
    "data.isnull().sum() "
   ]
  },
  {
   "cell_type": "code",
   "execution_count": 15,
   "metadata": {
    "execution": {
     "iopub.execute_input": "2021-10-13T16:53:31.868697Z",
     "iopub.status.busy": "2021-10-13T16:53:31.868189Z",
     "iopub.status.idle": "2021-10-13T16:53:32.218996Z",
     "shell.execute_reply": "2021-10-13T16:53:32.217873Z",
     "shell.execute_reply.started": "2021-10-13T16:53:31.868648Z"
    }
   },
   "outputs": [
    {
     "data": {
      "image/png": "[encoded data removed]",
      "text/plain": [
       "<Figure size 720x576 with 1 Axes>"
      ]
     },
     "metadata": {
      "needs_background": "light"
     },
     "output_type": "display_data"
    }
   ],
   "source": [
    "# Считаем процент пропусков в столбцах\n",
    "per_nans = pd.DataFrame(1-data.count()/data.shape[0]).reset_index().rename({0:'percent'}, \\\n",
    "                                                axis=1).sort_values('percent', ascending=False).query('percent>0')\n",
    "# Строим график относительного количества пропущенных значений:\n",
    "fig, ax = plt.subplots(figsize = (10, 8))\n",
    "bar_plot = sns.barplot(x='percent', y='index', data=per_nans, alpha=0.8, ci=None)\n",
    "for ytick in bar_plot.get_yticks():\n",
    "        bar_plot.text(per_nans.iloc[ytick][1]+0.005, ytick+0.2, str(round(per_nans.iloc[ytick][1]*100,2))+' %', \n",
    "                    horizontalalignment='center',size=10, color='black',weight='semibold')\n",
    "plt.title('Относительное количество пропусков')\n",
    "plt.ylabel('')\n",
    "plt.xlabel('Percent', fontsize=12)\n",
    "plt.show()"
   ]
  },
  {
   "cell_type": "markdown",
   "metadata": {},
   "source": [
    "### Предварительные выводы о датасете\n",
    "\n",
    "* В объединённом датасете data 50000 строк, соответствующих 50000 ресторанам. Рейтинг есть по 40000 ресторанам. Для 10000 его нужно предсказать.\n",
    "* Датасет состоит из 10 столбцов: 3 типа float (ranking,rating,number_of_reviews) и 7 типа string. Это не значит, что у нас только 3 количественных признака - дальнейший анализ это прояснит. Возможно, из признаков типа string получится создать новые количественные признаки, поскольку наша ML модель принимает на вход только такие.\n",
    "* Есть 4 признака, содержащих nan значения: cuisine_style, price_range, number_of_reviews и reviews. Необходимо обработать пропуски в этих признаках.\n",
    "* Поля ranking и number_of_reviews имеют большой разброс данных, возможно будет необходимо нормировании.\n",
    "* Признаки URL_TA и ID_TA не будем рассматривать.\n",
    "\n",
    "#### Как видим, большинство признаков у нас требует очистки и предварительной обработки. Приступим!"
   ]
  },
  {
   "cell_type": "markdown",
   "metadata": {},
   "source": [
    "# \n",
    "### Детальный анализ переменных\n",
    "#### 1. restaurant_id"
   ]
  },
  {
   "cell_type": "code",
   "execution_count": 16,
   "metadata": {
    "execution": {
     "iopub.execute_input": "2021-10-13T16:53:37.460785Z",
     "iopub.status.busy": "2021-10-13T16:53:37.460244Z",
     "iopub.status.idle": "2021-10-13T16:53:37.496610Z",
     "shell.execute_reply": "2021-10-13T16:53:37.494878Z",
     "shell.execute_reply.started": "2021-10-13T16:53:37.460735Z"
    }
   },
   "outputs": [
    {
     "data": {
      "text/plain": [
       "id_436      19\n",
       "id_871      19\n",
       "id_227      19\n",
       "id_633      19\n",
       "id_321      18\n",
       "            ..\n",
       "id_12993     1\n",
       "id_16296     1\n",
       "id_10758     1\n",
       "id_14030     1\n",
       "id_7858      1\n",
       "Name: restaurant_id, Length: 13094, dtype: int64"
      ]
     },
     "execution_count": 16,
     "metadata": {},
     "output_type": "execute_result"
    }
   ],
   "source": [
    "# Посмотрим есть ли у нас в датасете сетевые рестораны, с одинаковым ID должно \n",
    "# быть больше ресторанов чем один\n",
    "data.restaurant_id.value_counts()"
   ]
  },
  {
   "cell_type": "code",
   "execution_count": 17,
   "metadata": {
    "execution": {
     "iopub.execute_input": "2021-10-13T16:53:38.519549Z",
     "iopub.status.busy": "2021-10-13T16:53:38.519218Z",
     "iopub.status.idle": "2021-10-13T16:53:38.598371Z",
     "shell.execute_reply": "2021-10-13T16:53:38.597656Z",
     "shell.execute_reply.started": "2021-10-13T16:53:38.519485Z"
    }
   },
   "outputs": [],
   "source": [
    "# Создадим новый признак - количество ресторанов в сети\n",
    "chain=data['restaurant_id'].value_counts()\n",
    "chain=chain.reset_index()\n",
    "chain.columns=['restaurant_id','chain_count']\n",
    "data = data.merge(chain, on='restaurant_id', how='left')"
   ]
  },
  {
   "cell_type": "code",
   "execution_count": 18,
   "metadata": {
    "execution": {
     "iopub.execute_input": "2021-10-13T16:53:39.408569Z",
     "iopub.status.busy": "2021-10-13T16:53:39.408126Z",
     "iopub.status.idle": "2021-10-13T16:53:39.744594Z",
     "shell.execute_reply": "2021-10-13T16:53:39.743529Z",
     "shell.execute_reply.started": "2021-10-13T16:53:39.408527Z"
    }
   },
   "outputs": [
    {
     "data": {
      "text/plain": [
       "<matplotlib.axes._subplots.AxesSubplot at 0x7fdb688df6d8>"
      ]
     },
     "execution_count": 18,
     "metadata": {},
     "output_type": "execute_result"
    },
    {
     "data": {
      "image/png": "[encoded data removed]",
      "text/plain": [
       "<Figure size 432x288 with 1 Axes>"
      ]
     },
     "metadata": {
      "needs_background": "light"
     },
     "output_type": "display_data"
    }
   ],
   "source": [
    "data['chain_count'].value_counts().plot(kind = 'bar', \n",
    "                              grid = True, \n",
    "                              colormap = 'coolwarm', \n",
    "                              title = 'chain_count')"
   ]
  },
  {
   "cell_type": "code",
   "execution_count": 19,
   "metadata": {
    "execution": {
     "iopub.execute_input": "2021-10-13T16:53:40.343898Z",
     "iopub.status.busy": "2021-10-13T16:53:40.343543Z",
     "iopub.status.idle": "2021-10-13T16:53:40.555102Z",
     "shell.execute_reply": "2021-10-13T16:53:40.553216Z",
     "shell.execute_reply.started": "2021-10-13T16:53:40.343841Z"
    }
   },
   "outputs": [
    {
     "data": {
      "image/png": "[encoded data removed]",
      "text/plain": [
       "<Figure size 432x288 with 1 Axes>"
      ]
     },
     "metadata": {
      "needs_background": "light"
     },
     "output_type": "display_data"
    }
   ],
   "source": [
    "# Посмотрим на выбросы:\n",
    "sns.boxplot(data=data, x='chain_count')\n",
    "plt.show()"
   ]
  },
  {
   "cell_type": "code",
   "execution_count": 20,
   "metadata": {
    "execution": {
     "iopub.execute_input": "2021-10-13T16:53:41.226540Z",
     "iopub.status.busy": "2021-10-13T16:53:41.226181Z",
     "iopub.status.idle": "2021-10-13T16:53:41.234794Z",
     "shell.execute_reply": "2021-10-13T16:53:41.233365Z",
     "shell.execute_reply.started": "2021-10-13T16:53:41.226487Z"
    }
   },
   "outputs": [],
   "source": [
    "# Нормализуем методом minmax признак 'chain_count' \n",
    "# и запишем это в новый столбец 'chain_count_norm'\n",
    "data['chain_count_norm'] = MinMax(data.chain_count)"
   ]
  },
  {
   "cell_type": "code",
   "execution_count": 21,
   "metadata": {
    "execution": {
     "iopub.execute_input": "2021-10-13T16:53:42.492457Z",
     "iopub.status.busy": "2021-10-13T16:53:42.491984Z",
     "iopub.status.idle": "2021-10-13T16:53:43.499848Z",
     "shell.execute_reply": "2021-10-13T16:53:43.498830Z",
     "shell.execute_reply.started": "2021-10-13T16:53:42.492407Z"
    }
   },
   "outputs": [
    {
     "data": {
      "text/plain": [
       "<matplotlib.axes._subplots.AxesSubplot at 0x7fdb686579b0>"
      ]
     },
     "execution_count": 21,
     "metadata": {},
     "output_type": "execute_result"
    },
    {
     "data": {
      "image/png": "[encoded data removed]",
      "text/plain": [
       "<Figure size 1296x432 with 2 Axes>"
      ]
     },
     "metadata": {
      "needs_background": "light"
     },
     "output_type": "display_data"
    }
   ],
   "source": [
    "# Убедимся, что вид распределения не изменился\n",
    "fig, axes = plt.subplots(ncols=2, figsize=(18, 6))\n",
    "data['chain_count'].plot(kind='hist', bins=100, ax=axes[0], \n",
    "                         grid=True, title='chain_count')\n",
    "data['chain_count_norm'].plot(kind='hist', bins=100, ax=axes[1], \n",
    "                              grid=True, title='chain_count_norm')"
   ]
  },
  {
   "cell_type": "markdown",
   "metadata": {},
   "source": [
    "#### 2. city\n",
    "\n",
    "- 'city' - категориальный признак, в столбце отсутствуют пропуски. Посмотрим, как рестораны распределены по городам, и сколько всего уникальных значений городов"
   ]
  },
  {
   "cell_type": "code",
   "execution_count": 22,
   "metadata": {
    "execution": {
     "iopub.execute_input": "2021-10-13T16:53:44.209829Z",
     "iopub.status.busy": "2021-10-13T16:53:44.209317Z",
     "iopub.status.idle": "2021-10-13T16:53:44.238243Z",
     "shell.execute_reply": "2021-10-13T16:53:44.236854Z",
     "shell.execute_reply.started": "2021-10-13T16:53:44.209781Z"
    }
   },
   "outputs": [
    {
     "data": {
      "text/plain": [
       "London        7193\n",
       "Paris         6108\n",
       "Madrid        3813\n",
       "Barcelona     3395\n",
       "Berlin        2705\n",
       "Milan         2694\n",
       "Rome          2589\n",
       "Prague        1816\n",
       "Lisbon        1647\n",
       "Vienna        1443\n",
       "Amsterdam     1372\n",
       "Brussels      1314\n",
       "Hamburg       1186\n",
       "Munich        1145\n",
       "Lyon          1126\n",
       "Stockholm     1033\n",
       "Budapest      1021\n",
       "Warsaw         925\n",
       "Dublin         836\n",
       "Copenhagen     819\n",
       "Athens         776\n",
       "Edinburgh      745\n",
       "Zurich         685\n",
       "Oporto         642\n",
       "Geneva         590\n",
       "Krakow         554\n",
       "Oslo           488\n",
       "Helsinki       475\n",
       "Bratislava     380\n",
       "Luxembourg     263\n",
       "Ljubljana      222\n",
       "Name: city, dtype: int64"
      ]
     },
     "metadata": {},
     "output_type": "display_data"
    },
    {
     "data": {
      "text/plain": [
       "31"
      ]
     },
     "execution_count": 22,
     "metadata": {},
     "output_type": "execute_result"
    }
   ],
   "source": [
    "display(data.city.value_counts())\n",
    "data.city.nunique()"
   ]
  },
  {
   "cell_type": "code",
   "execution_count": 23,
   "metadata": {
    "execution": {
     "iopub.execute_input": "2021-10-13T16:53:45.068203Z",
     "iopub.status.busy": "2021-10-13T16:53:45.067850Z",
     "iopub.status.idle": "2021-10-13T16:53:45.547818Z",
     "shell.execute_reply": "2021-10-13T16:53:45.546940Z",
     "shell.execute_reply.started": "2021-10-13T16:53:45.068141Z"
    }
   },
   "outputs": [
    {
     "data": {
      "text/plain": [
       "<matplotlib.axes._subplots.AxesSubplot at 0x7fdb61e06ef0>"
      ]
     },
     "execution_count": 23,
     "metadata": {},
     "output_type": "execute_result"
    },
    {
     "data": {
      "image/png": "[encoded data removed]",
      "text/plain": [
       "<Figure size 864x432 with 1 Axes>"
      ]
     },
     "metadata": {
      "needs_background": "light"
     },
     "output_type": "display_data"
    }
   ],
   "source": [
    "plt.rcParams['figure.figsize'] = (12,6)\n",
    "data.city.value_counts(ascending=True).plot(kind='barh', title = 'Город vs Количество ресторанов в нём')"
   ]
  },
  {
   "cell_type": "code",
   "execution_count": 24,
   "metadata": {
    "execution": {
     "iopub.execute_input": "2021-10-13T16:53:45.921922Z",
     "iopub.status.busy": "2021-10-13T16:53:45.921326Z",
     "iopub.status.idle": "2021-10-13T16:53:45.977576Z",
     "shell.execute_reply": "2021-10-13T16:53:45.976486Z",
     "shell.execute_reply.started": "2021-10-13T16:53:45.921839Z"
    }
   },
   "outputs": [],
   "source": [
    "# Мы видим, что у нас 31 город. Создадим 31 новый признак по названию города (местоположению ресторана)\n",
    "# с помощью метода pd.get_dummies\n",
    "data_city = pd.get_dummies(data['city'], dummy_na=False).astype('int64')\n",
    "data = pd.concat([data,data_city], axis=1)"
   ]
  },
  {
   "cell_type": "code",
   "execution_count": 25,
   "metadata": {
    "execution": {
     "iopub.execute_input": "2021-10-13T16:53:46.858617Z",
     "iopub.status.busy": "2021-10-13T16:53:46.858122Z",
     "iopub.status.idle": "2021-10-13T16:53:46.883210Z",
     "shell.execute_reply": "2021-10-13T16:53:46.882401Z",
     "shell.execute_reply.started": "2021-10-13T16:53:46.858554Z"
    }
   },
   "outputs": [],
   "source": [
    "# На всякий случай закодируем наш признак\n",
    "le = LabelEncoder()\n",
    "le.fit(data['city'])\n",
    "data['code_city'] = le.transform(data['city'])"
   ]
  },
  {
   "cell_type": "code",
   "execution_count": 26,
   "metadata": {
    "execution": {
     "iopub.execute_input": "2021-10-13T16:53:47.694109Z",
     "iopub.status.busy": "2021-10-13T16:53:47.693608Z",
     "iopub.status.idle": "2021-10-13T16:53:47.710521Z",
     "shell.execute_reply": "2021-10-13T16:53:47.709457Z",
     "shell.execute_reply.started": "2021-10-13T16:53:47.694046Z"
    }
   },
   "outputs": [],
   "source": [
    "# Создадим признак: city_population (в млн)\n",
    "dict_city_population = {'London': 8.982, 'Paris': 2.161, 'Madrid' : 3.266, 'Barcelona' : 1.664, 'Berlin' : 3.664, \n",
    "                        'Milan' : 1.378, 'Rome' : 2.870, 'Prague' : 1.335, 'Lisbon': 0.5055, 'Vienna' : 1.897, \n",
    "                        'Amsterdam' : 0.8727, 'Brussels' : 0.185, 'Hamburg' : 1.841, 'Munich': 1.472, \n",
    "                        'Lyon' : 0.507, 'Stockholm' : 0.976, 'Budapest' : 1.752, 'Warsaw' : 1.791, 'Dublin': 0.544,\n",
    "                        'Copenhagen' : 0.616, 'Athens' : 0.664, 'Edinburgh' : 0.488, 'Zurich' : 0.429, \n",
    "                        'Oporto' : 0.232, 'Geneva' : 0.201, 'Krakow' : 0.779, 'Oslo' : 0.673, 'Helsinki' : 0.657,\n",
    "                        'Bratislava' : 0.438, 'Luxembourg' : 0.125, 'Ljubljana' : 0.509} \n",
    "data['city_population'] = data['city'].map(dict_city_population)"
   ]
  },
  {
   "cell_type": "code",
   "execution_count": 27,
   "metadata": {
    "execution": {
     "iopub.execute_input": "2021-10-13T16:53:48.541181Z",
     "iopub.status.busy": "2021-10-13T16:53:48.540576Z",
     "iopub.status.idle": "2021-10-13T16:53:49.106884Z",
     "shell.execute_reply": "2021-10-13T16:53:49.105788Z",
     "shell.execute_reply.started": "2021-10-13T16:53:48.541109Z"
    }
   },
   "outputs": [
    {
     "data": {
      "text/plain": [
       "<matplotlib.axes._subplots.AxesSubplot at 0x7fdb61d15400>"
      ]
     },
     "execution_count": 27,
     "metadata": {},
     "output_type": "execute_result"
    },
    {
     "data": {
      "image/png": "[encoded data removed]",
      "text/plain": [
       "<Figure size 864x432 with 1 Axes>"
      ]
     },
     "metadata": {
      "needs_background": "light"
     },
     "output_type": "display_data"
    }
   ],
   "source": [
    "data.pivot_table(values = ['city_population'], \n",
    "               index = 'city', \n",
    "               aggfunc = 'mean').plot(kind = 'bar')"
   ]
  },
  {
   "cell_type": "code",
   "execution_count": 28,
   "metadata": {
    "execution": {
     "iopub.execute_input": "2021-10-13T16:53:49.362169Z",
     "iopub.status.busy": "2021-10-13T16:53:49.361666Z",
     "iopub.status.idle": "2021-10-13T16:53:49.369461Z",
     "shell.execute_reply": "2021-10-13T16:53:49.368709Z",
     "shell.execute_reply.started": "2021-10-13T16:53:49.362123Z"
    }
   },
   "outputs": [],
   "source": [
    "# Нормализуем методом minmax признак 'city_population' \n",
    "# и запишем это в новый столбец 'city_population_norm'\n",
    "data['city_population_norm'] = MinMax(data.city_population)"
   ]
  },
  {
   "cell_type": "code",
   "execution_count": 29,
   "metadata": {
    "execution": {
     "iopub.execute_input": "2021-10-13T16:53:50.769241Z",
     "iopub.status.busy": "2021-10-13T16:53:50.768891Z",
     "iopub.status.idle": "2021-10-13T16:53:50.811172Z",
     "shell.execute_reply": "2021-10-13T16:53:50.810028Z",
     "shell.execute_reply.started": "2021-10-13T16:53:50.769186Z"
    }
   },
   "outputs": [
    {
     "data": {
      "text/html": [
       "<div>\n",
       "<style scoped>\n",
       "    .dataframe tbody tr th:only-of-type {\n",
       "        vertical-align: middle;\n",
       "    }\n",
       "\n",
       "    .dataframe tbody tr th {\n",
       "        vertical-align: top;\n",
       "    }\n",
       "\n",
       "    .dataframe thead th {\n",
       "        text-align: right;\n",
       "    }\n",
       "</style>\n",
       "<table border=\"1\" class=\"dataframe\">\n",
       "  <thead>\n",
       "    <tr style=\"text-align: right;\">\n",
       "      <th></th>\n",
       "      <th>restaurant_id</th>\n",
       "      <th>city</th>\n",
       "      <th>cuisine_style</th>\n",
       "      <th>ranking</th>\n",
       "      <th>price_range</th>\n",
       "      <th>number_of_reviews</th>\n",
       "      <th>reviews</th>\n",
       "      <th>url_ta</th>\n",
       "      <th>id_ta</th>\n",
       "      <th>sample</th>\n",
       "      <th>rating</th>\n",
       "      <th>chain_count</th>\n",
       "      <th>chain_count_norm</th>\n",
       "      <th>Amsterdam</th>\n",
       "      <th>Athens</th>\n",
       "      <th>Barcelona</th>\n",
       "      <th>Berlin</th>\n",
       "      <th>Bratislava</th>\n",
       "      <th>Brussels</th>\n",
       "      <th>Budapest</th>\n",
       "      <th>Copenhagen</th>\n",
       "      <th>Dublin</th>\n",
       "      <th>Edinburgh</th>\n",
       "      <th>Geneva</th>\n",
       "      <th>Hamburg</th>\n",
       "      <th>Helsinki</th>\n",
       "      <th>Krakow</th>\n",
       "      <th>Lisbon</th>\n",
       "      <th>Ljubljana</th>\n",
       "      <th>London</th>\n",
       "      <th>Luxembourg</th>\n",
       "      <th>Lyon</th>\n",
       "      <th>Madrid</th>\n",
       "      <th>Milan</th>\n",
       "      <th>Munich</th>\n",
       "      <th>Oporto</th>\n",
       "      <th>Oslo</th>\n",
       "      <th>Paris</th>\n",
       "      <th>Prague</th>\n",
       "      <th>Rome</th>\n",
       "      <th>Stockholm</th>\n",
       "      <th>Vienna</th>\n",
       "      <th>Warsaw</th>\n",
       "      <th>Zurich</th>\n",
       "      <th>code_city</th>\n",
       "      <th>city_population</th>\n",
       "      <th>city_population_norm</th>\n",
       "    </tr>\n",
       "  </thead>\n",
       "  <tbody>\n",
       "    <tr>\n",
       "      <th>49702</th>\n",
       "      <td>id_1956</td>\n",
       "      <td>Amsterdam</td>\n",
       "      <td>['Dutch', 'Bar', 'Pub', 'International', 'Euro...</td>\n",
       "      <td>1961.0</td>\n",
       "      <td>$$ - $$$</td>\n",
       "      <td>68.0</td>\n",
       "      <td>[['Well for a man made beach not bad', 'Great ...</td>\n",
       "      <td>/Restaurant_Review-g188590-d2012797-Reviews-Bl...</td>\n",
       "      <td>d2012797</td>\n",
       "      <td>1</td>\n",
       "      <td>3.5</td>\n",
       "      <td>7</td>\n",
       "      <td>0.333333</td>\n",
       "      <td>1</td>\n",
       "      <td>0</td>\n",
       "      <td>0</td>\n",
       "      <td>0</td>\n",
       "      <td>0</td>\n",
       "      <td>0</td>\n",
       "      <td>0</td>\n",
       "      <td>0</td>\n",
       "      <td>0</td>\n",
       "      <td>0</td>\n",
       "      <td>0</td>\n",
       "      <td>0</td>\n",
       "      <td>0</td>\n",
       "      <td>0</td>\n",
       "      <td>0</td>\n",
       "      <td>0</td>\n",
       "      <td>0</td>\n",
       "      <td>0</td>\n",
       "      <td>0</td>\n",
       "      <td>0</td>\n",
       "      <td>0</td>\n",
       "      <td>0</td>\n",
       "      <td>0</td>\n",
       "      <td>0</td>\n",
       "      <td>0</td>\n",
       "      <td>0</td>\n",
       "      <td>0</td>\n",
       "      <td>0</td>\n",
       "      <td>0</td>\n",
       "      <td>0</td>\n",
       "      <td>0</td>\n",
       "      <td>0</td>\n",
       "      <td>0.8727</td>\n",
       "      <td>0.084419</td>\n",
       "    </tr>\n",
       "    <tr>\n",
       "      <th>13696</th>\n",
       "      <td>id_431</td>\n",
       "      <td>Krakow</td>\n",
       "      <td>['Bar', 'International']</td>\n",
       "      <td>432.0</td>\n",
       "      <td>$</td>\n",
       "      <td>34.0</td>\n",
       "      <td>[['Great local cafe for work or meetings', 'Th...</td>\n",
       "      <td>/Restaurant_Review-g274772-d8784768-Reviews-Pi...</td>\n",
       "      <td>d8784768</td>\n",
       "      <td>1</td>\n",
       "      <td>4.5</td>\n",
       "      <td>13</td>\n",
       "      <td>0.666667</td>\n",
       "      <td>0</td>\n",
       "      <td>0</td>\n",
       "      <td>0</td>\n",
       "      <td>0</td>\n",
       "      <td>0</td>\n",
       "      <td>0</td>\n",
       "      <td>0</td>\n",
       "      <td>0</td>\n",
       "      <td>0</td>\n",
       "      <td>0</td>\n",
       "      <td>0</td>\n",
       "      <td>0</td>\n",
       "      <td>0</td>\n",
       "      <td>1</td>\n",
       "      <td>0</td>\n",
       "      <td>0</td>\n",
       "      <td>0</td>\n",
       "      <td>0</td>\n",
       "      <td>0</td>\n",
       "      <td>0</td>\n",
       "      <td>0</td>\n",
       "      <td>0</td>\n",
       "      <td>0</td>\n",
       "      <td>0</td>\n",
       "      <td>0</td>\n",
       "      <td>0</td>\n",
       "      <td>0</td>\n",
       "      <td>0</td>\n",
       "      <td>0</td>\n",
       "      <td>0</td>\n",
       "      <td>0</td>\n",
       "      <td>13</td>\n",
       "      <td>0.7790</td>\n",
       "      <td>0.073840</td>\n",
       "    </tr>\n",
       "  </tbody>\n",
       "</table>\n",
       "</div>"
      ],
      "text/plain": [
       "      restaurant_id       city  \\\n",
       "49702       id_1956  Amsterdam   \n",
       "13696        id_431     Krakow   \n",
       "\n",
       "                                           cuisine_style  ranking price_range  \\\n",
       "49702  ['Dutch', 'Bar', 'Pub', 'International', 'Euro...   1961.0    $$ - $$$   \n",
       "13696                           ['Bar', 'International']    432.0           $   \n",
       "\n",
       "       number_of_reviews                                            reviews  \\\n",
       "49702               68.0  [['Well for a man made beach not bad', 'Great ...   \n",
       "13696               34.0  [['Great local cafe for work or meetings', 'Th...   \n",
       "\n",
       "                                                  url_ta     id_ta  sample  \\\n",
       "49702  /Restaurant_Review-g188590-d2012797-Reviews-Bl...  d2012797       1   \n",
       "13696  /Restaurant_Review-g274772-d8784768-Reviews-Pi...  d8784768       1   \n",
       "\n",
       "       rating  chain_count  chain_count_norm  Amsterdam  Athens  Barcelona  \\\n",
       "49702     3.5            7          0.333333          1       0          0   \n",
       "13696     4.5           13          0.666667          0       0          0   \n",
       "\n",
       "       Berlin  Bratislava  Brussels  Budapest  Copenhagen  Dublin  Edinburgh  \\\n",
       "49702       0           0         0         0           0       0          0   \n",
       "13696       0           0         0         0           0       0          0   \n",
       "\n",
       "       Geneva  Hamburg  Helsinki  Krakow  Lisbon  Ljubljana  London  \\\n",
       "49702       0        0         0       0       0          0       0   \n",
       "13696       0        0         0       1       0          0       0   \n",
       "\n",
       "       Luxembourg  Lyon  Madrid  Milan  Munich  Oporto  Oslo  Paris  Prague  \\\n",
       "49702           0     0       0      0       0       0     0      0       0   \n",
       "13696           0     0       0      0       0       0     0      0       0   \n",
       "\n",
       "       Rome  Stockholm  Vienna  Warsaw  Zurich  code_city  city_population  \\\n",
       "49702     0          0       0       0       0          0           0.8727   \n",
       "13696     0          0       0       0       0         13           0.7790   \n",
       "\n",
       "       city_population_norm  \n",
       "49702              0.084419  \n",
       "13696              0.073840  "
      ]
     },
     "execution_count": 29,
     "metadata": {},
     "output_type": "execute_result"
    }
   ],
   "source": [
    "data.sample(2)"
   ]
  },
  {
   "cell_type": "markdown",
   "metadata": {},
   "source": [
    "# \n",
    "#### 3. cuisine_style\n",
    "- cuisine_style: тип кухни ресторана, категориальный признак. Посмотрим, что можно из него извлечь"
   ]
  },
  {
   "cell_type": "code",
   "execution_count": 30,
   "metadata": {
    "execution": {
     "iopub.execute_input": "2021-10-13T16:53:52.779090Z",
     "iopub.status.busy": "2021-10-13T16:53:52.778679Z",
     "iopub.status.idle": "2021-10-13T16:53:52.800204Z",
     "shell.execute_reply": "2021-10-13T16:53:52.798764Z",
     "shell.execute_reply.started": "2021-10-13T16:53:52.779024Z"
    }
   },
   "outputs": [],
   "source": [
    "# В переменной 11590 (23.18%) пропущенных значений \n",
    "# сохраним эту информацию\n",
    "data['nan_cuisine_style'] = pd.isna(data['cuisine_style']).astype('float64') \n",
    "\n",
    "# Заполним пропуски значением 'Other'\n",
    "data['cuisine_style'] = data['cuisine_style'].fillna(\"['Other']\")\n",
    "\n",
    "# # закодируем значения в переменной до их преобразования\n",
    "# le = LabelEncoder()\n",
    "# le.fit(data['cuisine_style'])\n",
    "# data['code_cuisine_style'] = le.transform(data['cuisine_style'])"
   ]
  },
  {
   "cell_type": "code",
   "execution_count": 31,
   "metadata": {
    "execution": {
     "iopub.execute_input": "2021-10-13T16:53:53.606947Z",
     "iopub.status.busy": "2021-10-13T16:53:53.606583Z",
     "iopub.status.idle": "2021-10-13T16:53:53.873031Z",
     "shell.execute_reply": "2021-10-13T16:53:53.871849Z",
     "shell.execute_reply.started": "2021-10-13T16:53:53.606893Z"
    }
   },
   "outputs": [],
   "source": [
    "# Проведем обработку значений переменной: переведём их в тип list\n",
    "data['cuisine_style'] = data['cuisine_style'].apply(lambda x: json.loads(x.replace(\"'\", '\"')))   "
   ]
  },
  {
   "cell_type": "code",
   "execution_count": 32,
   "metadata": {
    "execution": {
     "iopub.execute_input": "2021-10-13T16:53:54.598346Z",
     "iopub.status.busy": "2021-10-13T16:53:54.597994Z",
     "iopub.status.idle": "2021-10-13T16:53:54.641058Z",
     "shell.execute_reply": "2021-10-13T16:53:54.639597Z",
     "shell.execute_reply.started": "2021-10-13T16:53:54.598288Z"
    }
   },
   "outputs": [
    {
     "name": "stdout",
     "output_type": "stream",
     "text": [
      "126\n"
     ]
    }
   ],
   "source": [
    "# Создаём список для хранения информации о уникальных значениях стилей кухни, \n",
    "# посмотрим сколько их \n",
    "cuisines = set() \n",
    "for x in data['cuisine_style']:\n",
    "    cuisines.update(x)\n",
    "print(len(cuisines))"
   ]
  },
  {
   "cell_type": "code",
   "execution_count": 33,
   "metadata": {
    "execution": {
     "iopub.execute_input": "2021-10-13T16:53:55.411525Z",
     "iopub.status.busy": "2021-10-13T16:53:55.411202Z",
     "iopub.status.idle": "2021-10-13T16:53:55.522846Z",
     "shell.execute_reply": "2021-10-13T16:53:55.521770Z",
     "shell.execute_reply.started": "2021-10-13T16:53:55.411462Z"
    }
   },
   "outputs": [],
   "source": [
    "# Извлечём информацию о стилях кухни и их количестве в датасете\n",
    "mylist = [j for i in data.cuisine_style.tolist() for j in i]\n",
    "styles = collections.Counter()\n",
    "for item in mylist:\n",
    "    styles[item] += 1"
   ]
  },
  {
   "cell_type": "code",
   "execution_count": 34,
   "metadata": {
    "execution": {
     "iopub.execute_input": "2021-10-13T16:53:56.344131Z",
     "iopub.status.busy": "2021-10-13T16:53:56.343761Z",
     "iopub.status.idle": "2021-10-13T16:53:56.357907Z",
     "shell.execute_reply": "2021-10-13T16:53:56.356564Z",
     "shell.execute_reply.started": "2021-10-13T16:53:56.344065Z"
    }
   },
   "outputs": [
    {
     "data": {
      "text/plain": [
       "OrderedDict([('Vegetarian Friendly', 14021),\n",
       "             ('European', 12561),\n",
       "             ('Other', 11590),\n",
       "             ('Mediterranean', 7820),\n",
       "             ('Italian', 7433),\n",
       "             ('Vegan Options', 5684),\n",
       "             ('Gluten Free Options', 5185),\n",
       "             ('Bar', 4094),\n",
       "             ('French', 3970),\n",
       "             ('Asian', 3786),\n",
       "             ('Pizza', 3502),\n",
       "             ('Spanish', 3456),\n",
       "             ('Pub', 3058),\n",
       "             ('Cafe', 2883),\n",
       "             ('Fast Food', 2122),\n",
       "             ('British', 1992),\n",
       "             ('International', 1966),\n",
       "             ('Seafood', 1878),\n",
       "             ('Japanese', 1860),\n",
       "             ('Central European', 1727),\n",
       "             ('American', 1642),\n",
       "             ('Sushi', 1450),\n",
       "             ('Chinese', 1446),\n",
       "             ('Portuguese', 1385),\n",
       "             ('Indian', 1328),\n",
       "             ('Middle Eastern', 980),\n",
       "             ('Thai', 923),\n",
       "             ('Wine Bar', 877),\n",
       "             ('German', 820),\n",
       "             ('Halal', 773),\n",
       "             ('Greek', 768),\n",
       "             ('Healthy', 758),\n",
       "             ('Fusion', 748),\n",
       "             ('Czech', 745),\n",
       "             ('Steakhouse', 729),\n",
       "             ('Barbecue', 710),\n",
       "             ('Contemporary', 652),\n",
       "             ('Soups', 630),\n",
       "             ('Eastern European', 629),\n",
       "             ('Vietnamese', 622),\n",
       "             ('Grill', 617),\n",
       "             ('Gastropub', 608),\n",
       "             ('Turkish', 574),\n",
       "             ('Mexican', 572),\n",
       "             ('South American', 490),\n",
       "             ('Delicatessen', 473),\n",
       "             ('Austrian', 462),\n",
       "             ('Polish', 453),\n",
       "             ('Scandinavian', 449),\n",
       "             ('Hungarian', 444),\n",
       "             ('Lebanese', 397),\n",
       "             ('Diner', 375),\n",
       "             ('Latin', 373),\n",
       "             ('Dutch', 368),\n",
       "             ('Irish', 352),\n",
       "             ('Street Food', 336),\n",
       "             ('Belgian', 335),\n",
       "             ('Brew Pub', 299),\n",
       "             ('Danish', 225),\n",
       "             ('Swiss', 223),\n",
       "             ('Swedish', 223),\n",
       "             ('Argentinean', 214),\n",
       "             ('Korean', 206),\n",
       "             ('Scottish', 199),\n",
       "             ('African', 193),\n",
       "             ('Moroccan', 173),\n",
       "             ('Central American', 168),\n",
       "             ('Brazilian', 152),\n",
       "             ('Pakistani', 140),\n",
       "             ('Peruvian', 130),\n",
       "             ('Caribbean', 124),\n",
       "             ('Nepali', 121),\n",
       "             ('Balti', 104),\n",
       "             ('Bangladeshi', 100),\n",
       "             ('Norwegian', 96),\n",
       "             ('Israeli', 90),\n",
       "             ('Slovenian', 85),\n",
       "             ('Persian', 77),\n",
       "             ('Indonesian', 71),\n",
       "             ('Russian', 66),\n",
       "             ('Arabic', 58),\n",
       "             ('Kosher', 56),\n",
       "             ('Ethiopian', 51),\n",
       "             ('Venezuelan', 51),\n",
       "             ('Malaysian', 38),\n",
       "             ('Australian', 36),\n",
       "             ('Jamaican', 36),\n",
       "             ('Croatian', 33),\n",
       "             ('Cuban', 32),\n",
       "             ('Colombian', 30),\n",
       "             ('Sri Lankan', 30),\n",
       "             ('Taiwanese', 30),\n",
       "             ('Tibetan', 29),\n",
       "             ('Afghani', 27),\n",
       "             ('Cajun & Creole', 27),\n",
       "             ('Southwestern', 24),\n",
       "             ('Egyptian', 24),\n",
       "             ('Tunisian', 23),\n",
       "             ('Hawaiian', 23),\n",
       "             ('Cambodian', 22),\n",
       "             ('Singaporean', 21),\n",
       "             ('Mongolian', 20),\n",
       "             ('Ukrainian', 20),\n",
       "             ('Georgian', 18),\n",
       "             ('Armenian', 17),\n",
       "             ('Filipino', 17),\n",
       "             ('Chilean', 16),\n",
       "             ('Romanian', 13),\n",
       "             ('Minority Chinese', 12),\n",
       "             ('Central Asian', 12),\n",
       "             ('Ecuadorean', 8),\n",
       "             ('Albanian', 8),\n",
       "             ('Canadian', 7),\n",
       "             ('New Zealand', 7),\n",
       "             ('Native American', 5),\n",
       "             ('Uzbek', 5),\n",
       "             ('Caucasian', 4),\n",
       "             ('Welsh', 3),\n",
       "             ('Azerbaijani', 3),\n",
       "             ('Yunnan', 2),\n",
       "             ('Polynesian', 2),\n",
       "             ('Fujian', 2),\n",
       "             ('Salvadoran', 1),\n",
       "             ('Xinjiang', 1),\n",
       "             ('Burmese', 1),\n",
       "             ('Latvian', 1)])"
      ]
     },
     "execution_count": 34,
     "metadata": {},
     "output_type": "execute_result"
    }
   ],
   "source": [
    "# Посмотрим порядок частоты распространения\n",
    "OrderedDict(sorted(styles.items(), key=itemgetter(1), reverse=True))"
   ]
  },
  {
   "cell_type": "code",
   "execution_count": 35,
   "metadata": {
    "execution": {
     "iopub.execute_input": "2021-10-13T16:53:57.186344Z",
     "iopub.status.busy": "2021-10-13T16:53:57.186056Z",
     "iopub.status.idle": "2021-10-13T16:53:59.467929Z",
     "shell.execute_reply": "2021-10-13T16:53:59.467210Z",
     "shell.execute_reply.started": "2021-10-13T16:53:57.186303Z"
    }
   },
   "outputs": [
    {
     "data": {
      "text/plain": [
       "<matplotlib.axes._subplots.AxesSubplot at 0x7fdb46426080>"
      ]
     },
     "execution_count": 35,
     "metadata": {},
     "output_type": "execute_result"
    },
    {
     "data": {
      "image/png": "[encoded data removed]",
      "text/plain": [
       "<Figure size 1440x432 with 1 Axes>"
      ]
     },
     "metadata": {
      "needs_background": "light"
     },
     "output_type": "display_data"
    }
   ],
   "source": [
    "plt.figure(figsize=(20, 6))\n",
    "pd.Series.explode(data['cuisine_style']).value_counts().plot(kind='bar', \n",
    "                                                             title='Колличество стилей кухни')"
   ]
  },
  {
   "cell_type": "code",
   "execution_count": 36,
   "metadata": {
    "execution": {
     "iopub.execute_input": "2021-10-13T16:53:59.470108Z",
     "iopub.status.busy": "2021-10-13T16:53:59.469820Z",
     "iopub.status.idle": "2021-10-13T16:53:59.615768Z",
     "shell.execute_reply": "2021-10-13T16:53:59.615012Z",
     "shell.execute_reply.started": "2021-10-13T16:53:59.470052Z"
    }
   },
   "outputs": [
    {
     "data": {
      "text/plain": [
       "0.0    42234\n",
       "1.0     7766\n",
       "Name: rare_сuisine_style, dtype: int64"
      ]
     },
     "execution_count": 36,
     "metadata": {},
     "output_type": "execute_result"
    }
   ],
   "source": [
    "# сформируем список редких кухонь (частота упоминанич в датасете менее 500) \n",
    "# и сформируем на его основе новый признак\n",
    "list_of_rare_сuisine = [x[0] for x in styles.most_common() if x[1] < 500]\n",
    "data['rare_сuisine_style'] = data['cuisine_style'].apply(lambda x: 1 if len(set(x) & \n",
    "                                                                            set(list_of_rare_сuisine))>0  \n",
    "                                                         else 0).astype('float64')\n",
    "data.rare_сuisine_style.value_counts()"
   ]
  },
  {
   "cell_type": "code",
   "execution_count": 37,
   "metadata": {
    "execution": {
     "iopub.execute_input": "2021-10-13T16:53:59.617495Z",
     "iopub.status.busy": "2021-10-13T16:53:59.617214Z",
     "iopub.status.idle": "2021-10-13T16:53:59.662152Z",
     "shell.execute_reply": "2021-10-13T16:53:59.661132Z",
     "shell.execute_reply.started": "2021-10-13T16:53:59.617445Z"
    }
   },
   "outputs": [
    {
     "data": {
      "text/plain": [
       "1     20744\n",
       "2      7794\n",
       "3      6638\n",
       "4      5948\n",
       "5      4482\n",
       "6      2611\n",
       "7      1294\n",
       "8       363\n",
       "9        93\n",
       "10       26\n",
       "11        4\n",
       "21        1\n",
       "15        1\n",
       "13        1\n",
       "Name: number_cuisine_style, dtype: int64"
      ]
     },
     "execution_count": 37,
     "metadata": {},
     "output_type": "execute_result"
    }
   ],
   "source": [
    "# Сгенерируем новый признак - количество кухонь в ресторане\n",
    "data['number_cuisine_style'] = data['cuisine_style'].apply(lambda x: len(x)).astype('int64')\n",
    "\n",
    "# Посмотрим распределение нового признака\n",
    "data['number_cuisine_style'].value_counts()"
   ]
  },
  {
   "cell_type": "markdown",
   "metadata": {},
   "source": [
    "Мы помним, что в значении столбца data['number_cuisine_style'] == 1 заложены 11590 строк с пропусками, которые мы заменили на 'Other'. Нам стоит заменить в столбце 'number_cuisine_style' значение 1 в тех стороках, где были пропуски в значении cuisine_style, на mean(), либо поскольку их очень много, а разброс в вариантах количества кухонь велик заполнить их согласно общему распределению количества кухонь в процентах по всему датасету"
   ]
  },
  {
   "cell_type": "code",
   "execution_count": 38,
   "metadata": {
    "execution": {
     "iopub.execute_input": "2021-10-13T16:54:00.634814Z",
     "iopub.status.busy": "2021-10-13T16:54:00.634175Z",
     "iopub.status.idle": "2021-10-13T16:54:07.441013Z",
     "shell.execute_reply": "2021-10-13T16:54:07.439871Z",
     "shell.execute_reply.started": "2021-10-13T16:54:00.634763Z"
    }
   },
   "outputs": [
    {
     "data": {
      "text/plain": [
       "1.0     11917\n",
       "2.0     10146\n",
       "3.0      8641\n",
       "4.0      7743\n",
       "5.0      5834\n",
       "6.0      3399\n",
       "7.0      1684\n",
       "8.0       473\n",
       "9.0       121\n",
       "10.0       34\n",
       "11.0        5\n",
       "15.0        1\n",
       "13.0        1\n",
       "21.0        1\n",
       "Name: number_cuisine_style, dtype: int64"
      ]
     },
     "execution_count": 38,
     "metadata": {},
     "output_type": "execute_result"
    }
   ],
   "source": [
    "data.loc[data['nan_cuisine_style'] == 1, 'number_cuisine_style'] = np.nan\n",
    "list_for_replacement = ['number_cuisine_style']\n",
    "replacement_prop(data,list_for_replacement)\n",
    "\n",
    "# Посмотрим теперь распределение признака\n",
    "data['number_cuisine_style'].value_counts()"
   ]
  },
  {
   "cell_type": "code",
   "execution_count": 39,
   "metadata": {
    "execution": {
     "iopub.execute_input": "2021-10-13T16:54:07.443643Z",
     "iopub.status.busy": "2021-10-13T16:54:07.443344Z",
     "iopub.status.idle": "2021-10-13T16:54:07.797309Z",
     "shell.execute_reply": "2021-10-13T16:54:07.796199Z",
     "shell.execute_reply.started": "2021-10-13T16:54:07.443586Z"
    }
   },
   "outputs": [
    {
     "data": {
      "text/plain": [
       "<matplotlib.axes._subplots.AxesSubplot at 0x7fdb4621bbe0>"
      ]
     },
     "execution_count": 39,
     "metadata": {},
     "output_type": "execute_result"
    },
    {
     "data": {
      "image/png": "[encoded data removed]",
      "text/plain": [
       "<Figure size 864x432 with 1 Axes>"
      ]
     },
     "metadata": {
      "needs_background": "light"
     },
     "output_type": "display_data"
    }
   ],
   "source": [
    "data.number_cuisine_style.value_counts().plot(kind = 'bar', \n",
    "                              grid = True, \n",
    "                              colormap = 'coolwarm', \n",
    "                              title = 'Количество стилей кухни vs Число ресторанов' )"
   ]
  },
  {
   "cell_type": "code",
   "execution_count": 40,
   "metadata": {
    "execution": {
     "iopub.execute_input": "2021-10-13T16:54:07.799930Z",
     "iopub.status.busy": "2021-10-13T16:54:07.799215Z",
     "iopub.status.idle": "2021-10-13T16:54:07.809401Z",
     "shell.execute_reply": "2021-10-13T16:54:07.808402Z",
     "shell.execute_reply.started": "2021-10-13T16:54:07.799856Z"
    }
   },
   "outputs": [],
   "source": [
    "# Нормализуем методом minmax признак 'number_cuisine_style' \n",
    "# и запишем это в новый столбец 'number_cuisine_norm'\n",
    "data['number_cuisine_norm'] = MinMax(data.number_cuisine_style)"
   ]
  },
  {
   "cell_type": "code",
   "execution_count": 41,
   "metadata": {
    "execution": {
     "iopub.execute_input": "2021-10-13T16:54:07.811974Z",
     "iopub.status.busy": "2021-10-13T16:54:07.811292Z",
     "iopub.status.idle": "2021-10-13T16:54:08.064616Z",
     "shell.execute_reply": "2021-10-13T16:54:08.063574Z",
     "shell.execute_reply.started": "2021-10-13T16:54:07.811908Z"
    }
   },
   "outputs": [
    {
     "data": {
      "image/png": "[encoded data removed]",
      "text/plain": [
       "<Figure size 864x432 with 1 Axes>"
      ]
     },
     "metadata": {
      "needs_background": "light"
     },
     "output_type": "display_data"
    },
    {
     "name": "stdout",
     "output_type": "stream",
     "text": [
      "25-й перцентиль: 0.05 75-й перцентиль: 0.15000000000000002, IQR: 0.10000000000000002,  Границы выбросов: [-0.10000000000000002, 0.30000000000000004].\n",
      "Выбросов, согласно IQR: 636 | 1.27%\n"
     ]
    }
   ],
   "source": [
    "# Посмотрим на выбросы:\n",
    "sns.boxplot(data=data, x='number_cuisine_norm')\n",
    "plt.show()\n",
    "IQR_outlier('number_cuisine_norm', verbose=True)"
   ]
  },
  {
   "cell_type": "markdown",
   "metadata": {},
   "source": [
    "**Итого:** Сформирован новый признак 'number_cuisine_norm'. Выбросов мало 1.27%."
   ]
  },
  {
   "cell_type": "markdown",
   "metadata": {},
   "source": [
    "# \n",
    "#### 4. ranking\n",
    "\n",
    "- ranking — место, которое занимает данный ресторан среди всех ресторанов своего города."
   ]
  },
  {
   "cell_type": "code",
   "execution_count": 42,
   "metadata": {
    "execution": {
     "iopub.execute_input": "2021-10-13T16:54:18.192664Z",
     "iopub.status.busy": "2021-10-13T16:54:18.191980Z",
     "iopub.status.idle": "2021-10-13T16:54:19.178271Z",
     "shell.execute_reply": "2021-10-13T16:54:19.177195Z",
     "shell.execute_reply.started": "2021-10-13T16:54:18.192606Z"
    }
   },
   "outputs": [
    {
     "data": {
      "image/png": "[encoded data removed]",
      "text/plain": [
       "<Figure size 864x432 with 1 Axes>"
      ]
     },
     "metadata": {
      "needs_background": "light"
     },
     "output_type": "display_data"
    }
   ],
   "source": [
    "# Посмотрим на распределение рангов внутри городов для первых пяти городов с наибольшим числом ресторанов\n",
    "сities = []\n",
    "for x in (data['city'].value_counts())[0:5].index:\n",
    "    data['ranking'][data['city'] == x].hist(bins=50)\n",
    "    сities.append(x)\n",
    "plt.legend(сities, loc=2)\n",
    "plt.title('Распределение ранга ресторанов в городах')\n",
    "plt.show()"
   ]
  },
  {
   "cell_type": "markdown",
   "metadata": {},
   "source": [
    "Мы видим, что внутри городов ранг распределен более-менее нормально. Имеет смысл создать новый признак 'real_ranking', используя среднее mean() переменной 'ranking'"
   ]
  },
  {
   "cell_type": "code",
   "execution_count": 43,
   "metadata": {
    "execution": {
     "iopub.execute_input": "2021-10-13T16:54:22.379604Z",
     "iopub.status.busy": "2021-10-13T16:54:22.378937Z",
     "iopub.status.idle": "2021-10-13T16:54:22.911642Z",
     "shell.execute_reply": "2021-10-13T16:54:22.910437Z",
     "shell.execute_reply.started": "2021-10-13T16:54:22.379549Z"
    }
   },
   "outputs": [
    {
     "data": {
      "text/plain": [
       "<matplotlib.axes._subplots.AxesSubplot at 0x7fdb460f83c8>"
      ]
     },
     "execution_count": 43,
     "metadata": {},
     "output_type": "execute_result"
    },
    {
     "data": {
      "image/png": "[encoded data removed]",
      "text/plain": [
       "<Figure size 864x432 with 1 Axes>"
      ]
     },
     "metadata": {
      "needs_background": "light"
     },
     "output_type": "display_data"
    }
   ],
   "source": [
    "# Посмотрим на распределение средних значений ранга по городам\n",
    "data.pivot_table(values = ['ranking'], \n",
    "               index = 'city', \n",
    "               aggfunc = 'mean').plot(kind = 'bar')\n",
    "# Видим, что средний 'ranking' зависит от величины города и соответственно \n",
    "# от количества ресторанов в нём"
   ]
  },
  {
   "cell_type": "code",
   "execution_count": 44,
   "metadata": {
    "execution": {
     "iopub.execute_input": "2021-10-13T16:54:24.743243Z",
     "iopub.status.busy": "2021-10-13T16:54:24.742854Z",
     "iopub.status.idle": "2021-10-13T16:54:25.027256Z",
     "shell.execute_reply": "2021-10-13T16:54:25.025489Z",
     "shell.execute_reply.started": "2021-10-13T16:54:24.743184Z"
    }
   },
   "outputs": [
    {
     "data": {
      "image/png": "[encoded data removed]",
      "text/plain": [
       "<Figure size 864x432 with 1 Axes>"
      ]
     },
     "metadata": {
      "needs_background": "light"
     },
     "output_type": "display_data"
    },
    {
     "name": "stdout",
     "output_type": "stream",
     "text": [
      "25-й перцентиль: 972.0 75-й перцентиль: 5241.0, IQR: 4269.0,  Границы выбросов: [-5431.5, 11644.5].\n",
      "Выбросов, согласно IQR: 3075 | 6.15%\n"
     ]
    }
   ],
   "source": [
    "# Посмотрим на выбросы:\n",
    "sns.boxplot(data=data, x='ranking')\n",
    "plt.show()\n",
    "IQR_outlier('ranking', verbose=True)"
   ]
  },
  {
   "cell_type": "code",
   "execution_count": 45,
   "metadata": {
    "execution": {
     "iopub.execute_input": "2021-10-13T16:54:26.490940Z",
     "iopub.status.busy": "2021-10-13T16:54:26.490601Z",
     "iopub.status.idle": "2021-10-13T16:54:26.689378Z",
     "shell.execute_reply": "2021-10-13T16:54:26.688101Z",
     "shell.execute_reply.started": "2021-10-13T16:54:26.490897Z"
    }
   },
   "outputs": [
    {
     "data": {
      "text/html": [
       "<div>\n",
       "<style scoped>\n",
       "    .dataframe tbody tr th:only-of-type {\n",
       "        vertical-align: middle;\n",
       "    }\n",
       "\n",
       "    .dataframe tbody tr th {\n",
       "        vertical-align: top;\n",
       "    }\n",
       "\n",
       "    .dataframe thead th {\n",
       "        text-align: right;\n",
       "    }\n",
       "</style>\n",
       "<table border=\"1\" class=\"dataframe\">\n",
       "  <thead>\n",
       "    <tr style=\"text-align: right;\">\n",
       "      <th></th>\n",
       "      <th>restaurant_id</th>\n",
       "      <th>city</th>\n",
       "      <th>cuisine_style</th>\n",
       "      <th>ranking</th>\n",
       "      <th>price_range</th>\n",
       "      <th>number_of_reviews</th>\n",
       "      <th>reviews</th>\n",
       "      <th>url_ta</th>\n",
       "      <th>id_ta</th>\n",
       "      <th>sample</th>\n",
       "      <th>rating</th>\n",
       "      <th>chain_count</th>\n",
       "      <th>chain_count_norm</th>\n",
       "      <th>Amsterdam</th>\n",
       "      <th>Athens</th>\n",
       "      <th>Barcelona</th>\n",
       "      <th>Berlin</th>\n",
       "      <th>Bratislava</th>\n",
       "      <th>Brussels</th>\n",
       "      <th>Budapest</th>\n",
       "      <th>Copenhagen</th>\n",
       "      <th>Dublin</th>\n",
       "      <th>Edinburgh</th>\n",
       "      <th>Geneva</th>\n",
       "      <th>Hamburg</th>\n",
       "      <th>Helsinki</th>\n",
       "      <th>Krakow</th>\n",
       "      <th>Lisbon</th>\n",
       "      <th>Ljubljana</th>\n",
       "      <th>London</th>\n",
       "      <th>Luxembourg</th>\n",
       "      <th>Lyon</th>\n",
       "      <th>Madrid</th>\n",
       "      <th>Milan</th>\n",
       "      <th>Munich</th>\n",
       "      <th>Oporto</th>\n",
       "      <th>Oslo</th>\n",
       "      <th>Paris</th>\n",
       "      <th>Prague</th>\n",
       "      <th>Rome</th>\n",
       "      <th>Stockholm</th>\n",
       "      <th>Vienna</th>\n",
       "      <th>Warsaw</th>\n",
       "      <th>Zurich</th>\n",
       "      <th>code_city</th>\n",
       "      <th>city_population</th>\n",
       "      <th>city_population_norm</th>\n",
       "      <th>nan_cuisine_style</th>\n",
       "      <th>rare_сuisine_style</th>\n",
       "      <th>number_cuisine_style</th>\n",
       "      <th>number_cuisine_norm</th>\n",
       "      <th>number_of_rest</th>\n",
       "      <th>mean_ranking</th>\n",
       "      <th>ranking_norm</th>\n",
       "    </tr>\n",
       "  </thead>\n",
       "  <tbody>\n",
       "    <tr>\n",
       "      <th>10829</th>\n",
       "      <td>id_2601</td>\n",
       "      <td>Paris</td>\n",
       "      <td>[Italian, Pizza, Vegetarian Friendly]</td>\n",
       "      <td>2602.0</td>\n",
       "      <td>$$ - $$$</td>\n",
       "      <td>76.0</td>\n",
       "      <td>[['Very pleasant surprise, awesome pizza per.....</td>\n",
       "      <td>/Restaurant_Review-g187147-d1503730-Reviews-Dr...</td>\n",
       "      <td>d1503730</td>\n",
       "      <td>1</td>\n",
       "      <td>4.5</td>\n",
       "      <td>4</td>\n",
       "      <td>0.166667</td>\n",
       "      <td>0</td>\n",
       "      <td>0</td>\n",
       "      <td>0</td>\n",
       "      <td>0</td>\n",
       "      <td>0</td>\n",
       "      <td>0</td>\n",
       "      <td>0</td>\n",
       "      <td>0</td>\n",
       "      <td>0</td>\n",
       "      <td>0</td>\n",
       "      <td>0</td>\n",
       "      <td>0</td>\n",
       "      <td>0</td>\n",
       "      <td>0</td>\n",
       "      <td>0</td>\n",
       "      <td>0</td>\n",
       "      <td>0</td>\n",
       "      <td>0</td>\n",
       "      <td>0</td>\n",
       "      <td>0</td>\n",
       "      <td>0</td>\n",
       "      <td>0</td>\n",
       "      <td>0</td>\n",
       "      <td>0</td>\n",
       "      <td>1</td>\n",
       "      <td>0</td>\n",
       "      <td>0</td>\n",
       "      <td>0</td>\n",
       "      <td>0</td>\n",
       "      <td>0</td>\n",
       "      <td>0</td>\n",
       "      <td>24</td>\n",
       "      <td>2.161</td>\n",
       "      <td>0.229875</td>\n",
       "      <td>0.0</td>\n",
       "      <td>0.0</td>\n",
       "      <td>3.0</td>\n",
       "      <td>0.10</td>\n",
       "      <td>6108</td>\n",
       "      <td>6938.557138</td>\n",
       "      <td>-0.709980</td>\n",
       "    </tr>\n",
       "    <tr>\n",
       "      <th>901</th>\n",
       "      <td>id_901</td>\n",
       "      <td>Paris</td>\n",
       "      <td>[French, European, Vegetarian Friendly]</td>\n",
       "      <td>684.0</td>\n",
       "      <td>NaN</td>\n",
       "      <td>1459.0</td>\n",
       "      <td>[['Sympa, Satisfying, Easy on the Wallet', 'Lo...</td>\n",
       "      <td>/Restaurant_Review-g187147-d718650-Reviews-La_...</td>\n",
       "      <td>d718650</td>\n",
       "      <td>0</td>\n",
       "      <td>0.0</td>\n",
       "      <td>12</td>\n",
       "      <td>0.611111</td>\n",
       "      <td>0</td>\n",
       "      <td>0</td>\n",
       "      <td>0</td>\n",
       "      <td>0</td>\n",
       "      <td>0</td>\n",
       "      <td>0</td>\n",
       "      <td>0</td>\n",
       "      <td>0</td>\n",
       "      <td>0</td>\n",
       "      <td>0</td>\n",
       "      <td>0</td>\n",
       "      <td>0</td>\n",
       "      <td>0</td>\n",
       "      <td>0</td>\n",
       "      <td>0</td>\n",
       "      <td>0</td>\n",
       "      <td>0</td>\n",
       "      <td>0</td>\n",
       "      <td>0</td>\n",
       "      <td>0</td>\n",
       "      <td>0</td>\n",
       "      <td>0</td>\n",
       "      <td>0</td>\n",
       "      <td>0</td>\n",
       "      <td>1</td>\n",
       "      <td>0</td>\n",
       "      <td>0</td>\n",
       "      <td>0</td>\n",
       "      <td>0</td>\n",
       "      <td>0</td>\n",
       "      <td>0</td>\n",
       "      <td>24</td>\n",
       "      <td>2.161</td>\n",
       "      <td>0.229875</td>\n",
       "      <td>0.0</td>\n",
       "      <td>0.0</td>\n",
       "      <td>3.0</td>\n",
       "      <td>0.10</td>\n",
       "      <td>6108</td>\n",
       "      <td>6938.557138</td>\n",
       "      <td>-1.023994</td>\n",
       "    </tr>\n",
       "    <tr>\n",
       "      <th>13702</th>\n",
       "      <td>id_5494</td>\n",
       "      <td>London</td>\n",
       "      <td>[Cafe, British]</td>\n",
       "      <td>5503.0</td>\n",
       "      <td>$</td>\n",
       "      <td>34.0</td>\n",
       "      <td>[['Like my own (shared) central London living....</td>\n",
       "      <td>/Restaurant_Review-g186338-d6001452-Reviews-Zi...</td>\n",
       "      <td>d6001452</td>\n",
       "      <td>1</td>\n",
       "      <td>4.5</td>\n",
       "      <td>5</td>\n",
       "      <td>0.222222</td>\n",
       "      <td>0</td>\n",
       "      <td>0</td>\n",
       "      <td>0</td>\n",
       "      <td>0</td>\n",
       "      <td>0</td>\n",
       "      <td>0</td>\n",
       "      <td>0</td>\n",
       "      <td>0</td>\n",
       "      <td>0</td>\n",
       "      <td>0</td>\n",
       "      <td>0</td>\n",
       "      <td>0</td>\n",
       "      <td>0</td>\n",
       "      <td>0</td>\n",
       "      <td>0</td>\n",
       "      <td>0</td>\n",
       "      <td>1</td>\n",
       "      <td>0</td>\n",
       "      <td>0</td>\n",
       "      <td>0</td>\n",
       "      <td>0</td>\n",
       "      <td>0</td>\n",
       "      <td>0</td>\n",
       "      <td>0</td>\n",
       "      <td>0</td>\n",
       "      <td>0</td>\n",
       "      <td>0</td>\n",
       "      <td>0</td>\n",
       "      <td>0</td>\n",
       "      <td>0</td>\n",
       "      <td>0</td>\n",
       "      <td>16</td>\n",
       "      <td>8.982</td>\n",
       "      <td>1.000000</td>\n",
       "      <td>0.0</td>\n",
       "      <td>0.0</td>\n",
       "      <td>2.0</td>\n",
       "      <td>0.05</td>\n",
       "      <td>7193</td>\n",
       "      <td>8169.707354</td>\n",
       "      <td>-0.370736</td>\n",
       "    </tr>\n",
       "  </tbody>\n",
       "</table>\n",
       "</div>"
      ],
      "text/plain": [
       "      restaurant_id    city                            cuisine_style  ranking  \\\n",
       "10829       id_2601   Paris    [Italian, Pizza, Vegetarian Friendly]   2602.0   \n",
       "901          id_901   Paris  [French, European, Vegetarian Friendly]    684.0   \n",
       "13702       id_5494  London                          [Cafe, British]   5503.0   \n",
       "\n",
       "      price_range  number_of_reviews  \\\n",
       "10829    $$ - $$$               76.0   \n",
       "901           NaN             1459.0   \n",
       "13702           $               34.0   \n",
       "\n",
       "                                                 reviews  \\\n",
       "10829  [['Very pleasant surprise, awesome pizza per.....   \n",
       "901    [['Sympa, Satisfying, Easy on the Wallet', 'Lo...   \n",
       "13702  [['Like my own (shared) central London living....   \n",
       "\n",
       "                                                  url_ta     id_ta  sample  \\\n",
       "10829  /Restaurant_Review-g187147-d1503730-Reviews-Dr...  d1503730       1   \n",
       "901    /Restaurant_Review-g187147-d718650-Reviews-La_...   d718650       0   \n",
       "13702  /Restaurant_Review-g186338-d6001452-Reviews-Zi...  d6001452       1   \n",
       "\n",
       "       rating  chain_count  chain_count_norm  Amsterdam  Athens  Barcelona  \\\n",
       "10829     4.5            4          0.166667          0       0          0   \n",
       "901       0.0           12          0.611111          0       0          0   \n",
       "13702     4.5            5          0.222222          0       0          0   \n",
       "\n",
       "       Berlin  Bratislava  Brussels  Budapest  Copenhagen  Dublin  Edinburgh  \\\n",
       "10829       0           0         0         0           0       0          0   \n",
       "901         0           0         0         0           0       0          0   \n",
       "13702       0           0         0         0           0       0          0   \n",
       "\n",
       "       Geneva  Hamburg  Helsinki  Krakow  Lisbon  Ljubljana  London  \\\n",
       "10829       0        0         0       0       0          0       0   \n",
       "901         0        0         0       0       0          0       0   \n",
       "13702       0        0         0       0       0          0       1   \n",
       "\n",
       "       Luxembourg  Lyon  Madrid  Milan  Munich  Oporto  Oslo  Paris  Prague  \\\n",
       "10829           0     0       0      0       0       0     0      1       0   \n",
       "901             0     0       0      0       0       0     0      1       0   \n",
       "13702           0     0       0      0       0       0     0      0       0   \n",
       "\n",
       "       Rome  Stockholm  Vienna  Warsaw  Zurich  code_city  city_population  \\\n",
       "10829     0          0       0       0       0         24            2.161   \n",
       "901       0          0       0       0       0         24            2.161   \n",
       "13702     0          0       0       0       0         16            8.982   \n",
       "\n",
       "       city_population_norm  nan_cuisine_style  rare_сuisine_style  \\\n",
       "10829              0.229875                0.0                 0.0   \n",
       "901                0.229875                0.0                 0.0   \n",
       "13702              1.000000                0.0                 0.0   \n",
       "\n",
       "       number_cuisine_style  number_cuisine_norm  number_of_rest  \\\n",
       "10829                   3.0                 0.10            6108   \n",
       "901                     3.0                 0.10            6108   \n",
       "13702                   2.0                 0.05            7193   \n",
       "\n",
       "       mean_ranking  ranking_norm  \n",
       "10829   6938.557138     -0.709980  \n",
       "901     6938.557138     -1.023994  \n",
       "13702   8169.707354     -0.370736  "
      ]
     },
     "execution_count": 45,
     "metadata": {},
     "output_type": "execute_result"
    }
   ],
   "source": [
    "# Создадим нормализованный вручную признак 'ranking_norm'\n",
    "restorans = data['city'].value_counts().rename_axis('city').to_frame(name='number_of_rest')\n",
    "mean_ranking = data.groupby(['city'])['ranking'].mean().to_frame(name='mean_ranking')\n",
    "data = data.merge(restorans, on='city', how='left')\n",
    "data = data.merge(mean_ranking, on='city', how='left')\n",
    "data['ranking_norm'] = (data['ranking'] - data['mean_ranking']) / data['number_of_rest']\n",
    "data.sample(3)"
   ]
  },
  {
   "cell_type": "code",
   "execution_count": 46,
   "metadata": {
    "execution": {
     "iopub.execute_input": "2021-10-13T16:54:29.209453Z",
     "iopub.status.busy": "2021-10-13T16:54:29.209126Z",
     "iopub.status.idle": "2021-10-13T16:54:33.479034Z",
     "shell.execute_reply": "2021-10-13T16:54:33.477264Z",
     "shell.execute_reply.started": "2021-10-13T16:54:29.209400Z"
    }
   },
   "outputs": [
    {
     "data": {
      "image/png": "[encoded data removed]",
      "text/plain": [
       "<Figure size 432x288 with 2 Axes>"
      ]
     },
     "metadata": {
      "needs_background": "light"
     },
     "output_type": "display_data"
    },
    {
     "name": "stdout",
     "output_type": "stream",
     "text": [
      "25-й перцентиль: -0.5776474089794654 75-й перцентиль: 0.576219281098023, IQR: 1.1538666900774883,  Границы выбросов: [-2.308447444095698, 2.3070193162142556].\n",
      "Выбросов, согласно IQR: 0 | 0.00%\n"
     ]
    }
   ],
   "source": [
    "# Смотрим графики\n",
    "fig, axes = plt.subplots(ncols=2, figsize=(6, 4))\n",
    "\n",
    "sns.boxplot(data=data, x='ranking_norm', orient=\"h\",\n",
    "                 palette=\"Set2\", whis=1.5, ax=axes[0]);\n",
    "data['ranking_norm'].hist(bins=1000, ax=axes[1])\n",
    "fig.tight_layout(rect=[-1, 0.03, 1, 0.95])\n",
    "plt.title('Распределение ranking_norm')\n",
    "plt.show()\n",
    "IQR_outlier('ranking_norm', verbose=True)"
   ]
  },
  {
   "cell_type": "code",
   "execution_count": 47,
   "metadata": {
    "execution": {
     "iopub.execute_input": "2021-10-13T16:54:33.482351Z",
     "iopub.status.busy": "2021-10-13T16:54:33.481908Z",
     "iopub.status.idle": "2021-10-13T16:54:36.261692Z",
     "shell.execute_reply": "2021-10-13T16:54:36.260415Z",
     "shell.execute_reply.started": "2021-10-13T16:54:33.482276Z"
    }
   },
   "outputs": [
    {
     "data": {
      "image/png": "[encoded data removed]",
      "text/plain": [
       "<Figure size 864x432 with 1 Axes>"
      ]
     },
     "metadata": {
      "needs_background": "light"
     },
     "output_type": "display_data"
    }
   ],
   "source": [
    "# Посмотрим на распределение рангов внутри городов для первых десяти городов \n",
    "# с наибольшим числом ресторанов\n",
    "сities = []\n",
    "for x in (data['city'].value_counts())[0:10].index:\n",
    "    data['ranking_norm'][data['city'] == x].hist(bins=100)\n",
    "    сities.append(x)\n",
    "plt.legend(сities, loc=2)\n",
    "plt.title('Распределение ranking_norm по городам')\n",
    "plt.show()"
   ]
  },
  {
   "cell_type": "code",
   "execution_count": 48,
   "metadata": {
    "execution": {
     "iopub.execute_input": "2021-10-13T16:54:36.264095Z",
     "iopub.status.busy": "2021-10-13T16:54:36.263690Z",
     "iopub.status.idle": "2021-10-13T16:54:36.283297Z",
     "shell.execute_reply": "2021-10-13T16:54:36.281971Z",
     "shell.execute_reply.started": "2021-10-13T16:54:36.263994Z"
    }
   },
   "outputs": [],
   "source": [
    "# Удалим столбец 'mean_ranking'\n",
    "data.drop('mean_ranking', axis=1, inplace=True)"
   ]
  },
  {
   "cell_type": "code",
   "execution_count": 49,
   "metadata": {
    "execution": {
     "iopub.execute_input": "2021-10-13T16:54:36.286535Z",
     "iopub.status.busy": "2021-10-13T16:54:36.286112Z",
     "iopub.status.idle": "2021-10-13T16:54:36.671070Z",
     "shell.execute_reply": "2021-10-13T16:54:36.669893Z",
     "shell.execute_reply.started": "2021-10-13T16:54:36.286450Z"
    }
   },
   "outputs": [
    {
     "data": {
      "image/png": "[encoded data removed]",
      "text/plain": [
       "<Figure size 864x432 with 1 Axes>"
      ]
     },
     "metadata": {
      "needs_background": "light"
     },
     "output_type": "display_data"
    },
    {
     "name": "stdout",
     "output_type": "stream",
     "text": [
      "25-й перцентиль: 6.879355804460439 75-й перцентиль: 8.564267598802166, IQR: 1.684911794341727,  Границы выбросов: [4.351988112947849, 11.091635290314757].\n",
      "Выбросов, согласно IQR: 1021 | 2.04%\n"
     ]
    }
   ],
   "source": [
    "# Уменьшим количество выбросов в столбце 'ranking' не меняя их явно - прологорифмируем:\n",
    "data.ranking = data.ranking.apply(lambda x: np.log(x))\n",
    "# Посмотрим сейчас на выбросы:\n",
    "sns.boxplot(data=data, x='ranking')\n",
    "plt.show()\n",
    "IQR_outlier('ranking', verbose=True)"
   ]
  },
  {
   "cell_type": "markdown",
   "metadata": {},
   "source": [
    "**Итого**: Сформирован новый признак 'ranking_norm'. Прологорифмирован признак 'ranking' - совсем от выбросов не избавились, но их стало заметно меньше"
   ]
  },
  {
   "cell_type": "markdown",
   "metadata": {},
   "source": [
    "# \n",
    "#### 5. price_range\n",
    "- price_range - диапазон цен в ресторане. Мы раннее уже выяснили, что в столбце 17361 пропуск, что составляет около 34.72% от всех значений в столбце"
   ]
  },
  {
   "cell_type": "code",
   "execution_count": 50,
   "metadata": {
    "execution": {
     "iopub.execute_input": "2021-10-13T16:54:50.724979Z",
     "iopub.status.busy": "2021-10-13T16:54:50.724522Z",
     "iopub.status.idle": "2021-10-13T16:54:50.754514Z",
     "shell.execute_reply": "2021-10-13T16:54:50.753419Z",
     "shell.execute_reply.started": "2021-10-13T16:54:50.724935Z"
    }
   },
   "outputs": [
    {
     "data": {
      "text/plain": [
       "array(['$$ - $$$', '$$$$', '$', nan], dtype=object)"
      ]
     },
     "metadata": {},
     "output_type": "display_data"
    },
    {
     "data": {
      "text/plain": [
       "$$ - $$$    23041\n",
       "$            7816\n",
       "$$$$         1782\n",
       "Name: price_range, dtype: int64"
      ]
     },
     "metadata": {},
     "output_type": "display_data"
    }
   ],
   "source": [
    "# Посмотрим какие данные содержит этот столбец. \n",
    "display(data.price_range.unique())\n",
    "display(data.price_range.value_counts())"
   ]
  },
  {
   "cell_type": "markdown",
   "metadata": {},
   "source": [
    "По описанию 'price_range' это - цены в ресторане.\n",
    "Их можно поставить по возрастанию (значит это не категориальный признак). А это значит, что их можно заменить последовательными числами, например 1,2,3"
   ]
  },
  {
   "cell_type": "code",
   "execution_count": 51,
   "metadata": {
    "execution": {
     "iopub.execute_input": "2021-10-13T16:54:54.575028Z",
     "iopub.status.busy": "2021-10-13T16:54:54.574621Z",
     "iopub.status.idle": "2021-10-13T16:54:54.587078Z",
     "shell.execute_reply": "2021-10-13T16:54:54.585864Z",
     "shell.execute_reply.started": "2021-10-13T16:54:54.574948Z"
    }
   },
   "outputs": [],
   "source": [
    "# В переменной 17361 (34.72%) пропущенных значений \n",
    "# сохраним эту информацию\n",
    "data['nan_price_range'] = pd.isna(data['price_range']).astype('float64') "
   ]
  },
  {
   "cell_type": "code",
   "execution_count": 52,
   "metadata": {
    "execution": {
     "iopub.execute_input": "2021-10-13T16:54:55.459193Z",
     "iopub.status.busy": "2021-10-13T16:54:55.458604Z",
     "iopub.status.idle": "2021-10-13T16:54:55.837218Z",
     "shell.execute_reply": "2021-10-13T16:54:55.836314Z",
     "shell.execute_reply.started": "2021-10-13T16:54:55.459118Z"
    }
   },
   "outputs": [
    {
     "data": {
      "text/plain": [
       "{'Paris': '$$ - $$$',\n",
       " 'Helsinki': '$$ - $$$',\n",
       " 'Edinburgh': '$$ - $$$',\n",
       " 'London': '$$ - $$$',\n",
       " 'Bratislava': '$$ - $$$',\n",
       " 'Lisbon': '$$ - $$$',\n",
       " 'Budapest': '$$ - $$$',\n",
       " 'Stockholm': '$$ - $$$',\n",
       " 'Rome': '$$ - $$$',\n",
       " 'Milan': '$$ - $$$',\n",
       " 'Munich': '$$ - $$$',\n",
       " 'Hamburg': '$$ - $$$',\n",
       " 'Prague': '$$ - $$$',\n",
       " 'Vienna': '$$ - $$$',\n",
       " 'Dublin': '$$ - $$$',\n",
       " 'Barcelona': '$$ - $$$',\n",
       " 'Brussels': '$$ - $$$',\n",
       " 'Madrid': '$$ - $$$',\n",
       " 'Oslo': '$$ - $$$',\n",
       " 'Amsterdam': '$$ - $$$',\n",
       " 'Berlin': '$$ - $$$',\n",
       " 'Lyon': '$$ - $$$',\n",
       " 'Athens': '$$ - $$$',\n",
       " 'Warsaw': '$$ - $$$',\n",
       " 'Oporto': '$$ - $$$',\n",
       " 'Krakow': '$$ - $$$',\n",
       " 'Copenhagen': '$$ - $$$',\n",
       " 'Luxembourg': '$$ - $$$',\n",
       " 'Zurich': '$$ - $$$',\n",
       " 'Geneva': '$$ - $$$',\n",
       " 'Ljubljana': '$$ - $$$'}"
      ]
     },
     "execution_count": 52,
     "metadata": {},
     "output_type": "execute_result"
    }
   ],
   "source": [
    "# Посмотрим моды диапазона цен для каждого 'city'\n",
    "dict_of_cities = {}\n",
    "list_of_cities = list(data['city'].unique())\n",
    "for x in list_of_cities:\n",
    "    y = data[(data.city == x)].price_range.mode()[0]\n",
    "    dict_of_cities.update({x: y})\n",
    "dict_of_cities"
   ]
  },
  {
   "cell_type": "markdown",
   "metadata": {},
   "source": [
    "Мы видим, что у всех городов она одинаковая, поэтому без колебаний заполняем пропуски в столбце общей модой"
   ]
  },
  {
   "cell_type": "code",
   "execution_count": 53,
   "metadata": {
    "execution": {
     "iopub.execute_input": "2021-10-13T16:54:57.144815Z",
     "iopub.status.busy": "2021-10-13T16:54:57.144227Z",
     "iopub.status.idle": "2021-10-13T16:54:57.162375Z",
     "shell.execute_reply": "2021-10-13T16:54:57.161488Z",
     "shell.execute_reply.started": "2021-10-13T16:54:57.144743Z"
    }
   },
   "outputs": [],
   "source": [
    "# Заменим пропуски модой\n",
    "data['price_range'] = data['price_range'].fillna(data['price_range'].mode()[0])"
   ]
  },
  {
   "cell_type": "code",
   "execution_count": 54,
   "metadata": {
    "execution": {
     "iopub.execute_input": "2021-10-13T16:54:58.100218Z",
     "iopub.status.busy": "2021-10-13T16:54:58.099681Z",
     "iopub.status.idle": "2021-10-13T16:54:58.148035Z",
     "shell.execute_reply": "2021-10-13T16:54:58.147318Z",
     "shell.execute_reply.started": "2021-10-13T16:54:58.100148Z"
    }
   },
   "outputs": [],
   "source": [
    "# Создадим словарь, присвоив код имеющимся значениям переменной, \n",
    "# и заполним столбец новыми значениями\n",
    "dic_price = {'$':1,'$$ - $$$':2,'$$$$':3}\n",
    "data['price_range'] = data['price_range'].map(lambda x: dic_price.get(x,x))"
   ]
  },
  {
   "cell_type": "code",
   "execution_count": 55,
   "metadata": {
    "execution": {
     "iopub.execute_input": "2021-10-13T16:54:59.171068Z",
     "iopub.status.busy": "2021-10-13T16:54:59.170488Z",
     "iopub.status.idle": "2021-10-13T16:54:59.436809Z",
     "shell.execute_reply": "2021-10-13T16:54:59.435668Z",
     "shell.execute_reply.started": "2021-10-13T16:54:59.170981Z"
    }
   },
   "outputs": [
    {
     "data": {
      "text/plain": [
       "<matplotlib.axes._subplots.AxesSubplot at 0x7fdb2c8e9780>"
      ]
     },
     "execution_count": 55,
     "metadata": {},
     "output_type": "execute_result"
    },
    {
     "data": {
      "image/png": "[encoded data removed]",
      "text/plain": [
       "<Figure size 864x432 with 1 Axes>"
      ]
     },
     "metadata": {
      "needs_background": "light"
     },
     "output_type": "display_data"
    }
   ],
   "source": [
    "plt.rcParams['figure.figsize'] = (12,6)\n",
    "data.price_range.value_counts(ascending=True).plot(kind='barh', title = 'price_range')"
   ]
  },
  {
   "cell_type": "markdown",
   "metadata": {},
   "source": [
    "# \n",
    "#### 6. number_of_reviews"
   ]
  },
  {
   "cell_type": "code",
   "execution_count": 56,
   "metadata": {
    "execution": {
     "iopub.execute_input": "2021-10-13T16:55:06.160512Z",
     "iopub.status.busy": "2021-10-13T16:55:06.159833Z",
     "iopub.status.idle": "2021-10-13T16:55:06.166560Z",
     "shell.execute_reply": "2021-10-13T16:55:06.165880Z",
     "shell.execute_reply.started": "2021-10-13T16:55:06.160459Z"
    }
   },
   "outputs": [],
   "source": [
    "# number_of_reviews - колличественный признак\n",
    "# Столбец имеет 3200 пропусков (6.4%), сохраним эту информацию\n",
    "data['nan_number_of_reviews'] = pd.isna(data['number_of_reviews']).astype('float64')"
   ]
  },
  {
   "cell_type": "markdown",
   "metadata": {},
   "source": [
    "Пропусков немного, относительно общего количества значений в столбце, поэтому заполняем их средним значением. Но сначала посмотрим, отличается ли среднее значение количества отзывов для разных городов"
   ]
  },
  {
   "cell_type": "code",
   "execution_count": 57,
   "metadata": {
    "execution": {
     "iopub.execute_input": "2021-10-13T16:55:09.659928Z",
     "iopub.status.busy": "2021-10-13T16:55:09.659272Z",
     "iopub.status.idle": "2021-10-13T16:55:10.013773Z",
     "shell.execute_reply": "2021-10-13T16:55:10.013067Z",
     "shell.execute_reply.started": "2021-10-13T16:55:09.659877Z"
    }
   },
   "outputs": [
    {
     "data": {
      "text/plain": [
       "{'Paris': 117,\n",
       " 'Helsinki': 66,\n",
       " 'Edinburgh': 238,\n",
       " 'London': 138,\n",
       " 'Bratislava': 52,\n",
       " 'Lisbon': 128,\n",
       " 'Budapest': 159,\n",
       " 'Stockholm': 75,\n",
       " 'Rome': 290,\n",
       " 'Milan': 168,\n",
       " 'Munich': 78,\n",
       " 'Hamburg': 45,\n",
       " 'Prague': 124,\n",
       " 'Vienna': 81,\n",
       " 'Dublin': 154,\n",
       " 'Barcelona': 136,\n",
       " 'Brussels': 93,\n",
       " 'Madrid': 100,\n",
       " 'Oslo': 100,\n",
       " 'Amsterdam': 149,\n",
       " 'Berlin': 64,\n",
       " 'Lyon': 87,\n",
       " 'Athens': 94,\n",
       " 'Warsaw': 67,\n",
       " 'Oporto': 134,\n",
       " 'Krakow': 131,\n",
       " 'Copenhagen': 95,\n",
       " 'Luxembourg': 83,\n",
       " 'Zurich': 73,\n",
       " 'Geneva': 62,\n",
       " 'Ljubljana': 88}"
      ]
     },
     "execution_count": 57,
     "metadata": {},
     "output_type": "execute_result"
    }
   ],
   "source": [
    "mean_counter_reviews = {}\n",
    "for x in list_of_cities:\n",
    "    y = round(data[(data.city == x)].number_of_reviews.mean())\n",
    "    mean_counter_reviews.update({x: y})\n",
    "mean_counter_reviews"
   ]
  },
  {
   "cell_type": "code",
   "execution_count": 58,
   "metadata": {
    "execution": {
     "iopub.execute_input": "2021-10-13T16:55:12.044571Z",
     "iopub.status.busy": "2021-10-13T16:55:12.044158Z",
     "iopub.status.idle": "2021-10-13T16:55:12.680532Z",
     "shell.execute_reply": "2021-10-13T16:55:12.679462Z",
     "shell.execute_reply.started": "2021-10-13T16:55:12.044502Z"
    }
   },
   "outputs": [],
   "source": [
    "# Давайте заполним пропуски средним значением отзывов по каждому городу воспользовавшись\n",
    "# полученным словарём\n",
    "for c in data.city.unique():\n",
    "    data.loc[data.city == c, 'number_of_reviews'] = \\\n",
    "    data[data.city == c].number_of_reviews.replace(np.nan, mean_counter_reviews[c])"
   ]
  },
  {
   "cell_type": "code",
   "execution_count": 59,
   "metadata": {
    "execution": {
     "iopub.execute_input": "2021-10-13T16:55:13.394875Z",
     "iopub.status.busy": "2021-10-13T16:55:13.394492Z",
     "iopub.status.idle": "2021-10-13T16:55:13.680782Z",
     "shell.execute_reply": "2021-10-13T16:55:13.679306Z",
     "shell.execute_reply.started": "2021-10-13T16:55:13.394811Z"
    }
   },
   "outputs": [
    {
     "data": {
      "image/png": "[encoded data removed]",
      "text/plain": [
       "<Figure size 864x432 with 1 Axes>"
      ]
     },
     "metadata": {
      "needs_background": "light"
     },
     "output_type": "display_data"
    },
    {
     "name": "stdout",
     "output_type": "stream",
     "text": [
      "25-й перцентиль: 10.0 75-й перцентиль: 124.0, IQR: 114.0,  Границы выбросов: [-161.0, 295.0].\n",
      "Выбросов, согласно IQR: 5039 | 10.08%\n"
     ]
    }
   ],
   "source": [
    "# Посмотрим на выбросы:\n",
    "sns.boxplot(data=data, x='number_of_reviews')\n",
    "plt.show()\n",
    "IQR_outlier('number_of_reviews', verbose=True)"
   ]
  },
  {
   "cell_type": "code",
   "execution_count": 60,
   "metadata": {
    "execution": {
     "iopub.execute_input": "2021-10-13T16:55:16.481397Z",
     "iopub.status.busy": "2021-10-13T16:55:16.480968Z",
     "iopub.status.idle": "2021-10-13T16:55:16.849398Z",
     "shell.execute_reply": "2021-10-13T16:55:16.848363Z",
     "shell.execute_reply.started": "2021-10-13T16:55:16.481328Z"
    }
   },
   "outputs": [
    {
     "data": {
      "image/png": "[encoded data removed]",
      "text/plain": [
       "<Figure size 864x432 with 1 Axes>"
      ]
     },
     "metadata": {
      "needs_background": "light"
     },
     "output_type": "display_data"
    },
    {
     "name": "stdout",
     "output_type": "stream",
     "text": [
      "25-й перцентиль: 2.302585092994046 75-й перцентиль: 4.820281565605037, IQR: 2.517696472610991,  Границы выбросов: [-1.4739596159224408, 8.596826274521524].\n",
      "Выбросов, согласно IQR: 11 | 0.02%\n"
     ]
    },
    {
     "data": {
      "text/plain": [
       "mean    3.594295\n",
       "amax    9.175749\n",
       "amin    0.693147\n",
       "std     1.624641\n",
       "Name: number_of_reviews, dtype: float64"
      ]
     },
     "execution_count": 60,
     "metadata": {},
     "output_type": "execute_result"
    }
   ],
   "source": [
    "# Избавимся от выбросов в столбце 'number_of_reviews' не меняя их явно - прологорифмируем:\n",
    "data.number_of_reviews = data.number_of_reviews.apply(lambda x: np.log(x))\n",
    "# Посмотрим сейчас на выбросы:\n",
    "sns.boxplot(data=data, x='number_of_reviews')\n",
    "plt.show()\n",
    "IQR_outlier('number_of_reviews', verbose=True)\n",
    "data.number_of_reviews.agg([np.mean, np.max, np.min, np.std])"
   ]
  },
  {
   "cell_type": "markdown",
   "metadata": {},
   "source": [
    "**Итого**: Прологорифмирован признак 'number_of_reviews' - совсем от выбросов не избавились, но их стало заметно меньше"
   ]
  },
  {
   "cell_type": "markdown",
   "metadata": {},
   "source": [
    "# \n",
    "#### 7. reviews"
   ]
  },
  {
   "cell_type": "code",
   "execution_count": 61,
   "metadata": {
    "execution": {
     "iopub.execute_input": "2021-10-13T16:55:33.374522Z",
     "iopub.status.busy": "2021-10-13T16:55:33.373886Z",
     "iopub.status.idle": "2021-10-13T16:55:33.448292Z",
     "shell.execute_reply": "2021-10-13T16:55:33.447444Z",
     "shell.execute_reply.started": "2021-10-13T16:55:33.374447Z"
    }
   },
   "outputs": [
    {
     "data": {
      "text/plain": [
       "[[], []]                                                                                                         8112\n",
       "NaN                                                                                                                 2\n",
       "[['Very average food. Over average prices.', 'great food with great service!'], ['11/17/2017', '08/17/2017']]       2\n",
       "[['Excellent'], ['09/03/2015']]                                                                                     2\n",
       "[['Thursday snack', 'Good value for money & good food!'], ['03/13/2017', '06/20/2016']]                             2\n",
       "                                                                                                                 ... \n",
       "[['Perfect Italian restaurant!', 'Bit far but good overall'], ['08/27/2016', '10/18/2015']]                         1\n",
       "[['Great Schnitzel, friendly waiter'], ['12/29/2017']]                                                              1\n",
       "[['GREAT FOOD', 'Amazing Portuguese cuisine with a magical...'], ['01/29/2016', '01/15/2016']]                      1\n",
       "[['Great food and service', 'Good choice for 2-3 days stay!'], ['07/22/2017', '08/28/2016']]                        1\n",
       "[['Very nice and cosy spot', 'This is the ideal place to relax after a d...'], ['11/21/2017', '11/19/2017']]        1\n",
       "Name: reviews, Length: 41858, dtype: int64"
      ]
     },
     "execution_count": 61,
     "metadata": {},
     "output_type": "execute_result"
    }
   ],
   "source": [
    "# Посмотрим на данные\n",
    "data['reviews'].value_counts(dropna=False)"
   ]
  },
  {
   "cell_type": "markdown",
   "metadata": {},
   "source": [
    "Значение признака [[], []] - это то же самое, что и пропуск. Но пока заполним наши два пропуска этим значением, поскольку оно самое популярное (т.е. mode)."
   ]
  },
  {
   "cell_type": "code",
   "execution_count": 62,
   "metadata": {
    "execution": {
     "iopub.execute_input": "2021-10-13T16:55:36.087582Z",
     "iopub.status.busy": "2021-10-13T16:55:36.087171Z",
     "iopub.status.idle": "2021-10-13T16:55:36.127919Z",
     "shell.execute_reply": "2021-10-13T16:55:36.126784Z",
     "shell.execute_reply.started": "2021-10-13T16:55:36.087513Z"
    }
   },
   "outputs": [],
   "source": [
    "# заполним пропуски самым популярным значением\n",
    "data['reviews'].fillna(data['reviews'].mode()[0], inplace = True)"
   ]
  },
  {
   "cell_type": "markdown",
   "metadata": {},
   "source": [
    "Обратим внимание, что у нас есть повторяющиеся значения в столбце - совпадения не только дословно в отзыве, но и в датах. Это наводит на мысль, что речь идет об одном ресторане. Посмотрим, сколько таких удвоений:"
   ]
  },
  {
   "cell_type": "code",
   "execution_count": 63,
   "metadata": {
    "execution": {
     "iopub.execute_input": "2021-10-13T16:55:40.368396Z",
     "iopub.status.busy": "2021-10-13T16:55:40.368059Z",
     "iopub.status.idle": "2021-10-13T16:55:40.431948Z",
     "shell.execute_reply": "2021-10-13T16:55:40.430713Z",
     "shell.execute_reply.started": "2021-10-13T16:55:40.368340Z"
    }
   },
   "outputs": [
    {
     "data": {
      "text/html": [
       "<div>\n",
       "<style scoped>\n",
       "    .dataframe tbody tr th:only-of-type {\n",
       "        vertical-align: middle;\n",
       "    }\n",
       "\n",
       "    .dataframe tbody tr th {\n",
       "        vertical-align: top;\n",
       "    }\n",
       "\n",
       "    .dataframe thead th {\n",
       "        text-align: right;\n",
       "    }\n",
       "</style>\n",
       "<table border=\"1\" class=\"dataframe\">\n",
       "  <thead>\n",
       "    <tr style=\"text-align: right;\">\n",
       "      <th></th>\n",
       "      <th>reviews</th>\n",
       "      <th>counts</th>\n",
       "    </tr>\n",
       "  </thead>\n",
       "  <tbody>\n",
       "    <tr>\n",
       "      <th>0</th>\n",
       "      <td>[[], []]</td>\n",
       "      <td>8114</td>\n",
       "    </tr>\n",
       "    <tr>\n",
       "      <th>1</th>\n",
       "      <td>[['Great coffee and pastries, sandwiches, ver....</td>\n",
       "      <td>2</td>\n",
       "    </tr>\n",
       "    <tr>\n",
       "      <th>2</th>\n",
       "      <td>[['Improve your service', 'Great value chain r...</td>\n",
       "      <td>2</td>\n",
       "    </tr>\n",
       "    <tr>\n",
       "      <th>3</th>\n",
       "      <td>[['Sat night', 'Can\\'t even explain.. \"A\" plac...</td>\n",
       "      <td>2</td>\n",
       "    </tr>\n",
       "    <tr>\n",
       "      <th>4</th>\n",
       "      <td>[['Excellent cuisine, friendly and helpful se....</td>\n",
       "      <td>2</td>\n",
       "    </tr>\n",
       "  </tbody>\n",
       "</table>\n",
       "</div>"
      ],
      "text/plain": [
       "                                             reviews  counts\n",
       "0                                           [[], []]    8114\n",
       "1  [['Great coffee and pastries, sandwiches, ver....       2\n",
       "2  [['Improve your service', 'Great value chain r...       2\n",
       "3  [['Sat night', 'Can\\'t even explain.. \"A\" plac...       2\n",
       "4  [['Excellent cuisine, friendly and helpful se....       2"
      ]
     },
     "metadata": {},
     "output_type": "display_data"
    },
    {
     "data": {
      "text/plain": [
       "30"
      ]
     },
     "execution_count": 63,
     "metadata": {},
     "output_type": "execute_result"
    }
   ],
   "source": [
    "value_counts = data['reviews'].value_counts(dropna=True, sort=True)\n",
    "df_reviews = pd.DataFrame(value_counts)\n",
    "df_reviews_reset = df_reviews.reset_index()\n",
    "df_reviews_reset.columns = ['reviews', 'counts']\n",
    "display(df_reviews_reset.head())\n",
    "df_reviews_reset[(df_reviews_reset.counts == 2)].counts.count()"
   ]
  },
  {
   "cell_type": "markdown",
   "metadata": {},
   "source": [
    "То есть совпадений 30, соответственно ресторанов таких 60. Это очень мало по сравнению с общим числом ресторанов, поэтому с этим знанием мы ничего делать пока не будем."
   ]
  },
  {
   "cell_type": "code",
   "execution_count": 64,
   "metadata": {
    "execution": {
     "iopub.execute_input": "2021-10-13T16:55:44.911126Z",
     "iopub.status.busy": "2021-10-13T16:55:44.910738Z",
     "iopub.status.idle": "2021-10-13T16:55:45.129933Z",
     "shell.execute_reply": "2021-10-13T16:55:45.128607Z",
     "shell.execute_reply.started": "2021-10-13T16:55:44.911069Z"
    }
   },
   "outputs": [
    {
     "data": {
      "text/plain": [
       "41895    [10/13/2013, 09/23/2013]\n",
       "20376    [12/03/2017, 08/29/2017]\n",
       "19542    [06/25/2016, 06/17/2016]\n",
       "23652                [02/11/2015]\n",
       "4273     [07/04/2016, 03/02/2015]\n",
       "Name: date_of_review, dtype: object"
      ]
     },
     "execution_count": 64,
     "metadata": {},
     "output_type": "execute_result"
    }
   ],
   "source": [
    "# cоздаем столбец review_dates содержащий список дат отзывов\n",
    "data['date_of_review'] = data['reviews'].str.findall('\\d+\\/\\d+\\/\\d+')\n",
    "data['date_of_review'].sample(5)"
   ]
  },
  {
   "cell_type": "code",
   "execution_count": 65,
   "metadata": {
    "execution": {
     "iopub.execute_input": "2021-10-13T16:55:46.060174Z",
     "iopub.status.busy": "2021-10-13T16:55:46.059810Z",
     "iopub.status.idle": "2021-10-13T16:55:46.122434Z",
     "shell.execute_reply": "2021-10-13T16:55:46.121224Z",
     "shell.execute_reply.started": "2021-10-13T16:55:46.060110Z"
    }
   },
   "outputs": [
    {
     "data": {
      "text/plain": [
       "2    36202\n",
       "0     8114\n",
       "1     5680\n",
       "3        4\n",
       "Name: count_review, dtype: int64"
      ]
     },
     "execution_count": 65,
     "metadata": {},
     "output_type": "execute_result"
    }
   ],
   "source": [
    "# посмотрим на количество review, это видно из количества дат:\n",
    "data['count_review'] = data['date_of_review'].apply(lambda x: len(list(x)))\n",
    "data['count_review'].value_counts()"
   ]
  },
  {
   "cell_type": "code",
   "execution_count": 66,
   "metadata": {
    "execution": {
     "iopub.execute_input": "2021-10-13T16:55:47.530950Z",
     "iopub.status.busy": "2021-10-13T16:55:47.530619Z",
     "iopub.status.idle": "2021-10-13T16:55:47.560511Z",
     "shell.execute_reply": "2021-10-13T16:55:47.559726Z",
     "shell.execute_reply.started": "2021-10-13T16:55:47.530889Z"
    }
   },
   "outputs": [],
   "source": [
    "# В строках, где три отзыва мы уберём дату первого отзыва, оставив два последних\n",
    "data.date_of_review = data.date_of_review.apply(lambda x: x if len(x) <= 2 else x[1:])"
   ]
  },
  {
   "cell_type": "code",
   "execution_count": 67,
   "metadata": {
    "execution": {
     "iopub.execute_input": "2021-10-13T16:55:49.008756Z",
     "iopub.status.busy": "2021-10-13T16:55:49.008434Z",
     "iopub.status.idle": "2021-10-13T16:56:44.565169Z",
     "shell.execute_reply": "2021-10-13T16:56:44.563975Z",
     "shell.execute_reply.started": "2021-10-13T16:55:49.008697Z"
    }
   },
   "outputs": [],
   "source": [
    "# Создадим два новых столбца: first_review (дата первого отзыва) \n",
    "# и last_review (дата последнего отзыва) со значениями в формате datetime\n",
    "data['first_review'] = data['date_of_review'].apply(lambda x: pd.to_datetime(x).min())\n",
    "data['last_review'] = data['date_of_review'].apply(lambda x: pd.to_datetime(x).max())\n",
    "# Создадим признак difference_dates с разницей между первым и вторым отзывом в днях\n",
    "data['difference_dates'] = (data['last_review'] - data['first_review']).apply(lambda x: x.days)\n",
    "# Заполним пропуски средним значением\n",
    "# data['difference_dates'].fillna(round(data['difference_dates'].mean()), inplace=True)"
   ]
  },
  {
   "cell_type": "code",
   "execution_count": 68,
   "metadata": {},
   "outputs": [
    {
     "data": {
      "text/plain": [
       "{'Paris': 147,\n",
       " 'Helsinki': 142,\n",
       " 'Edinburgh': 65,\n",
       " 'London': 94,\n",
       " 'Bratislava': 143,\n",
       " 'Lisbon': 112,\n",
       " 'Budapest': 107,\n",
       " 'Stockholm': 128,\n",
       " 'Rome': 122,\n",
       " 'Milan': 151,\n",
       " 'Munich': 140,\n",
       " 'Hamburg': 180,\n",
       " 'Prague': 120,\n",
       " 'Vienna': 138,\n",
       " 'Dublin': 87,\n",
       " 'Barcelona': 123,\n",
       " 'Brussels': 145,\n",
       " 'Madrid': 132,\n",
       " 'Oslo': 114,\n",
       " 'Amsterdam': 79,\n",
       " 'Berlin': 153,\n",
       " 'Lyon': 164,\n",
       " 'Athens': 117,\n",
       " 'Warsaw': 126,\n",
       " 'Oporto': 97,\n",
       " 'Krakow': 103,\n",
       " 'Copenhagen': 103,\n",
       " 'Luxembourg': 131,\n",
       " 'Zurich': 131,\n",
       " 'Geneva': 142,\n",
       " 'Ljubljana': 121}"
      ]
     },
     "execution_count": 68,
     "metadata": {},
     "output_type": "execute_result"
    }
   ],
   "source": [
    "mean_difference_dates = {}\n",
    "for x in list_of_cities:\n",
    "    y = round(data[(data.city == x)].difference_dates.mean())\n",
    "    mean_difference_dates.update({x: y})\n",
    "mean_difference_dates"
   ]
  },
  {
   "cell_type": "code",
   "execution_count": 69,
   "metadata": {
    "execution": {
     "iopub.execute_input": "2021-10-13T16:57:12.430634Z",
     "iopub.status.busy": "2021-10-13T16:57:12.430307Z",
     "iopub.status.idle": "2021-10-13T16:57:13.092845Z",
     "shell.execute_reply": "2021-10-13T16:57:13.091697Z",
     "shell.execute_reply.started": "2021-10-13T16:57:12.430581Z"
    }
   },
   "outputs": [],
   "source": [
    "# Заполним наши 8114 пропусков в столбце средними значениями по городам\n",
    "for c in data.city.unique():\n",
    "    data.loc[data.city == c, 'difference_dates'] = \\\n",
    "    data[data.city == c].difference_dates.replace(np.nan, mean_difference_dates[c])"
   ]
  },
  {
   "cell_type": "code",
   "execution_count": 70,
   "metadata": {
    "execution": {
     "iopub.execute_input": "2021-10-13T16:57:15.851806Z",
     "iopub.status.busy": "2021-10-13T16:57:15.851444Z",
     "iopub.status.idle": "2021-10-13T16:57:15.876158Z",
     "shell.execute_reply": "2021-10-13T16:57:15.875311Z",
     "shell.execute_reply.started": "2021-10-13T16:57:15.851750Z"
    }
   },
   "outputs": [],
   "source": [
    "# удалим столбцы date_of_review, count_review, first_review и last_review\n",
    "data.drop(['date_of_review', 'count_review', 'first_review', 'last_review'], axis=1, inplace=True)"
   ]
  },
  {
   "cell_type": "code",
   "execution_count": 71,
   "metadata": {
    "execution": {
     "iopub.execute_input": "2021-10-13T16:57:18.992651Z",
     "iopub.status.busy": "2021-10-13T16:57:18.992145Z",
     "iopub.status.idle": "2021-10-13T16:57:19.273260Z",
     "shell.execute_reply": "2021-10-13T16:57:19.272338Z",
     "shell.execute_reply.started": "2021-10-13T16:57:18.992580Z"
    }
   },
   "outputs": [
    {
     "data": {
      "image/png": "[encoded data removed]",
      "text/plain": [
       "<Figure size 864x432 with 1 Axes>"
      ]
     },
     "metadata": {
      "needs_background": "light"
     },
     "output_type": "display_data"
    },
    {
     "name": "stdout",
     "output_type": "stream",
     "text": [
      "25-й перцентиль: 13.0 75-й перцентиль: 151.0, IQR: 138.0,  Границы выбросов: [-194.0, 358.0].\n",
      "Выбросов, согласно IQR: 3492 | 6.98%\n"
     ]
    },
    {
     "data": {
      "text/plain": [
       "mean     125.475100\n",
       "amax    3296.000000\n",
       "amin       0.000000\n",
       "std      194.785484\n",
       "Name: difference_dates, dtype: float64"
      ]
     },
     "execution_count": 71,
     "metadata": {},
     "output_type": "execute_result"
    }
   ],
   "source": [
    "# Посмотрим на выбросы:\n",
    "sns.boxplot(data=data, x='difference_dates')\n",
    "plt.show()\n",
    "IQR_outlier('difference_dates', verbose=True)\n",
    "data.difference_dates.agg([np.mean, np.max, np.min, np.std])"
   ]
  },
  {
   "cell_type": "code",
   "execution_count": 72,
   "metadata": {
    "execution": {
     "iopub.execute_input": "2021-10-13T16:57:28.268476Z",
     "iopub.status.busy": "2021-10-13T16:57:28.268166Z",
     "iopub.status.idle": "2021-10-13T16:57:28.634988Z",
     "shell.execute_reply": "2021-10-13T16:57:28.634029Z",
     "shell.execute_reply.started": "2021-10-13T16:57:28.268438Z"
    }
   },
   "outputs": [
    {
     "data": {
      "image/png": "[encoded data removed]",
      "text/plain": [
       "<Figure size 864x432 with 1 Axes>"
      ]
     },
     "metadata": {
      "needs_background": "light"
     },
     "output_type": "display_data"
    },
    {
     "name": "stdout",
     "output_type": "stream",
     "text": [
      "25-й перцентиль: 3.605551275463989 75-й перцентиль: 12.288205727444508, IQR: 8.682654451980518,  Границы выбросов: [-9.418430402506788, 25.312187405415287].\n",
      "Выбросов, согласно IQR: 1245 | 2.49%\n"
     ]
    }
   ],
   "source": [
    "# Избавимся от выбросов в столбце 'difference_dates' не меняя их явно \n",
    "# - возьмём квадратный корень:\n",
    "data.difference_dates = data.difference_dates.apply(lambda x: np.sqrt(x))\n",
    "# Посмотрим сейчас на выбросы:\n",
    "sns.boxplot(data=data, x='difference_dates')\n",
    "plt.show()\n",
    "IQR_outlier('difference_dates', verbose=True)"
   ]
  },
  {
   "cell_type": "markdown",
   "metadata": {},
   "source": [
    "**Итого:** Мы видим довольно большой разброс значений. Максимальная разница между последним и предпоследним отзывом 3296 дней - это почти 10 лет. Скорее всего этот признак окажется неинформативным для нашей модели, но корреляционная таблица покажет."
   ]
  },
  {
   "cell_type": "markdown",
   "metadata": {},
   "source": [
    "# \n",
    "#### 8. url_ta"
   ]
  },
  {
   "cell_type": "code",
   "execution_count": 73,
   "metadata": {
    "execution": {
     "iopub.execute_input": "2021-10-13T16:57:36.567457Z",
     "iopub.status.busy": "2021-10-13T16:57:36.566903Z",
     "iopub.status.idle": "2021-10-13T16:57:36.575803Z",
     "shell.execute_reply": "2021-10-13T16:57:36.574911Z",
     "shell.execute_reply.started": "2021-10-13T16:57:36.567388Z"
    }
   },
   "outputs": [
    {
     "data": {
      "text/plain": [
       "'/Restaurant_Review-g187147-d10746918-Reviews-Le_Perchoir-Paris_Ile_de_France.html'"
      ]
     },
     "execution_count": 73,
     "metadata": {},
     "output_type": "execute_result"
    }
   ],
   "source": [
    "data.url_ta[0]"
   ]
  },
  {
   "cell_type": "markdown",
   "metadata": {},
   "source": [
    "В столбце url_ta значениями являются ссылки на отзывы о конкретных ресторанах, пока я не умею извлекать полезную информацию из таких данных, поэтому просто удалю данный столбец."
   ]
  },
  {
   "cell_type": "code",
   "execution_count": 74,
   "metadata": {
    "execution": {
     "iopub.execute_input": "2021-10-13T16:57:38.237886Z",
     "iopub.status.busy": "2021-10-13T16:57:38.237310Z",
     "iopub.status.idle": "2021-10-13T16:57:38.258603Z",
     "shell.execute_reply": "2021-10-13T16:57:38.257434Z",
     "shell.execute_reply.started": "2021-10-13T16:57:38.237819Z"
    }
   },
   "outputs": [],
   "source": [
    "data.drop('url_ta', axis=1, inplace=True)"
   ]
  },
  {
   "cell_type": "markdown",
   "metadata": {},
   "source": [
    "# \n",
    "#### 9. id_ta"
   ]
  },
  {
   "cell_type": "code",
   "execution_count": 75,
   "metadata": {
    "execution": {
     "iopub.execute_input": "2021-10-13T16:57:41.336436Z",
     "iopub.status.busy": "2021-10-13T16:57:41.335670Z",
     "iopub.status.idle": "2021-10-13T16:57:41.391146Z",
     "shell.execute_reply": "2021-10-13T16:57:41.390475Z",
     "shell.execute_reply.started": "2021-10-13T16:57:41.336363Z"
    }
   },
   "outputs": [
    {
     "data": {
      "text/plain": [
       "d5618007     2\n",
       "d3748757     2\n",
       "d11921719    2\n",
       "d7827387     2\n",
       "d9877640     2\n",
       "            ..\n",
       "d692129      1\n",
       "d10748320    1\n",
       "d1017303     1\n",
       "d11911398    1\n",
       "d1039595     1\n",
       "Name: id_ta, Length: 49963, dtype: int64"
      ]
     },
     "execution_count": 75,
     "metadata": {},
     "output_type": "execute_result"
    }
   ],
   "source": [
    "data.id_ta.value_counts()"
   ]
  },
  {
   "cell_type": "code",
   "execution_count": 76,
   "metadata": {
    "execution": {
     "iopub.execute_input": "2021-10-13T16:57:45.313176Z",
     "iopub.status.busy": "2021-10-13T16:57:45.312521Z",
     "iopub.status.idle": "2021-10-13T16:57:45.364866Z",
     "shell.execute_reply": "2021-10-13T16:57:45.363955Z",
     "shell.execute_reply.started": "2021-10-13T16:57:45.312978Z"
    }
   },
   "outputs": [
    {
     "data": {
      "text/html": [
       "<div>\n",
       "<style scoped>\n",
       "    .dataframe tbody tr th:only-of-type {\n",
       "        vertical-align: middle;\n",
       "    }\n",
       "\n",
       "    .dataframe tbody tr th {\n",
       "        vertical-align: top;\n",
       "    }\n",
       "\n",
       "    .dataframe thead th {\n",
       "        text-align: right;\n",
       "    }\n",
       "</style>\n",
       "<table border=\"1\" class=\"dataframe\">\n",
       "  <thead>\n",
       "    <tr style=\"text-align: right;\">\n",
       "      <th></th>\n",
       "      <th>restaurant_id</th>\n",
       "      <th>city</th>\n",
       "      <th>cuisine_style</th>\n",
       "      <th>ranking</th>\n",
       "      <th>price_range</th>\n",
       "      <th>number_of_reviews</th>\n",
       "      <th>reviews</th>\n",
       "      <th>id_ta</th>\n",
       "      <th>sample</th>\n",
       "      <th>rating</th>\n",
       "      <th>chain_count</th>\n",
       "      <th>chain_count_norm</th>\n",
       "      <th>Amsterdam</th>\n",
       "      <th>Athens</th>\n",
       "      <th>Barcelona</th>\n",
       "      <th>Berlin</th>\n",
       "      <th>Bratislava</th>\n",
       "      <th>Brussels</th>\n",
       "      <th>Budapest</th>\n",
       "      <th>Copenhagen</th>\n",
       "      <th>Dublin</th>\n",
       "      <th>Edinburgh</th>\n",
       "      <th>Geneva</th>\n",
       "      <th>Hamburg</th>\n",
       "      <th>Helsinki</th>\n",
       "      <th>Krakow</th>\n",
       "      <th>Lisbon</th>\n",
       "      <th>Ljubljana</th>\n",
       "      <th>London</th>\n",
       "      <th>Luxembourg</th>\n",
       "      <th>Lyon</th>\n",
       "      <th>Madrid</th>\n",
       "      <th>Milan</th>\n",
       "      <th>Munich</th>\n",
       "      <th>Oporto</th>\n",
       "      <th>Oslo</th>\n",
       "      <th>Paris</th>\n",
       "      <th>Prague</th>\n",
       "      <th>Rome</th>\n",
       "      <th>Stockholm</th>\n",
       "      <th>Vienna</th>\n",
       "      <th>Warsaw</th>\n",
       "      <th>Zurich</th>\n",
       "      <th>code_city</th>\n",
       "      <th>city_population</th>\n",
       "      <th>city_population_norm</th>\n",
       "      <th>nan_cuisine_style</th>\n",
       "      <th>rare_сuisine_style</th>\n",
       "      <th>number_cuisine_style</th>\n",
       "      <th>number_cuisine_norm</th>\n",
       "      <th>number_of_rest</th>\n",
       "      <th>ranking_norm</th>\n",
       "      <th>nan_price_range</th>\n",
       "      <th>nan_number_of_reviews</th>\n",
       "      <th>difference_dates</th>\n",
       "    </tr>\n",
       "  </thead>\n",
       "  <tbody>\n",
       "    <tr>\n",
       "      <th>4209</th>\n",
       "      <td>id_4209</td>\n",
       "      <td>Madrid</td>\n",
       "      <td>[Japanese, Sushi, Asian, Thai]</td>\n",
       "      <td>8.092545</td>\n",
       "      <td>2</td>\n",
       "      <td>4.343805</td>\n",
       "      <td>[['Great Asian Option', 'Wow'], ['10/16/2017',...</td>\n",
       "      <td>d2360290</td>\n",
       "      <td>0</td>\n",
       "      <td>0.0</td>\n",
       "      <td>4</td>\n",
       "      <td>0.166667</td>\n",
       "      <td>0</td>\n",
       "      <td>0</td>\n",
       "      <td>0</td>\n",
       "      <td>0</td>\n",
       "      <td>0</td>\n",
       "      <td>0</td>\n",
       "      <td>0</td>\n",
       "      <td>0</td>\n",
       "      <td>0</td>\n",
       "      <td>0</td>\n",
       "      <td>0</td>\n",
       "      <td>0</td>\n",
       "      <td>0</td>\n",
       "      <td>0</td>\n",
       "      <td>0</td>\n",
       "      <td>0</td>\n",
       "      <td>0</td>\n",
       "      <td>0</td>\n",
       "      <td>0</td>\n",
       "      <td>1</td>\n",
       "      <td>0</td>\n",
       "      <td>0</td>\n",
       "      <td>0</td>\n",
       "      <td>0</td>\n",
       "      <td>0</td>\n",
       "      <td>0</td>\n",
       "      <td>0</td>\n",
       "      <td>0</td>\n",
       "      <td>0</td>\n",
       "      <td>0</td>\n",
       "      <td>0</td>\n",
       "      <td>19</td>\n",
       "      <td>3.266</td>\n",
       "      <td>0.354635</td>\n",
       "      <td>0.0</td>\n",
       "      <td>0.0</td>\n",
       "      <td>4.0</td>\n",
       "      <td>0.15</td>\n",
       "      <td>3813</td>\n",
       "      <td>-0.293343</td>\n",
       "      <td>0.0</td>\n",
       "      <td>0.0</td>\n",
       "      <td>20.099751</td>\n",
       "    </tr>\n",
       "    <tr>\n",
       "      <th>46934</th>\n",
       "      <td>id_3140</td>\n",
       "      <td>Madrid</td>\n",
       "      <td>[Japanese, Sushi, Asian, Thai]</td>\n",
       "      <td>8.052615</td>\n",
       "      <td>2</td>\n",
       "      <td>4.343805</td>\n",
       "      <td>[['Great Asian Option', 'Wow'], ['10/16/2017',...</td>\n",
       "      <td>d2360290</td>\n",
       "      <td>1</td>\n",
       "      <td>3.5</td>\n",
       "      <td>6</td>\n",
       "      <td>0.277778</td>\n",
       "      <td>0</td>\n",
       "      <td>0</td>\n",
       "      <td>0</td>\n",
       "      <td>0</td>\n",
       "      <td>0</td>\n",
       "      <td>0</td>\n",
       "      <td>0</td>\n",
       "      <td>0</td>\n",
       "      <td>0</td>\n",
       "      <td>0</td>\n",
       "      <td>0</td>\n",
       "      <td>0</td>\n",
       "      <td>0</td>\n",
       "      <td>0</td>\n",
       "      <td>0</td>\n",
       "      <td>0</td>\n",
       "      <td>0</td>\n",
       "      <td>0</td>\n",
       "      <td>0</td>\n",
       "      <td>1</td>\n",
       "      <td>0</td>\n",
       "      <td>0</td>\n",
       "      <td>0</td>\n",
       "      <td>0</td>\n",
       "      <td>0</td>\n",
       "      <td>0</td>\n",
       "      <td>0</td>\n",
       "      <td>0</td>\n",
       "      <td>0</td>\n",
       "      <td>0</td>\n",
       "      <td>0</td>\n",
       "      <td>19</td>\n",
       "      <td>3.266</td>\n",
       "      <td>0.354635</td>\n",
       "      <td>0.0</td>\n",
       "      <td>0.0</td>\n",
       "      <td>4.0</td>\n",
       "      <td>0.15</td>\n",
       "      <td>3813</td>\n",
       "      <td>-0.326912</td>\n",
       "      <td>0.0</td>\n",
       "      <td>0.0</td>\n",
       "      <td>20.099751</td>\n",
       "    </tr>\n",
       "  </tbody>\n",
       "</table>\n",
       "</div>"
      ],
      "text/plain": [
       "      restaurant_id    city                   cuisine_style   ranking  \\\n",
       "4209        id_4209  Madrid  [Japanese, Sushi, Asian, Thai]  8.092545   \n",
       "46934       id_3140  Madrid  [Japanese, Sushi, Asian, Thai]  8.052615   \n",
       "\n",
       "       price_range  number_of_reviews  \\\n",
       "4209             2           4.343805   \n",
       "46934            2           4.343805   \n",
       "\n",
       "                                                 reviews     id_ta  sample  \\\n",
       "4209   [['Great Asian Option', 'Wow'], ['10/16/2017',...  d2360290       0   \n",
       "46934  [['Great Asian Option', 'Wow'], ['10/16/2017',...  d2360290       1   \n",
       "\n",
       "       rating  chain_count  chain_count_norm  Amsterdam  Athens  Barcelona  \\\n",
       "4209      0.0            4          0.166667          0       0          0   \n",
       "46934     3.5            6          0.277778          0       0          0   \n",
       "\n",
       "       Berlin  Bratislava  Brussels  Budapest  Copenhagen  Dublin  Edinburgh  \\\n",
       "4209        0           0         0         0           0       0          0   \n",
       "46934       0           0         0         0           0       0          0   \n",
       "\n",
       "       Geneva  Hamburg  Helsinki  Krakow  Lisbon  Ljubljana  London  \\\n",
       "4209        0        0         0       0       0          0       0   \n",
       "46934       0        0         0       0       0          0       0   \n",
       "\n",
       "       Luxembourg  Lyon  Madrid  Milan  Munich  Oporto  Oslo  Paris  Prague  \\\n",
       "4209            0     0       1      0       0       0     0      0       0   \n",
       "46934           0     0       1      0       0       0     0      0       0   \n",
       "\n",
       "       Rome  Stockholm  Vienna  Warsaw  Zurich  code_city  city_population  \\\n",
       "4209      0          0       0       0       0         19            3.266   \n",
       "46934     0          0       0       0       0         19            3.266   \n",
       "\n",
       "       city_population_norm  nan_cuisine_style  rare_сuisine_style  \\\n",
       "4209               0.354635                0.0                 0.0   \n",
       "46934              0.354635                0.0                 0.0   \n",
       "\n",
       "       number_cuisine_style  number_cuisine_norm  number_of_rest  \\\n",
       "4209                    4.0                 0.15            3813   \n",
       "46934                   4.0                 0.15            3813   \n",
       "\n",
       "       ranking_norm  nan_price_range  nan_number_of_reviews  difference_dates  \n",
       "4209      -0.293343              0.0                    0.0         20.099751  \n",
       "46934     -0.326912              0.0                    0.0         20.099751  "
      ]
     },
     "execution_count": 76,
     "metadata": {},
     "output_type": "execute_result"
    }
   ],
   "source": [
    "# Посмотрим, какие два ресторана соответствуют одному значению id_ta\n",
    "data[(data.id_ta == 'd2360290')]"
   ]
  },
  {
   "cell_type": "code",
   "execution_count": 77,
   "metadata": {
    "execution": {
     "iopub.execute_input": "2021-10-13T16:57:46.747616Z",
     "iopub.status.busy": "2021-10-13T16:57:46.747135Z",
     "iopub.status.idle": "2021-10-13T16:57:46.803839Z",
     "shell.execute_reply": "2021-10-13T16:57:46.802913Z",
     "shell.execute_reply.started": "2021-10-13T16:57:46.747570Z"
    }
   },
   "outputs": [
    {
     "data": {
      "text/plain": [
       "37"
      ]
     },
     "execution_count": 77,
     "metadata": {},
     "output_type": "execute_result"
    }
   ],
   "source": [
    "# Посмотрим, сколько у нас совпадений по id_ta\n",
    "value_counts = data['id_ta'].value_counts(dropna=True, sort=True)\n",
    "df_id_ta = pd.DataFrame(value_counts)\n",
    "df_id_ta_reset = df_id_ta.reset_index()\n",
    "df_id_ta_reset.columns = ['id_ta', 'counts']\n",
    "df_id_ta_reset[(df_id_ta_reset.counts == 2)].counts.count()"
   ]
  },
  {
   "cell_type": "markdown",
   "metadata": {},
   "source": [
    "Возможно, это какой-то ID ресторана для Tripadvisor внутреннего пользования. Но, если взять допустим данные по любому id_ta, которых больше, чем один, то рестораны с одинаковым id_ta очень похожи, если не сказать, что это один и тот же ресторан, только один из датасета df_train с уже известным значение 'raiting', а другой из df_test без такового. Но таких совпадений всего 37, поэтому этим знанием можем пренебречь. Для построения модели признак не информативен, поэтому тоже удалим его."
   ]
  },
  {
   "cell_type": "code",
   "execution_count": 78,
   "metadata": {
    "execution": {
     "iopub.execute_input": "2021-10-13T16:57:51.574259Z",
     "iopub.status.busy": "2021-10-13T16:57:51.573771Z",
     "iopub.status.idle": "2021-10-13T16:57:51.591378Z",
     "shell.execute_reply": "2021-10-13T16:57:51.590381Z",
     "shell.execute_reply.started": "2021-10-13T16:57:51.574206Z"
    }
   },
   "outputs": [],
   "source": [
    "data.drop('id_ta', axis=1, inplace=True)"
   ]
  },
  {
   "cell_type": "markdown",
   "metadata": {},
   "source": [
    "#### 10. rating"
   ]
  },
  {
   "cell_type": "code",
   "execution_count": 79,
   "metadata": {
    "execution": {
     "iopub.execute_input": "2021-10-13T16:57:57.863058Z",
     "iopub.status.busy": "2021-10-13T16:57:57.862583Z",
     "iopub.status.idle": "2021-10-13T16:57:58.152637Z",
     "shell.execute_reply": "2021-10-13T16:57:58.151822Z",
     "shell.execute_reply.started": "2021-10-13T16:57:57.862987Z"
    }
   },
   "outputs": [
    {
     "data": {
      "text/plain": [
       "<matplotlib.axes._subplots.AxesSubplot at 0x7fdb4607f4e0>"
      ]
     },
     "execution_count": 79,
     "metadata": {},
     "output_type": "execute_result"
    },
    {
     "data": {
      "image/png": "[encoded data removed]",
      "text/plain": [
       "<Figure size 720x360 with 1 Axes>"
      ]
     },
     "metadata": {
      "needs_background": "light"
     },
     "output_type": "display_data"
    }
   ],
   "source": [
    "# посмотрим распределение целевой переменной\n",
    "data[(data['sample'] == 1)]['rating'].value_counts(ascending=True\n",
    "                                                  ).plot(figsize=(10, 5), kind='barh')"
   ]
  },
  {
   "cell_type": "code",
   "execution_count": 80,
   "metadata": {
    "execution": {
     "iopub.execute_input": "2021-10-13T16:57:59.499451Z",
     "iopub.status.busy": "2021-10-13T16:57:59.499148Z",
     "iopub.status.idle": "2021-10-13T16:58:00.013710Z",
     "shell.execute_reply": "2021-10-13T16:58:00.012391Z",
     "shell.execute_reply.started": "2021-10-13T16:57:59.499411Z"
    }
   },
   "outputs": [
    {
     "data": {
      "image/png": "[encoded data removed]",
      "text/plain": [
       "<Figure size 720x360 with 1 Axes>"
      ]
     },
     "metadata": {
      "needs_background": "light"
     },
     "output_type": "display_data"
    }
   ],
   "source": [
    "# посмотрим распределение целевой переменной относительно признака ranking_norm = 5:\n",
    "data[(data['sample'] == 1)]['ranking_norm'][data[(data['sample'] == 1)]['rating'] == 5\n",
    "                                      ].hist(figsize=(10, 5), bins=100);"
   ]
  },
  {
   "cell_type": "code",
   "execution_count": 81,
   "metadata": {
    "execution": {
     "iopub.execute_input": "2021-10-13T16:58:01.498704Z",
     "iopub.status.busy": "2021-10-13T16:58:01.498244Z",
     "iopub.status.idle": "2021-10-13T16:58:02.001744Z",
     "shell.execute_reply": "2021-10-13T16:58:02.000181Z",
     "shell.execute_reply.started": "2021-10-13T16:58:01.498661Z"
    }
   },
   "outputs": [
    {
     "data": {
      "image/png": "[encoded data removed]",
      "text/plain": [
       "<Figure size 720x360 with 1 Axes>"
      ]
     },
     "metadata": {
      "needs_background": "light"
     },
     "output_type": "display_data"
    }
   ],
   "source": [
    "# посмотрим распределение целевой переменной относительно признака ranking_norm = 4:\n",
    "data[(data['sample'] == 1)]['ranking_norm'][data[(data['sample'] == 1)]['rating'] == 4\n",
    "                                      ].hist(figsize=(10, 5), bins=100);"
   ]
  },
  {
   "cell_type": "code",
   "execution_count": 82,
   "metadata": {
    "execution": {
     "iopub.execute_input": "2021-10-13T16:58:03.662618Z",
     "iopub.status.busy": "2021-10-13T16:58:03.662264Z",
     "iopub.status.idle": "2021-10-13T16:58:04.177080Z",
     "shell.execute_reply": "2021-10-13T16:58:04.175479Z",
     "shell.execute_reply.started": "2021-10-13T16:58:03.662575Z"
    }
   },
   "outputs": [
    {
     "data": {
      "image/png": "[encoded data removed]",
      "text/plain": [
       "<Figure size 720x360 with 1 Axes>"
      ]
     },
     "metadata": {
      "needs_background": "light"
     },
     "output_type": "display_data"
    }
   ],
   "source": [
    "data[(data['sample'] == 1)]['ranking_norm'][data[(data['sample'] == 1)]['rating'] < 4\n",
    "                                      ].hist(figsize=(10, 5), bins=100);"
   ]
  },
  {
   "cell_type": "markdown",
   "metadata": {},
   "source": [
    "# \n",
    "### Корреляционный анализ"
   ]
  },
  {
   "cell_type": "code",
   "execution_count": 83,
   "metadata": {
    "execution": {
     "iopub.execute_input": "2021-10-13T16:58:12.837911Z",
     "iopub.status.busy": "2021-10-13T16:58:12.837539Z",
     "iopub.status.idle": "2021-10-13T16:58:12.885542Z",
     "shell.execute_reply": "2021-10-13T16:58:12.884211Z",
     "shell.execute_reply.started": "2021-10-13T16:58:12.837858Z"
    }
   },
   "outputs": [
    {
     "data": {
      "text/html": [
       "<div>\n",
       "<style scoped>\n",
       "    .dataframe tbody tr th:only-of-type {\n",
       "        vertical-align: middle;\n",
       "    }\n",
       "\n",
       "    .dataframe tbody tr th {\n",
       "        vertical-align: top;\n",
       "    }\n",
       "\n",
       "    .dataframe thead th {\n",
       "        text-align: right;\n",
       "    }\n",
       "</style>\n",
       "<table border=\"1\" class=\"dataframe\">\n",
       "  <thead>\n",
       "    <tr style=\"text-align: right;\">\n",
       "      <th></th>\n",
       "      <th>restaurant_id</th>\n",
       "      <th>city</th>\n",
       "      <th>cuisine_style</th>\n",
       "      <th>ranking</th>\n",
       "      <th>price_range</th>\n",
       "      <th>number_of_reviews</th>\n",
       "      <th>reviews</th>\n",
       "      <th>sample</th>\n",
       "      <th>rating</th>\n",
       "      <th>chain_count</th>\n",
       "      <th>chain_count_norm</th>\n",
       "      <th>Amsterdam</th>\n",
       "      <th>Athens</th>\n",
       "      <th>Barcelona</th>\n",
       "      <th>Berlin</th>\n",
       "      <th>Bratislava</th>\n",
       "      <th>Brussels</th>\n",
       "      <th>Budapest</th>\n",
       "      <th>Copenhagen</th>\n",
       "      <th>Dublin</th>\n",
       "      <th>Edinburgh</th>\n",
       "      <th>Geneva</th>\n",
       "      <th>Hamburg</th>\n",
       "      <th>Helsinki</th>\n",
       "      <th>Krakow</th>\n",
       "      <th>Lisbon</th>\n",
       "      <th>Ljubljana</th>\n",
       "      <th>London</th>\n",
       "      <th>Luxembourg</th>\n",
       "      <th>Lyon</th>\n",
       "      <th>Madrid</th>\n",
       "      <th>Milan</th>\n",
       "      <th>Munich</th>\n",
       "      <th>Oporto</th>\n",
       "      <th>Oslo</th>\n",
       "      <th>Paris</th>\n",
       "      <th>Prague</th>\n",
       "      <th>Rome</th>\n",
       "      <th>Stockholm</th>\n",
       "      <th>Vienna</th>\n",
       "      <th>Warsaw</th>\n",
       "      <th>Zurich</th>\n",
       "      <th>code_city</th>\n",
       "      <th>city_population</th>\n",
       "      <th>city_population_norm</th>\n",
       "      <th>nan_cuisine_style</th>\n",
       "      <th>rare_сuisine_style</th>\n",
       "      <th>number_cuisine_style</th>\n",
       "      <th>number_cuisine_norm</th>\n",
       "      <th>number_of_rest</th>\n",
       "      <th>ranking_norm</th>\n",
       "      <th>nan_price_range</th>\n",
       "      <th>nan_number_of_reviews</th>\n",
       "      <th>difference_dates</th>\n",
       "    </tr>\n",
       "  </thead>\n",
       "  <tbody>\n",
       "    <tr>\n",
       "      <th>0</th>\n",
       "      <td>id_0</td>\n",
       "      <td>Paris</td>\n",
       "      <td>[Bar, Pub]</td>\n",
       "      <td>9.469854</td>\n",
       "      <td>2</td>\n",
       "      <td>1.386294</td>\n",
       "      <td>[[], []]</td>\n",
       "      <td>0</td>\n",
       "      <td>0.0</td>\n",
       "      <td>16</td>\n",
       "      <td>0.833333</td>\n",
       "      <td>0</td>\n",
       "      <td>0</td>\n",
       "      <td>0</td>\n",
       "      <td>0</td>\n",
       "      <td>0</td>\n",
       "      <td>0</td>\n",
       "      <td>0</td>\n",
       "      <td>0</td>\n",
       "      <td>0</td>\n",
       "      <td>0</td>\n",
       "      <td>0</td>\n",
       "      <td>0</td>\n",
       "      <td>0</td>\n",
       "      <td>0</td>\n",
       "      <td>0</td>\n",
       "      <td>0</td>\n",
       "      <td>0</td>\n",
       "      <td>0</td>\n",
       "      <td>0</td>\n",
       "      <td>0</td>\n",
       "      <td>0</td>\n",
       "      <td>0</td>\n",
       "      <td>0</td>\n",
       "      <td>0</td>\n",
       "      <td>1</td>\n",
       "      <td>0</td>\n",
       "      <td>0</td>\n",
       "      <td>0</td>\n",
       "      <td>0</td>\n",
       "      <td>0</td>\n",
       "      <td>0</td>\n",
       "      <td>24</td>\n",
       "      <td>2.161</td>\n",
       "      <td>0.229875</td>\n",
       "      <td>0.0</td>\n",
       "      <td>0.0</td>\n",
       "      <td>2.0</td>\n",
       "      <td>0.05</td>\n",
       "      <td>6108</td>\n",
       "      <td>0.986320</td>\n",
       "      <td>0.0</td>\n",
       "      <td>0.0</td>\n",
       "      <td>12.124356</td>\n",
       "    </tr>\n",
       "    <tr>\n",
       "      <th>1</th>\n",
       "      <td>id_1</td>\n",
       "      <td>Helsinki</td>\n",
       "      <td>[European, Scandinavian, Gluten Free Options, ...</td>\n",
       "      <td>4.663439</td>\n",
       "      <td>2</td>\n",
       "      <td>4.574711</td>\n",
       "      <td>[['Very good reviews!', 'Fine dining in Hakani...</td>\n",
       "      <td>0</td>\n",
       "      <td>0.0</td>\n",
       "      <td>10</td>\n",
       "      <td>0.500000</td>\n",
       "      <td>0</td>\n",
       "      <td>0</td>\n",
       "      <td>0</td>\n",
       "      <td>0</td>\n",
       "      <td>0</td>\n",
       "      <td>0</td>\n",
       "      <td>0</td>\n",
       "      <td>0</td>\n",
       "      <td>0</td>\n",
       "      <td>0</td>\n",
       "      <td>0</td>\n",
       "      <td>0</td>\n",
       "      <td>1</td>\n",
       "      <td>0</td>\n",
       "      <td>0</td>\n",
       "      <td>0</td>\n",
       "      <td>0</td>\n",
       "      <td>0</td>\n",
       "      <td>0</td>\n",
       "      <td>0</td>\n",
       "      <td>0</td>\n",
       "      <td>0</td>\n",
       "      <td>0</td>\n",
       "      <td>0</td>\n",
       "      <td>0</td>\n",
       "      <td>0</td>\n",
       "      <td>0</td>\n",
       "      <td>0</td>\n",
       "      <td>0</td>\n",
       "      <td>0</td>\n",
       "      <td>0</td>\n",
       "      <td>12</td>\n",
       "      <td>0.657</td>\n",
       "      <td>0.060065</td>\n",
       "      <td>0.0</td>\n",
       "      <td>1.0</td>\n",
       "      <td>5.0</td>\n",
       "      <td>0.20</td>\n",
       "      <td>475</td>\n",
       "      <td>-0.964698</td>\n",
       "      <td>0.0</td>\n",
       "      <td>0.0</td>\n",
       "      <td>6.082763</td>\n",
       "    </tr>\n",
       "  </tbody>\n",
       "</table>\n",
       "</div>"
      ],
      "text/plain": [
       "  restaurant_id      city                                      cuisine_style  \\\n",
       "0          id_0     Paris                                         [Bar, Pub]   \n",
       "1          id_1  Helsinki  [European, Scandinavian, Gluten Free Options, ...   \n",
       "\n",
       "    ranking  price_range  number_of_reviews  \\\n",
       "0  9.469854            2           1.386294   \n",
       "1  4.663439            2           4.574711   \n",
       "\n",
       "                                             reviews  sample  rating  \\\n",
       "0                                           [[], []]       0     0.0   \n",
       "1  [['Very good reviews!', 'Fine dining in Hakani...       0     0.0   \n",
       "\n",
       "   chain_count  chain_count_norm  Amsterdam  Athens  Barcelona  Berlin  \\\n",
       "0           16          0.833333          0       0          0       0   \n",
       "1           10          0.500000          0       0          0       0   \n",
       "\n",
       "   Bratislava  Brussels  Budapest  Copenhagen  Dublin  Edinburgh  Geneva  \\\n",
       "0           0         0         0           0       0          0       0   \n",
       "1           0         0         0           0       0          0       0   \n",
       "\n",
       "   Hamburg  Helsinki  Krakow  Lisbon  Ljubljana  London  Luxembourg  Lyon  \\\n",
       "0        0         0       0       0          0       0           0     0   \n",
       "1        0         1       0       0          0       0           0     0   \n",
       "\n",
       "   Madrid  Milan  Munich  Oporto  Oslo  Paris  Prague  Rome  Stockholm  \\\n",
       "0       0      0       0       0     0      1       0     0          0   \n",
       "1       0      0       0       0     0      0       0     0          0   \n",
       "\n",
       "   Vienna  Warsaw  Zurich  code_city  city_population  city_population_norm  \\\n",
       "0       0       0       0         24            2.161              0.229875   \n",
       "1       0       0       0         12            0.657              0.060065   \n",
       "\n",
       "   nan_cuisine_style  rare_сuisine_style  number_cuisine_style  \\\n",
       "0                0.0                 0.0                   2.0   \n",
       "1                0.0                 1.0                   5.0   \n",
       "\n",
       "   number_cuisine_norm  number_of_rest  ranking_norm  nan_price_range  \\\n",
       "0                 0.05            6108      0.986320              0.0   \n",
       "1                 0.20             475     -0.964698              0.0   \n",
       "\n",
       "   nan_number_of_reviews  difference_dates  \n",
       "0                    0.0         12.124356  \n",
       "1                    0.0          6.082763  "
      ]
     },
     "execution_count": 83,
     "metadata": {},
     "output_type": "execute_result"
    }
   ],
   "source": [
    "data.head(2)"
   ]
  },
  {
   "cell_type": "code",
   "execution_count": 84,
   "metadata": {
    "execution": {
     "iopub.execute_input": "2021-10-13T16:59:00.924225Z",
     "iopub.status.busy": "2021-10-13T16:59:00.923868Z",
     "iopub.status.idle": "2021-10-13T16:59:00.931341Z",
     "shell.execute_reply": "2021-10-13T16:59:00.930304Z",
     "shell.execute_reply.started": "2021-10-13T16:59:00.924169Z"
    }
   },
   "outputs": [],
   "source": [
    "# Сформируем список признаков, которые исключаем из корреляционного анализа\n",
    "columns_to_drop = ['sample', 'Amsterdam', 'Athens', 'Barcelona', 'Bratislava', \n",
    "                'Brussels','Budapest', 'Copenhagen', 'Dublin', 'Edinburgh', 'Geneva', \n",
    "                'Hamburg', 'Helsinki', 'Krakow', 'Lisbon', 'Ljubljana', 'Luxembourg',\n",
    "                'Lyon', 'Madrid','Milan', 'Munich', 'Oporto', 'Oslo', 'Prague',\n",
    "                'Rome', 'Stockholm', 'Vienna', 'Warsaw', 'Zurich', 'nan_cuisine_style', \n",
    "                'nan_price_range', 'nan_number_of_reviews', 'number_of_rest',\n",
    "                'chain_count', 'city_population', 'number_cuisine_style']\n",
    "# 'London', 'Paris', 'Berlin',"
   ]
  },
  {
   "cell_type": "code",
   "execution_count": 85,
   "metadata": {
    "execution": {
     "iopub.execute_input": "2021-10-13T16:59:02.537019Z",
     "iopub.status.busy": "2021-10-13T16:59:02.536719Z",
     "iopub.status.idle": "2021-10-13T16:59:04.066853Z",
     "shell.execute_reply": "2021-10-13T16:59:04.065407Z",
     "shell.execute_reply.started": "2021-10-13T16:59:02.536965Z"
    }
   },
   "outputs": [
    {
     "data": {
      "text/plain": [
       "<matplotlib.axes._subplots.AxesSubplot at 0x7fdb45e5e1d0>"
      ]
     },
     "execution_count": 85,
     "metadata": {},
     "output_type": "execute_result"
    },
    {
     "data": {
      "image/png": "[encoded data removed]",
      "text/plain": [
       "<Figure size 1440x1152 with 2 Axes>"
      ]
     },
     "metadata": {
      "needs_background": "light"
     },
     "output_type": "display_data"
    }
   ],
   "source": [
    "plt.figure(figsize=(20, 16))\n",
    "data_corr = data.copy()\n",
    "\n",
    "sns.heatmap(data_corr[data_corr['sample']== 1].drop(\n",
    "    columns_to_drop, axis=1).corr(),annot=True,fmt='.2g', \n",
    "            vmin=-1, vmax=1, center= 0, cmap= 'coolwarm')"
   ]
  },
  {
   "cell_type": "code",
   "execution_count": 86,
   "metadata": {
    "execution": {
     "iopub.execute_input": "2021-10-13T16:59:22.785524Z",
     "iopub.status.busy": "2021-10-13T16:59:22.785191Z",
     "iopub.status.idle": "2021-10-13T16:59:23.024523Z",
     "shell.execute_reply": "2021-10-13T16:59:23.023563Z",
     "shell.execute_reply.started": "2021-10-13T16:59:22.785471Z"
    }
   },
   "outputs": [
    {
     "data": {
      "text/html": [
       "<div>\n",
       "<style scoped>\n",
       "    .dataframe tbody tr th:only-of-type {\n",
       "        vertical-align: middle;\n",
       "    }\n",
       "\n",
       "    .dataframe tbody tr th {\n",
       "        vertical-align: top;\n",
       "    }\n",
       "\n",
       "    .dataframe thead th {\n",
       "        text-align: right;\n",
       "    }\n",
       "</style>\n",
       "<table border=\"1\" class=\"dataframe\">\n",
       "  <thead>\n",
       "    <tr style=\"text-align: right;\">\n",
       "      <th></th>\n",
       "      <th>rating</th>\n",
       "    </tr>\n",
       "  </thead>\n",
       "  <tbody>\n",
       "    <tr>\n",
       "      <th>rating</th>\n",
       "      <td>1.000000</td>\n",
       "    </tr>\n",
       "    <tr>\n",
       "      <th>chain_count</th>\n",
       "      <td>0.296471</td>\n",
       "    </tr>\n",
       "    <tr>\n",
       "      <th>chain_count_norm</th>\n",
       "      <td>0.296471</td>\n",
       "    </tr>\n",
       "    <tr>\n",
       "      <th>number_cuisine_norm</th>\n",
       "      <td>0.095017</td>\n",
       "    </tr>\n",
       "    <tr>\n",
       "      <th>number_cuisine_style</th>\n",
       "      <td>0.095017</td>\n",
       "    </tr>\n",
       "    <tr>\n",
       "      <th>Rome</th>\n",
       "      <td>0.083082</td>\n",
       "    </tr>\n",
       "    <tr>\n",
       "      <th>rare_сuisine_style</th>\n",
       "      <td>0.069872</td>\n",
       "    </tr>\n",
       "    <tr>\n",
       "      <th>Berlin</th>\n",
       "      <td>0.046967</td>\n",
       "    </tr>\n",
       "    <tr>\n",
       "      <th>Athens</th>\n",
       "      <td>0.044792</td>\n",
       "    </tr>\n",
       "    <tr>\n",
       "      <th>Amsterdam</th>\n",
       "      <td>0.034535</td>\n",
       "    </tr>\n",
       "    <tr>\n",
       "      <th>Oporto</th>\n",
       "      <td>0.031603</td>\n",
       "    </tr>\n",
       "    <tr>\n",
       "      <th>Krakow</th>\n",
       "      <td>0.024333</td>\n",
       "    </tr>\n",
       "    <tr>\n",
       "      <th>Vienna</th>\n",
       "      <td>0.022037</td>\n",
       "    </tr>\n",
       "    <tr>\n",
       "      <th>Budapest</th>\n",
       "      <td>0.020950</td>\n",
       "    </tr>\n",
       "    <tr>\n",
       "      <th>Warsaw</th>\n",
       "      <td>0.019617</td>\n",
       "    </tr>\n",
       "    <tr>\n",
       "      <th>Edinburgh</th>\n",
       "      <td>0.017489</td>\n",
       "    </tr>\n",
       "    <tr>\n",
       "      <th>Lisbon</th>\n",
       "      <td>0.014565</td>\n",
       "    </tr>\n",
       "    <tr>\n",
       "      <th>Dublin</th>\n",
       "      <td>0.013431</td>\n",
       "    </tr>\n",
       "    <tr>\n",
       "      <th>Munich</th>\n",
       "      <td>0.012207</td>\n",
       "    </tr>\n",
       "    <tr>\n",
       "      <th>Ljubljana</th>\n",
       "      <td>0.012068</td>\n",
       "    </tr>\n",
       "    <tr>\n",
       "      <th>Prague</th>\n",
       "      <td>0.011442</td>\n",
       "    </tr>\n",
       "    <tr>\n",
       "      <th>nan_number_of_reviews</th>\n",
       "      <td>0.008386</td>\n",
       "    </tr>\n",
       "    <tr>\n",
       "      <th>Zurich</th>\n",
       "      <td>0.008197</td>\n",
       "    </tr>\n",
       "    <tr>\n",
       "      <th>Hamburg</th>\n",
       "      <td>0.006539</td>\n",
       "    </tr>\n",
       "    <tr>\n",
       "      <th>Copenhagen</th>\n",
       "      <td>-0.001443</td>\n",
       "    </tr>\n",
       "    <tr>\n",
       "      <th>number_of_reviews</th>\n",
       "      <td>-0.001935</td>\n",
       "    </tr>\n",
       "    <tr>\n",
       "      <th>Bratislava</th>\n",
       "      <td>-0.002988</td>\n",
       "    </tr>\n",
       "    <tr>\n",
       "      <th>Geneva</th>\n",
       "      <td>-0.005027</td>\n",
       "    </tr>\n",
       "    <tr>\n",
       "      <th>Helsinki</th>\n",
       "      <td>-0.006737</td>\n",
       "    </tr>\n",
       "    <tr>\n",
       "      <th>Luxembourg</th>\n",
       "      <td>-0.008559</td>\n",
       "    </tr>\n",
       "    <tr>\n",
       "      <th>Lyon</th>\n",
       "      <td>-0.010079</td>\n",
       "    </tr>\n",
       "    <tr>\n",
       "      <th>Barcelona</th>\n",
       "      <td>-0.012890</td>\n",
       "    </tr>\n",
       "    <tr>\n",
       "      <th>Oslo</th>\n",
       "      <td>-0.014680</td>\n",
       "    </tr>\n",
       "    <tr>\n",
       "      <th>Brussels</th>\n",
       "      <td>-0.020753</td>\n",
       "    </tr>\n",
       "    <tr>\n",
       "      <th>London</th>\n",
       "      <td>-0.023273</td>\n",
       "    </tr>\n",
       "    <tr>\n",
       "      <th>city_population_norm</th>\n",
       "      <td>-0.024064</td>\n",
       "    </tr>\n",
       "    <tr>\n",
       "      <th>city_population</th>\n",
       "      <td>-0.024064</td>\n",
       "    </tr>\n",
       "    <tr>\n",
       "      <th>code_city</th>\n",
       "      <td>-0.025281</td>\n",
       "    </tr>\n",
       "    <tr>\n",
       "      <th>Stockholm</th>\n",
       "      <td>-0.026604</td>\n",
       "    </tr>\n",
       "    <tr>\n",
       "      <th>Paris</th>\n",
       "      <td>-0.028288</td>\n",
       "    </tr>\n",
       "    <tr>\n",
       "      <th>price_range</th>\n",
       "      <td>-0.028588</td>\n",
       "    </tr>\n",
       "    <tr>\n",
       "      <th>nan_cuisine_style</th>\n",
       "      <td>-0.038263</td>\n",
       "    </tr>\n",
       "    <tr>\n",
       "      <th>Milan</th>\n",
       "      <td>-0.059704</td>\n",
       "    </tr>\n",
       "    <tr>\n",
       "      <th>number_of_rest</th>\n",
       "      <td>-0.060874</td>\n",
       "    </tr>\n",
       "    <tr>\n",
       "      <th>nan_price_range</th>\n",
       "      <td>-0.064567</td>\n",
       "    </tr>\n",
       "    <tr>\n",
       "      <th>Madrid</th>\n",
       "      <td>-0.083462</td>\n",
       "    </tr>\n",
       "    <tr>\n",
       "      <th>difference_dates</th>\n",
       "      <td>-0.097576</td>\n",
       "    </tr>\n",
       "    <tr>\n",
       "      <th>ranking</th>\n",
       "      <td>-0.335385</td>\n",
       "    </tr>\n",
       "    <tr>\n",
       "      <th>ranking_norm</th>\n",
       "      <td>-0.545008</td>\n",
       "    </tr>\n",
       "    <tr>\n",
       "      <th>sample</th>\n",
       "      <td>NaN</td>\n",
       "    </tr>\n",
       "  </tbody>\n",
       "</table>\n",
       "</div>"
      ],
      "text/plain": [
       "                         rating\n",
       "rating                 1.000000\n",
       "chain_count            0.296471\n",
       "chain_count_norm       0.296471\n",
       "number_cuisine_norm    0.095017\n",
       "number_cuisine_style   0.095017\n",
       "Rome                   0.083082\n",
       "rare_сuisine_style     0.069872\n",
       "Berlin                 0.046967\n",
       "Athens                 0.044792\n",
       "Amsterdam              0.034535\n",
       "Oporto                 0.031603\n",
       "Krakow                 0.024333\n",
       "Vienna                 0.022037\n",
       "Budapest               0.020950\n",
       "Warsaw                 0.019617\n",
       "Edinburgh              0.017489\n",
       "Lisbon                 0.014565\n",
       "Dublin                 0.013431\n",
       "Munich                 0.012207\n",
       "Ljubljana              0.012068\n",
       "Prague                 0.011442\n",
       "nan_number_of_reviews  0.008386\n",
       "Zurich                 0.008197\n",
       "Hamburg                0.006539\n",
       "Copenhagen            -0.001443\n",
       "number_of_reviews     -0.001935\n",
       "Bratislava            -0.002988\n",
       "Geneva                -0.005027\n",
       "Helsinki              -0.006737\n",
       "Luxembourg            -0.008559\n",
       "Lyon                  -0.010079\n",
       "Barcelona             -0.012890\n",
       "Oslo                  -0.014680\n",
       "Brussels              -0.020753\n",
       "London                -0.023273\n",
       "city_population_norm  -0.024064\n",
       "city_population       -0.024064\n",
       "code_city             -0.025281\n",
       "Stockholm             -0.026604\n",
       "Paris                 -0.028288\n",
       "price_range           -0.028588\n",
       "nan_cuisine_style     -0.038263\n",
       "Milan                 -0.059704\n",
       "number_of_rest        -0.060874\n",
       "nan_price_range       -0.064567\n",
       "Madrid                -0.083462\n",
       "difference_dates      -0.097576\n",
       "ranking               -0.335385\n",
       "ranking_norm          -0.545008\n",
       "sample                      NaN"
      ]
     },
     "execution_count": 86,
     "metadata": {},
     "output_type": "execute_result"
    }
   ],
   "source": [
    "data[data['sample']== 1].corr().rating.sort_values(ascending=False).to_frame()"
   ]
  },
  {
   "cell_type": "markdown",
   "metadata": {},
   "source": [
    "С нашей целевой переменной больше всего коррелируют ranking и ranking_norm."
   ]
  },
  {
   "cell_type": "code",
   "execution_count": 87,
   "metadata": {
    "execution": {
     "iopub.execute_input": "2021-10-13T16:59:50.206471Z",
     "iopub.status.busy": "2021-10-13T16:59:50.206073Z",
     "iopub.status.idle": "2021-10-13T16:59:50.227963Z",
     "shell.execute_reply": "2021-10-13T16:59:50.227183Z",
     "shell.execute_reply.started": "2021-10-13T16:59:50.206409Z"
    }
   },
   "outputs": [],
   "source": [
    "# Убираем сильно коррелирующие между собой признаки:\n",
    "data.drop(['city_population','chain_count', \n",
    "           'number_cuisine_style'], axis = 1, inplace=True)"
   ]
  },
  {
   "cell_type": "code",
   "execution_count": 88,
   "metadata": {
    "execution": {
     "iopub.execute_input": "2021-10-13T16:59:54.759260Z",
     "iopub.status.busy": "2021-10-13T16:59:54.758783Z",
     "iopub.status.idle": "2021-10-13T16:59:54.774600Z",
     "shell.execute_reply": "2021-10-13T16:59:54.773282Z",
     "shell.execute_reply.started": "2021-10-13T16:59:54.759214Z"
    }
   },
   "outputs": [],
   "source": [
    "# убираем не числовые признаки \n",
    "object_columns = [x for x in data.columns if data[x].dtypes == 'object']\n",
    "data.drop(object_columns, axis = 1, inplace=True)"
   ]
  },
  {
   "cell_type": "code",
   "execution_count": 89,
   "metadata": {
    "execution": {
     "iopub.execute_input": "2021-10-13T17:00:00.563760Z",
     "iopub.status.busy": "2021-10-13T17:00:00.563378Z",
     "iopub.status.idle": "2021-10-13T17:00:00.609306Z",
     "shell.execute_reply": "2021-10-13T17:00:00.608058Z",
     "shell.execute_reply.started": "2021-10-13T17:00:00.563706Z"
    }
   },
   "outputs": [
    {
     "data": {
      "text/html": [
       "<div>\n",
       "<style scoped>\n",
       "    .dataframe tbody tr th:only-of-type {\n",
       "        vertical-align: middle;\n",
       "    }\n",
       "\n",
       "    .dataframe tbody tr th {\n",
       "        vertical-align: top;\n",
       "    }\n",
       "\n",
       "    .dataframe thead th {\n",
       "        text-align: right;\n",
       "    }\n",
       "</style>\n",
       "<table border=\"1\" class=\"dataframe\">\n",
       "  <thead>\n",
       "    <tr style=\"text-align: right;\">\n",
       "      <th></th>\n",
       "      <th>ranking</th>\n",
       "      <th>price_range</th>\n",
       "      <th>number_of_reviews</th>\n",
       "      <th>sample</th>\n",
       "      <th>rating</th>\n",
       "      <th>chain_count_norm</th>\n",
       "      <th>Amsterdam</th>\n",
       "      <th>Athens</th>\n",
       "      <th>Barcelona</th>\n",
       "      <th>Berlin</th>\n",
       "      <th>Bratislava</th>\n",
       "      <th>Brussels</th>\n",
       "      <th>Budapest</th>\n",
       "      <th>Copenhagen</th>\n",
       "      <th>Dublin</th>\n",
       "      <th>Edinburgh</th>\n",
       "      <th>Geneva</th>\n",
       "      <th>Hamburg</th>\n",
       "      <th>Helsinki</th>\n",
       "      <th>Krakow</th>\n",
       "      <th>Lisbon</th>\n",
       "      <th>Ljubljana</th>\n",
       "      <th>London</th>\n",
       "      <th>Luxembourg</th>\n",
       "      <th>Lyon</th>\n",
       "      <th>Madrid</th>\n",
       "      <th>Milan</th>\n",
       "      <th>Munich</th>\n",
       "      <th>Oporto</th>\n",
       "      <th>Oslo</th>\n",
       "      <th>Paris</th>\n",
       "      <th>Prague</th>\n",
       "      <th>Rome</th>\n",
       "      <th>Stockholm</th>\n",
       "      <th>Vienna</th>\n",
       "      <th>Warsaw</th>\n",
       "      <th>Zurich</th>\n",
       "      <th>code_city</th>\n",
       "      <th>city_population_norm</th>\n",
       "      <th>nan_cuisine_style</th>\n",
       "      <th>rare_сuisine_style</th>\n",
       "      <th>number_cuisine_norm</th>\n",
       "      <th>number_of_rest</th>\n",
       "      <th>ranking_norm</th>\n",
       "      <th>nan_price_range</th>\n",
       "      <th>nan_number_of_reviews</th>\n",
       "      <th>difference_dates</th>\n",
       "    </tr>\n",
       "  </thead>\n",
       "  <tbody>\n",
       "    <tr>\n",
       "      <th>0</th>\n",
       "      <td>9.469854</td>\n",
       "      <td>2</td>\n",
       "      <td>1.386294</td>\n",
       "      <td>0</td>\n",
       "      <td>0.0</td>\n",
       "      <td>0.833333</td>\n",
       "      <td>0</td>\n",
       "      <td>0</td>\n",
       "      <td>0</td>\n",
       "      <td>0</td>\n",
       "      <td>0</td>\n",
       "      <td>0</td>\n",
       "      <td>0</td>\n",
       "      <td>0</td>\n",
       "      <td>0</td>\n",
       "      <td>0</td>\n",
       "      <td>0</td>\n",
       "      <td>0</td>\n",
       "      <td>0</td>\n",
       "      <td>0</td>\n",
       "      <td>0</td>\n",
       "      <td>0</td>\n",
       "      <td>0</td>\n",
       "      <td>0</td>\n",
       "      <td>0</td>\n",
       "      <td>0</td>\n",
       "      <td>0</td>\n",
       "      <td>0</td>\n",
       "      <td>0</td>\n",
       "      <td>0</td>\n",
       "      <td>1</td>\n",
       "      <td>0</td>\n",
       "      <td>0</td>\n",
       "      <td>0</td>\n",
       "      <td>0</td>\n",
       "      <td>0</td>\n",
       "      <td>0</td>\n",
       "      <td>24</td>\n",
       "      <td>0.229875</td>\n",
       "      <td>0.0</td>\n",
       "      <td>0.0</td>\n",
       "      <td>0.05</td>\n",
       "      <td>6108</td>\n",
       "      <td>0.986320</td>\n",
       "      <td>0.0</td>\n",
       "      <td>0.0</td>\n",
       "      <td>12.124356</td>\n",
       "    </tr>\n",
       "    <tr>\n",
       "      <th>1</th>\n",
       "      <td>4.663439</td>\n",
       "      <td>2</td>\n",
       "      <td>4.574711</td>\n",
       "      <td>0</td>\n",
       "      <td>0.0</td>\n",
       "      <td>0.500000</td>\n",
       "      <td>0</td>\n",
       "      <td>0</td>\n",
       "      <td>0</td>\n",
       "      <td>0</td>\n",
       "      <td>0</td>\n",
       "      <td>0</td>\n",
       "      <td>0</td>\n",
       "      <td>0</td>\n",
       "      <td>0</td>\n",
       "      <td>0</td>\n",
       "      <td>0</td>\n",
       "      <td>0</td>\n",
       "      <td>1</td>\n",
       "      <td>0</td>\n",
       "      <td>0</td>\n",
       "      <td>0</td>\n",
       "      <td>0</td>\n",
       "      <td>0</td>\n",
       "      <td>0</td>\n",
       "      <td>0</td>\n",
       "      <td>0</td>\n",
       "      <td>0</td>\n",
       "      <td>0</td>\n",
       "      <td>0</td>\n",
       "      <td>0</td>\n",
       "      <td>0</td>\n",
       "      <td>0</td>\n",
       "      <td>0</td>\n",
       "      <td>0</td>\n",
       "      <td>0</td>\n",
       "      <td>0</td>\n",
       "      <td>12</td>\n",
       "      <td>0.060065</td>\n",
       "      <td>0.0</td>\n",
       "      <td>1.0</td>\n",
       "      <td>0.20</td>\n",
       "      <td>475</td>\n",
       "      <td>-0.964698</td>\n",
       "      <td>0.0</td>\n",
       "      <td>0.0</td>\n",
       "      <td>6.082763</td>\n",
       "    </tr>\n",
       "    <tr>\n",
       "      <th>2</th>\n",
       "      <td>6.697034</td>\n",
       "      <td>2</td>\n",
       "      <td>3.332205</td>\n",
       "      <td>0</td>\n",
       "      <td>0.0</td>\n",
       "      <td>0.777778</td>\n",
       "      <td>0</td>\n",
       "      <td>0</td>\n",
       "      <td>0</td>\n",
       "      <td>0</td>\n",
       "      <td>0</td>\n",
       "      <td>0</td>\n",
       "      <td>0</td>\n",
       "      <td>0</td>\n",
       "      <td>0</td>\n",
       "      <td>1</td>\n",
       "      <td>0</td>\n",
       "      <td>0</td>\n",
       "      <td>0</td>\n",
       "      <td>0</td>\n",
       "      <td>0</td>\n",
       "      <td>0</td>\n",
       "      <td>0</td>\n",
       "      <td>0</td>\n",
       "      <td>0</td>\n",
       "      <td>0</td>\n",
       "      <td>0</td>\n",
       "      <td>0</td>\n",
       "      <td>0</td>\n",
       "      <td>0</td>\n",
       "      <td>0</td>\n",
       "      <td>0</td>\n",
       "      <td>0</td>\n",
       "      <td>0</td>\n",
       "      <td>0</td>\n",
       "      <td>0</td>\n",
       "      <td>0</td>\n",
       "      <td>9</td>\n",
       "      <td>0.040985</td>\n",
       "      <td>0.0</td>\n",
       "      <td>0.0</td>\n",
       "      <td>0.00</td>\n",
       "      <td>745</td>\n",
       "      <td>-0.100846</td>\n",
       "      <td>0.0</td>\n",
       "      <td>0.0</td>\n",
       "      <td>4.690416</td>\n",
       "    </tr>\n",
       "    <tr>\n",
       "      <th>3</th>\n",
       "      <td>7.419980</td>\n",
       "      <td>3</td>\n",
       "      <td>5.308268</td>\n",
       "      <td>0</td>\n",
       "      <td>0.0</td>\n",
       "      <td>0.444444</td>\n",
       "      <td>0</td>\n",
       "      <td>0</td>\n",
       "      <td>0</td>\n",
       "      <td>0</td>\n",
       "      <td>0</td>\n",
       "      <td>0</td>\n",
       "      <td>0</td>\n",
       "      <td>0</td>\n",
       "      <td>0</td>\n",
       "      <td>0</td>\n",
       "      <td>0</td>\n",
       "      <td>0</td>\n",
       "      <td>0</td>\n",
       "      <td>0</td>\n",
       "      <td>0</td>\n",
       "      <td>0</td>\n",
       "      <td>1</td>\n",
       "      <td>0</td>\n",
       "      <td>0</td>\n",
       "      <td>0</td>\n",
       "      <td>0</td>\n",
       "      <td>0</td>\n",
       "      <td>0</td>\n",
       "      <td>0</td>\n",
       "      <td>0</td>\n",
       "      <td>0</td>\n",
       "      <td>0</td>\n",
       "      <td>0</td>\n",
       "      <td>0</td>\n",
       "      <td>0</td>\n",
       "      <td>0</td>\n",
       "      <td>16</td>\n",
       "      <td>1.000000</td>\n",
       "      <td>0.0</td>\n",
       "      <td>0.0</td>\n",
       "      <td>0.20</td>\n",
       "      <td>7193</td>\n",
       "      <td>-0.903755</td>\n",
       "      <td>0.0</td>\n",
       "      <td>0.0</td>\n",
       "      <td>3.741657</td>\n",
       "    </tr>\n",
       "    <tr>\n",
       "      <th>4</th>\n",
       "      <td>3.610918</td>\n",
       "      <td>3</td>\n",
       "      <td>5.087596</td>\n",
       "      <td>0</td>\n",
       "      <td>0.0</td>\n",
       "      <td>0.722222</td>\n",
       "      <td>0</td>\n",
       "      <td>0</td>\n",
       "      <td>0</td>\n",
       "      <td>0</td>\n",
       "      <td>1</td>\n",
       "      <td>0</td>\n",
       "      <td>0</td>\n",
       "      <td>0</td>\n",
       "      <td>0</td>\n",
       "      <td>0</td>\n",
       "      <td>0</td>\n",
       "      <td>0</td>\n",
       "      <td>0</td>\n",
       "      <td>0</td>\n",
       "      <td>0</td>\n",
       "      <td>0</td>\n",
       "      <td>0</td>\n",
       "      <td>0</td>\n",
       "      <td>0</td>\n",
       "      <td>0</td>\n",
       "      <td>0</td>\n",
       "      <td>0</td>\n",
       "      <td>0</td>\n",
       "      <td>0</td>\n",
       "      <td>0</td>\n",
       "      <td>0</td>\n",
       "      <td>0</td>\n",
       "      <td>0</td>\n",
       "      <td>0</td>\n",
       "      <td>0</td>\n",
       "      <td>0</td>\n",
       "      <td>4</td>\n",
       "      <td>0.035339</td>\n",
       "      <td>0.0</td>\n",
       "      <td>0.0</td>\n",
       "      <td>0.25</td>\n",
       "      <td>380</td>\n",
       "      <td>-1.119550</td>\n",
       "      <td>0.0</td>\n",
       "      <td>0.0</td>\n",
       "      <td>3.872983</td>\n",
       "    </tr>\n",
       "  </tbody>\n",
       "</table>\n",
       "</div>"
      ],
      "text/plain": [
       "    ranking  price_range  number_of_reviews  sample  rating  chain_count_norm  \\\n",
       "0  9.469854            2           1.386294       0     0.0          0.833333   \n",
       "1  4.663439            2           4.574711       0     0.0          0.500000   \n",
       "2  6.697034            2           3.332205       0     0.0          0.777778   \n",
       "3  7.419980            3           5.308268       0     0.0          0.444444   \n",
       "4  3.610918            3           5.087596       0     0.0          0.722222   \n",
       "\n",
       "   Amsterdam  Athens  Barcelona  Berlin  Bratislava  Brussels  Budapest  \\\n",
       "0          0       0          0       0           0         0         0   \n",
       "1          0       0          0       0           0         0         0   \n",
       "2          0       0          0       0           0         0         0   \n",
       "3          0       0          0       0           0         0         0   \n",
       "4          0       0          0       0           1         0         0   \n",
       "\n",
       "   Copenhagen  Dublin  Edinburgh  Geneva  Hamburg  Helsinki  Krakow  Lisbon  \\\n",
       "0           0       0          0       0        0         0       0       0   \n",
       "1           0       0          0       0        0         1       0       0   \n",
       "2           0       0          1       0        0         0       0       0   \n",
       "3           0       0          0       0        0         0       0       0   \n",
       "4           0       0          0       0        0         0       0       0   \n",
       "\n",
       "   Ljubljana  London  Luxembourg  Lyon  Madrid  Milan  Munich  Oporto  Oslo  \\\n",
       "0          0       0           0     0       0      0       0       0     0   \n",
       "1          0       0           0     0       0      0       0       0     0   \n",
       "2          0       0           0     0       0      0       0       0     0   \n",
       "3          0       1           0     0       0      0       0       0     0   \n",
       "4          0       0           0     0       0      0       0       0     0   \n",
       "\n",
       "   Paris  Prague  Rome  Stockholm  Vienna  Warsaw  Zurich  code_city  \\\n",
       "0      1       0     0          0       0       0       0         24   \n",
       "1      0       0     0          0       0       0       0         12   \n",
       "2      0       0     0          0       0       0       0          9   \n",
       "3      0       0     0          0       0       0       0         16   \n",
       "4      0       0     0          0       0       0       0          4   \n",
       "\n",
       "   city_population_norm  nan_cuisine_style  rare_сuisine_style  \\\n",
       "0              0.229875                0.0                 0.0   \n",
       "1              0.060065                0.0                 1.0   \n",
       "2              0.040985                0.0                 0.0   \n",
       "3              1.000000                0.0                 0.0   \n",
       "4              0.035339                0.0                 0.0   \n",
       "\n",
       "   number_cuisine_norm  number_of_rest  ranking_norm  nan_price_range  \\\n",
       "0                 0.05            6108      0.986320              0.0   \n",
       "1                 0.20             475     -0.964698              0.0   \n",
       "2                 0.00             745     -0.100846              0.0   \n",
       "3                 0.20            7193     -0.903755              0.0   \n",
       "4                 0.25             380     -1.119550              0.0   \n",
       "\n",
       "   nan_number_of_reviews  difference_dates  \n",
       "0                    0.0         12.124356  \n",
       "1                    0.0          6.082763  \n",
       "2                    0.0          4.690416  \n",
       "3                    0.0          3.741657  \n",
       "4                    0.0          3.872983  "
      ]
     },
     "execution_count": 89,
     "metadata": {},
     "output_type": "execute_result"
    }
   ],
   "source": [
    "data.head(5)"
   ]
  },
  {
   "cell_type": "markdown",
   "metadata": {},
   "source": [
    "# \n",
    "### **Разбиваем датасет на тренировочный и тестовый**"
   ]
  },
  {
   "cell_type": "code",
   "execution_count": 90,
   "metadata": {
    "execution": {
     "iopub.execute_input": "2021-10-13T17:00:06.178084Z",
     "iopub.status.busy": "2021-10-13T17:00:06.177612Z",
     "iopub.status.idle": "2021-10-13T17:00:06.189653Z",
     "shell.execute_reply": "2021-10-13T17:00:06.188837Z",
     "shell.execute_reply.started": "2021-10-13T17:00:06.178038Z"
    }
   },
   "outputs": [],
   "source": [
    "# Х - данные с информацией о ресторанах, у - целевая переменная (рейтинги ресторанов)\n",
    "X = data.drop(['rating'], axis = 1)\n",
    "y = data['rating']"
   ]
  },
  {
   "cell_type": "code",
   "execution_count": 91,
   "metadata": {
    "execution": {
     "iopub.execute_input": "2021-10-13T17:00:07.579238Z",
     "iopub.status.busy": "2021-10-13T17:00:07.578633Z",
     "iopub.status.idle": "2021-10-13T17:00:07.627408Z",
     "shell.execute_reply": "2021-10-13T17:00:07.626419Z",
     "shell.execute_reply.started": "2021-10-13T17:00:07.579180Z"
    }
   },
   "outputs": [],
   "source": [
    "# Теперь выделим тестовую часть\n",
    "train_data = data.query('sample == 1').drop(['sample'], axis=1)\n",
    "test_data = data.query('sample == 0').drop(['sample'], axis=1)\n",
    "\n",
    "y = train_data['rating'] # наш таргет\n",
    "X = train_data.drop(['rating'], axis=1)"
   ]
  },
  {
   "cell_type": "markdown",
   "metadata": {},
   "source": [
    "Перед тем как отправлять наши данные на обучение, разделим данные на еще один тест и трейн, для валидации. \n",
    "Это поможет нам проверить, как хорошо наша модель работает, до отправки submissiona на kaggle."
   ]
  },
  {
   "cell_type": "code",
   "execution_count": 92,
   "metadata": {
    "execution": {
     "iopub.execute_input": "2021-10-13T17:00:09.363522Z",
     "iopub.status.busy": "2021-10-13T17:00:09.363140Z",
     "iopub.status.idle": "2021-10-13T17:00:09.386282Z",
     "shell.execute_reply": "2021-10-13T17:00:09.385044Z",
     "shell.execute_reply.started": "2021-10-13T17:00:09.363457Z"
    }
   },
   "outputs": [],
   "source": [
    "# Воспользуемся специальной функцие train_test_split для разбивки тестовых данных.\n",
    "# Наборы данных с меткой \"train\" будут использоваться для обучения модели, \n",
    "# \"test\" - для тестирования.\n",
    "# Для тестирования мы будем использовать 25% от исходного датасета.\n",
    "X_train, X_test, y_train, y_test = train_test_split(X, y, test_size=0.25, \n",
    "                                                    random_state=RANDOM_SEED)"
   ]
  },
  {
   "cell_type": "code",
   "execution_count": 93,
   "metadata": {
    "execution": {
     "iopub.execute_input": "2021-10-13T17:00:13.443811Z",
     "iopub.status.busy": "2021-10-13T17:00:13.443437Z",
     "iopub.status.idle": "2021-10-13T17:00:13.452313Z",
     "shell.execute_reply": "2021-10-13T17:00:13.451025Z",
     "shell.execute_reply.started": "2021-10-13T17:00:13.443748Z"
    }
   },
   "outputs": [
    {
     "data": {
      "text/plain": [
       "((10000, 46), (40000, 46), (40000, 45), (30000, 45), (10000, 45))"
      ]
     },
     "execution_count": 93,
     "metadata": {},
     "output_type": "execute_result"
    }
   ],
   "source": [
    "# проверяем\n",
    "test_data.shape, train_data.shape, X.shape, X_train.shape, X_test.shape"
   ]
  },
  {
   "cell_type": "markdown",
   "metadata": {},
   "source": [
    "# Model \n",
    "Сам ML"
   ]
  },
  {
   "cell_type": "code",
   "execution_count": 94,
   "metadata": {
    "execution": {
     "iopub.execute_input": "2021-10-13T17:00:16.752500Z",
     "iopub.status.busy": "2021-10-13T17:00:16.751852Z",
     "iopub.status.idle": "2021-10-13T17:00:16.757928Z",
     "shell.execute_reply": "2021-10-13T17:00:16.757041Z",
     "shell.execute_reply.started": "2021-10-13T17:00:16.752422Z"
    }
   },
   "outputs": [],
   "source": [
    "# Импортируем необходимые библиотеки:\n",
    "from sklearn.ensemble import RandomForestRegressor # инструмент для создания и обучения модели\n",
    "from sklearn import metrics # инструменты для оценки точности модели"
   ]
  },
  {
   "cell_type": "code",
   "execution_count": 95,
   "metadata": {
    "execution": {
     "iopub.execute_input": "2021-10-13T17:00:18.149399Z",
     "iopub.status.busy": "2021-10-13T17:00:18.148734Z",
     "iopub.status.idle": "2021-10-13T17:00:18.156064Z",
     "shell.execute_reply": "2021-10-13T17:00:18.155092Z",
     "shell.execute_reply.started": "2021-10-13T17:00:18.149329Z"
    }
   },
   "outputs": [],
   "source": [
    "# Создаём модель (НАСТРОЙКИ НЕ ТРОГАЕМ)\n",
    "model = RandomForestRegressor(n_estimators=100, verbose=1, n_jobs=-1, random_state=RANDOM_SEED)"
   ]
  },
  {
   "cell_type": "code",
   "execution_count": 96,
   "metadata": {
    "execution": {
     "iopub.execute_input": "2021-10-13T17:00:22.850708Z",
     "iopub.status.busy": "2021-10-13T17:00:22.850313Z",
     "iopub.status.idle": "2021-10-13T17:00:32.764674Z",
     "shell.execute_reply": "2021-10-13T17:00:32.763321Z",
     "shell.execute_reply.started": "2021-10-13T17:00:22.850641Z"
    }
   },
   "outputs": [
    {
     "name": "stderr",
     "output_type": "stream",
     "text": [
      "[Parallel(n_jobs=-1)]: Using backend ThreadingBackend with 4 concurrent workers.\n",
      "[Parallel(n_jobs=-1)]: Done  42 tasks      | elapsed:    3.8s\n",
      "[Parallel(n_jobs=-1)]: Done 100 out of 100 | elapsed:    8.6s finished\n",
      "[Parallel(n_jobs=4)]: Using backend ThreadingBackend with 4 concurrent workers.\n",
      "[Parallel(n_jobs=4)]: Done  42 tasks      | elapsed:    0.0s\n",
      "[Parallel(n_jobs=4)]: Done 100 out of 100 | elapsed:    0.1s finished\n"
     ]
    }
   ],
   "source": [
    "# Обучаем модель на тестовом наборе данных\n",
    "model.fit(X_train, y_train)\n",
    "\n",
    "# Используем обученную модель для предсказания рейтинга ресторанов в тестовой выборке.\n",
    "# Предсказанные значения записываем в переменную y_pred\n",
    "y_pred = model.predict(X_test)"
   ]
  },
  {
   "cell_type": "code",
   "execution_count": 97,
   "metadata": {
    "execution": {
     "iopub.execute_input": "2021-10-13T17:00:36.590764Z",
     "iopub.status.busy": "2021-10-13T17:00:36.590412Z",
     "iopub.status.idle": "2021-10-13T17:00:36.597850Z",
     "shell.execute_reply": "2021-10-13T17:00:36.596772Z",
     "shell.execute_reply.started": "2021-10-13T17:00:36.590696Z"
    }
   },
   "outputs": [
    {
     "name": "stdout",
     "output_type": "stream",
     "text": [
      "MAE: 0.20815\n"
     ]
    }
   ],
   "source": [
    "# Сравниваем предсказанные значения (y_pred) с реальными (y_test), и смотрим насколько они в среднем отличаются\n",
    "# Метрика называется Mean Absolute Error (MAE) и показывает среднее отклонение предсказанных значений от фактических.\n",
    "print('MAE:', metrics.mean_absolute_error(y_test, y_pred))"
   ]
  },
  {
   "cell_type": "code",
   "execution_count": 98,
   "metadata": {
    "execution": {
     "iopub.execute_input": "2021-10-13T17:01:50.591632Z",
     "iopub.status.busy": "2021-10-13T17:01:50.591322Z",
     "iopub.status.idle": "2021-10-13T17:01:51.074192Z",
     "shell.execute_reply": "2021-10-13T17:01:51.072567Z",
     "shell.execute_reply.started": "2021-10-13T17:01:50.591594Z"
    }
   },
   "outputs": [
    {
     "data": {
      "text/plain": [
       "<matplotlib.axes._subplots.AxesSubplot at 0x7fdb3439a400>"
      ]
     },
     "execution_count": 98,
     "metadata": {},
     "output_type": "execute_result"
    },
    {
     "data": {
      "image/png": "[encoded data removed]",
      "text/plain": [
       "<Figure size 720x720 with 1 Axes>"
      ]
     },
     "metadata": {
      "needs_background": "light"
     },
     "output_type": "display_data"
    }
   ],
   "source": [
    "# в RandomForestRegressor есть возможность вывести самые важные признаки для модели\n",
    "plt.rcParams['figure.figsize'] = (10,10)\n",
    "feat_importances = pd.Series(model.feature_importances_, index=X.columns)\n",
    "feat_importances.nlargest(15).plot(kind='barh')"
   ]
  },
  {
   "cell_type": "markdown",
   "metadata": {},
   "source": [
    "# \n",
    "### Submission\n",
    "Если все устраевает - готовим Submission на кагл"
   ]
  },
  {
   "cell_type": "code",
   "execution_count": 99,
   "metadata": {
    "execution": {
     "iopub.execute_input": "2021-10-13T17:02:46.349328Z",
     "iopub.status.busy": "2021-10-13T17:02:46.348842Z",
     "iopub.status.idle": "2021-10-13T17:02:46.400947Z",
     "shell.execute_reply": "2021-10-13T17:02:46.399266Z",
     "shell.execute_reply.started": "2021-10-13T17:02:46.349263Z"
    }
   },
   "outputs": [
    {
     "data": {
      "text/html": [
       "<div>\n",
       "<style scoped>\n",
       "    .dataframe tbody tr th:only-of-type {\n",
       "        vertical-align: middle;\n",
       "    }\n",
       "\n",
       "    .dataframe tbody tr th {\n",
       "        vertical-align: top;\n",
       "    }\n",
       "\n",
       "    .dataframe thead th {\n",
       "        text-align: right;\n",
       "    }\n",
       "</style>\n",
       "<table border=\"1\" class=\"dataframe\">\n",
       "  <thead>\n",
       "    <tr style=\"text-align: right;\">\n",
       "      <th></th>\n",
       "      <th>ranking</th>\n",
       "      <th>price_range</th>\n",
       "      <th>number_of_reviews</th>\n",
       "      <th>rating</th>\n",
       "      <th>chain_count_norm</th>\n",
       "      <th>Amsterdam</th>\n",
       "      <th>Athens</th>\n",
       "      <th>Barcelona</th>\n",
       "      <th>Berlin</th>\n",
       "      <th>Bratislava</th>\n",
       "      <th>Brussels</th>\n",
       "      <th>Budapest</th>\n",
       "      <th>Copenhagen</th>\n",
       "      <th>Dublin</th>\n",
       "      <th>Edinburgh</th>\n",
       "      <th>Geneva</th>\n",
       "      <th>Hamburg</th>\n",
       "      <th>Helsinki</th>\n",
       "      <th>Krakow</th>\n",
       "      <th>Lisbon</th>\n",
       "      <th>Ljubljana</th>\n",
       "      <th>London</th>\n",
       "      <th>Luxembourg</th>\n",
       "      <th>Lyon</th>\n",
       "      <th>Madrid</th>\n",
       "      <th>Milan</th>\n",
       "      <th>Munich</th>\n",
       "      <th>Oporto</th>\n",
       "      <th>Oslo</th>\n",
       "      <th>Paris</th>\n",
       "      <th>Prague</th>\n",
       "      <th>Rome</th>\n",
       "      <th>Stockholm</th>\n",
       "      <th>Vienna</th>\n",
       "      <th>Warsaw</th>\n",
       "      <th>Zurich</th>\n",
       "      <th>code_city</th>\n",
       "      <th>city_population_norm</th>\n",
       "      <th>nan_cuisine_style</th>\n",
       "      <th>rare_сuisine_style</th>\n",
       "      <th>number_cuisine_norm</th>\n",
       "      <th>number_of_rest</th>\n",
       "      <th>ranking_norm</th>\n",
       "      <th>nan_price_range</th>\n",
       "      <th>nan_number_of_reviews</th>\n",
       "      <th>difference_dates</th>\n",
       "    </tr>\n",
       "  </thead>\n",
       "  <tbody>\n",
       "    <tr>\n",
       "      <th>1452</th>\n",
       "      <td>5.164786</td>\n",
       "      <td>2</td>\n",
       "      <td>4.499810</td>\n",
       "      <td>0.0</td>\n",
       "      <td>0.388889</td>\n",
       "      <td>0</td>\n",
       "      <td>0</td>\n",
       "      <td>0</td>\n",
       "      <td>0</td>\n",
       "      <td>0</td>\n",
       "      <td>0</td>\n",
       "      <td>0</td>\n",
       "      <td>0</td>\n",
       "      <td>0</td>\n",
       "      <td>0</td>\n",
       "      <td>0</td>\n",
       "      <td>0</td>\n",
       "      <td>0</td>\n",
       "      <td>0</td>\n",
       "      <td>0</td>\n",
       "      <td>0</td>\n",
       "      <td>0</td>\n",
       "      <td>0</td>\n",
       "      <td>0</td>\n",
       "      <td>0</td>\n",
       "      <td>0</td>\n",
       "      <td>0</td>\n",
       "      <td>0</td>\n",
       "      <td>0</td>\n",
       "      <td>0</td>\n",
       "      <td>0</td>\n",
       "      <td>0</td>\n",
       "      <td>1</td>\n",
       "      <td>0</td>\n",
       "      <td>0</td>\n",
       "      <td>0</td>\n",
       "      <td>27</td>\n",
       "      <td>0.096082</td>\n",
       "      <td>0.0</td>\n",
       "      <td>0.0</td>\n",
       "      <td>0.25</td>\n",
       "      <td>1033</td>\n",
       "      <td>-1.028540</td>\n",
       "      <td>0.0</td>\n",
       "      <td>0.0</td>\n",
       "      <td>0.000000</td>\n",
       "    </tr>\n",
       "    <tr>\n",
       "      <th>509</th>\n",
       "      <td>6.267201</td>\n",
       "      <td>2</td>\n",
       "      <td>5.648974</td>\n",
       "      <td>0.0</td>\n",
       "      <td>0.722222</td>\n",
       "      <td>0</td>\n",
       "      <td>0</td>\n",
       "      <td>0</td>\n",
       "      <td>0</td>\n",
       "      <td>0</td>\n",
       "      <td>0</td>\n",
       "      <td>0</td>\n",
       "      <td>0</td>\n",
       "      <td>0</td>\n",
       "      <td>0</td>\n",
       "      <td>0</td>\n",
       "      <td>0</td>\n",
       "      <td>0</td>\n",
       "      <td>0</td>\n",
       "      <td>1</td>\n",
       "      <td>0</td>\n",
       "      <td>0</td>\n",
       "      <td>0</td>\n",
       "      <td>0</td>\n",
       "      <td>0</td>\n",
       "      <td>0</td>\n",
       "      <td>0</td>\n",
       "      <td>0</td>\n",
       "      <td>0</td>\n",
       "      <td>0</td>\n",
       "      <td>0</td>\n",
       "      <td>0</td>\n",
       "      <td>0</td>\n",
       "      <td>0</td>\n",
       "      <td>0</td>\n",
       "      <td>0</td>\n",
       "      <td>14</td>\n",
       "      <td>0.042960</td>\n",
       "      <td>0.0</td>\n",
       "      <td>0.0</td>\n",
       "      <td>0.20</td>\n",
       "      <td>1647</td>\n",
       "      <td>-0.813801</td>\n",
       "      <td>0.0</td>\n",
       "      <td>0.0</td>\n",
       "      <td>15.099669</td>\n",
       "    </tr>\n",
       "    <tr>\n",
       "      <th>4629</th>\n",
       "      <td>8.471777</td>\n",
       "      <td>2</td>\n",
       "      <td>3.178054</td>\n",
       "      <td>0.0</td>\n",
       "      <td>0.111111</td>\n",
       "      <td>0</td>\n",
       "      <td>0</td>\n",
       "      <td>0</td>\n",
       "      <td>1</td>\n",
       "      <td>0</td>\n",
       "      <td>0</td>\n",
       "      <td>0</td>\n",
       "      <td>0</td>\n",
       "      <td>0</td>\n",
       "      <td>0</td>\n",
       "      <td>0</td>\n",
       "      <td>0</td>\n",
       "      <td>0</td>\n",
       "      <td>0</td>\n",
       "      <td>0</td>\n",
       "      <td>0</td>\n",
       "      <td>0</td>\n",
       "      <td>0</td>\n",
       "      <td>0</td>\n",
       "      <td>0</td>\n",
       "      <td>0</td>\n",
       "      <td>0</td>\n",
       "      <td>0</td>\n",
       "      <td>0</td>\n",
       "      <td>0</td>\n",
       "      <td>0</td>\n",
       "      <td>0</td>\n",
       "      <td>0</td>\n",
       "      <td>0</td>\n",
       "      <td>0</td>\n",
       "      <td>0</td>\n",
       "      <td>3</td>\n",
       "      <td>0.399571</td>\n",
       "      <td>0.0</td>\n",
       "      <td>0.0</td>\n",
       "      <td>0.05</td>\n",
       "      <td>2705</td>\n",
       "      <td>0.562877</td>\n",
       "      <td>0.0</td>\n",
       "      <td>0.0</td>\n",
       "      <td>12.806248</td>\n",
       "    </tr>\n",
       "    <tr>\n",
       "      <th>9958</th>\n",
       "      <td>7.970740</td>\n",
       "      <td>2</td>\n",
       "      <td>3.295837</td>\n",
       "      <td>0.0</td>\n",
       "      <td>0.055556</td>\n",
       "      <td>0</td>\n",
       "      <td>0</td>\n",
       "      <td>0</td>\n",
       "      <td>1</td>\n",
       "      <td>0</td>\n",
       "      <td>0</td>\n",
       "      <td>0</td>\n",
       "      <td>0</td>\n",
       "      <td>0</td>\n",
       "      <td>0</td>\n",
       "      <td>0</td>\n",
       "      <td>0</td>\n",
       "      <td>0</td>\n",
       "      <td>0</td>\n",
       "      <td>0</td>\n",
       "      <td>0</td>\n",
       "      <td>0</td>\n",
       "      <td>0</td>\n",
       "      <td>0</td>\n",
       "      <td>0</td>\n",
       "      <td>0</td>\n",
       "      <td>0</td>\n",
       "      <td>0</td>\n",
       "      <td>0</td>\n",
       "      <td>0</td>\n",
       "      <td>0</td>\n",
       "      <td>0</td>\n",
       "      <td>0</td>\n",
       "      <td>0</td>\n",
       "      <td>0</td>\n",
       "      <td>0</td>\n",
       "      <td>3</td>\n",
       "      <td>0.399571</td>\n",
       "      <td>1.0</td>\n",
       "      <td>0.0</td>\n",
       "      <td>0.00</td>\n",
       "      <td>2705</td>\n",
       "      <td>-0.133241</td>\n",
       "      <td>1.0</td>\n",
       "      <td>0.0</td>\n",
       "      <td>10.954451</td>\n",
       "    </tr>\n",
       "    <tr>\n",
       "      <th>8348</th>\n",
       "      <td>7.418181</td>\n",
       "      <td>2</td>\n",
       "      <td>2.397895</td>\n",
       "      <td>0.0</td>\n",
       "      <td>0.000000</td>\n",
       "      <td>1</td>\n",
       "      <td>0</td>\n",
       "      <td>0</td>\n",
       "      <td>0</td>\n",
       "      <td>0</td>\n",
       "      <td>0</td>\n",
       "      <td>0</td>\n",
       "      <td>0</td>\n",
       "      <td>0</td>\n",
       "      <td>0</td>\n",
       "      <td>0</td>\n",
       "      <td>0</td>\n",
       "      <td>0</td>\n",
       "      <td>0</td>\n",
       "      <td>0</td>\n",
       "      <td>0</td>\n",
       "      <td>0</td>\n",
       "      <td>0</td>\n",
       "      <td>0</td>\n",
       "      <td>0</td>\n",
       "      <td>0</td>\n",
       "      <td>0</td>\n",
       "      <td>0</td>\n",
       "      <td>0</td>\n",
       "      <td>0</td>\n",
       "      <td>0</td>\n",
       "      <td>0</td>\n",
       "      <td>0</td>\n",
       "      <td>0</td>\n",
       "      <td>0</td>\n",
       "      <td>0</td>\n",
       "      <td>0</td>\n",
       "      <td>0.084419</td>\n",
       "      <td>0.0</td>\n",
       "      <td>1.0</td>\n",
       "      <td>0.05</td>\n",
       "      <td>1372</td>\n",
       "      <td>0.054235</td>\n",
       "      <td>0.0</td>\n",
       "      <td>0.0</td>\n",
       "      <td>10.148892</td>\n",
       "    </tr>\n",
       "    <tr>\n",
       "      <th>9114</th>\n",
       "      <td>1.098612</td>\n",
       "      <td>2</td>\n",
       "      <td>6.359574</td>\n",
       "      <td>0.0</td>\n",
       "      <td>0.055556</td>\n",
       "      <td>0</td>\n",
       "      <td>0</td>\n",
       "      <td>0</td>\n",
       "      <td>0</td>\n",
       "      <td>0</td>\n",
       "      <td>0</td>\n",
       "      <td>0</td>\n",
       "      <td>0</td>\n",
       "      <td>0</td>\n",
       "      <td>0</td>\n",
       "      <td>1</td>\n",
       "      <td>0</td>\n",
       "      <td>0</td>\n",
       "      <td>0</td>\n",
       "      <td>0</td>\n",
       "      <td>0</td>\n",
       "      <td>0</td>\n",
       "      <td>0</td>\n",
       "      <td>0</td>\n",
       "      <td>0</td>\n",
       "      <td>0</td>\n",
       "      <td>0</td>\n",
       "      <td>0</td>\n",
       "      <td>0</td>\n",
       "      <td>0</td>\n",
       "      <td>0</td>\n",
       "      <td>0</td>\n",
       "      <td>0</td>\n",
       "      <td>0</td>\n",
       "      <td>0</td>\n",
       "      <td>0</td>\n",
       "      <td>10</td>\n",
       "      <td>0.008581</td>\n",
       "      <td>0.0</td>\n",
       "      <td>0.0</td>\n",
       "      <td>0.15</td>\n",
       "      <td>590</td>\n",
       "      <td>-1.203775</td>\n",
       "      <td>0.0</td>\n",
       "      <td>0.0</td>\n",
       "      <td>2.000000</td>\n",
       "    </tr>\n",
       "    <tr>\n",
       "      <th>5046</th>\n",
       "      <td>7.447751</td>\n",
       "      <td>1</td>\n",
       "      <td>4.219508</td>\n",
       "      <td>0.0</td>\n",
       "      <td>0.166667</td>\n",
       "      <td>0</td>\n",
       "      <td>0</td>\n",
       "      <td>0</td>\n",
       "      <td>0</td>\n",
       "      <td>0</td>\n",
       "      <td>0</td>\n",
       "      <td>0</td>\n",
       "      <td>0</td>\n",
       "      <td>0</td>\n",
       "      <td>0</td>\n",
       "      <td>0</td>\n",
       "      <td>0</td>\n",
       "      <td>0</td>\n",
       "      <td>0</td>\n",
       "      <td>0</td>\n",
       "      <td>0</td>\n",
       "      <td>0</td>\n",
       "      <td>0</td>\n",
       "      <td>0</td>\n",
       "      <td>0</td>\n",
       "      <td>1</td>\n",
       "      <td>0</td>\n",
       "      <td>0</td>\n",
       "      <td>0</td>\n",
       "      <td>0</td>\n",
       "      <td>0</td>\n",
       "      <td>0</td>\n",
       "      <td>0</td>\n",
       "      <td>0</td>\n",
       "      <td>0</td>\n",
       "      <td>0</td>\n",
       "      <td>20</td>\n",
       "      <td>0.141470</td>\n",
       "      <td>0.0</td>\n",
       "      <td>0.0</td>\n",
       "      <td>0.15</td>\n",
       "      <td>2694</td>\n",
       "      <td>-0.515972</td>\n",
       "      <td>0.0</td>\n",
       "      <td>0.0</td>\n",
       "      <td>15.842980</td>\n",
       "    </tr>\n",
       "    <tr>\n",
       "      <th>6606</th>\n",
       "      <td>7.066467</td>\n",
       "      <td>2</td>\n",
       "      <td>3.178054</td>\n",
       "      <td>0.0</td>\n",
       "      <td>0.166667</td>\n",
       "      <td>0</td>\n",
       "      <td>0</td>\n",
       "      <td>0</td>\n",
       "      <td>0</td>\n",
       "      <td>0</td>\n",
       "      <td>0</td>\n",
       "      <td>0</td>\n",
       "      <td>0</td>\n",
       "      <td>0</td>\n",
       "      <td>1</td>\n",
       "      <td>0</td>\n",
       "      <td>0</td>\n",
       "      <td>0</td>\n",
       "      <td>0</td>\n",
       "      <td>0</td>\n",
       "      <td>0</td>\n",
       "      <td>0</td>\n",
       "      <td>0</td>\n",
       "      <td>0</td>\n",
       "      <td>0</td>\n",
       "      <td>0</td>\n",
       "      <td>0</td>\n",
       "      <td>0</td>\n",
       "      <td>0</td>\n",
       "      <td>0</td>\n",
       "      <td>0</td>\n",
       "      <td>0</td>\n",
       "      <td>0</td>\n",
       "      <td>0</td>\n",
       "      <td>0</td>\n",
       "      <td>0</td>\n",
       "      <td>9</td>\n",
       "      <td>0.040985</td>\n",
       "      <td>0.0</td>\n",
       "      <td>1.0</td>\n",
       "      <td>0.15</td>\n",
       "      <td>745</td>\n",
       "      <td>0.385060</td>\n",
       "      <td>0.0</td>\n",
       "      <td>0.0</td>\n",
       "      <td>2.449490</td>\n",
       "    </tr>\n",
       "    <tr>\n",
       "      <th>9016</th>\n",
       "      <td>7.884200</td>\n",
       "      <td>1</td>\n",
       "      <td>0.693147</td>\n",
       "      <td>0.0</td>\n",
       "      <td>0.111111</td>\n",
       "      <td>0</td>\n",
       "      <td>0</td>\n",
       "      <td>0</td>\n",
       "      <td>0</td>\n",
       "      <td>0</td>\n",
       "      <td>0</td>\n",
       "      <td>0</td>\n",
       "      <td>0</td>\n",
       "      <td>0</td>\n",
       "      <td>0</td>\n",
       "      <td>0</td>\n",
       "      <td>0</td>\n",
       "      <td>0</td>\n",
       "      <td>0</td>\n",
       "      <td>0</td>\n",
       "      <td>0</td>\n",
       "      <td>0</td>\n",
       "      <td>0</td>\n",
       "      <td>0</td>\n",
       "      <td>0</td>\n",
       "      <td>0</td>\n",
       "      <td>1</td>\n",
       "      <td>0</td>\n",
       "      <td>0</td>\n",
       "      <td>0</td>\n",
       "      <td>0</td>\n",
       "      <td>0</td>\n",
       "      <td>0</td>\n",
       "      <td>0</td>\n",
       "      <td>0</td>\n",
       "      <td>0</td>\n",
       "      <td>21</td>\n",
       "      <td>0.152083</td>\n",
       "      <td>0.0</td>\n",
       "      <td>0.0</td>\n",
       "      <td>0.15</td>\n",
       "      <td>1145</td>\n",
       "      <td>1.122011</td>\n",
       "      <td>0.0</td>\n",
       "      <td>0.0</td>\n",
       "      <td>11.832160</td>\n",
       "    </tr>\n",
       "    <tr>\n",
       "      <th>4348</th>\n",
       "      <td>8.743213</td>\n",
       "      <td>1</td>\n",
       "      <td>1.386294</td>\n",
       "      <td>0.0</td>\n",
       "      <td>0.222222</td>\n",
       "      <td>0</td>\n",
       "      <td>0</td>\n",
       "      <td>1</td>\n",
       "      <td>0</td>\n",
       "      <td>0</td>\n",
       "      <td>0</td>\n",
       "      <td>0</td>\n",
       "      <td>0</td>\n",
       "      <td>0</td>\n",
       "      <td>0</td>\n",
       "      <td>0</td>\n",
       "      <td>0</td>\n",
       "      <td>0</td>\n",
       "      <td>0</td>\n",
       "      <td>0</td>\n",
       "      <td>0</td>\n",
       "      <td>0</td>\n",
       "      <td>0</td>\n",
       "      <td>0</td>\n",
       "      <td>0</td>\n",
       "      <td>0</td>\n",
       "      <td>0</td>\n",
       "      <td>0</td>\n",
       "      <td>0</td>\n",
       "      <td>0</td>\n",
       "      <td>0</td>\n",
       "      <td>0</td>\n",
       "      <td>0</td>\n",
       "      <td>0</td>\n",
       "      <td>0</td>\n",
       "      <td>0</td>\n",
       "      <td>2</td>\n",
       "      <td>0.173761</td>\n",
       "      <td>0.0</td>\n",
       "      <td>0.0</td>\n",
       "      <td>0.05</td>\n",
       "      <td>3395</td>\n",
       "      <td>0.703557</td>\n",
       "      <td>0.0</td>\n",
       "      <td>0.0</td>\n",
       "      <td>1.732051</td>\n",
       "    </tr>\n",
       "  </tbody>\n",
       "</table>\n",
       "</div>"
      ],
      "text/plain": [
       "       ranking  price_range  number_of_reviews  rating  chain_count_norm  \\\n",
       "1452  5.164786            2           4.499810     0.0          0.388889   \n",
       "509   6.267201            2           5.648974     0.0          0.722222   \n",
       "4629  8.471777            2           3.178054     0.0          0.111111   \n",
       "9958  7.970740            2           3.295837     0.0          0.055556   \n",
       "8348  7.418181            2           2.397895     0.0          0.000000   \n",
       "9114  1.098612            2           6.359574     0.0          0.055556   \n",
       "5046  7.447751            1           4.219508     0.0          0.166667   \n",
       "6606  7.066467            2           3.178054     0.0          0.166667   \n",
       "9016  7.884200            1           0.693147     0.0          0.111111   \n",
       "4348  8.743213            1           1.386294     0.0          0.222222   \n",
       "\n",
       "      Amsterdam  Athens  Barcelona  Berlin  Bratislava  Brussels  Budapest  \\\n",
       "1452          0       0          0       0           0         0         0   \n",
       "509           0       0          0       0           0         0         0   \n",
       "4629          0       0          0       1           0         0         0   \n",
       "9958          0       0          0       1           0         0         0   \n",
       "8348          1       0          0       0           0         0         0   \n",
       "9114          0       0          0       0           0         0         0   \n",
       "5046          0       0          0       0           0         0         0   \n",
       "6606          0       0          0       0           0         0         0   \n",
       "9016          0       0          0       0           0         0         0   \n",
       "4348          0       0          1       0           0         0         0   \n",
       "\n",
       "      Copenhagen  Dublin  Edinburgh  Geneva  Hamburg  Helsinki  Krakow  \\\n",
       "1452           0       0          0       0        0         0       0   \n",
       "509            0       0          0       0        0         0       0   \n",
       "4629           0       0          0       0        0         0       0   \n",
       "9958           0       0          0       0        0         0       0   \n",
       "8348           0       0          0       0        0         0       0   \n",
       "9114           0       0          0       1        0         0       0   \n",
       "5046           0       0          0       0        0         0       0   \n",
       "6606           0       0          1       0        0         0       0   \n",
       "9016           0       0          0       0        0         0       0   \n",
       "4348           0       0          0       0        0         0       0   \n",
       "\n",
       "      Lisbon  Ljubljana  London  Luxembourg  Lyon  Madrid  Milan  Munich  \\\n",
       "1452       0          0       0           0     0       0      0       0   \n",
       "509        1          0       0           0     0       0      0       0   \n",
       "4629       0          0       0           0     0       0      0       0   \n",
       "9958       0          0       0           0     0       0      0       0   \n",
       "8348       0          0       0           0     0       0      0       0   \n",
       "9114       0          0       0           0     0       0      0       0   \n",
       "5046       0          0       0           0     0       0      1       0   \n",
       "6606       0          0       0           0     0       0      0       0   \n",
       "9016       0          0       0           0     0       0      0       1   \n",
       "4348       0          0       0           0     0       0      0       0   \n",
       "\n",
       "      Oporto  Oslo  Paris  Prague  Rome  Stockholm  Vienna  Warsaw  Zurich  \\\n",
       "1452       0     0      0       0     0          1       0       0       0   \n",
       "509        0     0      0       0     0          0       0       0       0   \n",
       "4629       0     0      0       0     0          0       0       0       0   \n",
       "9958       0     0      0       0     0          0       0       0       0   \n",
       "8348       0     0      0       0     0          0       0       0       0   \n",
       "9114       0     0      0       0     0          0       0       0       0   \n",
       "5046       0     0      0       0     0          0       0       0       0   \n",
       "6606       0     0      0       0     0          0       0       0       0   \n",
       "9016       0     0      0       0     0          0       0       0       0   \n",
       "4348       0     0      0       0     0          0       0       0       0   \n",
       "\n",
       "      code_city  city_population_norm  nan_cuisine_style  rare_сuisine_style  \\\n",
       "1452         27              0.096082                0.0                 0.0   \n",
       "509          14              0.042960                0.0                 0.0   \n",
       "4629          3              0.399571                0.0                 0.0   \n",
       "9958          3              0.399571                1.0                 0.0   \n",
       "8348          0              0.084419                0.0                 1.0   \n",
       "9114         10              0.008581                0.0                 0.0   \n",
       "5046         20              0.141470                0.0                 0.0   \n",
       "6606          9              0.040985                0.0                 1.0   \n",
       "9016         21              0.152083                0.0                 0.0   \n",
       "4348          2              0.173761                0.0                 0.0   \n",
       "\n",
       "      number_cuisine_norm  number_of_rest  ranking_norm  nan_price_range  \\\n",
       "1452                 0.25            1033     -1.028540              0.0   \n",
       "509                  0.20            1647     -0.813801              0.0   \n",
       "4629                 0.05            2705      0.562877              0.0   \n",
       "9958                 0.00            2705     -0.133241              1.0   \n",
       "8348                 0.05            1372      0.054235              0.0   \n",
       "9114                 0.15             590     -1.203775              0.0   \n",
       "5046                 0.15            2694     -0.515972              0.0   \n",
       "6606                 0.15             745      0.385060              0.0   \n",
       "9016                 0.15            1145      1.122011              0.0   \n",
       "4348                 0.05            3395      0.703557              0.0   \n",
       "\n",
       "      nan_number_of_reviews  difference_dates  \n",
       "1452                    0.0          0.000000  \n",
       "509                     0.0         15.099669  \n",
       "4629                    0.0         12.806248  \n",
       "9958                    0.0         10.954451  \n",
       "8348                    0.0         10.148892  \n",
       "9114                    0.0          2.000000  \n",
       "5046                    0.0         15.842980  \n",
       "6606                    0.0          2.449490  \n",
       "9016                    0.0         11.832160  \n",
       "4348                    0.0          1.732051  "
      ]
     },
     "execution_count": 99,
     "metadata": {},
     "output_type": "execute_result"
    }
   ],
   "source": [
    "test_data.sample(10)"
   ]
  },
  {
   "cell_type": "code",
   "execution_count": 100,
   "metadata": {
    "execution": {
     "iopub.execute_input": "2021-10-13T17:02:52.170627Z",
     "iopub.status.busy": "2021-10-13T17:02:52.170240Z",
     "iopub.status.idle": "2021-10-13T17:02:52.182067Z",
     "shell.execute_reply": "2021-10-13T17:02:52.181180Z",
     "shell.execute_reply.started": "2021-10-13T17:02:52.170567Z"
    }
   },
   "outputs": [],
   "source": [
    "test_data = test_data.drop(['rating'], axis=1)"
   ]
  },
  {
   "cell_type": "code",
   "execution_count": 101,
   "metadata": {
    "execution": {
     "iopub.execute_input": "2021-10-13T17:03:13.746333Z",
     "iopub.status.busy": "2021-10-13T17:03:13.745908Z",
     "iopub.status.idle": "2021-10-13T17:03:13.764393Z",
     "shell.execute_reply": "2021-10-13T17:03:13.763029Z",
     "shell.execute_reply.started": "2021-10-13T17:03:13.746270Z"
    }
   },
   "outputs": [
    {
     "data": {
      "text/html": [
       "<div>\n",
       "<style scoped>\n",
       "    .dataframe tbody tr th:only-of-type {\n",
       "        vertical-align: middle;\n",
       "    }\n",
       "\n",
       "    .dataframe tbody tr th {\n",
       "        vertical-align: top;\n",
       "    }\n",
       "\n",
       "    .dataframe thead th {\n",
       "        text-align: right;\n",
       "    }\n",
       "</style>\n",
       "<table border=\"1\" class=\"dataframe\">\n",
       "  <thead>\n",
       "    <tr style=\"text-align: right;\">\n",
       "      <th></th>\n",
       "      <th>restaurant_id</th>\n",
       "      <th>rating</th>\n",
       "    </tr>\n",
       "  </thead>\n",
       "  <tbody>\n",
       "    <tr>\n",
       "      <th>0</th>\n",
       "      <td>id_0</td>\n",
       "      <td>2.0</td>\n",
       "    </tr>\n",
       "    <tr>\n",
       "      <th>1</th>\n",
       "      <td>id_1</td>\n",
       "      <td>2.5</td>\n",
       "    </tr>\n",
       "    <tr>\n",
       "      <th>2</th>\n",
       "      <td>id_2</td>\n",
       "      <td>4.0</td>\n",
       "    </tr>\n",
       "    <tr>\n",
       "      <th>3</th>\n",
       "      <td>id_3</td>\n",
       "      <td>1.0</td>\n",
       "    </tr>\n",
       "    <tr>\n",
       "      <th>4</th>\n",
       "      <td>id_4</td>\n",
       "      <td>4.0</td>\n",
       "    </tr>\n",
       "    <tr>\n",
       "      <th>...</th>\n",
       "      <td>...</td>\n",
       "      <td>...</td>\n",
       "    </tr>\n",
       "    <tr>\n",
       "      <th>9995</th>\n",
       "      <td>id_9995</td>\n",
       "      <td>3.0</td>\n",
       "    </tr>\n",
       "    <tr>\n",
       "      <th>9996</th>\n",
       "      <td>id_9996</td>\n",
       "      <td>1.5</td>\n",
       "    </tr>\n",
       "    <tr>\n",
       "      <th>9997</th>\n",
       "      <td>id_9997</td>\n",
       "      <td>4.5</td>\n",
       "    </tr>\n",
       "    <tr>\n",
       "      <th>9998</th>\n",
       "      <td>id_9998</td>\n",
       "      <td>1.0</td>\n",
       "    </tr>\n",
       "    <tr>\n",
       "      <th>9999</th>\n",
       "      <td>id_9999</td>\n",
       "      <td>2.5</td>\n",
       "    </tr>\n",
       "  </tbody>\n",
       "</table>\n",
       "<p>10000 rows × 2 columns</p>\n",
       "</div>"
      ],
      "text/plain": [
       "     restaurant_id  rating\n",
       "0             id_0     2.0\n",
       "1             id_1     2.5\n",
       "2             id_2     4.0\n",
       "3             id_3     1.0\n",
       "4             id_4     4.0\n",
       "...            ...     ...\n",
       "9995       id_9995     3.0\n",
       "9996       id_9996     1.5\n",
       "9997       id_9997     4.5\n",
       "9998       id_9998     1.0\n",
       "9999       id_9999     2.5\n",
       "\n",
       "[10000 rows x 2 columns]"
      ]
     },
     "execution_count": 101,
     "metadata": {},
     "output_type": "execute_result"
    }
   ],
   "source": [
    "sample_submission"
   ]
  },
  {
   "cell_type": "code",
   "execution_count": 102,
   "metadata": {
    "execution": {
     "iopub.execute_input": "2021-10-13T17:03:27.613376Z",
     "iopub.status.busy": "2021-10-13T17:03:27.612962Z",
     "iopub.status.idle": "2021-10-13T17:03:27.728077Z",
     "shell.execute_reply": "2021-10-13T17:03:27.726215Z",
     "shell.execute_reply.started": "2021-10-13T17:03:27.613308Z"
    }
   },
   "outputs": [
    {
     "name": "stderr",
     "output_type": "stream",
     "text": [
      "[Parallel(n_jobs=4)]: Using backend ThreadingBackend with 4 concurrent workers.\n",
      "[Parallel(n_jobs=4)]: Done  42 tasks      | elapsed:    0.0s\n",
      "[Parallel(n_jobs=4)]: Done 100 out of 100 | elapsed:    0.1s finished\n"
     ]
    }
   ],
   "source": [
    "predict_submission = model.predict(test_data)"
   ]
  },
  {
   "cell_type": "code",
   "execution_count": 103,
   "metadata": {
    "execution": {
     "iopub.execute_input": "2021-10-13T17:03:39.250226Z",
     "iopub.status.busy": "2021-10-13T17:03:39.249812Z",
     "iopub.status.idle": "2021-10-13T17:03:39.258500Z",
     "shell.execute_reply": "2021-10-13T17:03:39.257805Z",
     "shell.execute_reply.started": "2021-10-13T17:03:39.250168Z"
    }
   },
   "outputs": [
    {
     "data": {
      "text/plain": [
       "array([3. , 4.5, 4.5, ..., 3. , 4.5, 4.5])"
      ]
     },
     "execution_count": 103,
     "metadata": {},
     "output_type": "execute_result"
    }
   ],
   "source": [
    "# Так как признак рейтинга имеет шаг 0.5, округляем предсказание.\n",
    "predict_submission = np.round(predict_submission * 2) / 2\n",
    "predict_submission"
   ]
  },
  {
   "cell_type": "code",
   "execution_count": 104,
   "metadata": {
    "execution": {
     "iopub.execute_input": "2021-10-13T17:03:54.376053Z",
     "iopub.status.busy": "2021-10-13T17:03:54.375515Z",
     "iopub.status.idle": "2021-10-13T17:03:54.859758Z",
     "shell.execute_reply": "2021-10-13T17:03:54.858436Z",
     "shell.execute_reply.started": "2021-10-13T17:03:54.375979Z"
    }
   },
   "outputs": [
    {
     "data": {
      "text/html": [
       "<div>\n",
       "<style scoped>\n",
       "    .dataframe tbody tr th:only-of-type {\n",
       "        vertical-align: middle;\n",
       "    }\n",
       "\n",
       "    .dataframe tbody tr th {\n",
       "        vertical-align: top;\n",
       "    }\n",
       "\n",
       "    .dataframe thead th {\n",
       "        text-align: right;\n",
       "    }\n",
       "</style>\n",
       "<table border=\"1\" class=\"dataframe\">\n",
       "  <thead>\n",
       "    <tr style=\"text-align: right;\">\n",
       "      <th></th>\n",
       "      <th>restaurant_id</th>\n",
       "      <th>rating</th>\n",
       "    </tr>\n",
       "  </thead>\n",
       "  <tbody>\n",
       "    <tr>\n",
       "      <th>0</th>\n",
       "      <td>id_0</td>\n",
       "      <td>3.0</td>\n",
       "    </tr>\n",
       "    <tr>\n",
       "      <th>1</th>\n",
       "      <td>id_1</td>\n",
       "      <td>4.5</td>\n",
       "    </tr>\n",
       "    <tr>\n",
       "      <th>2</th>\n",
       "      <td>id_2</td>\n",
       "      <td>4.5</td>\n",
       "    </tr>\n",
       "    <tr>\n",
       "      <th>3</th>\n",
       "      <td>id_3</td>\n",
       "      <td>4.5</td>\n",
       "    </tr>\n",
       "    <tr>\n",
       "      <th>4</th>\n",
       "      <td>id_4</td>\n",
       "      <td>4.5</td>\n",
       "    </tr>\n",
       "    <tr>\n",
       "      <th>5</th>\n",
       "      <td>id_5</td>\n",
       "      <td>4.5</td>\n",
       "    </tr>\n",
       "    <tr>\n",
       "      <th>6</th>\n",
       "      <td>id_6</td>\n",
       "      <td>2.5</td>\n",
       "    </tr>\n",
       "    <tr>\n",
       "      <th>7</th>\n",
       "      <td>id_7</td>\n",
       "      <td>3.0</td>\n",
       "    </tr>\n",
       "    <tr>\n",
       "      <th>8</th>\n",
       "      <td>id_8</td>\n",
       "      <td>4.0</td>\n",
       "    </tr>\n",
       "    <tr>\n",
       "      <th>9</th>\n",
       "      <td>id_9</td>\n",
       "      <td>4.5</td>\n",
       "    </tr>\n",
       "  </tbody>\n",
       "</table>\n",
       "</div>"
      ],
      "text/plain": [
       "  restaurant_id  rating\n",
       "0          id_0     3.0\n",
       "1          id_1     4.5\n",
       "2          id_2     4.5\n",
       "3          id_3     4.5\n",
       "4          id_4     4.5\n",
       "5          id_5     4.5\n",
       "6          id_6     2.5\n",
       "7          id_7     3.0\n",
       "8          id_8     4.0\n",
       "9          id_9     4.5"
      ]
     },
     "execution_count": 104,
     "metadata": {},
     "output_type": "execute_result"
    }
   ],
   "source": [
    "sample_submission['rating'] = predict_submission\n",
    "sample_submission.to_csv('submission.csv', index=False)\n",
    "sample_submission.head(10)"
   ]
  },
  {
   "cell_type": "markdown",
   "metadata": {},
   "source": [
    "# What's next?\n",
    "Или что делать, чтоб улучшить результат:\n",
    "* Обработать оставшиеся признаки в понятный для машины формат\n",
    "* Посмотреть, что еще можно извлечь из признаков\n",
    "* Сгенерировать новые признаки\n",
    "* Подгрузить дополнительные данные, например: по населению или благосостоянию городов\n",
    "* Подобрать состав признаков\n",
    "\n",
    "В общем, процесс творческий и весьма увлекательный! Удачи в соревновании!\n"
   ]
  },
  {
   "cell_type": "code",
   "execution_count": null,
   "metadata": {},
   "outputs": [],
   "source": []
  }
 ],
 "metadata": {
  "kernelspec": {
   "display_name": "Python 3",
   "language": "python",
   "name": "python3"
  },
  "language_info": {
   "codemirror_mode": {
    "name": "ipython",
    "version": 3
   },
   "file_extension": ".py",
   "mimetype": "text/x-python",
   "name": "python",
   "nbconvert_exporter": "python",
   "pygments_lexer": "ipython3",
   "version": "3.6.6"
  }
 },
 "nbformat": 4,
 "nbformat_minor": 4
}
